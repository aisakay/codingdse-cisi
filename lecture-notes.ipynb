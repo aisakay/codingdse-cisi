{
 "cells": [
  {
   "cell_type": "markdown",
   "metadata": {},
   "source": [
    "# Python Lecture\n",
    "\n",
    "This is a test **file**"
   ]
  },
  {
   "cell_type": "code",
   "execution_count": 2,
   "metadata": {},
   "outputs": [],
   "source": [
    "x = 2"
   ]
  },
  {
   "cell_type": "code",
   "execution_count": 3,
   "metadata": {},
   "outputs": [
    {
     "data": {
      "text/plain": [
       "2"
      ]
     },
     "execution_count": 3,
     "metadata": {},
     "output_type": "execute_result"
    }
   ],
   "source": [
    "x"
   ]
  },
  {
   "cell_type": "code",
   "execution_count": 4,
   "metadata": {},
   "outputs": [
    {
     "name": "stdout",
     "output_type": "stream",
     "text": [
      "2\n"
     ]
    }
   ],
   "source": [
    "print(x)"
   ]
  },
  {
   "cell_type": "code",
   "execution_count": 5,
   "metadata": {},
   "outputs": [
    {
     "data": {
      "text/plain": [
       "4372538984"
      ]
     },
     "execution_count": 5,
     "metadata": {},
     "output_type": "execute_result"
    }
   ],
   "source": [
    "id(x)"
   ]
  },
  {
   "cell_type": "code",
   "execution_count": 6,
   "metadata": {},
   "outputs": [],
   "source": [
    "s = \"hello\""
   ]
  },
  {
   "cell_type": "code",
   "execution_count": 7,
   "metadata": {},
   "outputs": [
    {
     "data": {
      "text/plain": [
       "str"
      ]
     },
     "execution_count": 7,
     "metadata": {},
     "output_type": "execute_result"
    }
   ],
   "source": [
    "type(s)"
   ]
  },
  {
   "cell_type": "code",
   "execution_count": 9,
   "metadata": {},
   "outputs": [
    {
     "data": {
      "text/plain": [
       "True"
      ]
     },
     "execution_count": 9,
     "metadata": {},
     "output_type": "execute_result"
    }
   ],
   "source": [
    "s.isalpha()"
   ]
  },
  {
   "cell_type": "code",
   "execution_count": 10,
   "metadata": {},
   "outputs": [
    {
     "data": {
      "text/plain": [
       "['h', 'llo']"
      ]
     },
     "execution_count": 10,
     "metadata": {},
     "output_type": "execute_result"
    }
   ],
   "source": [
    "s.split('e')"
   ]
  },
  {
   "cell_type": "code",
   "execution_count": 14,
   "metadata": {},
   "outputs": [],
   "source": [
    "class Car:\n",
    "    wheels = 4"
   ]
  },
  {
   "cell_type": "code",
   "execution_count": 15,
   "metadata": {},
   "outputs": [],
   "source": [
    "fiat = Car()"
   ]
  },
  {
   "cell_type": "code",
   "execution_count": 17,
   "metadata": {},
   "outputs": [
    {
     "data": {
      "text/plain": [
       "int"
      ]
     },
     "execution_count": 17,
     "metadata": {},
     "output_type": "execute_result"
    }
   ],
   "source": [
    "type(fiat.wheels)"
   ]
  },
  {
   "cell_type": "code",
   "execution_count": 18,
   "metadata": {},
   "outputs": [
    {
     "data": {
      "text/plain": [
       "8"
      ]
     },
     "execution_count": 18,
     "metadata": {},
     "output_type": "execute_result"
    }
   ],
   "source": [
    "fiat.wheels + 4"
   ]
  },
  {
   "cell_type": "code",
   "execution_count": 30,
   "metadata": {},
   "outputs": [],
   "source": [
    "class Car:\n",
    "    wheels = 4\n",
    "    \n",
    "    def __init__(self, color=\"black\"):\n",
    "        self.car_color = color"
   ]
  },
  {
   "cell_type": "code",
   "execution_count": 32,
   "metadata": {},
   "outputs": [
    {
     "data": {
      "text/plain": [
       "'black'"
      ]
     },
     "execution_count": 32,
     "metadata": {},
     "output_type": "execute_result"
    }
   ],
   "source": [
    "fiat = Car()\n",
    "fiat.car_color"
   ]
  },
  {
   "cell_type": "code",
   "execution_count": 33,
   "metadata": {},
   "outputs": [],
   "source": [
    "class Car:\n",
    "    # Class Attributes\n",
    "    wheels = 4\n",
    "    \n",
    "    def __init__(self, color):\n",
    "        # Instance Attributes\n",
    "        self.car_color = color"
   ]
  },
  {
   "cell_type": "code",
   "execution_count": 34,
   "metadata": {},
   "outputs": [],
   "source": [
    "fiat = Car(color=\"blue\")"
   ]
  },
  {
   "cell_type": "code",
   "execution_count": 35,
   "metadata": {},
   "outputs": [
    {
     "data": {
      "text/plain": [
       "'blue'"
      ]
     },
     "execution_count": 35,
     "metadata": {},
     "output_type": "execute_result"
    }
   ],
   "source": [
    "fiat.car_color"
   ]
  },
  {
   "cell_type": "code",
   "execution_count": 36,
   "metadata": {},
   "outputs": [
    {
     "data": {
      "text/plain": [
       "4"
      ]
     },
     "execution_count": 36,
     "metadata": {},
     "output_type": "execute_result"
    }
   ],
   "source": [
    "fiat.wheels"
   ]
  },
  {
   "cell_type": "code",
   "execution_count": 37,
   "metadata": {},
   "outputs": [
    {
     "data": {
      "text/plain": [
       "'white'"
      ]
     },
     "execution_count": 37,
     "metadata": {},
     "output_type": "execute_result"
    }
   ],
   "source": [
    "bmw = Car(color=\"white\")\n",
    "bmw.car_color"
   ]
  },
  {
   "cell_type": "code",
   "execution_count": 38,
   "metadata": {},
   "outputs": [
    {
     "data": {
      "text/plain": [
       "4"
      ]
     },
     "execution_count": 38,
     "metadata": {},
     "output_type": "execute_result"
    }
   ],
   "source": [
    "bmw.wheels"
   ]
  },
  {
   "cell_type": "code",
   "execution_count": 42,
   "metadata": {},
   "outputs": [],
   "source": [
    "class Dog:\n",
    "    def __init__(self, name):\n",
    "        self.name = name\n",
    "    \n",
    "    n_legs = 4"
   ]
  },
  {
   "cell_type": "code",
   "execution_count": 43,
   "metadata": {},
   "outputs": [],
   "source": [
    "charlie = Dog(name=\"Charlie\")"
   ]
  },
  {
   "cell_type": "code",
   "execution_count": 44,
   "metadata": {},
   "outputs": [
    {
     "data": {
      "text/plain": [
       "'Charlie'"
      ]
     },
     "execution_count": 44,
     "metadata": {},
     "output_type": "execute_result"
    }
   ],
   "source": [
    "charlie.name"
   ]
  },
  {
   "cell_type": "code",
   "execution_count": 45,
   "metadata": {},
   "outputs": [
    {
     "data": {
      "text/plain": [
       "4"
      ]
     },
     "execution_count": 45,
     "metadata": {},
     "output_type": "execute_result"
    }
   ],
   "source": [
    "charlie.n_legs"
   ]
  },
  {
   "cell_type": "code",
   "execution_count": 5,
   "metadata": {},
   "outputs": [],
   "source": [
    "class Car:\n",
    "    wheels = 4\n",
    "    \n",
    "    # Constructor\n",
    "    def __init__(self, color):\n",
    "        self.color = color\n",
    "        self.speed = 0\n",
    "    \n",
    "    # Method\n",
    "    def accelerates(self, n):\n",
    "        self.speed += n\n",
    "    \n",
    "    def breaks(self, n):\n",
    "        self.speed -= n\n",
    "        if self.speed < 0:\n",
    "            self.speed = 0"
   ]
  },
  {
   "cell_type": "code",
   "execution_count": 8,
   "metadata": {},
   "outputs": [
    {
     "data": {
      "text/plain": [
       "5"
      ]
     },
     "execution_count": 8,
     "metadata": {},
     "output_type": "execute_result"
    }
   ],
   "source": [
    "\"hello\".__len__()"
   ]
  },
  {
   "cell_type": "code",
   "execution_count": 9,
   "metadata": {},
   "outputs": [
    {
     "data": {
      "text/plain": [
       "5"
      ]
     },
     "execution_count": 9,
     "metadata": {},
     "output_type": "execute_result"
    }
   ],
   "source": [
    "len(\"hello\")"
   ]
  },
  {
   "cell_type": "code",
   "execution_count": 6,
   "metadata": {},
   "outputs": [
    {
     "data": {
      "text/plain": [
       "0"
      ]
     },
     "execution_count": 6,
     "metadata": {},
     "output_type": "execute_result"
    }
   ],
   "source": [
    "fiat = Car(color=\"blue\")\n",
    "fiat.speed"
   ]
  },
  {
   "cell_type": "code",
   "execution_count": 67,
   "metadata": {},
   "outputs": [
    {
     "data": {
      "text/plain": [
       "40"
      ]
     },
     "execution_count": 67,
     "metadata": {},
     "output_type": "execute_result"
    }
   ],
   "source": [
    "fiat.accelerates(n=40)\n",
    "fiat.speed"
   ]
  },
  {
   "cell_type": "code",
   "execution_count": 68,
   "metadata": {},
   "outputs": [
    {
     "data": {
      "text/plain": [
       "20"
      ]
     },
     "execution_count": 68,
     "metadata": {},
     "output_type": "execute_result"
    }
   ],
   "source": [
    "fiat.breaks(n=20)\n",
    "fiat.speed"
   ]
  },
  {
   "cell_type": "code",
   "execution_count": 69,
   "metadata": {},
   "outputs": [
    {
     "data": {
      "text/plain": [
       "120"
      ]
     },
     "execution_count": 69,
     "metadata": {},
     "output_type": "execute_result"
    }
   ],
   "source": [
    "fiat.accelerates(n=100)\n",
    "fiat.speed"
   ]
  },
  {
   "cell_type": "code",
   "execution_count": 70,
   "metadata": {},
   "outputs": [],
   "source": [
    "f = open(\"data/examples/twitter.txt\")"
   ]
  },
  {
   "cell_type": "code",
   "execution_count": 72,
   "metadata": {},
   "outputs": [],
   "source": [
    "txt = f.read()"
   ]
  },
  {
   "cell_type": "code",
   "execution_count": 74,
   "metadata": {},
   "outputs": [
    {
     "data": {
      "text/plain": [
       "'bestvacationever newyork_nyc belvedere_castle\\ntarot_card thang ted_wallen_inkstained_tattoo_studio_h'"
      ]
     },
     "execution_count": 74,
     "metadata": {},
     "output_type": "execute_result"
    }
   ],
   "source": [
    "txt[:100]"
   ]
  },
  {
   "cell_type": "code",
   "execution_count": 75,
   "metadata": {},
   "outputs": [
    {
     "data": {
      "text/plain": [
       "''"
      ]
     },
     "execution_count": 75,
     "metadata": {},
     "output_type": "execute_result"
    }
   ],
   "source": [
    "f.read()"
   ]
  },
  {
   "cell_type": "code",
   "execution_count": 76,
   "metadata": {},
   "outputs": [],
   "source": [
    "f.close()"
   ]
  },
  {
   "cell_type": "code",
   "execution_count": 79,
   "metadata": {},
   "outputs": [
    {
     "data": {
      "text/plain": [
       "'bestvacationever newyork_nyc belvedere_castle\\ntarot_card thang ted_wallen_inkstained_tattoo_studio_h'"
      ]
     },
     "execution_count": 79,
     "metadata": {},
     "output_type": "execute_result"
    }
   ],
   "source": [
    "with open(\"data/examples/twitter.txt\", \"r\") as f:\n",
    "    txt = f.read()\n",
    "    \n",
    "txt[:100]"
   ]
  },
  {
   "cell_type": "code",
   "execution_count": 80,
   "metadata": {},
   "outputs": [],
   "source": [
    "with open(\"data/examples/new_twitter.txt\", \"w\") as f:\n",
    "    f.write(txt)"
   ]
  },
  {
   "cell_type": "code",
   "execution_count": 81,
   "metadata": {},
   "outputs": [
    {
     "name": "stdout",
     "output_type": "stream",
     "text": [
      "bestvacationever newyork_nyc belvedere_castle\n",
      "tarot_card thang ted_wallen_inkstained_tattoo_studio_h\n"
     ]
    }
   ],
   "source": [
    "print(txt[:100])"
   ]
  },
  {
   "cell_type": "code",
   "execution_count": 86,
   "metadata": {},
   "outputs": [],
   "source": [
    "with open(\"data/examples/twitter.txt\", \"r\") as f:\n",
    "    txt = [s[:-1] for s in f.readlines()]"
   ]
  },
  {
   "cell_type": "code",
   "execution_count": 87,
   "metadata": {},
   "outputs": [
    {
     "data": {
      "text/plain": [
       "['bestvacationever newyork_nyc belvedere_castle',\n",
       " 'tarot_card thang ted_wallen_inkstained_tattoo_studio_hylan blvd staten_island',\n",
       " 'spitzer corner new_york',\n",
       " 'elporron katdeem natural toro_nyc',\n",
       " 'preach finish drowsy suddenly go far away bethel international church']"
      ]
     },
     "execution_count": 87,
     "metadata": {},
     "output_type": "execute_result"
    }
   ],
   "source": [
    "txt[:5]"
   ]
  },
  {
   "cell_type": "code",
   "execution_count": 88,
   "metadata": {},
   "outputs": [],
   "source": [
    "import json"
   ]
  },
  {
   "cell_type": "code",
   "execution_count": 92,
   "metadata": {},
   "outputs": [],
   "source": [
    "with open(\"data/examples/data.json\", \"r\") as f:\n",
    "    data = json.load(f)"
   ]
  },
  {
   "cell_type": "code",
   "execution_count": 93,
   "metadata": {},
   "outputs": [
    {
     "data": {
      "text/plain": [
       "[{'key1': 1, 'key2': 'value2'}, {'key1': 5, 'key2': 'value3'}]"
      ]
     },
     "execution_count": 93,
     "metadata": {},
     "output_type": "execute_result"
    }
   ],
   "source": [
    "data"
   ]
  },
  {
   "cell_type": "code",
   "execution_count": 94,
   "metadata": {},
   "outputs": [
    {
     "data": {
      "text/plain": [
       "list"
      ]
     },
     "execution_count": 94,
     "metadata": {},
     "output_type": "execute_result"
    }
   ],
   "source": [
    "type(data)"
   ]
  },
  {
   "cell_type": "code",
   "execution_count": 96,
   "metadata": {},
   "outputs": [
    {
     "data": {
      "text/plain": [
       "'value2'"
      ]
     },
     "execution_count": 96,
     "metadata": {},
     "output_type": "execute_result"
    }
   ],
   "source": [
    "data[0][\"key2\"]"
   ]
  },
  {
   "cell_type": "code",
   "execution_count": 1,
   "metadata": {},
   "outputs": [],
   "source": [
    "import csv"
   ]
  },
  {
   "cell_type": "code",
   "execution_count": 4,
   "metadata": {},
   "outputs": [
    {
     "name": "stdout",
     "output_type": "stream",
     "text": [
      "['Songs & Artist', 'Streams', 'Daily']\n",
      "['The Weeknd - Blinding Lights', '4463658617', '1619447']\n",
      "['Ed Sheeran - Shape of You', '4018102402', '1001507']\n",
      "['Lewis Capaldi - Someone You Loved', '3588673578', '1506961']\n",
      "['Harry Styles - As It Was', '3544187311', '1611374']\n",
      "['Post Malone - Sunflower', '3518744128', '1337404']\n",
      "['The Weeknd - Starboy', '3481137472', '1897939']\n",
      "['Drake - One Dance', '3343221259', '1329534']\n",
      "['The Kid LAROI - STAY', '3266446596', '1336615']\n",
      "['The Neighbourhood - Sweater Weather', '3187169593', '2976255']\n",
      "['Imagine Dragons - Believer', '3140449933', '1261166']\n",
      "['Tones And I - Dance Monkey', '3139823510', '602667']\n",
      "['Glass Animals - Heat Waves', '3133817525', '1252964']\n",
      "['Ed Sheeran - Perfect', '3090494929', '1172298']\n",
      "['Post Malone - rockstar', '3029805367', '586641']\n",
      "[\"James Arthur - Say You Won't Let Go\", '2986429659', '1281824']\n",
      "['Billie Eilish - lovely', '2979291308', '1408158']\n",
      "['The Chainsmokers - Closer', '2975681475', '773228']\n",
      "['Harry Styles - Watermelon Sugar', '2834112398', '802750']\n",
      "['Shawn Mendes - Señorita', '2821156041', '800936']\n",
      "['The Chainsmokers - Something Just Like This', '2775000235', '1864789']\n",
      "[\"Dua Lipa - Don't Start Now\", '2720815605', '811478']\n",
      "['Vance Joy - Riptide', '2710364376', '1348353']\n",
      "['Hozier - Take Me to Church', '2691519096', '1441603']\n",
      "['Tom Odell - Another Love', '2639301081', '1815421']\n",
      "['Juice WRLD - Lucid Dreams', '2627821814', '822038']\n",
      "['Ed Sheeran - Photograph', '2620855454', '1268643']\n",
      "['OneRepublic - Counting Stars', '2615664483', '1540665']\n",
      "[\"Drake - God's Plan\", '2599734210', '622248']\n",
      "['Post Malone - Circles', '2589603423', '902848']\n",
      "['Queen - Bohemian Rhapsody', '2583294814', '1007240']\n",
      "['Billie Eilish - bad guy', '2579347687', '540500']\n",
      "['Ed Sheeran - Thinking out Loud', '2572363886', '682007']\n",
      "[\"Macklemore & Ryan Lewis - Can't Hold Us\", '2543782552', '1491051']\n",
      "[\"Unknown - Can't Hold Us\", '2542291501', '1315630']\n",
      "['Lady Gaga - Shallow', '2541415751', '925285']\n",
      "['Travis Scott - goosebumps', '2527338922', '1110097']\n",
      "['Justin Bieber - Love Yourself', '2521226929', '921093']\n",
      "['Coldplay - Yellow', '2513216173', '2648103']\n",
      "['Imagine Dragons - Thunder', '2495240512', '1001327']\n",
      "['Taylor Swift - Cruel Summer', '2481542457', '2271270']\n",
      "['John Legend - All of Me', '2469158339', '1087533']\n",
      "['Arctic Monkeys - I Wanna Be Yours', '2450537652', '2696374']\n",
      "['Avicii - Wake Me Up', '2446945285', '1193827']\n",
      "['The Weeknd - Die For You', '2424085403', '1667707']\n",
      "['Twenty One Pilots - Stressed Out', '2413525220', '1302314']\n",
      "['The Weeknd - The Hills', '2412077181', '1071302']\n",
      "['Imagine Dragons - Demons', '2408786939', '1176607']\n",
      "['Lord Huron - The Night We Met', '2382890548', '2963250']\n",
      "['J. Cole - No Role Modelz', '2345083839', '1123717']\n",
      "['Passenger - Let Her Go', '2341935739', '859601']\n",
      "['Kendrick Lamar - HUMBLE.', '2339700191', '956274']\n",
      "['Ariana Grande - 7 rings', '2339624083', '685033']\n",
      "['The Killers - Mr. Brightside', '2315497074', '1432620']\n",
      "['Coldplay - Viva La Vida', '2314642826', '1543522']\n",
      "['Eminem - Lose Yourself', '2302745432', '869854']\n",
      "['Arctic Monkeys - Do I Wanna Know?', '2302247285', '1099083']\n",
      "['Eminem - Without Me', '2299256196', '1122956']\n",
      "['Olivia Rodrigo - drivers license', '2275267328', '831491']\n",
      "['Bruno Mars - When I Was Your Man', '2273842714', '1848985']\n",
      "['Calvin Harris - One Kiss', '2273821616', '871957']\n",
      "['XXXTENTACION - SAD!', '2266297232', '428269']\n",
      "['Shawn Mendes - Treat You Better', '2262295005', '935374']\n",
      "['Bruno Mars - Just the Way You Are', '2257540250', '1588117']\n",
      "['Olivia Rodrigo - good 4 u', '2254400891', '735709']\n",
      "['XXXTENTACION - Jocelyn Flores', '2246197322', '518326']\n",
      "['DJ Snake - Let Me Love You', '2240782698', '915594']\n",
      "['Marshmello - Happier', '2223776019', '796439']\n",
      "['French Montana - Unforgettable', '2217603410', '1531440']\n",
      "['Travis Scott - SICKO MODE', '2205803195', '622901']\n",
      "[\"Bruno Mars - That's What I Like\", '2205647795', '1212740']\n",
      "['Miley Cyrus - Flowers', '2204593162', '1392494']\n",
      "['Lil Uzi Vert - XO Tour Llif3', '2202482060', '736848']\n",
      "['The Police - Every Breath You Take', '2202268304', '1636096']\n",
      "['Linkin Park - In the End', '2195160703', '1313536']\n",
      "['Justin Bieber - Sorry', '2181955090', '844454']\n",
      "['Bruno Mars - Locked out of Heaven', '2178823231', '1513249']\n",
      "['Major Lazer - Lean On', '2177167718', '827826']\n",
      "['Dua Lipa - New Rules', '2171930321', '537989']\n",
      "['Dua Lipa - Levitating', '2154284982', '893251']\n",
      "[\"Shawn Mendes - There's Nothing Holdin' Me Back\", '2151027126', '1050787']\n",
      "['Sam Smith - Too Good At Goodbyes', '2141897815', '816460']\n",
      "['Elton John - Cold Heart', '2135135555', '1183983']\n",
      "['Sam Smith - Stay With Me', '2134416039', '759905']\n",
      "['Nirvana - Smells Like Teen Spirit', '2132442267', '1163308']\n",
      "['Camila Cabello - Havana', '2128683823', '752058']\n",
      "['The Weeknd - Save Your Tears', '2106540115', '999562']\n",
      "['Oasis - Wonderwall', '2103491418', '1197562']\n",
      "['Halsey - Without Me', '2101570151', '485311']\n",
      "[\"Queen - Don't Stop Me Now\", '2089480531', '1086532']\n",
      "['Maroon 5 - Memories', '2080313706', '862760']\n",
      "[\"Journey - Don't Stop Believin' (2022 Remaster)\", '2078988587', '1601701']\n",
      "['SZA - Kill Bill', '2078813747', '1927479']\n",
      "['Mark Ronson - Uptown Funk', '2069479721', '757538']\n",
      "['a-ha - Take on Me', '2067005311', '1578453']\n",
      "['Lil Nas X - INDUSTRY BABY', '2063238174', '513422']\n",
      "['Bad Bunny - DÁKITI', '2049953714', '580752']\n",
      "['Eminem - Till I Collapse', '2043640154', '644756']\n",
      "['Post Malone - Congratulations', '2042356787', '450842']\n",
      "['Adele - Someone Like You', '2042111139', '1323310']\n",
      "['Coldplay - The Scientist', '2025165211', '1024512']\n",
      "['Mike Posner - I Took A Pill In Ibiza', '2021957664', '557859']\n",
      "['Alan Walker - Faded', '2016322554', '757750']\n",
      "['Lewis Capaldi - Before You Go', '2004756700', '790289']\n",
      "['Lukas Graham - 7 Years', '2004016428', '698891']\n",
      "['Post Malone - Better Now', '2000387845', '379089']\n",
      "['Roddy Ricch - The Box', '1998554926', '1784040']\n",
      "[\"Guns N' Roses - Sweet Child O' Mine\", '1992799253', '1155866']\n",
      "['Shawn Mendes - Stitches', '1988079214', '779681']\n",
      "['SAINt JHN - Roses', '1974753514', '560695']\n",
      "['Queen - Another One Bites The Dust', '1965915289', '1009259']\n",
      "[\"Sam Smith - I'm Not The Only One\", '1964641555', '876003']\n",
      "['Wiz Khalifa - See You Again', '1963447110', '655602']\n",
      "[\"Charlie Puth - We Don't Talk Anymore\", '1960985032', '853393']\n",
      "['Lil Nas X - MONTERO (Call Me By Your Name)', '1955908899', '522900']\n",
      "['XXXTENTACION - Moonlight', '1954733684', '618515']\n",
      "[\"The Chainsmokers - Don't Let Me Down\", '1954132444', '666177']\n",
      "[\"Jason Mraz - I'm Yours\", '1949947280', '965650']\n",
      "['Maroon 5 - Payphone', '1940631965', '1234525']\n",
      "['24kGoldn - Mood', '1934675271', '583691']\n",
      "['BTS - Dynamite', '1929807019', '575285']\n",
      "[\"Billie Eilish - when the party's over\", '1927673522', '768227']\n",
      "['Ariana Grande - thank u, next', '1922891621', '411008']\n",
      "['Imagine Dragons - Radioactive', '1922599679', '741272']\n",
      "['Jung Kook - Seven', '1917641700', '2570770']\n",
      "['Doja Cat - Kiss Me More', '1916069066', '845262']\n",
      "['Foster The People - Pumped Up Kicks', '1913514682', '1187417']\n",
      "['Eminem - The Real Slim Shady', '1910148039', '846564']\n",
      "['Manuel Turizo - La Bachata', '1909400212', '1590582']\n",
      "['Taylor Swift - Blank Space', '1909046390', '674338']\n",
      "['Adele - Rolling in the Deep', '1907608328', '1075616']\n",
      "['Bad Bunny - Me Porto Bonito', '1904477660', '713517']\n",
      "['Maroon 5 - Sugar', '1904472012', '716622']\n",
      "['TOTO - Africa', '1885681517', '1254431']\n",
      "['Avicii - The Nights', '1884461462', '948405']\n",
      "['The Weeknd - Call Out My Name', '1881580349', '1038316']\n",
      "['The Goo Goo Dolls - Iris', '1879576385', '2303736']\n",
      "['Michael Jackson - Billie Jean', '1876175652', '1140894']\n",
      "['Charlie Puth - Attention', '1868493179', '993199']\n",
      "[\"Ed Sheeran - I Don't Care\", '1860955107', '614140']\n",
      "['Linkin Park - Numb', '1860165774', '1918957']\n",
      "['Danny Ocean - Me Rehúso', '1857821706', '1339222']\n",
      "['Adele - Easy On Me', '1855414848', '1503316']\n",
      "['Calvin Harris - This Is What You Came For', '1852484716', '586916']\n",
      "['Twenty One Pilots - Heathens', '1851495827', '493777']\n",
      "['Gotye - Somebody That I Used To Know', '1846980747', '908160']\n",
      "['5 Seconds of Summer - Youngblood', '1844385350', '463511']\n",
      "['Lauv - I Like Me Better', '1836019716', '461619']\n",
      "['Tyler, The Creator - See You Again', '1822379391', '2002703']\n",
      "['Twenty One Pilots - Ride', '1821537537', '643292']\n",
      "['Mariah Carey - All I Want for Christmas Is You', '1819599508', '263131']\n",
      "[\"David Guetta - I'm Good (Blue)\", '1818806137', '1309766']\n",
      "['WALK THE MOON - Shut Up and Dance', '1818525910', '1389151']\n",
      "['Sia - Cheap Thrills', '1816755550', '361118']\n",
      "['Sia - Chandelier', '1812363965', '810500']\n",
      "['The Weeknd - I Feel It Coming', '1811808940', '536226']\n",
      "[\"Coolio - Gangsta's Paradise\", '1811411229', '1202607']\n",
      "[\"The Weeknd - Can't Feel My Face\", '1811295571', '556354']\n",
      "['J Balvin - LA CANCIÓN', '1810059940', '942056']\n",
      "['Dean Lewis - Be Alright', '1809868485', '640260']\n",
      "['Arctic Monkeys - 505', '1808409626', '1612672']\n",
      "['Ed Sheeran - Bad Habits', '1807981092', '415265']\n",
      "['Eminem - Mockingbird', '1807432070', '995704']\n",
      "[\"Arctic Monkeys - Why'd You Only Call Me When You're High?\", '1802690346', '1023998']\n",
      "['Luis Fonsi - Despacito', '1800662716', '555695']\n",
      "['Maroon 5 - Maps', '1797284924', '1224615']\n",
      "['Radiohead - Creep', '1794349416', '1424032']\n",
      "['benny blanco - Eastside', '1793624392', '588767']\n",
      "['Rihanna - We Found Love', '1792572567', '1110136']\n",
      "['Alec Benjamin - Let Me Down Slowly', '1786338746', '614892']\n",
      "['Justin Timberlake - CAN\\'T STOP THE FEELING! (from DreamWorks Animation\\'s \"TROLLS\")', '1785519223', '422237']\n",
      "['Fleetwood Mac - Dreams', '1785422732', '1166441']\n",
      "['Tears For Fears - Everybody Wants To Rule The World', '1783980738', '1115910']\n",
      "[\"Shakira - Hips Don't Lie\", '1779535294', '1480682']\n",
      "['Kendrick Lamar - All The Stars', '1776077972', '1279419']\n",
      "['Conan Gray - Heather', '1774504885', '931443']\n",
      "['Bizarrap - Quevedo: Bzrp Music Sessions, Vol. 52', '1769301862', '661664']\n",
      "['ZAYN - Dusk Till Dawn', '1768869508', '844986']\n",
      "['OMI - Cheerleader (Felix Jaehn Remix)', '1755204019', '852499']\n",
      "['The White Stripes - Seven Nation Army', '1755032069', '901214']\n",
      "['Tame Impala - The Less I Know The Better', '1749093856', '975458']\n",
      "['Travis Scott - HIGHEST IN THE ROOM', '1748280768', '1364955']\n",
      "[\"OneRepublic - I Ain't Worried\", '1746634026', '996673']\n",
      "['Harry Styles - Adore You', '1742267375', '458807']\n",
      "['Luis Fonsi - Despacito', '1739696575', '246341']\n",
      "['Creedence Clearwater Revival - Have You Ever Seen The Rain', '1738495762', '1322049']\n",
      "['Christina Perri - a thousand years', '1738414797', '787185']\n",
      "['Earth, Wind & Fire - September', '1735938998', '1777196']\n",
      "['The Weeknd - Earned It (Fifty Shades Of Grey)', '1734170659', '694903']\n",
      "['Post Malone - Wow.', '1732073278', '385255']\n",
      "['Don Omar - Danza Kuduro', '1728118963', '1420957']\n",
      "['Ava Max - Sweet but Psycho', '1726792559', '499453']\n",
      "['Adele - Set Fire to the Rain', '1723054067', '1279745']\n",
      "['ZAYN - I Don’t Wanna Live Forever (Fifty Shades Darker)', '1722825749', '592665']\n",
      "['David Guetta - Titanium', '1720185170', '846802']\n",
      "['XXXTENTACION - Fuck Love', '1716484443', '1000411']\n",
      "['One Direction - Night Changes', '1710448066', '1587755']\n",
      "['Powfu - death bed (coffee for your head)', '1709349322', '488636']\n",
      "['Olivia Rodrigo - deja vu', '1704326980', '892114']\n",
      "['Justin Bieber - Ghost', '1700853908', '954657']\n",
      "['AC/DC - Highway to Hell', '1700831032', '844246']\n",
      "['Queen - Under Pressure', '1698396151', '839787']\n",
      "[\"Bon Jovi - Livin' On A Prayer\", '1697823891', '1136288']\n",
      "[\"Måneskin - Beggin'\", '1696715794', '979236']\n",
      "['Miley Cyrus - Party In The U.S.A.', '1694868043', '1070718']\n",
      "['Drake - Passionfruit', '1690329391', '564426']\n",
      "['Eagles - Hotel California', '1689768488', '868595']\n",
      "['Doja Cat - Woman', '1689606851', '621317']\n",
      "['Juice WRLD - All Girls Are The Same', '1689205685', '778793']\n",
      "['Billie Eilish - everything i wanted', '1686423269', '633656']\n",
      "['DNCE - Cake By The Ocean', '1684299898', '543917']\n",
      "['Ruth B. - Dandelions', '1682984088', '1402891']\n",
      "['The Starlite Singers - Party In The U.S.A.', '1681456919', '1095366']\n",
      "['MUSIC LAB JPN - Cake By The Ocean', '1681217835', '529390']\n",
      "['Keane - Somewhere Only We Know', '1680171506', '1173736']\n",
      "['Future - Mask Off', '1678131604', '798700']\n",
      "['Maroon 5 - Girls Like You', '1677729444', '316375']\n",
      "['Childish Gambino - Redbone', '1672980299', '540473']\n",
      "['Post Malone - I Fall Apart', '1668473399', '266325']\n",
      "['Olivia Rodrigo - traitor', '1667873446', '1019811']\n",
      "['Marshmello - Silence', '1666980842', '656868']\n",
      "['DaBaby - ROCKSTAR', '1663988786', '220116']\n",
      "['Taylor Swift - Anti-Hero', '1663786298', '786091']\n",
      "['Justin Bieber - Peaches', '1662441832', '435491']\n",
      "['Cardi B - I Like It', '1661239166', '486390']\n",
      "['XXXTENTACION - Everybody Dies In Their Nightmares', '1660165543', '582641']\n",
      "['Panic! At The Disco - High Hopes', '1657460648', '438574']\n",
      "['Trevor Daniel - Falling', '1655619434', '510899']\n",
      "['Justin Bieber - What Do You Mean?', '1655433299', '471555']\n",
      "['AC/DC - Back In Black', '1652115885', '1146153']\n",
      "['Bastille - Pompeii', '1651637367', '615784']\n",
      "['The Weeknd - Save Your Tears', '1641748842', '751787']\n",
      "['Coldplay - A Sky Full of Stars', '1641707174', '1088909']\n",
      "['Ed Sheeran - Shivers', '1641091438', '576659']\n",
      "['Rihanna - Umbrella', '1636910762', '878438']\n",
      "['Sam Smith - Unholy', '1631228677', '706986']\n",
      "['Dua Lipa - IDGAF', '1629675467', '336216']\n",
      "['Eminem - Love The Way You Lie', '1629560987', '787222']\n",
      "['Offset - Ric Flair Drip', '1625106767', '1245182']\n",
      "['Train - Hey, Soul Sister', '1624443268', '992714']\n",
      "['Beyoncé - Halo', '1615523802', '531984']\n",
      "['Calvin Harris - Summer', '1614000617', '1031491']\n",
      "['AC/DC - Thunderstruck', '1608363290', '1059412']\n",
      "['DJ Snake - Taki Taki', '1605231473', '377998']\n",
      "['White Noise Baby Sleep - Clean White Noise', '1599824641', '309520']\n",
      "['50 Cent - In Da Club', '1596825640', '907381']\n",
      "['Harry Styles - Sign of the Times', '1595955695', '549052']\n",
      "['Adele - Hello', '1593897824', '445351']\n",
      "['Khalid - Young Dumb & Broke', '1592320911', '612890']\n",
      "['Kendrick Lamar - Money Trees', '1590110223', '982781']\n",
      "['Lana Del Rey - Summertime Sadness', '1589975467', '1288243']\n",
      "['Major Lazer - Cold Water', '1587716278', '419538']\n",
      "['MAGIC! - Rude', '1587114855', '1021257']\n",
      "['Clean Bandit - Rockabye', '1584107293', '511887']\n",
      "['Imagine Dragons - Enemy', '1582493803', '697745']\n",
      "['Bad Bunny - Tití Me Preguntó', '1581585881', '555823']\n",
      "['The Walters - I Love You So', '1581515206', '1632811']\n",
      "['Imagine Dragons - Enemy feat. J.I.D. (from the series Arcane League of Legends)', '1577515671', '835085']\n",
      "['Anne-Marie - 2002', '1573896976', '406715']\n",
      "['Pitbull - Timber', '1571155207', '808083']\n",
      "['Ellie Goulding - Love Me Like You Do', '1566773038', '319458']\n",
      "['Rihanna - Love On The Brain', '1565308689', '893857']\n",
      "['Maroon 5 - Moves Like Jagger', '1563824793', '1061186']\n",
      "['Rihanna - Needed Me', '1557730768', '747244']\n",
      "['Farruko - Pepas', '1555082997', '527762']\n",
      "['Coldplay - Fix You', '1551990399', '845817']\n",
      "['Kings of Leon - Sex on Fire', '1550462532', '1309023']\n",
      "['Lil Nas X - Old Town Road', '1549228839', '206616']\n",
      "['Ariana Grande - One Last Time', '1549161942', '781092']\n",
      "['The Neighbourhood - Daddy Issues', '1547251781', '1223863']\n",
      "['Lil Baby - Drip Too Hard (Lil Baby & Gunna)', '1544841524', '534187']\n",
      "['Backstreet Boys - I Want It That Way', '1544056252', '1153860']\n",
      "['Post Malone - Psycho', '1543241731', '201518']\n",
      "['The Script - Hall of Fame', '1542098419', '1837351']\n",
      "['Zedd - The Middle', '1540659164', '393570']\n",
      "['Taylor Swift - Lover', '1539880718', '1035606']\n",
      "['Milky Chance - Stolen Dance', '1538881994', '792189']\n",
      "['KAROL G - Tusa', '1534089441', '330337']\n",
      "['Eminem - Godzilla', '1529403584', '565521']\n",
      "['XXXTENTACION - Hope', '1525632303', '774140']\n",
      "['Wham! - Last Christmas', '1521484332', '313118']\n",
      "['Clean Bandit - Symphony', '1520984864', '892207']\n",
      "['J Balvin - Mi Gente', '1520780894', '408067']\n",
      "['Katy Perry - Dark Horse', '1520335248', '876253']\n",
      "['Tate McRae - you broke me first', '1519955294', '793822']\n",
      "['Black Eyed Peas - I Gotta Feeling', '1519052999', '1040439']\n",
      "['Zara Larsson - Lush Life', '1516383293', '624542']\n",
      "['Billie Eilish - ocean eyes', '1516052339', '1004008']\n",
      "['NF - Let You Down', '1509746527', '302155']\n",
      "['Maroon 5 - She Will Be Loved', '1509373916', '823885']\n",
      "['Gorillaz - Feel Good Inc.', '1503556265', '827089']\n",
      "['Bad Bunny - Ojitos Lindos', '1502448792', '626347']\n",
      "['Bad Bunny - Callaita', '1501878931', '430130']\n",
      "['Bruno Mars - 24K Magic', '1500159446', '885930']\n",
      "['Travis Scott - BUTTERFLY EFFECT', '1499161291', '772987']\n",
      "['Arizona Zervas - ROXANNE', '1498436268', '214802']\n",
      "['Martin Garrix - In the Name of Love', '1498139856', '621663']\n",
      "['JAY-Z - Ni**as In Paris', '1497710432', '551524']\n",
      "['Dynoro - In My Mind', '1497655248', '639976']\n",
      "['Coldplay - Hymn for the Weekend', '1496256559', '1056203']\n",
      "['Rihanna - Diamonds', '1495602727', '665444']\n",
      "['Red Hot Chili Peppers - Californication', '1495290583', '725547']\n",
      "['Dr. Dre - Still D.R.E.', '1494699230', '665899']\n",
      "['Snoop Dogg - Young, Wild & Free (feta. Bruno Mars)', '1490009433', '498058']\n",
      "['XXXTENTACION - Look At Me!', '1488817080', '496547']\n",
      "['Carly Rae Jepsen - Call Me Maybe', '1487449356', '913965']\n",
      "['Metallica - Enter Sandman (Remastered)', '1484015064', '928101']\n",
      "['XXXTENTACION - Revenge', '1483803348', '1080235']\n",
      "['Ariana Grande - positions', '1483526843', '427336']\n",
      "['Rema - Calm Down', '1483474961', '873674']\n",
      "['Creedence Clearwater Revival - Fortunate Son', '1482712985', '944206']\n",
      "['Daniel Caesar - Best Part', '1482298917', '1380545']\n",
      "['Taylor Swift - Shake It Off', '1479530912', '604852']\n",
      "['Miguel - Sure Thing', '1478984213', '1522566']\n",
      "['Eurythmics - Sweet Dreams (Are Made of This)', '1474459530', '1941478']\n",
      "['Ariana Grande - Side To Side', '1473269806', '468617']\n",
      "['Red Hot Chili Peppers - Under the Bridge', '1468778207', '647291']\n",
      "[\"Kygo - It Ain't Me\", '1467829577', '403331']\n",
      "['Alessia Cara - Scars To Your Beautiful', '1465571385', '404634']\n",
      "['Marshmello - FRIENDS', '1464346945', '267574']\n",
      "['Bruno Mars - Talking to the Moon', '1463578550', '1530556']\n",
      "['Fifth Harmony - Work from Home', '1459794900', '318731']\n",
      "['Frank Ocean - Pink + White', '1459367937', '1499410']\n",
      "['Kanye West - Stronger', '1455381479', '461810']\n",
      "['Cigarettes After Sex - Apocalypse', '1454086198', '1673028']\n",
      "['Avicii - Waiting For Love', '1453530644', '525537']\n",
      "['Jonas Brothers - Sucker', '1449234318', '329013']\n",
      "['System Of A Down - Chop Suey!', '1448098793', '748790']\n",
      "['Tate McRae - greedy', '1444330284', '1496195']\n",
      "['Rihanna - Work', '1441312197', '377503']\n",
      "[\"Marvin Gaye - Ain't No Mountain High Enough\", '1440956499', '1034253']\n",
      "['R.E.M. - Losing My Religion', '1440136246', '919763']\n",
      "['Maroon 5 - Animals', '1440004491', '857563']\n",
      "['Lil Tecca - Ransom', '1439747059', '919243']\n",
      "[\"Unknown - Ain't No Mountain High Enough\", '1437559891', '1102780']\n",
      "['Bad Bunny - Yonaguni', '1435729365', '293908']\n",
      "['Steve Lacy - Dark Red', '1434321482', '1231475']\n",
      "['Ariana Grande - Into You', '1432909704', '633915']\n",
      "['Pharrell Williams - Happy', '1431802574', '519260']\n",
      "['gnash - i hate u, i love u', '1430541283', '232405']\n",
      "['Outkast - Hey Ya!', '1428451440', '783099']\n",
      "['Rauw Alejandro - Todo De Ti', '1426095728', '803887']\n",
      "['ABBA - Dancing Queen', '1423354735', '1224403']\n",
      "['Kanye West - Heartless', '1422758849', '988179']\n",
      "[\"Metro Boomin - Creepin'\", '1422701593', '831963']\n",
      "['Taylor Swift - cardigan', '1421155316', '1072449']\n",
      "['Ed Sheeran - Beautiful People', '1420532361', '200594']\n",
      "['Kendrick Lamar - LOVE. FEAT. ZACARI.', '1420362903', '664512']\n",
      "['JHAYCO - No Me Conoce', '1418784717', '702921']\n",
      "['P!nk - Just Give Me a Reason', '1418099749', '1145938']\n",
      "['USHER - Yeah!', '1417409087', '1415472']\n",
      "['The Beatles - Here Comes The Sun', '1415926132', '863247']\n",
      "['MKTO - Classic', '1413719106', '461443']\n",
      "['Regard - Ride It', '1413397807', '572531']\n",
      "['Khalid - Better', '1413335489', '566728']\n",
      "['Bebe Rexha - Meant to Be', '1410259116', '220623']\n",
      "['Drake - In My Feelings', '1408315894', '153966']\n",
      "['Khalid - Location', '1404032647', '417618']\n",
      "['Shawn Mendes - Mercy', '1397395634', '458485']\n",
      "['Daddy Yankee - Con Calma', '1397058803', '409881']\n",
      "['Sam Smith - Dancing With A Stranger', '1396734532', '502181']\n",
      "['Axwell /\\\\ Ingrosso - More Than You Know', '1396656820', '396285']\n",
      "['Sia - Unstoppable', '1395297712', '1153444']\n",
      "['Billie Eilish - Happier Than Ever', '1394078140', '682106']\n",
      "['XXXTENTACION - changes', '1393875102', '268764']\n",
      "['Tyga - Taste', '1390824030', '352028']\n",
      "['Lady Gaga - Poker Face', '1390695573', '1003295']\n",
      "['Bruno Mars - Grenade', '1389512413', '767513']\n",
      "['Rihanna - Stay', '1388561486', '731470']\n",
      "['Unknown - Time Of Our Lives', '1387355809', '1122004']\n",
      "['Pitbull - Time of Our Lives', '1387355809', '1122004']\n",
      "['Selena Gomez - Wolves', '1386534228', '260547']\n",
      "['Clean Bandit - Rather Be', '1386006794', '706749']\n",
      "['Jessie J - Bang Bang', '1383254950', '476252']\n",
      "['Lana Del Rey - Young And Beautiful', '1382378674', '1221820']\n",
      "['Snow Patrol - Chasing Cars', '1380926150', '539301']\n",
      "['Ed Sheeran - Castle on the Hill', '1380334248', '463849']\n",
      "['Britney Spears - Toxic', '1379429533', '1205670']\n",
      "['Gym Class Heroes - Stereo Hearts', '1379282542', '578028']\n",
      "['Bruno Mars - Leave The Door Open', '1377466079', '552685']\n",
      "[\"Bryson Tiller - Don't\", '1375556175', '1110496']\n",
      "['Nirvana - Come As You Are', '1375005912', '874221']\n",
      "['Coldplay - Paradise', '1374140183', '627030']\n",
      "['Queen - We Will Rock You', '1367569431', '757325']\n",
      "['Drake - Hotline Bling', '1367022103', '274442']\n",
      "['Survivor - Eye of the Tiger', '1363158891', '886904']\n",
      "['Portugal. The Man - Feel It Still', '1362598577', '423200']\n",
      "['Cardi B - WAP', '1362354451', '339336']\n",
      "['One Direction - What Makes You Beautiful', '1361819173', '810292']\n",
      "['ZAYN - PILLOWTALK', '1361737011', '628348']\n",
      "['Internet Money - Lemonade', '1361426226', '461348']\n",
      "['Lynyrd Skynyrd - Sweet Home Alabama', '1361313956', '634526']\n",
      "['Bad Bunny - Efecto', '1360865224', '555962']\n",
      "['Benson Boone - Beautiful Things', '1360463954', '4241882']\n",
      "['Capital Cities - Safe and Sound', '1360245855', '644409']\n",
      "['One Direction - Story of My Life', '1360174072', '847660']\n",
      "['Ariana Grande - no tears left to cry', '1359090483', '235352']\n",
      "['Chris Brown - Under The Influence', '1359083273', '1257738']\n",
      "['Lady Gaga - Always Remember Us This Way', '1358242471', '898385']\n",
      "['Ed Sheeran - Shivers', '1356315091', '']\n",
      "['Logic - 1-800-273-8255', '1352987823', '214432']\n",
      "['Bad Bunny - MIA', '1351807874', '259584']\n",
      "['The Lumineers - Ho Hey', '1351452613', '643049']\n",
      "['Maluma - Hawái', '1351421665', '627900']\n",
      "['The Lumineers - Ophelia', '1349251165', '588795']\n",
      "['Ed Sheeran - Happier', '1348492627', '245794']\n",
      "['Ed Sheeran - Galway Girl', '1348054824', '313103']\n",
      "['G-Eazy - Me, Myself & I', '1344945126', '699817']\n",
      "['Adele - When We Were Young', '1342833416', '611306']\n",
      "['Juice WRLD - Robbery', '1342597407', '386377']\n",
      "['Lost Frequencies - Where Are You Now', '1342305911', '1139763']\n",
      "['Joji - SLOW DANCING IN THE DARK', '1341048596', '473622']\n",
      "['Major Lazer - Light It Up', '1340904047', '422542']\n",
      "['Imagine Dragons - Bones', '1338648068', '942486']\n",
      "['Joji - Glimpse of Us', '1336313983', '991231']\n",
      "['Imagine Dragons - Whatever It Takes', '1330537665', '629770']\n",
      "['Lil Mosey - Blueberry Faygo', '1329708814', '330799']\n",
      "['J. Cole - MIDDLE CHILD', '1327862767', '396528']\n",
      "['Coldplay - My Universe', '1327628676', '590519']\n",
      "['Sabrina Carpenter - Espresso', '1316210474', '5709725']\n",
      "['A$AP Rocky - Praise The Lord (Da Shine)', '1315277022', '451185']\n",
      "['Lady Gaga - Bad Romance', '1311036384', '769504']\n",
      "['Drake - Nice For What', '1306414167', '236177']\n",
      "['Pitbull - Give Me Everything', '1303828752', '1641663']\n",
      "[\"Red Hot Chili Peppers - Can't Stop\", '1303241958', '1254262']\n",
      "['Martin Garrix - Scared to Be Lonely', '1301295396', '546168']\n",
      "['Beyoncé - Crazy In Love', '1300508141', '1288780']\n",
      "['J. Cole - Wet Dreamz', '1298934288', '538552']\n",
      "['Post Malone - Goodbyes', '1297767602', '262464']\n",
      "['Kesha - TiK ToK', '1294611303', '1195432']\n",
      "['blackbear - hot girl bummer', '1293537324', '237604']\n",
      "['Macklemore & Ryan Lewis - Thrift Shop', '1291261433', '643970']\n",
      "['Unknown - Thrift Shop', '1290617463', '605756']\n",
      "['BTS - Butter', '1289370484', '276464']\n",
      "['Jimin - Like Crazy', '1288246596', '313383']\n",
      "['The Rolling Stones - Paint It, Black', '1287722563', '858355']\n",
      "['Whitney Houston - I Wanna Dance with Somebody (Who Loves Me)', '1287460210', '700426']\n",
      "['Eslabon Armado - Ella Baila Sola', '1286070366', '568440']\n",
      "['KAROL G - PROVENZA', '1285897866', '966346']\n",
      "['Imagine Dragons - Natural', '1283413065', '509408']\n",
      "[\"Bryan Adams - Summer Of '69\", '1283396654', '702664']\n",
      "['The Cranberries - Zombie', '1282611374', '771807']\n",
      "['Nelly Furtado - Promiscuous', '1279663526', '756040']\n",
      "['Masked Wolf - Astronaut In The Ocean', '1279207946', '290434']\n",
      "[\"DJ Khaled - I'm the One\", '1279069067', '208892']\n",
      "['AC/DC - You Shook Me All Night Long', '1279024852', '1241851']\n",
      "['Taylor Swift - Style', '1275999844', '497318']\n",
      "['Harry Styles - Falling', '1275200342', '471606']\n",
      "['Calum Scott - Dancing On My Own', '1274227784', '420573']\n",
      "['Kate Bush - Running Up That Hill (A Deal With God)', '1272723432', '949591']\n",
      "['Robin Schulz - Sugar', '1269974545', '390720']\n",
      "['d4vd - Romantic Homicide', '1269731139', '1208354']\n",
      "['Dire Straits - Sultans of Swing', '1268487220', '770354']\n",
      "['Lil Peep - Star Shopping', '1268071365', '704952']\n",
      "['Lorde - Royals', '1267469229', '274014']\n",
      "['Future - Life Is Good', '1264384824', '220226']\n",
      "['Foo Fighters - Everlong', '1260515891', '813309']\n",
      "['Selena Gomez - Lose You To Love Me', '1256414930', '305230']\n",
      "['The Fray - How to Save a Life', '1255894137', '460375']\n",
      "['Cyndi Lauper - Girls Just Want to Have Fun', '1254670589', '955383']\n",
      "['David Kushner - Daylight', '1252412824', '1106163']\n",
      "[\"Guns N' Roses - Welcome To The Jungle\", '1249354683', '711036']\n",
      "['Zedd - Stay', '1248385083', '219207']\n",
      "['Taylor Swift - august', '1243764603', '1298139']\n",
      "['Calvin Harris - Outside', '1240594356', '1084218']\n",
      "['Duncan Laurence - Arcade', '1240587128', '508250']\n",
      "['Dua Lipa - Break My Heart', '1240311447', '477611']\n",
      "['Maroon 5 - What Lovers Do', '1240288647', '325486']\n",
      "['Joel Corry - Head & Heart', '1239084201', '321863']\n",
      "['Katy Perry - Last Friday Night (T.G.I.F.)', '1238713219', '1123770']\n",
      "['Lil Peep - Falling Down', '1238661434', '964211']\n",
      "['The Weeknd - One Of The Girls', '1237909371', '2985446']\n",
      "['Julia Michaels - Issues', '1237737345', '230342']\n",
      "['Fall Out Boy - Centuries', '1236779561', '559226']\n",
      "['George Ezra - Budapest', '1236634322', '818795']\n",
      "['Loud Luxury - Body', '1236535528', '473782']\n",
      "['LISA - MONEY', '1236117139', '342257']\n",
      "['Calvin Harris - How Deep Is Your Love', '1235058171', '649657']\n",
      "['Sean Paul - No Lie', '1231224416', '680747']\n",
      "['Tiësto - The Business', '1230797602', '290108']\n",
      "['Kali Uchis - telepatía', '1229562186', '714089']\n",
      "['Doja Cat - Say So', '1226860998', '259402']\n",
      "['James Bay - Let It Go', '1225943065', '302964']\n",
      "['Metallica - Nothing Else Matters (Remastered)', '1224418459', '648157']\n",
      "['Evanescence - Bring Me To Life', '1223891054', '907238']\n",
      "['Meek Mill - Going Bad', '1223214700', '232023']\n",
      "['Giveon - Heartbreak Anniversary', '1221410557', '780414']\n",
      "['Fetty Wap - Trap Queen', '1220304174', '384136']\n",
      "['Taylor Swift - Don’t Blame Me', '1216808688', '837279']\n",
      "['The Chainsmokers - Paris', '1215029717', '258665']\n",
      "['Doja Cat - Need to Know', '1213563957', '344808']\n",
      "['Olivia Rodrigo - happier', '1213181971', '728953']\n",
      "['Kendrick Lamar - DNA.', '1212071759', '459337']\n",
      "['Anuel AA - China', '1211326424', '323185']\n",
      "['Katy Perry - Roar', '1210624544', '641654']\n",
      "['Justin Bieber - Intentions', '1210125487', '294711']\n",
      "['DJ Khaled - Wild Thoughts', '1209768235', '366117']\n",
      "['Kanye West - Gold Digger', '1208828384', '519242']\n",
      "['The Notorious B.I.G. - Hypnotize', '1208055583', '892728']\n",
      "['Taylor Swift - Look What You Made Me Do', '1207381259', '431873']\n",
      "['Hailee Steinfeld - Starving', '1207130745', '128973']\n",
      "['SZA - Good Days', '1205761403', '901037']\n",
      "['Michael Jackson - Beat It', '1203285469', '755875']\n",
      "['Nio Garcia - Te Boté', '1201473503', '233011']\n",
      "['Aerosmith - Dream On', '1200897042', '569360']\n",
      "['fun. - We Are Young', '1200593105', '739056']\n",
      "['JVKE - golden hour', '1200262102', '734850']\n",
      "['Mitski - My Love Mine All Mine', '1199787148', '1932683']\n",
      "['Papa Roach - Last Resort', '1198974790', '548097']\n",
      "['Nicki Minaj - Starships', '1198668066', '793263']\n",
      "['Desiigner - Panda', '1196572209', '155988']\n",
      "['BTS - Boy With Luv (Feat. Halsey)', '1195023538', '263024']\n",
      "['Kanye West - Father Stretch My Hands Pt. 1', '1193624842', '792249']\n",
      "['Ice Cube - It Was A Good Day', '1193370283', '608698']\n",
      "['KALEO - Way down We Go', '1191684115', '734424']\n",
      "['Ariana Grande - Dangerous Woman', '1191392369', '726486']\n",
      "['Rihanna - Only Girl (In The World)', '1191271576', '911953']\n",
      "['blink-182 - All The Small Things', '1190125174', '632653']\n",
      "['JP Saxe - If the World Was Ending', '1186470937', '495335']\n",
      "['Bon Jovi - You Give Love A Bad Name', '1185021639', '743376']\n",
      "['Beach House - Space Song', '1181911377', '821707']\n",
      "['Steve Lacy - Bad Habit', '1180940384', '987840']\n",
      "['Lewis Capaldi - Bruises', '1180712750', '471130']\n",
      "['Kodaline - All I Want', '1180499044', '408398']\n",
      "['Surf Curse - Freaks', '1179853403', '1149335']\n",
      "['Maroon 5 - This Love', '1179382285', '973690']\n",
      "['Doja Cat - Paint The Town Red', '1178263664', '857445']\n",
      "['Van Morrison - Brown Eyed Girl', '1178142466', '2350002']\n",
      "['One Direction - Drag Me Down', '1178027728', '356965']\n",
      "[\"Elton John - I'm Still Standing\", '1177964679', '880717']\n",
      "['Bad Bunny - Moscow Mule', '1176989921', '537483']\n",
      "['Pedro Capó - Calma', '1176547505', '222616']\n",
      "['Jonas Blue - Fast Car', '1176296665', '296685']\n",
      "['Fleetwood Mac - The Chain', '1175905601', '595016']\n",
      "['Eminem - Stan', '1175784256', '431894']\n",
      "['Noah Kahan - Stick Season', '1174338287', '1801341']\n",
      "['Demi Lovato - Sorry Not Sorry', '1174012019', '178420']\n",
      "[\"Kungs - This Girl (Kungs Vs. Cookin' On 3 Burners)\", '1173531406', '494953']\n",
      "['Jay Wheeler - La Curiosidad', '1173445754', '776032']\n",
      "['21 Savage - Bank Account', '1173333911', '209703']\n",
      "['Elley Duhé - MIDDLE OF THE NIGHT', '1172456210', '677936']\n",
      "['Ben E. King - Stand by Me', '1171711318', '735879']\n",
      "['Pop Smoke - What You Know Bout Love', '1171693513', '405745']\n",
      "['Rihanna - FourFiveSeconds', '1171411063', '326269']\n",
      "['The Weeknd - Stargirl Interlude', '1170012358', '1173148']\n",
      "['Post Malone - White Iverson', '1164263476', '246201']\n",
      "[\"Elton John - Rocket Man (I Think It's Going To Be A Long, Long Time)\", '1163764169', '622648']\n",
      "['Black Sabbath - Paranoid', '1163397622', '673294']\n",
      "['Lil Wayne - Sucker for Pain', '1161659878', '227312']\n",
      "['Ariana Grande - Stuck with U', '1161111557', '402089']\n",
      "['Dream Supplier - Clean Baby Sleep White Noise (Loopable)', '1158888634', '2927128']\n",
      "['SZA - Snooze', '1158787734', '1028400']\n",
      "['Kanye West - Flashing Lights', '1157869080', '792819']\n",
      "[\"Ali Gatie - It's You\", '1157181013', '259019']\n",
      "['Adele - Make You Feel My Love', '1157127248', '504320']\n",
      "['TLC - No Scrubs', '1156716798', '1067271']\n",
      "['GAYLE - abcdefu', '1155952063', '256531']\n",
      "['Rudimental - These Days', '1155527577', '261228']\n",
      "['Calvin Harris - Feels', '1154499571', '281714']\n",
      "['Nickelback - How You Remind Me', '1152126117', '1068848']\n",
      "['Spice Girls - Wannabe', '1152030869', '737510']\n",
      "['Topic - Breaking Me', '1148851600', '201734']\n",
      "['Lil Baby - Yes Indeed', '1148768089', '376326']\n",
      "[\"Swedish House Mafia - Don't You Worry Child\", '1148716105', '465293']\n",
      "['Outkast - Ms. Jackson', '1147268000', '756567']\n",
      "['FloyyMenor - Gata Only', '1147181063', '2996560']\n",
      "['Green Day - Basket Case', '1147179726', '655523']\n",
      "['Smash Mouth - All Star', '1146557283', '431622']\n",
      "['Kygo - Firestone', '1145432935', '461059']\n",
      "['Drake - Nonstop', '1145080004', '226386']\n",
      "[\"Alicia Keys - If I Ain't Got You\", '1145058734', '1086430']\n",
      "['Olivia Rodrigo - favorite crime', '1144571726', '773039']\n",
      "['d4vd - Here With Me', '1144560098', '1031701']\n",
      "['Pop Smoke - For The Night', '1144259537', '424007']\n",
      "['Gnarls Barkley - Crazy', '1143766652', '486858']\n",
      "['Lady Gaga - Just Dance', '1143532768', '734478']\n",
      "['M83 - Midnight City', '1142509610', '589224']\n",
      "['Daft Punk - Get Lucky (Radio Edit) [feat. Pharrell Williams and Nile Rodgers]', '1140071070', '779938']\n",
      "['Jawsh 685 - Savage Love (Laxed', '1137392062', '171068']\n",
      "['Jason Derulo - Swalla', '1137049931', '204592']\n",
      "['Katy Perry - Firework', '1134969116', '807573']\n",
      "['Frank Ocean - Lost', '1133234312', '686119']\n",
      "['BØRNS - Electric Love', '1132446098', '355764']\n",
      "['Lost Frequencies - Are You With Me', '1130358527', '632861']\n",
      "['Billie Eilish - idontwannabeyouanymore', '1129996744', '362632']\n",
      "['Yng Lvcas - La Bebe', '1129781494', '1048933']\n",
      "['Måneskin - I WANNA BE YOUR SLAVE', '1129170270', '853577']\n",
      "['WILLOW - Wait a Minute!', '1128661237', '465890']\n",
      "['Akon - Smack That', '1128043375', '1021295']\n",
      "['Rauw Alejandro - Desesperados', '1127853201', '1157293']\n",
      "['The Clash - Should I Stay or Should I Go', '1126426511', '840482']\n",
      "['Teddy Swims - Lose Control', '1126280439', '7082537']\n",
      "['Rihanna - S&M', '1125267634', '808341']\n",
      "[\"Guns N' Roses - Paradise City\", '1124588361', '525041']\n",
      "['Flo Rida - Low', '1124281997', '632943']\n",
      "['Unknown - La Bebe', '1124124392', '848507']\n",
      "['Taio Cruz - Dynamite', '1123901696', '570033']\n",
      "['Skrillex - Where Are Ü Now', '1123510069', '156921']\n",
      "['Jack Ü - Where Are Ü Now', '1123353148', '177568']\n",
      "[\"Plain White T's - Hey There Delilah\", '1122338762', '328812']\n",
      "['Rosa Linn - SNAP', '1121094102', '588343']\n",
      "['Lilly Wood and The Prick - Prayer in C', '1120324423', '415284']\n",
      "['Natasha Bedingfield - Unwritten', '1119392587', '1775434']\n",
      "['Olivia Rodrigo - vampire', '1118844543', '1040502']\n",
      "['KAROL G - TQG', '1118381485', '753121']\n",
      "['girl in red - we fell in love in october', '1117123808', '1177700']\n",
      "['Doja Cat - Streets', '1115040968', '886897']\n",
      "['Red Hot Chili Peppers - Snow (Hey Oh)', '1113463375', '381351']\n",
      "['Hailee Steinfeld - Let Me Go', '1112448686', '120624']\n",
      "['The Verve - Bitter Sweet Symphony', '1110730379', '579460']\n",
      "['Avicii - Without You', '1110175906', '323909']\n",
      "['George Michael - Careless Whisper', '1110097311', '858259']\n",
      "['Pop Smoke - Dior', '1108455114', '350278']\n",
      "[\"Meghan Trainor - Like I'm Gonna Lose You\", '1106788373', '641131']\n",
      "['Flo Rida - My House', '1106601097', '314563']\n",
      "['Eminem - Rap God', '1105851252', '224802']\n",
      "['Jaymes Young - Infinity', '1105646564', '507061']\n",
      "['Amy Winehouse - Back To Black', '1104479080', '924811']\n",
      "['Imagine Dragons - Bad Liar', '1103038271', '462224']\n",
      "['Justin Timberlake - Mirrors', '1102147689', '718027']\n",
      "['Kodak Black - ZEZE', '1101487062', '283252']\n",
      "['Daniel Caesar - Get You', '1101428227', '1132945']\n",
      "['Stephen Sanchez - Until I Found You', '1101207161', '818732']\n",
      "['Grupo Frontera - un x100to', '1099234994', '1240418']\n",
      "['Adele - Send My Love (To Your New Lover)', '1098216401', '315250']\n",
      "['Calvin Harris - Feel So Close', '1097402151', '1055516']\n",
      "['Of Monsters and Men - Little Talks', '1096703651', '435064']\n",
      "['DJ Snake - Middle', '1095324324', '263048']\n",
      "['Lil Nas X - THATS WHAT I WANT', '1093957844', '329008']\n",
      "['U2 - With Or Without You', '1093561258', '480260']\n",
      "['Calvin Harris - Slide', '1093210777', '430791']\n",
      "['Daryl Hall & John Oates - You Make My Dreams (Come True)', '1091346293', '523299']\n",
      "['Ariana Grande - God is a woman', '1090742345', '236963']\n",
      "['Arctic Monkeys - R U Mine?', '1089914567', '501732']\n",
      "['JAY-Z - Empire State Of Mind', '1088999863', '654634']\n",
      "['Lady Gaga - Rain On Me', '1088557417', '235935']\n",
      "['Selena Gomez - Back To You', '1088377323', '199741']\n",
      "['YNW Melly - Murder on My Mind', '1087228385', '311425']\n",
      "['A Great Big World - Say Something', '1087068534', '218333']\n",
      "['Dan + Shay - 10,000 Hours', '1086456602', '224502']\n",
      "['Florence + The Machine - Dog Days Are Over', '1085668975', '601043']\n",
      "['Sheck Wes - Mo Bamba', '1085559259', '266481']\n",
      "['Coldplay - Adventure of a Lifetime', '1084716477', '401957']\n",
      "['Calum Scott - You Are The Reason', '1082638266', '435606']\n",
      "['The Weeknd - Reminder', '1081278865', '649950']\n",
      "['Lil Uzi Vert - 20 Min', '1081140785', '804059']\n",
      "['The Notorious B.I.G. - Big Poppa', '1079396944', '756674']\n",
      "['Jason Derulo - Want to Want Me', '1078250260', '251218']\n",
      "['Billie Eilish - BIRDS OF A FEATHER', '1078055969', '7194182']\n",
      "['Drake - Toosie Slide', '1077965884', '168519']\n",
      "['Jonas Blue - Perfect Strangers', '1077826620', '295086']\n",
      "['ROSALÍA - DESPECHÁ', '1077256165', '673001']\n",
      "[\"Bee Gees - Stayin' Alive\", '1076794708', '570316']\n",
      "['Disclosure - Latch', '1075270420', '665659']\n",
      "['Eminem - The Monster', '1074832978', '351878']\n",
      "['Coldplay - Sparks', '1074132064', '1161638']\n",
      "[\"Rag'n'Bone Man - Human\", '1074098123', '650121']\n",
      "['Plan B - Es un Secreto', '1073990169', '1535207']\n",
      "['Frank Ocean - Thinkin Bout You', '1073336165', '1059773']\n",
      "['Drake - Too Good', '1072355636', '171862']\n",
      "['Hoobastank - The Reason', '1072233366', '557877']\n",
      "['The Weeknd - I Was Never There', '1071817539', '783394']\n",
      "['The Chainsmokers - Roses', '1071671820', '205636']\n",
      "['Bruno Mars - Marry You', '1071173550', '666492']\n",
      "['Calvin Harris - My Way', '1068225627', '496761']\n",
      "['Clean Bandit - Solo', '1067405178', '215066']\n",
      "['Bazzi - Mine', '1065861034', '134877']\n",
      "['BLACKPINK - How You Like That', '1065173014', '283466']\n",
      "['Red Hot Chili Peppers - Otherside', '1063953912', '495794']\n",
      "['Noah Cyrus - July', '1063383633', '478910']\n",
      "['Chris Brown - No Guidance', '1062696729', '307412']\n",
      "[\"Shaggy - It Wasn't Me\", '1062419797', '525094']\n",
      "['Calvin Harris - Promises', '1059634247', '204189']\n",
      "[\"Rihanna - Don't Stop The Music\", '1059155807', '714416']\n",
      "['Bob Marley & The Wailers - Three Little Birds', '1059105844', '625311']\n",
      "['Black Eyed Peas - Where Is The Love?', '1058926721', '598298']\n",
      "[\"Aerosmith - I Don't Want To Miss A Thing\", '1058297399', '420279']\n",
      "['Post Malone - Go Flex', '1058093392', '194116']\n",
      "['Eminem - Not Afraid', '1057848770', '323749']\n",
      "['Ariana Grande - Santa Tell Me', '1056595546', '145228']\n",
      "[\"KISS - I Was Made For Lovin' You\", '1054878623', '735293']\n",
      "['Post Malone - Candy Paint', '1054711188', '176262']\n",
      "['Bryson Tiller - Exchange', '1054080999', '721625']\n",
      "['Morgan Wallen - Last Night', '1053313958', '978915']\n",
      "['Bruno Mars - Treasure', '1052613452', '458601']\n",
      "['JAY-Z - Numb / Encore', '1052296820', '405015']\n",
      "['Bruno Mars - Wake Up in the Sky', '1051407791', '390555']\n",
      "['Dr. Dre - The Next Episode', '1051390909', '486911']\n",
      "['Kina - Get You The Moon', '1047836462', '317869']\n",
      "['Ozuna - Hey Mor', '1047444543', '446367']\n",
      "['Dominic Fike - 3 Nights', '1046544638', '551547']\n",
      "['Avicii - Hey Brother', '1046393065', '402042']\n",
      "['American Authors - Best Day Of My Life', '1046270325', '430308']\n",
      "['Shakira - Chantaje', '1044877847', '501173']\n",
      "['Taylor Swift - Delicate', '1044022896', '432322']\n",
      "['Mario - Let Me Love You', '1039638320', '761537']\n",
      "[\"Shawn Mendes - If I Can't Have You\", '1039193900', '221561']\n",
      "['Fleetwood Mac - Go Your Own Way', '1038857999', '554665']\n",
      "['The Neighbourhood - Softcore', '1038568765', '1300548']\n",
      "['Drake - Jimmy Cooks', '1038562486', '535092']\n",
      "['R. City - Locked Away', '1038167188', '357057']\n",
      "['Billie Eilish - What Was I Made For? [From The Motion Picture \"Barbie\"]', '1037786616', '1319008']\n",
      "[\"The Offspring - You're Gonna Go Far, Kid\", '1036841597', '634995']\n",
      "['Feid - Feliz Cumpleaños Ferxxo', '1036797187', '761283']\n",
      "[\"Mabel - Don't Call Me Up\", '1036293325', '195081']\n",
      "['Mr. Probz - Waves', '1035558516', '308294']\n",
      "[\"Drake - Hold On, We're Going Home\", '1035275744', '336524']\n",
      "['Billie Eilish - bury a friend', '1034436773', '178733']\n",
      "['TV Girl - Lovers Rock', '1034433394', '1456828']\n",
      "['Nicky Jam - X', '1034352522', '478286']\n",
      "['Chris Stapleton - Tennessee Whiskey', '1032798300', '811300']\n",
      "['Zach Bryan - Something in the Orange', '1032250906', '1289756']\n",
      "['Tyler, The Creator - EARFQUAKE', '1029856617', '556783']\n",
      "['Lil Nas X - Old Town Road', '1029388334', '189386']\n",
      "['Myke Towers - LALA', '1028632251', '1127056']\n",
      "['The Weeknd - Often', '1028628690', '473454']\n",
      "['Zac Efron - Rewrite The Stars', '1027614553', '316189']\n",
      "['Lil Uzi Vert - The Way Life Goes', '1026919618', '558982']\n",
      "['KAROL G - QLONA', '1026525841', '1479552']\n",
      "['Billie Eilish - Bored', '1025525025', '536796']\n",
      "['Justin Bieber - Baby', '1023998007', '704808']\n",
      "['Bad Bunny - LA NOCHE DE ANOCHE', '1022738432', '239630']\n",
      "[\"Bill Withers - Ain't No Sunshine\", '1020497471', '808006']\n",
      "['Hotel Ugly - Shut up My Moms Calling', '1020441306', '1361606']\n",
      "['Djo - End of Beginning', '1019410778', '2361144']\n",
      "['Bruno Mars - The Lazy Song', '1017925842', '474812']\n",
      "['Iyaz - Replay', '1017840476', '830631']\n",
      "['Led Zeppelin - Stairway to Heaven', '1016793942', '421222']\n",
      "[\"Brenda Lee - Rockin' Around The Christmas Tree\", '1016725297', '110028']\n",
      "['Bad Bunny - Vete', '1016262888', '194485']\n",
      "['J. Cole - Work Out', '1015959646', '602594']\n",
      "['The Weeknd - Heartless', '1015732954', '367195']\n",
      "['MEDUZA - Piece Of Your Heart', '1015681885', '297304']\n",
      "['Liam Payne - Strip That Down', '1015149959', '133321']\n",
      "['The Animals - House of the Rising Sun', '1014549330', '485177']\n",
      "['Green Day - American Idiot', '1014504411', '806136']\n",
      "['Imagine Dragons - On Top Of The World', '1014418753', '403600']\n",
      "[\"Xmas Classics - Rockin' Around the Christmas Tree\", '1014297300', '31944']\n",
      "['Riton - Friday', '1013886052', '322586']\n",
      "['Dua Lipa - Physical', '1013671826', '302265']\n",
      "['The Temptations - My Girl', '1013633680', '534197']\n",
      "['Dennis Lloyd - Nevermind', '1011964839', '602400']\n",
      "['Jimmy Eat World - The Middle', '1011101033', '576266']\n",
      "['Billie Eilish - bellyache', '1009495569', '366328']\n",
      "['Nico & Vinz - Am I Wrong', '1009216714', '313260']\n",
      "['Wham! - Wake Me Up Before You Go-Go', '1008290284', '738279']\n",
      "['50 Cent - Candy Shop', '1007083786', '519501']\n",
      "['Kanye West - Bound 2', '1007019350', '527545']\n",
      "['Kygo - Stole the Show', '1006714086', '510376']\n",
      "['Ariana Grande - 34+35', '1006041746', '248813']\n",
      "['Lizzo - Truth Hurts', '1005715312', '142555']\n",
      "['Electric Light Orchestra - Mr. Blue Sky', '1004553236', '476217']\n",
      "['Charlie Puth - Left and Right (Feat. Jung Kook of BTS)', '1004453303', '431674']\n",
      "['Miley Cyrus - Angels Like You', '1004313185', '775487']\n",
      "[\"Michael Bublé - It's Beginning to Look a Lot like Christmas\", '1004206155', '93353']\n",
      "['System Of A Down - Toxicity', '1003554354', '1050462']\n",
      "['Cage The Elephant - Cigarette Daydreams', '1003023051', '773511']\n",
      "['Harry Styles - Late Night Talking', '1002624873', '344410']\n",
      "['Bob Marley & The Wailers - Could You Be Loved', '1002603698', '707325']\n",
      "['The Outfield - Your Love', '1002463350', '1252795']\n",
      "['Avicii - Levels', '1001997789', '472503']\n",
      "['Ava Max - Kings & Queens', '1001986967', '646776']\n",
      "[\"Miley Cyrus - We Can't Stop\", '1001666399', '299919']\n",
      "['Ed Sheeran - The A Team', '1001155200', '334181']\n",
      "['Sabrina Carpenter - Nonsense', '1000387161', '1449625']\n",
      "['The Weeknd - After Hours', '1000340266', '598657']\n",
      "['Billy Joel - Uptown Girl', '999450790', '660350']\n",
      "['Niall Horan - This Town', '999186134', '418854']\n",
      "['Red Hot Chili Peppers - Scar Tissue', '998943690', '597809']\n",
      "['My Chemical Romance - Teenagers', '998926643', '486435']\n",
      "['Taylor Swift - Wildest Dreams', '998230194', '284991']\n",
      "[\"Ariana Grande - break up with your girlfriend, i'm bored\", '997301698', '192888']\n",
      "['Ty Dolla $ign - Or Nah', '997247527', '556408']\n",
      "['Lana Del Rey - Video Games', '995153015', '653798']\n",
      "['Rae Sremmurd - Black Beatles', '995146841', '245100']\n",
      "['Empire Of The Sun - Walking On A Dream', '994121126', '635917']\n",
      "['David Guetta - Memories', '994021125', '786992']\n",
      "['Drake - Money In The Grave (Drake ft. Rick Ross)', '993857781', '207334']\n",
      "['BlocBoy JB - Look Alive', '993243275', '88032']\n",
      "['Nicky Youre - Sunroof', '993179302', '948516']\n",
      "['Mark Ronson - Nothing Breaks Like a Heart', '992793587', '557441']\n",
      "['Calvin Harris - Blame', '992589976', '605128']\n",
      "['Sam Smith - How Do You Sleep?', '989582326', '156310']\n",
      "['Zara Larsson - Never Forget You', '988941396', '166129']\n",
      "['G-Eazy - Him & I', '988375389', '388625']\n",
      "['Dua Lipa - Levitating', '987773822', '334828']\n",
      "['Juice WRLD - Come & Go', '987528202', '280311']\n",
      "['Drake - Laugh Now Cry Later', '987321157', '203734']\n",
      "['Lunay - Soltera (Remix)', '987306147', '256866']\n",
      "['Bizarrap - Shakira: Bzrp Music Sessions, Vol. 53', '987148874', '369017']\n",
      "['Becky G - MAMIII', '986609946', '958855']\n",
      "['21 Savage - a lot', '986504542', '347893']\n",
      "['3 Doors Down - Kryptonite', '986129597', '454606']\n",
      "['Khalid - Talk', '985380564', '224167']\n",
      "['Don Toliver - No Idea', '984951623', '538725']\n",
      "['The Weeknd - Die For You', '984347878', '733231']\n",
      "['Y2K - Lalala', '984174496', '130250']\n",
      "['XXXTENTACION - the remedy for a broken heart (why am I so in love)', '982793297', '226988']\n",
      "['Kygo - Higher Love', '982472947', '350008']\n",
      "['Daddy Yankee - Gasolina', '982349215', '891583']\n",
      "['Eminem - Superman', '982106956', '548779']\n",
      "['Taylor Swift - You Need To Calm Down', '982026959', '323081']\n",
      "[\"4 Non Blondes - What's Up?\", '981830175', '581638']\n",
      "['Coldplay - Clocks', '981037822', '607193']\n",
      "[\"Guns N' Roses - November Rain\", '981007959', '456271']\n",
      "['Fleetwood Mac - Everywhere', '980759844', '686945']\n",
      "['Katy Perry - The One That Got Away', '980606993', '662029']\n",
      "['Billie Eilish - i love you', '980114735', '505385']\n",
      "['Black Eyed Peas - RITMO (Bad Boys For Life)', '979282436', '173069']\n",
      "['Surfaces - Sunday Best', '978994383', '254263']\n",
      "['Drake - Fake Love', '978937449', '91551']\n",
      "['Feid - CLASSY 101', '976836606', '844679']\n",
      "['KYLE - iSpy', '975991853', '145987']\n",
      "['Jonas Blue - Mama', '974451768', '148991']\n",
      "['Miley Cyrus - Wrecking Ball', '973567069', '544646']\n",
      "['George Ezra - Shotgun', '972514553', '372967']\n",
      "['Sia - Snowman', '971882602', '281752']\n",
      "['Niall Horan - Slow Hands', '971334463', '245479']\n",
      "['The Weeknd - In Your Eyes', '968753622', '245751']\n",
      "['Bobby Helms - Jingle Bell Rock', '967807036', '96448']\n",
      "['Tove Lo - Habits (Stay High)', '967185289', '466186']\n",
      "['Bad Bunny - La Santa', '966936336', '421662']\n",
      "['Ariana Grande - Love Me Harder', '966785441', '498381']\n",
      "['GROUPLOVE - Tongue Tied', '966392760', '352865']\n",
      "['Sia - Elastic Heart', '965591350', '557214']\n",
      "['Kanye West - POWER', '965063253', '274803']\n",
      "[\"Maroon 5 - Don't Wanna Know\", '964607121', '182907']\n",
      "['David Guetta - Sexy Bitch', '963012174', '485963']\n",
      "['Queen - Crazy Little Thing Called Love', '962973397', '858517']\n",
      "['Metro Boomin - Space Cadet', '962677788', '428929']\n",
      "[\"The Offspring - The Kids Aren't Alright\", '962242047', '524955']\n",
      "['The Weeknd - Pray For Me', '962111975', '401002']\n",
      "['Ed Sheeran - I See Fire', '961159657', '137726']\n",
      "['Maluma - Felices los 4', '958028088', '206960']\n",
      "['Polo G - RAPSTAR', '957907771', '900937']\n",
      "['A Boogie Wit da Hoodie - Drowning', '957581425', '303157']\n",
      "['Luis Fonsi - Échame La Culpa', '957203951', '182752']\n",
      "[\"Simple Minds - Don't You (Forget About Me)\", '956103117', '502626']\n",
      "['TOTO - Hold the Line', '955740502', '1288374']\n",
      "['The Jackson 5 - I Want You Back', '955270274', '317435']\n",
      "['Edward Sharpe & The Magnetic Zeros - Home', '954950640', '383502']\n",
      "['Olivia Rodrigo - jealousy, jealousy', '954940752', '655745']\n",
      "['MEDUZA - Lose Control', '954763670', '332383']\n",
      "['Katy Perry - Hot N Cold', '954337998', '773359']\n",
      "['Bad Bunny - Si Estuviésemos Juntos', '954118535', '476334']\n",
      "['Khalid - Love Lies', '953806941', '151596']\n",
      "[\"Elvis Presley - Can't Help Falling in Love\", '953534151', '665740']\n",
      "['Dua Lipa - Dance The Night', '953338884', '818962']\n",
      "['Tainy - Lo Siento BB:/', '953033836', '382833']\n",
      "['Paulo Londra - Adan y Eva', '951749705', '277988']\n",
      "['Migos - Bad and Boujee', '951568154', '155582']\n",
      "['Hozier - Too Sweet', '951562869', '3011228']\n",
      "['The Kid LAROI - WITHOUT YOU', '951232984', '228081']\n",
      "['Rage Against The Machine - Killing In The Name', '950769761', '452796']\n",
      "['Gesaffelstein - Lost in the Fire', '950698841', '743287']\n",
      "['Juice WRLD - Bandit', '949895311', '224056']\n",
      "['Katy Perry - I Kissed A Girl', '948685937', '570167']\n",
      "['Tracy Chapman - Fast Car', '948416291', '445654']\n",
      "['Blur - Song 2', '948048556', '538327']\n",
      "['Swedish House Mafia - Moth To A Flame', '947493274', '733263']\n",
      "['Maroon 5 - One More Night', '946565124', '652869']\n",
      "['Camila Cabello - Bam Bam', '944262189', '276687']\n",
      "['Pixies - Where Is My Mind?', '943335181', '523516']\n",
      "['Creedence Clearwater Revival - Bad Moon Rising', '942014379', '798659']\n",
      "['Timbaland - The Way I Are', '941897958', '1006190']\n",
      "[\"The Mamas & The Papas - California Dreamin'\", '939711306', '777344']\n",
      "['Toploader - Dancing in the Moonlight', '938730482', '650682']\n",
      "['Elton John - Your Song', '938291140', '600206']\n",
      "['Bruno Mars - It Will Rain (From \"Twilight Breaking Dawn\")', '937496542', '1014064']\n",
      "['Surf Mesa - ily (i love you baby)', '937298915', '220056']\n",
      "['Polo G - Martin & Gina', '936290347', '640015']\n",
      "['Owl City - Fireflies', '935798148', '330199']\n",
      "['Harry Styles - Golden', '935413629', '191055']\n",
      "['Beach Weather - Sex, Drugs, Etc.', '934940797', '1247722']\n",
      "['Franz Ferdinand - Take Me Out', '933868550', '692978']\n",
      "['AURORA - Runaway', '933735277', '497913']\n",
      "['Flo Rida - Wild Ones', '933690663', '461419']\n",
      "['Ariana Grande - Break Free', '933641565', '306428']\n",
      "[\"Oasis - Don't Look Back In Anger\", '933080553', '748459']\n",
      "['Juice WRLD - Wishing Well', '933058290', '310405']\n",
      "['Zion & Lennox - Otra vez', '932679414', '202131']\n",
      "['Icona Pop - I Love It', '932280701', '529477']\n",
      "[\"Mustard - Ballin'\", '931529877', '221208']\n",
      "['Avril Lavigne - Complicated', '930779331', '710896']\n",
      "['Patrick Watson - Je te laisserai des mots', '929908327', '882018']\n",
      "['Galantis - Runaway (U & I)', '929351824', '421434']\n",
      "[\"Linkin Park - What I've Done\", '929281514', '673767']\n",
      "['The Weeknd - Popular', '928809265', '935648']\n",
      "['Macklemore - Glorious', '927327441', '312365']\n",
      "[\"James Blunt - You're Beautiful\", '927089568', '300234']\n",
      "['Taylor Swift - Love Story', '926824958', '287774']\n",
      "['Train - Drops of Jupiter (Tell Me)', '926642734', '712481']\n",
      "['Future - Low Life', '926172114', '484850']\n",
      "['Pink Floyd - Another Brick In The Wall, Pt. 2', '926005987', '388581']\n",
      "[\"Bon Jovi - It's My Life\", '925052118', '591055']\n",
      "['Dhruv - double take', '924708531', '1166126']\n",
      "['Don Omar - Dile', '922873688', '871952']\n",
      "['Queen - Somebody To Love', '922737199', '352964']\n",
      "['James Arthur - Rewrite The Stars', '922274253', '578355']\n",
      "['The Script - Breakeven', '921881217', '688498']\n",
      "['Rachel Platten - Fight Song', '921737177', '295574']\n",
      "['Van Halen - Jump', '921516901', '348641']\n",
      "[\"USHER - DJ Got Us Fallin' in Love\", '919854598', '930105']\n",
      "['Britney Spears - ...Baby One More Time', '918596165', '850563']\n",
      "['Justin Timberlake - SexyBack', '918507271', '631225']\n",
      "['Juice WRLD - Lean Wit Me', '917327212', '367786']\n",
      "['Justin Bieber - Beauty And A Beat', '916849686', '823157']\n",
      "['Shawn Mendes - In My Blood', '915986711', '149268']\n",
      "['Sean Paul - Temperature', '914758043', '860857']\n",
      "['Seafret - Atlantis', '914681516', '790154']\n",
      "['Panic! At The Disco - I Write Sins Not Tragedies', '913359538', '276570']\n",
      "['Artemas - i like the way you kiss me', '912453770', '2435832']\n",
      "['Ryan Riback - Call on Me', '912326907', '132950']\n",
      "['NATTI NATASHA - Criminal', '911862593', '225639']\n",
      "['Doja Cat - Boss Bitch', '910137123', '282590']\n",
      "['Cardi B - Bodak Yellow', '909904864', '150749']\n",
      "['Kings of Leon - Use Somebody', '909313565', '615174']\n",
      "['Tory Lanez - The Color Violet', '909038882', '1130232']\n",
      "['Metallica - Master of Puppets (Remastered)', '908490892', '519306']\n",
      "['Selena Gomez & The Scene - Love You Like A Love Song', '908148224', '613677']\n",
      "['Nelly - Dilemma', '908050912', '488048']\n",
      "['Arctic Monkeys - Fluorescent Adolescent', '907641209', '491749']\n",
      "['Maggie Lindemann - Pretty Girl', '907440828', '68951']\n",
      "['FIFTY FIFTY - Cupid (Twin Ver.)', '906320605', '371444']\n",
      "['One Direction - Perfect', '905513676', '548375']\n",
      "['Nicki Minaj - Super Bass', '904502193', '531353']\n",
      "['Foreigner - I Want to Know What Love Is', '904148760', '578439']\n",
      "['Kenny Loggins - Footloose', '904044300', '386301']\n",
      "['Cyndi Lauper - Time After Time', '903519068', '659567']\n",
      "['Gunna - fukumean', '903386431', '998425']\n",
      "['Camila Cabello - Never Be the Same', '902593201', '336557']\n",
      "[\"Taylor Swift - All Too Well (10 Minute Version) (Taylor's Version) (From The Vault)\", '900680667', '532712']\n",
      "[\"Lauv - i'm so tired...\", '900259549', '128240']\n",
      "['Men At Work - Down Under', '899830768', '843726']\n",
      "['Luke Combs - Beautiful Crazy', '899762004', '758871']\n",
      "['Bad Bunny - Diles', '899731276', '431950']\n",
      "['Sam Hunt - Body Like A Back Road', '899655008', '217203']\n",
      "['Wallows - Are You Bored Yet?', '899434956', '584869']\n",
      "['Jung Kook - Standing Next to You', '897280368', '2281080']\n",
      "['Luke Combs - When It Rains It Pours', '896527498', '909290']\n",
      "[\"Ariana Grande - we can't be friends (wait for your love)\", '896365244', '2485069']\n",
      "['Ne-Yo - So Sick', '896327393', '503122']\n",
      "['Labrinth - Formula', '895993911', '367933']\n",
      "['Taylor Swift - willow', '895109334', '425931']\n",
      "['Ariana Grande - Problem', '893580373', '283816']\n",
      "['Piso 21 - Déjala Que Vuelva', '893469683', '218715']\n",
      "['Katy Perry - California Gurls', '893001745', '782037']\n",
      "['Alicia Keys - No One', '892694626', '379200']\n",
      "['Aaron Smith - Dancin', '892468309', '335776']\n",
      "['Marshmello - Leave Before You Love Me', '892227581', '422003']\n",
      "['KAROL G - BICHOTA', '892201416', '194949']\n",
      "['Nicky Jam - El Perdón', '892188022', '207996']\n",
      "['Galantis - No Money', '892071421', '159336']\n",
      "['Bad Bunny - Safaera', '891025342', '188587']\n",
      "['Cris Mj - Una Noche en Medellín', '890449235', '499957']\n",
      "['Travis Scott - FE!N', '890317128', '2409613']\n",
      "['Billy Joel - Piano Man', '890272167', '381776']\n",
      "['Ozuna - Se Preparó', '890001662', '374132']\n",
      "['Billie Eilish - you should see me in a crown', '889814402', '253074']\n",
      "[\"PinkPantheress - Boy's a liar Pt. 2\", '889334624', '623633']\n",
      "['Sleepy Hallow - 2055', '888580866', '766448']\n",
      "['Enrique Iglesias - Bailando', '888112417', '331911']\n",
      "['Leona Lewis - Bleeding Love', '887179183', '301831']\n",
      "['Jonas Blue - Rise', '887130184', '160687']\n",
      "['Eyedress - Jealous', '887127424', '990097']\n",
      "['CKay - love nwantiti (ah ah ah)', '885938094', '307820']\n",
      "['LP - Lost on You', '885841897', '492651']\n",
      "['Tiësto - Jackie Chan', '885583892', '142638']\n",
      "['Mr.Kitty - After Dark', '885381768', '412144']\n",
      "['PARTYNEXTDOOR - Break from Toronto', '885104889', '686587']\n",
      "['Chord Overstreet - Hold On', '884609537', '325012']\n",
      "['Taylor Swift - ME!', '884543285', '182419']\n",
      "['Queen - Killer Queen', '883049433', '441285']\n",
      "['Rick Astley - Never Gonna Give You Up', '882281482', '524904']\n",
      "[\"Destiny's Child - Say My Name\", '882219006', '675183']\n",
      "['Polo G - Pop Out', '881945463', '207697']\n",
      "['Neon Trees - Everybody Talks', '881374639', '342276']\n",
      "['Sixpence None The Richer - Kiss Me', '878853269', '875975']\n",
      "['Taylor Swift - I Knew You Were Trouble.', '878438382', '313209']\n",
      "['Yandel - Yandel 150', '878391754', '329587']\n",
      "['Soft Cell - Tainted Love', '877558823', '608145']\n",
      "['Frank Ocean - Ivy', '877539295', '820935']\n",
      "['Boston - More Than a Feeling', '877490240', '405793']\n",
      "['BANNERS - Someone To You', '877336570', '358569']\n",
      "['Conan Gray - Maniac', '876500641', '306905']\n",
      "['Future - WAIT FOR U', '876174444', '910368']\n",
      "['Demi Lovato - Heart Attack', '876147023', '508215']\n",
      "['Two Door Cinema Club - What You Know', '874863479', '436957']\n",
      "['Playboi Carti - Magnolia', '874612977', '376578']\n",
      "['Robin Thicke - Blurred Lines', '874573947', '243880']\n",
      "['alt-J - Breezeblocks', '873919494', '343211']\n",
      "['New West - Those Eyes', '873847424', '815103']\n",
      "[\"Jason Mraz - I Won't Give Up\", '872227977', '300519']\n",
      "['Doja Cat - You Right', '872196060', '339578']\n",
      "['Bad Bunny - Neverita', '871641710', '286769']\n",
      "['Rihanna - Bitch Better Have My Money', '871621001', '206969']\n",
      "[\"Kid Cudi - Day 'N' Nite\", '871387550', '353965']\n",
      "['Lizzo - About Damn Time', '870447180', '213011']\n",
      "['Post Malone - I Like You (A Happier Song)', '869590805', '332685']\n",
      "['Rob $tone - Chill Bill', '868699124', '209994']\n",
      "['Shakira - Waka Waka (This Time for Africa) [The Official 2010 FIFA World Cup (TM) Song]', '868608454', '315154']\n",
      "['One Direction - Steal My Girl', '868319323', '414314']\n",
      "['Sam Smith - Like I Can', '866489102', '239694']\n",
      "['Jack Johnson - Better Together', '865639880', '416960']\n",
      "['Charlie Puth - One Call Away', '865424254', '349668']\n",
      "['Drake - Fair Trade', '865105762', '407291']\n",
      "['Childish Gambino - 3005', '864513921', '377883']\n",
      "['The Killers - Somebody Told Me', '863924258', '640470']\n",
      "['Morgan Wallen - Whiskey Glasses', '863884331', '487775']\n",
      "['David Guetta - Hey Mama', '862253765', '205625']\n",
      "['RAYE - Escapism.', '861948567', '577933']\n",
      "['Flume - Never Be Like You', '861611942', '320429']\n",
      "['DRAM - Broccoli', '861439045', '142078']\n",
      "['Tiësto - The Motto', '860708603', '481732']\n",
      "['Feid - LUNA', '859239638', '1972447']\n",
      "['Green Day - Boulevard of Broken Dreams', '859071054', '482537']\n",
      "['Ruth B. - Lost Boy', '858578515', '185683']\n",
      "['Anuel AA - Amanece', '857892138', '651284']\n",
      "['Melanie Martinez - Play Date', '857582279', '251003']\n",
      "['Dr. Dre - Forgot About Dre', '855954132', '391057']\n",
      "['Paramore - Misery Business', '854045001', '470850']\n",
      "['BLACKPINK - Kill This Love', '853098489', '308241']\n",
      "['Bruno Mars - Versace on the Floor', '852552609', '630966']\n",
      "['Baby Keem - family ties', '852500807', '476968']\n",
      "['The Wanted - Glad You Came', '851536306', '375251']\n",
      "['Lady Gaga - Million Reasons', '851035035', '249226']\n",
      "['Sebastian Yatra - Pareja Del Año', '850109054', '328702']\n",
      "['SZA - Love Galore', '849970255', '418156']\n",
      "['Kenya Grace - Strangers', '849906873', '773377']\n",
      "['Maluma - Borro Cassette', '849814480', '1030262']\n",
      "['J Balvin - Un Día (One Day)', '849425276', '205623']\n",
      "['Jack Harlow - First Class', '848730768', '213153']\n",
      "['Becky G - Shower', '848668770', '308233']\n",
      "['Eminem - River', '848305605', '141114']\n",
      "['Flo Rida - Whistle', '848022161', '321712']\n",
      "[\"Andy Williams - It's the Most Wonderful Time of the Year\", '847630294', '67605']\n",
      "[\"Elvis Presley - Can't Help Falling in Love\", '846573905', '497676']\n",
      "['Jeremy Zucker - comethru', '846561065', '215668']\n",
      "['Haddaway - What Is Love', '846390903', '657459']\n",
      "[\"Kid Cudi - Day 'N' Nite\", '846085321', '318493']\n",
      "['Ariana Grande - boyfriend', '845477552', '371701']\n",
      "['Drake - Rich Flex', '845001114', '257139']\n",
      "['Taylor Swift - Enchanted', '844849233', '338700']\n",
      "['Bad Bunny - Si Veo a Tu Mamá', '844447340', '230560']\n",
      "['Justin Bieber - Lonely', '844173903', '262737']\n",
      "['Birdy - Skinny Love', '843820580', '258062']\n",
      "['Taylor Swift - Love Story (Taylor’s Version)', '843376080', '639887']\n",
      "['DJ Snake - Loco Contigo', '843107454', '207586']\n",
      "['James Arthur - Train Wreck', '842508212', '410505']\n",
      "['ACRAZE - Do It To It', '841996858', '311772']\n",
      "['Meghan Trainor - All About That Bass', '841928050', '311024']\n",
      "['Lil Wayne - Love Me', '841359943', '774747']\n",
      "['J Balvin - QUE PRETENDES', '841199300', '290809']\n",
      "['Demi Lovato - Cool for the Summer', '840416823', '325331']\n",
      "['MGMT - Kids', '839044728', '387098']\n",
      "['Ozuna - Vaina Loca', '839024336', '166256']\n",
      "['Britney Spears - Oops!...I Did It Again', '838658513', '641062']\n",
      "['Jack Harlow - WHATS POPPIN', '838344067', '169488']\n",
      "['DaBaby - BOP', '838140955', '168704']\n",
      "['Petit Biscuit - Sunset Lover', '837105847', '162630']\n",
      "['ABBA - Gimme! Gimme! Gimme! (A Man After Midnight)', '836925669', '624589']\n",
      "['Lorde - Team', '836046297', '265780']\n",
      "['Gorillaz - Clint Eastwood', '835989836', '382834']\n",
      "['J Balvin - Qué Más Pues?', '835760065', '241585']\n",
      "['Benson Boone - In The Stars', '835413720', '1143993']\n",
      "['Fifth Harmony - Worth It', '835123288', '203240']\n",
      "['Billie Eilish - Therefore I Am', '834706306', '251547']\n",
      "['Taylor Swift - Karma', '833979894', '401398']\n",
      "['David Guetta - 2U', '833732028', '92397']\n",
      "['BTS - FAKE LOVE', '833460330', '283379']\n",
      "['The Weeknd - Party Monster', '833348350', '328024']\n",
      "['Bad Bunny - PERRO NEGRO', '833306815', '1117449']\n",
      "[\"A$AP Rocky - F**kin' Problems\", '833289887', '229898']\n",
      "['AWOLNATION - Sail', '833237530', '189906']\n",
      "['Keala Settle - This Is Me', '833137647', '206795']\n",
      "[\"Otis Redding - (Sittin' On) the Dock of the Bay\", '832968798', '540125']\n",
      "[\"Elton John - Don't Go Breaking My Heart\", '831918317', '579755']\n",
      "[\"Fall Out Boy - Sugar, We're Goin Down\", '831832693', '321683']\n",
      "['Deorro - Five More Hours', '831768460', '240674']\n",
      "['Drake - Jumpman', '831162718', '90081']\n",
      "['Drake - Controlla', '830918602', '129492']\n",
      "['Beyoncé - CUFF IT', '830213353', '321729']\n",
      "['Blackstreet - No Diggity', '830169562', '366742']\n",
      "['Katy Perry - Teenage Dream', '829780877', '771287']\n",
      "['blink-182 - I Miss You', '828838289', '474210']\n",
      "['Miley Cyrus - Malibu', '828173957', '137418']\n",
      "['A Boogie Wit da Hoodie - Swervin', '827875124', '95068']\n",
      "['Fetty Wap - 679', '827863107', '186666']\n",
      "['Paramore - Still into You', '826589472', '434094']\n",
      "['V - Love Me Again', '826038820', '1938939']\n",
      "['Lewis Capaldi - Hold Me While You Wait', '825348032', '307930']\n",
      "['Olivia Rodrigo - All I Want', '823896543', '455847']\n",
      "['Bruce Springsteen - Dancing In the Dark', '822869291', '938616']\n",
      "['Taylor Swift - The Man', '822293716', '459426']\n",
      "['USHER - My Boo', '822006071', '700610']\n",
      "['Weezer - Island In The Sun', '821469849', '434772']\n",
      "['Kid Cudi - Pursuit Of Happiness (Nightmare)', '820896063', '314484']\n",
      "['Tommy Richman - MILLION DOLLAR BABY', '820849602', '2820589']\n",
      "['Vanessa Carlton - A Thousand Miles', '820651438', '361372']\n",
      "['Drake - Wants and Needs', '820351946', '221643']\n",
      "['James Arthur - Impossible', '820344107', '334055']\n",
      "['The 1975 - Somebody Else', '819976425', '296633']\n",
      "['B.o.B - Airplanes', '819600934', '260864']\n",
      "['TV Girl - Not Allowed', '819167354', '1088218']\n",
      "['Sean Kingston - Beautiful Girls', '819109248', '385709']\n",
      "['Quevedo - Columbia', '819091529', '866653']\n",
      "['Foo Fighters - The Pretender', '818746988', '354445']\n",
      "['Ashe - Moral of the Story', '818172650', '542598']\n",
      "['Eminem - Venom', '817156742', '217919']\n",
      "['Bruno Mars - Finesse', '816698144', '208209']\n",
      "['Sublime - Santeria', '816642350', '426822']\n",
      "['Bonnie Tyler - Total Eclipse of the Heart', '816487900', '601402']\n",
      "['Ellie Goulding - Burn', '816198869', '354266']\n",
      "['Bob Marley & The Wailers - Is This Love', '815795734', '459181']\n",
      "['Miley Cyrus - Prisoner', '815718783', '192505']\n",
      "['Adele - Love In The Dark', '815678101', '898079']\n",
      "['Disturbed - The Sound of Silence', '814989467', '418914']\n",
      "['Mitski - Washing Machine Heart', '814496723', '713954']\n",
      "['Romeo Santos - Propuesta Indecente', '813772198', '825235']\n",
      "['Pop Smoke - Mood Swings', '813656830', '573283']\n",
      "['X Ambassadors - Renegades', '813027460', '291409']\n",
      "['Aventura - Volví', '812466483', '317184']\n",
      "['P!nk - What About Us', '812091073', '233432']\n",
      "['Tyla - Water', '810437179', '1442997']\n",
      "['Juice WRLD - Armed And Dangerous', '810088479', '228789']\n",
      "['THE SCOTTS - THE SCOTTS', '809906140', '164185']\n",
      "['MGMT - Electric Feel', '809826784', '620957']\n",
      "['Mike Perry - The Ocean', '809821182', '85816']\n",
      "['My Chemical Romance - Welcome to the Black Parade', '809423486', '340672']\n",
      "['Lana Del Rey - West Coast', '809152282', '911937']\n",
      "['50 Cent - P.I.M.P.', '807704031', '457881']\n",
      "['Wisin - Escápate Conmigo', '807489063', '150360']\n",
      "['Ed Sheeran - Perfect Duet (Ed Sheeran & Beyoncé)', '806838459', '79674']\n",
      "['Billie Eilish - wish you were gay', '806529038', '173061']\n",
      "['Bad Bunny - A Tu Merced', '806176090', '199676']\n",
      "['Justin Bieber - Yummy', '805959404', '124651']\n",
      "['Taylor Swift - exile', '805750194', '471832']\n",
      "['Three Days Grace - I Hate Everything About You', '805391677', '608897']\n",
      "['Anuel AA - Ella Quiere Beber', '804798200', '209412']\n",
      "['Lil Tjay - Calling My Phone', '804728968', '278763']\n",
      "['Sabrina Carpenter - Please Please Please', '804408292', '4525181']\n",
      "['A Boogie Wit da Hoodie - Look Back at It', '803934628', '415426']\n",
      "['The Game - Hate It Or Love It', '803769481', '412141']\n",
      "['Zach Bryan - I Remember Everything', '803241813', '1489626']\n",
      "['will.i.am - Scream & Shout', '802953468', '342548']\n",
      "['Justin Bieber - Holy', '802825752', '137115']\n",
      "['OneRepublic - Apologize', '802481794', '242646']\n",
      "['The Cranberries - Linger', '801676407', '1338621']\n",
      "['Natalie Imbruglia - Torn', '801531299', '697644']\n",
      "[\"Big Sean - I Don't Fuck With You\", '801330812', '236390']\n",
      "[\"The Proclaimers - I'm Gonna Be (500 Miles)\", '801122916', '463110']\n",
      "['Hippie Sabotage - Devil Eyes', '801065632', '274074']\n",
      "['Slipknot - Duality', '800678974', '515239']\n",
      "['Becky G - Sin Pijama', '800236891', '133088']\n",
      "['Adele - Skyfall', '800154458', '1373223']\n",
      "['Feid - Normal', '799826659', '641633']\n",
      "['Shawn Mendes - Lost In Japan', '799158989', '126136']\n",
      "['Paloma Faith - Only Love Can Hurt Like This', '798989720', '352241']\n",
      "['Chief Keef - Love Sosa', '798036680', '415372']\n",
      "['2Pac - California Love', '796540277', '528044']\n",
      "['Rihanna - Pon de Replay', '796435979', '449667']\n",
      "['Mora - LA INOCENTE', '795692176', '538217']\n",
      "['Katrina & The Waves - Walking On Sunshine', '794929320', '391161']\n",
      "['Drake - Chicago Freestyle', '794860722', '311289']\n",
      "['Counting Crows - Mr. Jones', '794529086', '499974']\n",
      "['Migos - Walk It Talk It', '793730932', '158052']\n",
      "['Alok - Hear Me Now', '793161167', '224249']\n",
      "['Idina Menzel - Let It Go', '792855212', '389543']\n",
      "['Travis Scott - Goosebumps', '792357980', '187912']\n",
      "['Estelle - American Boy', '792008403', '374695']\n",
      "['6ix9ine - FEFE', '791806418', '127132']\n",
      "['Taylor Swift - ...Ready For It?', '790294569', '470001']\n",
      "['Disturbed - Down with the Sickness', '790082435', '449257']\n",
      "[\"Taylor Swift - Wildest Dreams (Taylor's Version)\", '789906684', '441442']\n",
      "['CJ - Whoopty', '789869286', '191775']\n",
      "['Lil Peep - Save That Shit', '789425097', '249958']\n",
      "['Bee Gees - How Deep Is Your Love', '788710222', '418324']\n",
      "['Kendrick Lamar - Not Like Us', '788382981', '2404319']\n",
      "['ROSALÍA - Con Altura', '788068472', '211870']\n",
      "['Morgan Wallen - Wasted On You', '787308742', '522894']\n",
      "['Elton John - Tiny Dancer', '787090087', '346836']\n",
      "['Charlie Puth - Marvin Gaye', '787044115', '175105']\n",
      "['Ellie Goulding - Hate Me', '786280005', '283383']\n",
      "['Kendrick Lamar - Swimming Pools (Drank)', '786211004', '453115']\n",
      "['Kendrick Lamar - PRIDE.', '786150101', '809479']\n",
      "['Frank Ocean - Chanel', '785166203', '329799']\n",
      "['Mac Miller - The Spins', '785054142', '878500']\n",
      "['Bad Bunny - Tarot', '784757889', '303336']\n",
      "['James Arthur - Can I Be Him', '784576125', '372247']\n",
      "['Kali Uchis - Moonlight', '784566131', '771246']\n",
      "['Kansas - Dust in the Wind', '783794478', '354826']\n",
      "['Fitz and The Tantrums - Out of My League', '783663477', '590158']\n",
      "['Martin Jensen - Solo Dance', '783063792', '92127']\n",
      "['Paulo Londra - Tal Vez', '783042405', '295859']\n",
      "['Kelly Clarkson - Since U Been Gone', '782640110', '565218']\n",
      "['KAROL G - AMARGURA', '782570498', '1252527']\n",
      "['The Police - Roxanne', '782514406', '485886']\n",
      "['TINI - Miénteme', '782316644', '577164']\n",
      "['Scorpions - Wind Of Change', '781920493', '915003']\n",
      "['Ed Sheeran - South of the Border', '781701908', '134025']\n",
      "['Rihanna - Take A Bow', '781155728', '250915']\n",
      "['Mac DeMarco - Chamber Of Reflection', '781154682', '581185']\n",
      "['Anuel AA - Secreto', '780946093', '206099']\n",
      "['Led Zeppelin - Immigrant Song', '780186647', '313179']\n",
      "['BLACKPINK - Pink Venom', '779084730', '372163']\n",
      "['Avicii - SOS', '778881366', '161712']\n",
      "['Green Day - Wake Me up When September Ends', '778680553', '454525']\n",
      "['Metro Boomin - Superhero (Heroes & Villains) [with Future & Chris Brown]', '778136450', '696347']\n",
      "['Micro TDH - Te vi', '777407874', '243163']\n",
      "[\"blink-182 - What's My Age Again?\", '777374464', '463043']\n",
      "['Drake - Teenage Fever', '776781867', '391134']\n",
      "['Kanye West - Runaway', '775544439', '590270']\n",
      "['Clairo - Sofia', '775083518', '386689']\n",
      "['Mau y Ricky - Desconocidos', '774894828', '251211']\n",
      "['Metro Boomin - Too Many Nights', '774132260', '825898']\n",
      "[\"Ed Sheeran - Don't\", '773893174', '136338']\n",
      "['M.I.A. - Paper Planes', '773767286', '300178']\n",
      "['Grupo Frontera - QUE VUELVAS', '773690152', '1036659']\n",
      "['Nirvana - Heart-Shaped Box', '773658399', '599558']\n",
      "['The Notorious B.I.G. - Juicy', '773020554', '361870']\n",
      "['John Newman - Love Me Again', '772812635', '386886']\n",
      "['Kanye West - I Wonder', '772800068', '550259']\n",
      "['Lukas Graham - Love Someone', '772734236', '156977']\n",
      "['Meghan Trainor - Made You Look', '772536414', '621746']\n",
      "['Red Hot Chili Peppers - Dani California', '772115420', '329371']\n",
      "['2Pac - Ambitionz Az A Ridah', '771683023', '278551']\n",
      "['Panic! At The Disco - House of Memories', '771498512', '364249']\n",
      "['Aminé - Caroline', '771289906', '111123']\n",
      "['Little Mix - Shout Out to My Ex', '771028362', '142791']\n",
      "['Justin Bieber - Mistletoe', '770970642', '76233']\n",
      "['The Beatles - Come Together', '770072203', '319304']\n",
      "['Justin Bieber - Hold On', '770061282', '154391']\n",
      "['Darius Rucker - Wagon Wheel', '769334694', '464178']\n",
      "['Dave - Sprinter', '768873374', '637133']\n",
      "['Olivia Rodrigo - All I Want', '768847035', '487824']\n",
      "[\"No Doubt - Don't Speak\", '768533020', '538807']\n",
      "['Fall Out Boy - Thnks fr th Mmrs', '767753249', '439617']\n",
      "['Sub Urban - Cradles', '767038114', '320188']\n",
      "[\"The Cure - Friday I'm In Love\", '766826698', '373092']\n",
      "['Julia Michaels - What A Time', '766352192', '261849']\n",
      "['*NSYNC - Bye Bye Bye', '766218771', '2538110']\n",
      "['Chase Atlantic - Swim', '766062981', '618204']\n",
      "['Alan Walker - Alone', '765672148', '257562']\n",
      "['Don McLean - American Pie', '765628926', '343817']\n",
      "['Travis Scott - STARGAZING', '765480499', '211188']\n",
      "['Daryl Hall & John Oates - Rich Girl', '765446604', '1027752']\n",
      "[\"Felix Jaehn - Ain't Nobody (Loves Me Better)\", '765316503', '255225']\n",
      "['Kendrick Lamar - m.A.A.d city', '764910916', '233750']\n",
      "['StaySolidRocky - Party Girl', '764808537', '356979']\n",
      "['Calle 24 - Que Onda', '763342957', '1176426']\n",
      "['Radiohead - No Surprises', '762950566', '733445']\n",
      "['Linkin Park - One Step Closer', '762659948', '1039602']\n",
      "['Bad Bunny - WHERE SHE GOES', '762602390', '335228']\n",
      "['Rixton - Me And My Broken Heart', '761833056', '223698']\n",
      "['Pinkfong - Baby Shark', '761754036', '448740']\n",
      "['Drake - Knife Talk', '761725370', '240809']\n",
      "['Jack Harlow - Lovin On Me', '761713101', '670794']\n",
      "[\"Guns N' Roses - Knockin' On Heaven's Door\", '761481699', '426952']\n",
      "['Playboi Carti - Sky', '761402653', '514311']\n",
      "[\"The Cure - Boys Don't Cry\", '761013828', '431006']\n",
      "['Bad Bunny - Yo Perreo Sola', '760923231', '124760']\n",
      "[\"The Rolling Stones - (I Can't Get No) Satisfaction\", '760624652', '409824']\n",
      "['Labrinth - Jealous', '759844292', '149361']\n",
      "['Xavi - La Diabla', '759195952', '851446']\n",
      "['Khalid - Saturday Nights', '759187307', '172389']\n",
      "['CNCO - Reggaetón Lento (Bailemos)', '759012612', '294245']\n",
      "['Maroon 5 - Beautiful Mistakes', '758764204', '285040']\n",
      "['Kendrick Lamar - Bitch, Don’t Kill My Vibe', '758553789', '299971']\n",
      "['Bazzi - Beautiful', '758429352', '151264']\n",
      "['Mumford & Sons - Little Lion Man', '758427114', '285004']\n",
      "['Jack Harlow - Whats Poppin', '757696478', '121155']\n",
      "['Black Eyed Peas - Pump It', '755746429', '511979']\n",
      "['Linkin Park - Faint', '755534689', '1178935']\n",
      "[\"U2 - I Still Haven't Found What I'm Looking For\", '755395721', '346919']\n",
      "['LMFAO - Party Rock Anthem', '754909600', '406635']\n",
      "['Nelly Furtado - Maneater', '754754103', '795899']\n",
      "['Kendrick Lamar - Alright', '754655226', '445338']\n",
      "['Lil Tjay - F.N', '754521936', '226976']\n",
      "['Frank Ocean - Nights', '754475740', '403828']\n",
      "['Bad Bunny - Party', '754211871', '230593']\n",
      "['Train - Drive By', '753781089', '637014']\n",
      "[\"DMX - X Gon' Give It To Ya\", '753445918', '223901']\n",
      "['ATB - Your Love (9PM)', '752785354', '316599']\n",
      "['Peso Pluma - LADY GAGA', '752558467', '609742']\n",
      "['Lady Gaga - Telephone', '752429194', '447090']\n",
      "['Lil Nas X - Panini', '751989777', '94258']\n",
      "['James Bay - Hold Back The River', '751886163', '236716']\n",
      "['Bill Withers - Lovely Day', '751707309', '879677']\n",
      "[\"Alessia Cara - How Far I'll Go\", '751587335', '103714']\n",
      "['Neil Diamond - Sweet Caroline', '751562823', '384428']\n",
      "['Pink Floyd - Wish You Were Here', '751440979', '326870']\n",
      "['Luke Combs - Hurricane', '751357973', '282535']\n",
      "['Michael Jackson - Smooth Criminal', '751080685', '401506']\n",
      "['Corinne Bailey Rae - Put Your Records On', '750885739', '841795']\n",
      "['Taylor Swift - Lavender Haze', '750463859', '310522']\n",
      "['Sia - Cheap Thrills', '750321259', '374355']\n",
      "['Rise Against - Savior', '750301132', '444047']\n",
      "['Lil Baby - Freestyle', '749677508', '403196']\n",
      "['Shaboozey - A Bar Song (Tipsy)', '749292375', '3516596']\n",
      "['Luis Miguel - Ahora Te Puedes Marchar', '749282932', '442898']\n",
      "['Green Day - Good Riddance (Time of Your Life)', '749162642', '781342']\n",
      "['BENEE - Supalonely', '748682373', '91142']\n",
      "['Jay Sean - Down', '747533943', '438514']\n",
      "['Arcángel - La Jumpa', '747387626', '297345']\n",
      "['A$AP Ferg - Plain Jane', '747300315', '119196']\n",
      "['Alex & Sierra - Little Do You Know', '747126155', '155763']\n",
      "[\"Imagine Dragons - It's Time\", '746819739', '245833']\n",
      "['Rae Sremmurd - This Could Be Us', '746754241', '253213']\n",
      "[\"Cage The Elephant - Ain't No Rest For The Wicked\", '746399090', '470264']\n",
      "['Jason Derulo - Talk Dirty', '745878968', '398305']\n",
      "['Kesha - Die Young', '745458776', '360307']\n",
      "['AC/DC - T.N.T.', '745298385', '413357']\n",
      "['Skillet - Monster', '745103952', '442219']\n",
      "['MEDUZA - Paradise', '744966952', '144262']\n",
      "['iñigo quintero - Si No Estás', '744571461', '737257']\n",
      "['Øneheart - snowfall', '744371488', '898408']\n",
      "['Queen - We Are The Champions', '744059197', '315288']\n",
      "['Lana Del Rey - Born To Die', '743962373', '587951']\n",
      "['Young Thug - The London', '743956860', '171464']\n",
      "['Mustard - Pure Water', '743945301', '182376']\n",
      "['Young Thug - pick up the phone', '743934323', '188064']\n",
      "['Rascal Flatts - Life is a Highway', '743850755', '391867']\n",
      "[\"Tom Petty - Free Fallin'\", '743558389', '315638']\n",
      "['Phil Collins - In the Air Tonight', '743269443', '479914']\n",
      "['Jon Bellion - All Time Low', '743164062', '109705']\n",
      "['BTS - Life Goes On', '742545085', '213017']\n",
      "['Iggy Azalea - Fancy', '742416204', '226615']\n",
      "['Bad Bunny - TE MUDASTE', '741247349', '181042']\n",
      "['Fort Minor - Remember the Name', '741158305', '281350']\n",
      "['Rihanna - Disturbia', '740883396', '418257']\n",
      "['Shakira - Te Felicito', '740741588', '196999']\n",
      "['Pitbull - Feel This Moment', '740711165', '522035']\n",
      "['Tainy - Adicto', '740423261', '310718']\n",
      "['Ed Sheeran - Supermarket Flowers', '740285205', '188466']\n",
      "['Fugees - Killing Me Softly With His Song', '739798515', '382261']\n",
      "['Lil Mosey - Noticed', '739469850', '135825']\n",
      "['Maluma - 11 PM', '739322475', '289587']\n",
      "['Britney Spears - Gimme More', '738907557', '889746']\n",
      "['Zac Brown Band - Chicken Fried', '738609510', '631955']\n",
      "['Lost Frequencies - Reality', '738555508', '374751']\n",
      "['Jason Mraz - Lucky', '738418148', '195529']\n",
      "['JACKBOYS - OUT WEST', '738158272', '242239']\n",
      "['Fleetwood Mac - Landslide', '737920286', '397256']\n",
      "['JHAYCO - CÓMO SE SIENTE', '737746182', '336177']\n",
      "['Los Enanitos Verdes - Lamento Boliviano', '737651411', '436736']\n",
      "['Junior H - El Azul', '737364729', '548798']\n",
      "['Taylor Swift - You Belong With Me (Taylor’s Version)', '736499138', '631359']\n",
      "['Bad Bunny - La Difícil', '736402126', '135851']\n",
      "['Rihanna - Where Have You Been', '736174030', '307232']\n",
      "['Flo Rida - GDFR', '735687150', '156676']\n",
      "['Morgan Wallen - You Proof', '734979690', '638711']\n",
      "['Dalex - Hola', '734138942', '285324']\n",
      "['The Weeknd - Is There Someone Else?', '733994572', '624951']\n",
      "['Manu Chao - Me Gustas Tu', '733455927', '610833']\n",
      "['Whitney Houston - I Will Always Love You', '733149409', '540475']\n",
      "['Dalex - Pa Mí', '732801469', '152910']\n",
      "['Jimi Hendrix - All Along the Watchtower', '732678387', '225751']\n",
      "['Jason Derulo - Take You Dancing', '732036608', '166938']\n",
      "['Central Cee - Doja', '731319461', '424024']\n",
      "['Taylor Swift - ME!', '730859004', '320741']\n",
      "['Soundgarden - Black Hole Sun', '730509839', '431959']\n",
      "['Don Toliver - After Party', '730456741', '303244']\n",
      "['Yot Club - YKWIM?', '730320461', '545614']\n",
      "['Tame Impala - Borderline', '730303483', '565171']\n",
      "[\"The Script - The Man Who Can't Be Moved\", '730269013', '863117']\n",
      "['Sam Smith - Fire On Fire', '730163008', '355476']\n",
      "['Kanye West - Homecoming', '729719222', '470451']\n",
      "['Imagine Dragons - Warriors', '729517746', '219209']\n",
      "['Mora - Volando', '729232824', '235420']\n",
      "[\"Lana Del Rey - Doin' Time\", '729171001', '415362']\n",
      "['Lana Del Rey - Brooklyn Baby', '728973058', '710321']\n",
      "['Becky G - Mayores', '728470812', '190855']\n",
      "['Rauw Alejandro - LOKERA', '728295564', '871248']\n",
      "['P!nk - Raise Your Glass', '727525933', '473915']\n",
      "['Maroon 5 - Cold', '726910754', '217483']\n",
      "['Mac DeMarco - My Kind of Woman', '726707098', '626730']\n",
      "['Enrique Iglesias - SUBEME LA RADIO', '726522165', '174203']\n",
      "['Joji - YEAH RIGHT', '726297779', '169519']\n",
      "['Eminem - Lucky You', '726048786', '114067']\n",
      "['Far East Movement - Like A G6', '725983366', '361763']\n",
      "['Reik - Me Niego', '725868933', '309229']\n",
      "['DJ Khaled - POPSTAR', '725773571', '99764']\n",
      "['America - A Horse with No Name', '725480186', '620174']\n",
      "['Camila Cabello - My Oh My', '724985156', '207597']\n",
      "['NewJeans - OMG', '724605451', '447687']\n",
      "['Khalid - 8TEEN', '724334012', '165646']\n",
      "['Richy Mitch & The Coal Miners - Evergreen', '724141656', '1711016']\n",
      "['Dire Straits - Walk of Life', '723555339', '430260']\n",
      "['5 Seconds of Summer - She Looks So Perfect', '723301027', '264010']\n",
      "['Carlos Vives - La Bicicleta', '722840398', '251235']\n",
      "['The Beatles - Let It Be', '722807250', '365290']\n",
      "['Anitta - Downtown', '722804946', '526514']\n",
      "['BLACKPINK - DDU-DU DDU-DU', '722580604', '189418']\n",
      "['Mumford & Sons - I Will Wait', '722457914', '246000']\n",
      "['5 Seconds of Summer - Teeth', '721251716', '394359']\n",
      "['Chris Brown - Go Crazy', '720732947', '188223']\n",
      "['zzoilo - Mon Amour', '720665392', '289674']\n",
      "['John Mayer - New Light', '720617089', '184073']\n",
      "['Manuel Turizo - Una Lady Como Tú', '719924871', '193917']\n",
      "['21 Savage - Runnin', '719843417', '670047']\n",
      "['P!nk - Try', '719699362', '567375']\n",
      "['Anuel AA - Sola (Remix)', '718909238', '275967']\n",
      "['Stealers Wheel - Stuck In The Middle With You', '718747872', '396259']\n",
      "['Russ - Losin Control', '718507132', '160322']\n",
      "['Coldplay - Magic', '718327006', '147166']\n",
      "['BoyWithUke - Toxic', '718150580', '272423']\n",
      "['Myke Towers - Bandido', '717795845', '158827']\n",
      "['Big Sean - Bounce Back', '717655173', '59552']\n",
      "['Natanael Cano - AMG', '717495903', '580525']\n",
      "['Metro Boomin - Trance', '716852908', '826511']\n",
      "['Selena Gomez - Good For You', '716355812', '242784']\n",
      "['Baby Keem - ORANGE SODA', '716288854', '356991']\n",
      "['A$AP Rocky - Everyday', '716212544', '340927']\n",
      "[\"Tiësto - Don't Be Shy\", '716130360', '316907']\n",
      "['Kordhell - MURDER IN MY MIND', '715423779', '428062']\n",
      "['Marc Seguí - Tiroteo', '714742369', '503308']\n",
      "['Kanye West - I Love It (& Lil Pump)', '714636597', '98538']\n",
      "['Travis Scott - Antidote', '714493982', '179161']\n",
      "['Kanye West - All Of The Lights', '714470651', '322977']\n",
      "['cassö - Prada', '714470342', '791655']\n",
      "['blackbear - idfc', '714365114', '107457']\n",
      "['Audioslave - Like A Stone', '714321201', '437976']\n",
      "['Alesso - Heroes (we could be)', '714315531', '158925']\n",
      "['SZA - Broken Clocks', '714154726', '756540']\n",
      "['Cigarettes After Sex - K.', '713871830', '809560']\n",
      "['Stromae - Alors on danse', '713635473', '385903']\n",
      "['The Calling - Wherever You Will Go', '713423958', '339877']\n",
      "['Ne-Yo - Miss Independent', '712888064', '431598']\n",
      "['Playboi Carti - Shoota', '712700628', '246596']\n",
      "['Limp Bizkit - Break Stuff', '712617040', '826751']\n",
      "['$uicideboy$ - ...And to Those I Love, Thanks for Sticking Around', '712441492', '372889']\n",
      "['Mac Miller - Self Care', '712237878', '243954']\n",
      "['Carin Leon - Primera Cita', '711298367', '1186448']\n",
      "['Blue Swede - Hooked On A Feeling', '711233130', '381587']\n",
      "['Chase Atlantic - Friends', '711194370', '638365']\n",
      "['La Oreja de Van Gogh - Rosas', '710947510', '1047610']\n",
      "['Alan Walker - On My Way', '710660739', '319568']\n",
      "['Dolly Parton - Jolene', '710632601', '486322']\n",
      "['Lana Del Rey - Summertime Sadness (Lana Del Rey Vs. Cedric Gervais)', '710474939', '213848']\n",
      "['Depeche Mode - Enjoy the Silence', '709796115', '462480']\n",
      "['Kelly Clarkson - Because of You', '709684719', '205524']\n",
      "['Kodak Black - Roll in Peace', '708880777', '171395']\n",
      "['Flo Rida - Good Feeling', '708029325', '398552']\n",
      "['Lana Del Rey - Young And Beautiful [Lana Del Rey vs. Cedric Gervais]', '707938230', '268313']\n",
      "['Daryl Hall & John Oates - Maneater', '707330861', '460576']\n",
      "['Troye Sivan - Strawberries & Cigarettes', '707298055', '309443']\n",
      "['Avicii - Lonely Together', '707234799', '141298']\n",
      "['Justin Bieber - Anyone', '706707193', '140895']\n",
      "['Taylor Swift - Getaway Car', '706640175', '327976']\n",
      "['Lil Uzi Vert - Just Wanna Rock', '706064376', '321109']\n",
      "['Chappell Roan - Good Luck, Babe!', '706042525', '5123739']\n",
      "['Kendrick Lamar - LOYALTY. FEAT. RIHANNA.', '705940121', '315261']\n",
      "['Alphaville - Forever Young', '705300874', '1804908']\n",
      "['Natalia Lafourcade - Hasta la Raíz', '705178774', '592348']\n",
      "['fun. - Some Nights', '705031522', '237021']\n",
      "['Ozzy Osbourne - Crazy Train', '704699081', '337151']\n",
      "['Soulja Boy - Kiss Me Thru The Phone', '704639447', '365887']\n",
      "['Ed Sheeran - Dive', '704541621', '184949']\n",
      "['50 Cent - 21 Questions', '704149672', '439976']\n",
      "['Daryl Hall - Maneater', '703646250', '523132']\n",
      "['Akon - Lonely', '703165974', '549525']\n",
      "['Charlie Puth - How Long', '703087492', '192926']\n",
      "['Sech - Otro Trago', '702218100', '74680']\n",
      "['Travie McCoy - Billionaire', '702188631', '363384']\n",
      "['Peso Pluma - PRC', '702051114', '287267']\n",
      "[\"mgk - my ex's best friend\", '701988494', '213206']\n",
      "['Billie Eilish - watch', '701448239', '373319']\n",
      "['Katy Perry - Never Really Over', '701299649', '116518']\n",
      "['One Direction - 18', '700918407', '324072']\n",
      "['Selena Gomez - Hands To Myself', '700828430', '107187']\n",
      "['Culture Club - Karma Chameleon', '700394296', '385243']\n",
      "['Migos - Stir Fry', '700261133', '213320']\n",
      "['Kanye West - All Falls Down', '700087777', '580554']\n",
      "['Carlos Vives - Robarte un Beso', '699941814', '264520']\n",
      "['The Rolling Stones - Start Me Up', '699561315', '428951']\n",
      "['Aventura - Ella Y Yo', '698868273', '512491']\n",
      "['Juice WRLD - Legends', '698629602', '181163']\n",
      "['mgk - Bad Things', '697632029', '126063']\n",
      "[\"Labrinth - Still Don't Know My Name\", '697137518', '208776']\n",
      "['Lil Baby - Pure Cocaine', '696160508', '421666']\n",
      "['Zion & Lennox - Yo Voy', '695990852', '382888']\n",
      "['AJR - Weak', '695757605', '98771']\n",
      "['Dua Lipa - Love Again', '695558133', '409176']\n",
      "['Taylor Swift - Midnight Rain', '695445222', '300292']\n",
      "['Rels B - A Mí', '695344678', '611955']\n",
      "['Marshmello - Here With Me', '694646529', '170018']\n",
      "['BTS - Permission to Dance', '694560749', '177437']\n",
      "['Waka Flocka Flame - No Hands', '694407389', '347453']\n",
      "['Cascada - Everytime We Touch', '694395730', '393426']\n",
      "['Jeremih - oui', '694088473', '222004']\n",
      "['21 Savage - ball w/o you', '694068937', '385877']\n",
      "['Chris Isaak - Wicked Game', '693590530', '606957']\n",
      "['Maluma - Según Quién', '693589367', '1469927']\n",
      "['21 Savage - Glock In My Lap', '693108263', '749549']\n",
      "[\"T-Pain - Buy U a Drank (Shawty Snappin')\", '692758300', '556391']\n",
      "['Eagles - Take It Easy', '692546358', '404087']\n",
      "['Rex Orange County - Best Friend', '692439735', '223854']\n",
      "['Pink Sweat$ - At My Worst (Nikhita Gandhi Remix)', '692418037', '296840']\n",
      "['PinkPantheress - Pain', '692270463', '1010335']\n",
      "['Beyoncé - Single Ladies (Put a Ring on It)', '691945585', '333432']\n",
      "['ROSALÍA - BESO', '691724752', '382602']\n",
      "['Rauw Alejandro - Cúrame', '691544415', '645549']\n",
      "['Extreme - More Than Words', '691092670', '307049']\n",
      "['BLACKPINK - Shut Down', '690775816', '328161']\n",
      "['Harry Styles - Lights Up', '690335250', '87490']\n",
      "['Bacilos - Caraluna', '690267628', '343035']\n",
      "['Taylor Swift - We Are Never Ever Getting Back Together', '690149690', '164303']\n",
      "['Justin Bieber - Friends', '689720435', '75815']\n",
      "['3 Doors Down - Here Without You', '689013527', '329981']\n",
      "['Little Mix - Secret Love Song', '688559037', '198864']\n",
      "['Lynyrd Skynyrd - Free Bird', '688457608', '375647']\n",
      "['A$AP Rocky - Sundress', '687839882', '514806']\n",
      "['SZA - Nobody Gets Me', '687484479', '852283']\n",
      "[\"Kelly Clarkson - Stronger (What Doesn't Kill You)\", '687124725', '272643']\n",
      "['The Beatles - Yesterday', '687022997', '414153']\n",
      "['Nio Garcia - La Jeepeta', '686761963', '126537']\n",
      "['Bruno Mars - Count on Me', '686431265', '326209']\n",
      "['John Lennon - Imagine', '686169642', '349148']\n",
      "['Mike Posner - Cooler Than Me', '685940895', '535172']\n",
      "['Bad Bunny - Ignorantes', '685862958', '112639']\n",
      "['Cheat Codes - No Promises', '685505045', '66580']\n",
      "['Anuel AA - Hasta Que Dios Diga', '685295878', '227484']\n",
      "[\"Joel Adams - Please Don't Go\", '684960577', '74494']\n",
      "['Yusuf / Cat Stevens - Wild World', '684947470', '300309']\n",
      "['Lil Uzi Vert - Money Longer', '684806244', '227061']\n",
      "['Cigarettes After Sex - Sunsetz', '684664179', '830158']\n",
      "[\"Bebe Rexha - I'm a Mess\", '684450374', '109620']\n",
      "['Taylor Swift - Paper Rings', '684362878', '297506']\n",
      "['Lil Dicky - Freaky Friday', '684006939', '134961']\n",
      "['Gwen Stefani - The Sweet Escape', '683637838', '444779']\n",
      "['grandson - Blood // Water', '683430151', '405198']\n",
      "['Chris Jedi - Ahora Dice', '683243779', '236189']\n",
      "['Calvin Harris - Giant', '683222142', '135452']\n",
      "['R3HAB - All Around The World (La La La)', '683195159', '236095']\n",
      "['Wheatus - Teenage Dirtbag', '682629513', '476322']\n",
      "['Marshmello - Be Kind', '682147473', '151551']\n",
      "['Drake - Headlines', '682075737', '327563']\n",
      "['X Ambassadors - Unsteady', '681786249', '177844']\n",
      "[\"SYML - Where's My Love\", '681197830', '629723']\n",
      "['Libianca - People', '680965073', '550341']\n",
      "['Cheat Codes - Sex', '680809073', '43095']\n",
      "['Rauw Alejandro - Fantasias', '680351656', '162205']\n",
      "['Sofía Reyes - 1, 2, 3', '679976500', '144501']\n",
      "['Gera MX - Botella Tras Botella', '679308410', '326330']\n",
      "['Katy Perry - Unconditionally', '678464552', '360457']\n",
      "['Lou Bega - Mambo No. 5 (a Little Bit of...)', '677901385', '348620']\n",
      "['Frank Sinatra - Fly Me To The Moon (In Other Words)', '677198891', '307295']\n",
      "['Sia - The Greatest', '677195580', '72925']\n",
      "['Lil Uzi Vert - Just Wanna Rock', '676421811', '398761']\n",
      "['MGMT - Little Dark Age', '675898976', '362450']\n",
      "['The Vamps - All Night', '675857696', '87103']\n",
      "['The Neighbourhood - You Get Me So High', '675282710', '846088']\n",
      "['Kansas - Carry on Wayward Son', '675207700', '387415']\n",
      "['Olivia Rodrigo - brutal', '675065734', '316639']\n",
      "['Fall Out Boy - My Songs Know What You Did In The Dark (Light Em Up)', '675000350', '261139']\n",
      "['Naughty Boy - La La La', '674626996', '285602']\n",
      "['Adele - Water Under the Bridge', '674609902', '258686']\n",
      "['Rae Sremmurd - Swang', '674353491', '165589']\n",
      "['Jason Derulo - Whatcha Say', '674254186', '270257']\n",
      "['Alicia Keys - Girl on Fire', '674204400', '282967']\n",
      "['Mötley Crüe - Kickstart My Heart', '674116657', '393684']\n",
      "['Jason Derulo - Trumpets', '674081225', '125583']\n",
      "['Kodak Black - Tunnel Vision', '673898151', '171356']\n",
      "['Justin Bieber - Eenie Meenie', '673457232', '423244']\n",
      "['Olly Alexander (Years & Years) - King', '673318777', '332389']\n",
      "['INTERWORLD - METAMORPHOSIS', '673305399', '431662']\n",
      "['Sebastian Yatra - Tacones Rojos', '672709977', '318095']\n",
      "['Enrique Iglesias - DUELE EL CORAZON', '672538284', '152566']\n",
      "['Daddy Yankee - Dura', '671490212', '116996']\n",
      "['Dove Cameron - Boyfriend', '671281337', '298352']\n",
      "['The Cardigans - Lovefool', '671111494', '548410']\n",
      "['The Kooks - Naive', '670813626', '333588']\n",
      "['Bad Bunny - Amorfoda', '670738741', '184698']\n",
      "['Nelly Furtado - Say It Right', '670470639', '431903']\n",
      "['Drake - Best I Ever Had', '670027720', '252163']\n",
      "['G-Eazy - No Limit', '669340521', '81391']\n",
      "['J. Cole - Power Trip', '669156890', '366624']\n",
      "['James Hype - Ferrari', '669075038', '396285']\n",
      "['James Arthur - Naked', '668911728', '168773']\n",
      "['José Feliciano - Feliz Navidad', '668740166', '52552']\n",
      "['Adele - All I Ask', '668600794', '328000']\n",
      "['Taylor Swift - You Belong With Me', '668330605', '203184']\n",
      "['Flo Rida - Right Round', '667738606', '434099']\n",
      "['Bring Me The Horizon - Can You Feel My Heart', '666940571', '321356']\n",
      "['Two Feet - Go Fuck Yourself', '666790138', '163865']\n",
      "['Disclosure - You & Me', '666676717', '215813']\n",
      "['Miley Cyrus - The Climb', '666659319', '241047']\n",
      "['Travis Scott - YOSEMITE', '666646540', '164027']\n",
      "['Sebastian Yatra - Traicionera', '666639729', '144987']\n",
      "['Martin Garrix - Summer Days', '666509727', '136327']\n",
      "['Selena Gomez - Same Old Love', '666252437', '192703']\n",
      "['UB40 - Red Red Wine', '666019122', '388094']\n",
      "[\"Buffalo Springfield - For What It's Worth\", '665810063', '382095']\n",
      "['Cardi B - Up', '665641992', '191702']\n",
      "['P!nk - So What', '665395511', '326109']\n",
      "['Beyoncé - Love On Top', '665271984', '202354']\n",
      "['Hombres G - Devuélveme a mi chica', '664951343', '436025']\n",
      "['The xx - Intro', '664803752', '191093']\n",
      "['The Smiths - There Is a Light That Never Goes Out', '663964880', '646731']\n",
      "['Dolly Parton - 9 to 5', '663890198', '460269']\n",
      "['Justin Timberlake - Rock Your Body', '663630716', '569389']\n",
      "['Flipp Dinero - Leave Me Alone', '663472432', '119407']\n",
      "['Little Mix - Black Magic', '662570183', '200718']\n",
      "['$uicideboy$ - Kill Yourself (Part III)', '662555657', '314755']\n",
      "['NewJeans - Ditto', '662511438', '448871']\n",
      "['Jung Kook - 3D', '662489056', '888933']\n",
      "['Foo Fighters - Best of You', '662151909', '238970']\n",
      "['Rich The Kid - Plug Walk', '662047062', '82443']\n",
      "['Wiz Khalifa - Black and Yellow', '661528205', '235672']\n",
      "['Sabrina Carpenter - Feather', '661252745', '1233655']\n",
      "['Tyler, The Creator - NEW MAGIC WAND', '661087359', '529920']\n",
      "['Coldplay - Hymn for the Weekend', '661017746', '49584']\n",
      "['Gwen Stefani - Hollaback Girl', '660751367', '338130']\n",
      "[\"2Pac - Hit 'Em Up\", '660700906', '503661']\n",
      "['Oliver Tree - Miss You', '660505379', '284432']\n",
      "[\"Morgan Wallen - Chasin' You\", '660136767', '454063']\n",
      "[\"Travis Scott - CAN'T SAY\", '660118514', '618653']\n",
      "['Summer Walker - Girls Need Love', '659611178', '300886']\n",
      "['Billie Eilish - all the good girls go to hell', '659244380', '163805']\n",
      "['Kiiara - Gold', '659182328', '85780']\n",
      "['Labrinth - Mount Everest', '658676562', '690507']\n",
      "['Dexys Midnight Runners - Come On Eileen', '658477059', '286469']\n",
      "['The Rare Occasions - Notion', '658079473', '547240']\n",
      "['The Killers - When You Were Young', '657859698', '291423']\n",
      "['Roxette - It Must Have Been Love', '657710154', '728084']\n",
      "['James TW - When You Love Someone', '657641664', '115764']\n",
      "['Cutting Crew - (I Just) Died In Your Arms', '657311740', '391125']\n",
      "['Morat - Cuando Nadie Ve', '657266728', '348789']\n",
      "['Anitta - Envolver', '657129850', '276583']\n",
      "['ZZ Top - La Grange (2005 Remaster)', '657074693', '686487']\n",
      "['Metro Boomin - 10 Freaky Girls', '656968071', '238113']\n",
      "['Troye Sivan - YOUTH', '656826279', '107029']\n",
      "['FRENSHIP - Capsize', '656375473', '65705']\n",
      "['Cher - Believe', '656293190', '548814']\n",
      "['Bon Iver - Skinny Love', '656052200', '217975']\n",
      "['DaBaby - Suge', '655981890', '83452']\n",
      "['Dua Lipa - Kiss and Make Up', '655917472', '224872']\n",
      "['Declan McKenna - Brazil', '655740520', '674225']\n",
      "['Taylor Swift - champagne problems', '655421920', '382761']\n",
      "['Los Legendarios - Fiel', '655320889', '124232']\n",
      "['Clean Bandit - I Miss You', '654986568', '52822']\n",
      "['Frank Ocean - Novacane', '654579621', '573253']\n",
      "['Hailee Steinfeld - Love Myself', '654548787', '104001']\n",
      "['Adele - Chasing Pavements', '654350066', '418378']\n",
      "['Post Malone - One Right Now', '654091792', '184762']\n",
      "['Luke Combs - She Got the Best of Me', '653767193', '740588']\n",
      "['Taylor Swift - Fortnight', '653657575', '1546641']\n",
      "['ScHoolboy Q - Collard Greens', '653532980', '293294']\n",
      "[\"James Arthur - Car's Outside\", '653340947', '706347']\n",
      "['Majestic - Rasputin', '653280824', '446991']\n",
      "['Jet - Are You Gonna Be My Girl', '653246639', '586682']\n",
      "['The Strokes - Last Nite', '653019002', '267661']\n",
      "['Duke Dumont - Ocean Drive', '652712703', '254135']\n",
      "['Bryan Adams - Heaven', '652517254', '429775']\n",
      "['Lil Pump - Gucci Gang', '652177783', '33498']\n",
      "['Halsey - Bad At Love', '652055727', '179567']\n",
      "['Alejandro Fernández - Me Dediqué a Perderte', '651557050', '560459']\n",
      "[\"Stevie Wonder - Signed, Sealed, Delivered (I'm Yours)\", '651290637', '276734']\n",
      "['Mariah Carey - We Belong Together', '651210951', '425514']\n",
      "['B.o.B - Nothin’ on You', '651018920', '429883']\n",
      "['OneRepublic - Secrets', '650748959', '257056']\n",
      "['Kina - Can We Kiss Forever?', '650333693', '147605']\n",
      "['Thirty Seconds To Mars - The Kill', '650247685', '467150']\n",
      "['The Smashing Pumpkins - 1979', '649830593', '391433']\n",
      "['Juice WRLD - Wasted', '649473933', '258691']\n",
      "['Redbone - Come and Get Your Love', '649241585', '774072']\n",
      "['JENNIE - SOLO', '649128231', '215259']\n",
      "[\"Boza - Hecha Pa' Mi\", '648432131', '173007']\n",
      "['BTS - DNA', '648228726', '138334']\n",
      "['Post Malone - I Had Some Help (Feat. Morgan Wallen)', '648104581', '2480229']\n",
      "['David Guetta - Flames', '647904753', '56505']\n",
      "['Post Malone - Take What You Want', '647903738', '210914']\n",
      "[\"Tego Calderón - Pa' Que Retozen\", '647854886', '554136']\n",
      "['Marc Anthony - Vivir Mi Vida', '647432951', '289822']\n",
      "['Sam Fischer - This City', '647384998', '148466']\n",
      "['Drake - Take Care', '646594651', '227143']\n",
      "['Lizzo - Good as Hell', '646143954', '200249']\n",
      "['Paulo Londra - Nena Maldición', '645784654', '296004']\n",
      "['Rauw Alejandro - Tattoo', '645783391', '209237']\n",
      "['J. Cole - She Knows', '645764488', '186677']\n",
      "['Aretha Franklin - Respect', '645604777', '307078']\n",
      "['Eiffel 65 - Blue (Da Ba Dee)', '645497852', '265577']\n",
      "['Billy Joel - Vienna', '645195497', '537735']\n",
      "['Kelly Clarkson - Underneath the Tree', '645111321', '58120']\n",
      "['Ariana Grande - breathin', '644659124', '97594']\n",
      "['Muse - Uprising', '644408807', '413087']\n",
      "['Lorde - Ribs', '644325710', '373498']\n",
      "['Lady Gaga - Paparazzi', '644001570', '517999']\n",
      "['Colbie Caillat - Bubbly', '643980354', '220644']\n",
      "['Shakira - Whenever, Wherever', '643902910', '442191']\n",
      "['Linkin Park - Bleed It Out', '643589406', '483142']\n",
      "['Nirvana - Lithium', '643139660', '319627']\n",
      "['Miley Cyrus - Midnight Sky', '642808852', '132479']\n",
      "['Ghost - Mary On A Cross', '642556704', '520527']\n",
      "['Queen - I Want To Break Free', '642542261', '228536']\n",
      "['Dua Lipa - Love Again', '642320839', '286822']\n",
      "['Vacations - Young', '642155023', '455765']\n",
      "['Rae Sremmurd - Come Get Her', '642149834', '174872']\n",
      "['Joji - Sanctuary', '641861593', '337186']\n",
      "['Simon & Garfunkel - Mrs. Robinson', '641394472', '600364']\n",
      "['The Chainsmokers - Takeaway', '641329711', '98445']\n",
      "[\"Auli'i Cravalho - How Far I'll Go\", '641037863', '314471']\n",
      "['The Cinematic Orchestra - To Build A Home', '640926794', '310591']\n",
      "['Carrie Underwood - Before He Cheats', '640736996', '415617']\n",
      "[\"Phil Collins - You Can't Hurry Love\", '640504971', '271890']\n",
      "['The Paper Kites - Bloom', '639852268', '521964']\n",
      "['Incubus - Drive', '639779793', '288836']\n",
      "['Lady Gaga - Born This Way', '639492421', '240679']\n",
      "['Thomas Rhett - Die A Happy Man', '639312630', '181178']\n",
      "['Quevedo - PUNTO G', '638907795', '346244']\n",
      "['The Temper Trap - Sweet Disposition', '638881230', '385430']\n",
      "[\"Rick Springfield - Jessie's Girl\", '638852981', '491471']\n",
      "['Bad Bunny - Sensualidad', '638792520', '147283']\n",
      "['Mac Miller - Weekend', '638405082', '281037']\n",
      "[\"Florence + The Machine - You've Got The Love\", '638328080', '387322']\n",
      "['Childish Gambino - Me and Your Mama', '637972994', '442657']\n",
      "['Stevie Wonder - Superstition', '637968458', '277280']\n",
      "['Dua Lipa - Be the One', '637879147', '155323']\n",
      "['Alessia Cara - Here', '637751269', '210373']\n",
      "['OneRepublic - Rescue Me', '637632963', '166661']\n",
      "['Europe - The Final Countdown', '637503437', '316756']\n",
      "['Rita Ora - Your Song', '637396985', '68016']\n",
      "['Alan Walker - Alone, Pt. II', '637304633', '278597']\n",
      "['The Rolling Stones - Gimme Shelter', '637130421', '285821']\n",
      "[\"John Travolta - You're The One That I Want\", '636817492', '195641']\n",
      "['Tom Walker - Leave a Light On', '636688256', '187124']\n",
      "['Lana Del Rey - Radio', '635869698', '388942']\n",
      "['Billie Eilish - No Time To Die', '635744782', '234751']\n",
      "['Gente De Zona - La Gozadera', '635680548', '221862']\n",
      "['Meghan Trainor - NO', '635675581', '216716']\n",
      "['Daft Punk - One More Time', '635562004', '259576']\n",
      "['J Balvin - Rojo', '635441813', '207930']\n",
      "['Aretha Franklin - I Say a Little Prayer', '635015158', '314304']\n",
      "['The Chainsmokers - This Feeling', '634710423', '113174']\n",
      "['Billie Eilish - TV', '634503366', '637496']\n",
      "['Owl City - Good Time', '634482701', '335618']\n",
      "[\"Jax Jones - You Don't Know Me\", '634245363', '124039']\n",
      "['Kali Uchis - After The Storm', '634120478', '412275']\n",
      "[\"Starship - Nothing's Gonna Stop Us Now\", '634060779', '420867']\n",
      "['Kanye West - Violent Crimes', '634001924', '543761']\n",
      "['The Script - Superheroes', '633299949', '189674']\n",
      "['Led Zeppelin - Whole Lotta Love', '633156412', '237202']\n",
      "['Khalid - OTW', '632887971', '90957']\n",
      "['Travis Scott - I KNOW ?', '632659790', '789277']\n",
      "['Slipknot - Psychosocial', '632588458', '488755']\n",
      "['Gorillaz - On Melancholy Hill', '632232221', '402994']\n",
      "[\"Taylor Swift - You're On Your Own, Kid\", '632224906', '406977']\n",
      "['Paul Simon - You Can Call Me Al', '632161877', '233050']\n",
      "['Johnny Cash - Hurt', '632004049', '184517']\n",
      "['Rihanna - Rude Boy', '631908017', '382136']\n",
      "[\"Crowded House - Don't Dream It's Over\", '631814289', '585819']\n",
      "[\"Kanye West - Can't Tell Me Nothing\", '631770858', '430996']\n",
      "['R. Kelly - Ignition', '630910041', '124900']\n",
      "['Ellie Goulding - Close To Me', '630372381', '69480']\n",
      "['Muse - Supermassive Black Hole', '630294269', '433759']\n",
      "['Tove Lo - Stay High', '630247611', '124779']\n",
      "['Grupo Frontera - NO SE VA', '630117892', '587202']\n",
      "['Tove Lo - Habits (Stay High)', '629870714', '124970']\n",
      "['David Guetta - Where Them Girls At', '629731679', '416658']\n",
      "['Commodores - Easy', '629658619', '397925']\n",
      "['THE ANXIETY - Meet Me At Our Spot', '629555570', '187622']\n",
      "[\"Ricky Martin - Vente Pa' Ca\", '629172100', '153199']\n",
      "['blackbear - do re mi', '629087933', '90999']\n",
      "['2Pac - All Eyez On Me', '628910295', '299973']\n",
      "['Bryan Adams - (Everything I Do) I Do It For You', '628837297', '339400']\n",
      "['Kid Cudi - Pursuit Of Happiness', '628792512', '188112']\n",
      "['Tove Lo - Talking Body', '628592455', '167574']\n",
      "['David Guetta - Say My Name', '628509556', '150976']\n",
      "['Snakehips - All My Friends', '628409435', '98124']\n",
      "['Dean Martin - Let It Snow! Let It Snow! Let It Snow!', '628396077', '77625']\n",
      "['Simon & Garfunkel - The Sound of Silence', '628244943', '549285']\n",
      "['Rauw Alejandro - El Efecto', '627892794', '442601']\n",
      "['Kendrick Lamar - King Kunta', '627860478', '182960']\n",
      "['Kanye West - Black Skinhead', '627742341', '135314']\n",
      "['Eminem - My Name Is', '627365532', '212946']\n",
      "[\"Piso 21 - Pa' Olvidarme De Ella\", '626985624', '214168']\n",
      "['Christian Nodal - Adiós Amor', '626982528', '287294']\n",
      "['Silk City - Electricity', '626875957', '89740']\n",
      "['Shawn Mendes - I Know What You Did Last Summer', '626821233', '145797']\n",
      "['J Balvin - Bonita', '626768276', '202918']\n",
      "['Black Eyed Peas - Meet Me Halfway', '626666192', '908767']\n",
      "[\"Doja Cat - Ain't Shit\", '626664512', '261605']\n",
      "['Marshmello - El Merengue', '626641784', '1033148']\n",
      "['Beyoncé - Irreplaceable', '626302952', '240248']\n",
      "['Jennifer Lopez - On The Floor', '626069377', '517676']\n",
      "['Michael Jackson - Thriller', '625941442', '354193']\n",
      "['Dayglow - Can I Call You Tonight?', '625514410', '284145']\n",
      "['Doja Cat - Get Into It (Yuh)', '625511650', '199333']\n",
      "['Chino & Nacho - Andas En Mi Cabeza', '625502713', '228303']\n",
      "['PARTYNEXTDOOR - Come and See Me', '625498112', '164142']\n",
      "['Cosculluela - Madura', '625394519', '426915']\n",
      "['Sech - Relación', '625352975', '83168']\n",
      "['System Of A Down - Lonely Day', '625256618', '458170']\n",
      "['Taylor Swift - Gorgeous', '625169115', '234748']\n",
      "['Lykke Li - I Follow Rivers', '624966859', '326387']\n",
      "['One Direction - Little Things', '624924152', '153125']\n",
      "['Lil Tjay - F.N', '624709072', '']\n",
      "['Louis Armstrong - What A Wonderful World', '624625284', '407755']\n",
      "['Taylor Swift - Bad Blood', '624598156', '189162']\n",
      "['Kanye West - Famous', '624492189', '124754']\n",
      "['Maluma - HP', '624291047', '89162']\n",
      "['Beyoncé - Drunk in Love', '624048599', '179366']\n",
      "['Linkin Park - Crawling', '623994288', '519416']\n",
      "[\"Snoop Dogg - Drop It Like It's Hot\", '623833133', '273603']\n",
      "['Hailee Steinfeld - Most Girls', '623791271', '68063']\n",
      "['One Direction - You & I', '622465794', '245229']\n",
      "[\"BLACKPINK - As If It's Your Last\", '622282747', '247054']\n",
      "['Zach Bryan - Heading South', '622116167', '982457']\n",
      "['Dan + Shay - Tequila', '622023355', '123864']\n",
      "['Maluma - Sobrio', '621314752', '333721']\n",
      "['Bad Bunny - La Corriente', '621274583', '215120']\n",
      "['Pink Floyd - Comfortably Numb', '621031524', '251419']\n",
      "['Lana Del Rey - Say Yes To Heaven', '620970941', '1005973']\n",
      "['David Guetta - Bad', '620686368', '121956']\n",
      "['League of Legends - Legends Never Die', '620057651', '241773']\n",
      "['Justin Bieber - Company', '620036712', '232694']\n",
      "['Pitbull - Fireball', '619818884', '508285']\n",
      "['Pearl Jam - Even Flow', '619645404', '316309']\n",
      "['Shawn Mendes - Monster (Shawn Mendes & Justin Bieber)', '619484478', '127546']\n",
      "['The Chainsmokers - Call You Mine', '619393482', '67120']\n",
      "['Maroon 5 - Sunday Morning', '619338948', '337572']\n",
      "['Diplo - Heartless', '619334392', '644956']\n",
      "['Breaking Benjamin - The Diary of Jane', '618823938', '296490']\n",
      "['The Doobie Brothers - Listen to the Music', '618592645', '376379']\n",
      "['Fall Out Boy - Dance, Dance', '618288535', '265238']\n",
      "['Daddy Yankee - Lo Que Pasó, Pasó', '618125281', '861263']\n",
      "[\"XXXTENTACION - I Don't Wanna Do This Anymore\", '617923639', '412985']\n",
      "['Michael Bublé - Holly Jolly Christmas', '617916154', '44377']\n",
      "['Kina - Can We Kiss Forever?', '617681058', '179852']\n",
      "['Ed Maverick - Fuentes de Ortiz', '617651283', '323351']\n",
      "['Drake - Marvins Room', '617343654', '188301']\n",
      "['Zion & Lennox - La player (Bandolera)', '617252494', '142774']\n",
      "['Drake - Forever', '617190150', '234931']\n",
      "['Ed Sheeran - Tenerife Sea', '616633536', '141142']\n",
      "['KAROL G - Ay, DiOs Mío!', '616338902', '128917']\n",
      "['Alan Walker - Darkside', '616286836', '211148']\n",
      "['TV Girl - Cigarettes out the Window', '616073655', '1051646']\n",
      "['System Of A Down - B.Y.O.B.', '615956239', '319449']\n",
      "['Roy Orbison - Oh, Pretty Woman', '615936670', '426521']\n",
      "['Morat - Besos En Guerra', '615722507', '302978']\n",
      "['Milo j - Rara Vez', '615001128', '739006']\n",
      "['Nelly - Ride Wit Me', '614853526', '280299']\n",
      "['YOASOBI - 夜に駆ける', '614652681', '246480']\n",
      "['David Guetta - Baby Don’t Hurt Me', '614588298', '780596']\n",
      "['Avenged Sevenfold - Hail to the King', '614565840', '285936']\n",
      "['Jarabe De Palo - La flaca', '614130827', '561426']\n",
      "['Charlie Puth - Light Switch', '614056418', '175174']\n",
      "['NF - The Search', '613951615', '274270']\n",
      "['Luke Combs - Beer Never Broke My Heart', '613950464', '571156']\n",
      "['Bee Gees - More Than A Woman', '613898645', '362386']\n",
      "['Rema - Calm Down', '613460856', '259954']\n",
      "['Shania Twain - Man! I Feel Like A Woman!', '613460199', '342835']\n",
      "['Daft Punk - Instant Crush', '613261597', '250205']\n",
      "['NewJeans - Super Shy', '613234609', '542409']\n",
      "['The Chainsmokers - All We Know', '613115340', '93001']\n",
      "['Dua Lipa - Houdini', '613096032', '1124137']\n",
      "[\"Jay Rock - King's Dead\", '612997449', '129943']\n",
      "['Hozier - Work Song', '612464618', '809753']\n",
      "['Ricky Montgomery - Line Without a Hook', '612255360', '433895']\n",
      "['Alexandra Stan - Mr. Saxobeat', '612141338', '406790']\n",
      "['Martin Garrix - There for You', '612067921', '57201']\n",
      "['Shawn Mendes - Wonder', '611983147', '157709']\n",
      "['CKay - love nwantiti', '611824749', '156699']\n",
      "['Foo Fighters - Learn to Fly', '611810283', '262306']\n",
      "[\"Roar - I Can't Handle Change\", '611445517', '441066']\n",
      "['Ritt Momney - Put Your Records On', '611401994', '104834']\n",
      "['Zedd - Clarity', '611293577', '252806']\n",
      "[\"The Pussycat Dolls - Don't Cha\", '611271219', '334221']\n",
      "['Green Day - 21 Guns', '611239985', '259734']\n",
      "[\"The Who - Baba O'Riley\", '611133223', '379499']\n",
      "['Plan B - Candy', '610886298', '644714']\n",
      "['Rammstein - Du hast', '610690735', '389362']\n",
      "['One Direction - Best Song Ever', '610499687', '249594']\n",
      "['Lil Xan - Betrayed', '610373733', '84184']\n",
      "['Miguel - Sky Walker', '610317983', '168194']\n",
      "['The Beatles - Hey Jude', '609990199', '252365']\n",
      "['Feid - CHORRITO PA LAS ANIMAS', '609660181', '382158']\n",
      "['Ice Cube - You Know How We Do It', '609548266', '325993']\n",
      "['The All-American Rejects - Gives You Hell', '609419906', '248507']\n",
      "['Maluma - Corazón', '609344885', '103680']\n",
      "['Romeo Santos - Eres Mía', '609311986', '652389']\n",
      "['Timbaland - Apologize', '609060030', '380353']\n",
      "['50 Cent - Just A Lil Bit', '608965296', '407046']\n",
      "['Burak Yeter - Tuesday', '608680117', '132410']\n",
      "['The Offspring - Self Esteem', '608573445', '345949']\n",
      "['Becky G - Cuando Te Besé', '608552565', '196965']\n",
      "['Post Malone - Stay', '608533830', '116804']\n",
      "['Dusty Springfield - Son of a Preacher Man', '608516843', '333490']\n",
      "['DJ Khaled - No Brainer', '608488074', '50712']\n",
      "['Luke Combs - Fast Car', '608364342', '688183']\n",
      "['Kygo - Stay', '607639544', '51619']\n",
      "['Mazzy Star - Fade Into You', '607595448', '814053']\n",
      "['Lorde - Green Light', '607405212', '126216']\n",
      "['Travis Scott - 90210', '607342264', '387835']\n",
      "['Camilo - Tutu', '607332595', '128028']\n",
      "['Oscar Maydon - Fin de Semana', '607305501', '339618']\n",
      "['Metallica - One (Remastered)', '607108175', '364125']\n",
      "['Harry Styles - Sweet Creature', '607000203', '138564']\n",
      "['U2 - One', '606881736', '205642']\n",
      "['Sasha Alex Sloan - Dancing With Your Ghost', '606729822', '445972']\n",
      "['JID - Surround Sound', '606601022', '512936']\n",
      "['Daniel Powter - Bad Day', '606328561', '186909']\n",
      "['Arctic Monkeys - Snap Out Of It', '606138009', '326194']\n",
      "['John Denver - Take Me Home, Country Roads', '605971587', '229371']\n",
      "['Migos - Slippery', '605932079', '66964']\n",
      "[\"Diddy - I'll Be Missing You\", '605252039', '311965']\n",
      "[\"Guns N' Roses - Don't Cry (Original)\", '605092229', '405649']\n",
      "['50 Cent - Many Men (Wish Death)', '604659956', '521276']\n",
      "[\"Flo Rida - Club Can't Handle Me\", '604637937', '426643']\n",
      "['Taylor Swift - the 1', '604548696', '278262']\n",
      "['Kygo - Remind Me to Forget', '604131891', '101883']\n",
      "[\"Fergie - Big Girls Don't Cry (Personal)\", '604014420', '260364']\n",
      "['Jimin - Who', '603979423', '7553534']\n",
      "['Rupert Holmes - Escape (The Pina Colada Song)', '603970662', '266432']\n",
      "['Beyoncé - If I Were a Boy', '603871213', '208264']\n",
      "['Bazzi - Paradise', '603845335', '96054']\n",
      "['Kehlani - Nights Like This', '603818496', '172398']\n",
      "['Pitbull - Hotel Room Service', '603646766', '560194']\n",
      "['Luis Miguel - La Incondicional', '603296159', '360553']\n",
      "['Sheppard - Geronimo', '603290950', '214013']\n",
      "['Britney Spears - Womanizer', '603081593', '453063']\n",
      "['Childish Gambino - This Is America', '602771383', '86654']\n",
      "['Bazzi - I.F.L.Y.', '602714851', '79881']\n",
      "['Avril Lavigne - Sk8er Boi', '602601606', '441036']\n",
      "['The Rolling Stones - Sympathy For The Devil', '602572518', '267719']\n",
      "['NF - Lie', '602350955', '193539']\n",
      "['Danny Ocean - Dembow', '602247176', '177040']\n",
      "['OneRepublic - Run', '601939953', '311701']\n",
      "['The Weeknd - Wicked Games', '601935973', '237615']\n",
      "['Brent Faiyaz - Clouded', '601418995', '377426']\n",
      "['Three Days Grace - Animal I Have Become', '601301127', '516526']\n",
      "['Fujii Kaze - Shinunoga E-Wa', '601280097', '351892']\n",
      "['Keyshia Cole - Love', '601149675', '626176']\n",
      "['Chris Brown - Ayo', '601031400', '143599']\n",
      "['Sophie Ellis-Bextor - Murder On The Dancefloor', '600848586', '591017']\n",
      "['BTS - Euphoria', '600719683', '170449']\n",
      "[\"Tropical Florida - Club Can't Handle Me\", '600561024', '402658']\n",
      "['Ozuna - Una Locura', '600216271', '141101']\n",
      "['6ix9ine - BEBE', '599918471', '153565']\n",
      "['Beach Bunny - Prom Queen', '599774583', '495183']\n",
      "['Jesse & Joy - Dueles', '599458535', '325365']\n",
      "['Loren Allred - Never Enough', '599439342', '177596']\n",
      "['XXXTENTACION - Arms Around You', '599101546', '88346']\n",
      "['Migos - MotorSport', '598969982', '78731']\n",
      "['ABBA - Mamma Mia', '598730314', '427748']\n",
      "['Fuerza Regida - Bebe Dame', '597971594', '330684']\n",
      "['Lizzy McAlpine - ceilings', '597764309', '574027']\n",
      "['Lana Del Rey - Diet Mountain Dew', '597302544', '721611']\n",
      "['Tiësto - 10:35', '597143736', '527365']\n",
      "['The Neighbourhood - Reflections', '597057546', '1044213']\n",
      "['Justin Timberlake - Cry Me a River', '596834515', '378682']\n",
      "['Lana Del Rey - Cinnamon Girl', '596548540', '813719']\n",
      "['Chino Pacas - El Gordo Trae El Mando', '596410095', '272420']\n",
      "['KAROL G - EL MAKINON', '596374797', '153646']\n",
      "['Rauw Alejandro - Reloj', '596237888', '156648']\n",
      "['Saweetie - Best Friend', '596216211', '286129']\n",
      "['Dean Lewis - Waves', '596202380', '168778']\n",
      "['The Black Keys - Lonely Boy', '596184552', '481877']\n",
      "['J Balvin - No Es Justo', '596177523', '157726']\n",
      "['Jack Johnson - Banana Pancakes', '595645860', '250172']\n",
      "['Gabry Ponte - Thunder', '595484659', '336064']\n",
      "['Bad Bunny - Una Vez', '595304608', '258666']\n",
      "['Lil Skies - Lust', '595228617', '131289']\n",
      "['Sam Smith - Lay Me Down', '595226884', '86821']\n",
      "['Rae Sremmurd - No Type', '595016060', '100113']\n",
      "['Michael Sembello - Maniac', '594936029', '371213']\n",
      "['Nicky Jam - El Amante', '594805774', '116352']\n",
      "[\"Earth, Wind & Fire - Let's Groove\", '594202289', '432220']\n",
      "['Drake - Portland', '594101164', '88837']\n",
      "['J Balvin - UN PESO', '593908800', '347442']\n",
      "['Cardi B - Money', '593898169', '180905']\n",
      "['21 Savage - X', '593895883', '116965']\n",
      "['Arcángel - Sigues Con El', '593521242', '92341']\n",
      "['U2 - Beautiful Day', '593433882', '241046']\n",
      "['Kygo - Born To Be Yours', '593098269', '163590']\n",
      "['Sam Feldt - Post Malone', '593078036', '91025']\n",
      "['Meghan Trainor - Dear Future Husband', '592768300', '399722']\n",
      "['Pop Smoke - Hello', '592673195', '142768']\n",
      "['Taio Cruz - Break Your Heart', '592313013', '366342']\n",
      "['Xavi - La Víctima', '592122891', '599817']\n",
      "['All Time Low - Dear Maria, Count Me In', '591808176', '294270']\n",
      "['Sebastian Yatra - Un Año', '591368657', '142679']\n",
      "['Cigarettes After Sex - Cry', '591109056', '1066900']\n",
      "['Jessie J - Price Tag', '590834761', '260383']\n",
      "['Imanbek - Belly Dancer', '590696006', '403170']\n",
      "['Queen - Radio Ga Ga', '590605891', '285500']\n",
      "['Daya - Sit Still, Look Pretty', '590249412', '183246']\n",
      "['Iggy Azalea - Black Widow', '590206061', '152266']\n",
      "['YNW Melly - Suicidal', '589843666', '194289']\n",
      "['Bob Marley & The Wailers - Jamming', '589367622', '391194']\n",
      "['Amy Winehouse - Valerie', '589189595', '265768']\n",
      "['Tyler, The Creator - BEST INTEREST', '589098270', '650686']\n",
      "['Sia - Genius', '588949320', '232263']\n",
      "['Frank Ocean - White Ferrari', '588892256', '867418']\n",
      "['BLACKPINK - Ice Cream', '588617626', '128436']\n",
      "['ROSALÍA - Yo x Ti, Tu x Mi', '588600166', '220604']\n",
      "['Soulja Boy - Crank That (Soulja Boy)', '588535606', '274363']\n",
      "['Calvin Harris - Under Control', '588524806', '345181']\n",
      "['Oliver Tree - Life Goes On', '588362664', '223662']\n",
      "['Loreen - Tattoo', '588095236', '606222']\n",
      "['BLACKPINK - Lovesick Girls', '587426928', '223215']\n",
      "['Tame Impala - Let It Happen', '587325474', '422352']\n",
      "['Ava Max - So Am I', '587242320', '107076']\n",
      "['Lady Gaga - Applause', '586997130', '308084']\n",
      "['Camila Cabello - Shameless', '586896444', '939106']\n",
      "['One Direction - History', '586458472', '113591']\n",
      "['Lifehouse - You And Me', '586414671', '200799']\n",
      "['NLE Choppa - Walk Em Down', '586329239', '166995']\n",
      "['Doja Cat - Agora Hills', '586254701', '642782']\n",
      "['Ozuna - Dile Que Tu Me Quieres', '586167676', '230623']\n",
      "['NewJeans - Hype Boy', '586098121', '421916']\n",
      "['Lil Wayne - A Milli', '585968286', '279999']\n",
      "['Russ - What They Want', '585692523', '137586']\n",
      "['Eagle-Eye Cherry - Save Tonight', '585591050', '275709']\n",
      "['Echosmith - Cool Kids', '585535879', '193796']\n",
      "['Vundabar - Alien Blues', '585532562', '551269']\n",
      "['JP Cooper - September Song', '585433059', '62456']\n",
      "['Adele - Oh My God', '585313842', '225726']\n",
      "['Camilo - Vida de Rico', '585284731', '161768']\n",
      "['Mac DeMarco - For the First Time', '585243771', '609905']\n",
      "['Chris Brown - Loyal', '585049360', '250474']\n",
      "['Famous Dex - PICK IT UP', '584792497', '71638']\n",
      "['GoldLink - Crew', '584779021', '379295']\n",
      "[\"AronChupa - I'm an Albatraoz\", '584459166', '154974']\n",
      "['Bad Bunny - Un Coco', '584430156', '370922']\n",
      "['Ski Mask The Slump God - Faucet Failure', '584425568', '147767']\n",
      "['Nio Garcia - AM Remix', '584406696', '101192']\n",
      "['Trippie Redd - Taking A Walk', '584317497', '127961']\n",
      "['Bing Crosby - God rest ye merry Gentlemen', '584237525', '18601']\n",
      "['Cardi B - Please Me', '583979458', '607520']\n",
      "['Lady Gaga - Judas', '583352797', '997802']\n",
      "['Katy Perry - Chained To The Rhythm', '583338308', '123325']\n",
      "['Demi Lovato - Confident', '582907320', '167491']\n",
      "['Don Henley - The Boys Of Summer', '582635855', '226912']\n",
      "[\"The Beach Boys - Wouldn't It Be Nice\", '582523598', '236420']\n",
      "['Louis Tomlinson - Back to You', '582314001', '53020']\n",
      "['Nicky Jam - Hasta el Amanecer', '582207804', '222057']\n",
      "['David Guetta - Play Hard', '582144041', '226690']\n",
      "['CKay - love nwantiti', '582038804', '156025']\n",
      "['Carlos Baute - Colgando en tus manos (con Marta Sánchez)', '581767372', '310572']\n",
      "['Arctic Monkeys - Arabella', '581565295', '240679']\n",
      "['Rex Orange County - Sunflower', '581491722', '168542']\n",
      "[\"Al Green - Let's Stay Together\", '581488933', '281951']\n",
      "['Ozuna - Solita', '581335921', '201000']\n",
      "['George Michael - Faith', '580706229', '407255']\n",
      "['Luke Bryan - Play It Again', '580371783', '261008']\n",
      "['The Righteous Brothers - Unchained Melody', '580275498', '360696']\n",
      "['Jeremy Zucker - you were good to me', '580039716', '117192']\n",
      "['BTS - Blood Sweat & Tears', '579834363', '145404']\n",
      "[\"Post Malone - Hollywood's Bleeding\", '579685858', '183142']\n",
      "['Black Eyed Peas - Just Can’t Get Enough', '578966965', '462530']\n",
      "[\"Brett Young - In Case You Didn't Know\", '578825549', '202244']\n",
      "['Cults - Always Forever', '578640041', '545668']\n",
      "[\"Kylie Minogue - Can't Get You out of My Head\", '578636896', '432891']\n",
      "['Joji - worldstar money (interlude)', '578273546', '244770']\n",
      "['Nick Jonas - Jealous', '578105511', '216434']\n",
      "['King Princess - 1950', '577860502', '63718']\n",
      "[\"Jeremih - Don't Tell 'Em\", '577811901', '234136']\n",
      "['Sean Paul - Get Busy', '577450355', '328569']\n",
      "['Beyoncé - Run the World (Girls)', '577361897', '153457']\n",
      "['Zara Larsson - Ruin My Life', '577357315', '87805']\n",
      "['Sam Cooke - (What A) Wonderful World', '577307100', '395982']\n",
      "[\"Dwayne Johnson - You're Welcome\", '577172006', '263481']\n",
      "['Green Day - When I Come Around', '577109080', '352544']\n",
      "['Steppenwolf - Born To Be Wild', '577097937', '224548']\n",
      "['Radiohead - Karma Police', '576610428', '344465']\n",
      "['¥$ - CARNIVAL', '576568114', '802437']\n",
      "['Manuel Turizo - La Nota', '576511054', '140633']\n",
      "['Jessie J - Domino', '576422454', '378372']\n",
      "['Ozuna - Baila Baila Baila', '576395902', '100983']\n",
      "[\"Blue Öyster Cult - (Don't Fear) The Reaper\", '576359352', '253733']\n",
      "['Katy Perry - Part Of Me', '576181462', '375719']\n",
      "['Starship - We Built This City', '576046295', '222306']\n",
      "['Daniel Caesar - Japanese Denim', '575935980', '364556']\n",
      "['PUBLIC - Make You Mine', '575315318', '165595']\n",
      "['Drake - Way 2 Sexy', '575071957', '128508']\n",
      "['Lil Tecca - Love Me', '574976350', '282825']\n",
      "['Liana Flores - rises the moon', '574911043', '643108']\n",
      "['Hugh Jackman - The Greatest Show', '574733297', '206717']\n",
      "['Taylor Swift - Bejeweled', '574645380', '290016']\n",
      "['Soda Stereo - De Música Ligera', '574419949', '345155']\n",
      "['Doja Cat - Vegas (From the Original Motion Picture Soundtrack ELVIS)', '574380934', '193762']\n",
      "['Billie Eilish - listen before i go', '574095171', '199899']\n",
      "['MARINA - Bubblegum Bitch', '573925172', '276790']\n",
      "['Pop Smoke - The Woo', '573758073', '115273']\n",
      "['Frank Sinatra - Let It Snow! Let It Snow! Let It Snow!', '573403087', '31712']\n",
      "['Marshmello - Alone', '573388304', '132342']\n",
      "['Pop Smoke - Invincible', '573194090', '171146']\n",
      "['Beyoncé - 7/11', '573138290', '93952']\n",
      "['Astrid S - Hurts So Good', '573087816', '175768']\n",
      "['J Balvin - Safari', '572811567', '133776']\n",
      "['Fuerza Regida - SABOR FRESA', '572657163', '502763']\n",
      "['Jack Harlow - Tyler Herro', '572495492', '133466']\n",
      "['t.A.T.u. - All The Things She Said', '572476768', '288588']\n",
      "['House Of Pain - Jump Around', '572420135', '422147']\n",
      "['Nicki Minaj - Super Freaky Girl', '572343595', '240928']\n",
      "['John Lennon - Happy Xmas (War Is Over)', '572283691', '40179']\n",
      "['Christmas Hits - Frank Sinatra', '572263304', '7523']\n",
      "['Ryan Castro - Jordan', '572250432', '356513']\n",
      "['Childish Gambino - Les', '572117831', '667321']\n",
      "[\"Limp Bizkit - Rollin' (Air Raid Vehicle)\", '571172706', '412909']\n",
      "['T.I. - Live Your Life', '570989731', '203947']\n",
      "['Trueno - Mamichula', '570553741', '384347']\n",
      "['Ziv Zaifman - A Million Dreams', '570495339', '197022']\n",
      "['Julia Michaels - Heaven', '570372486', '133611']\n",
      "['Nicki Minaj - Only', '570360657', '139640']\n",
      "['Justin Bieber - Boyfriend', '570192287', '274494']\n",
      "['Super Yei - La Forma en Que Me Miras', '570110083', '297587']\n",
      "['Drake - The Motto', '569825823', '174970']\n",
      "[\"One Direction - They Don't Know About Us\", '569563824', '152893']\n",
      "['Mon Laferte - Tu Falta De Querer', '569309430', '507390']\n",
      "['Bishop Briggs - River', '569015466', '274596']\n",
      "['Sebastian Yatra - No Hay Nadie Más', '568904658', '226878']\n",
      "['Grupo Frontera - EL AMOR DE SU VIDA', '568786844', '753769']\n",
      "['J. Cole - G.O.M.D', '568749370', '132382']\n",
      "['Ed Sheeran - Lego House', '568506811', '141343']\n",
      "['Miguel - Girl With The Tattoo Enter.lewd', '568240284', '579564']\n",
      "['Halsey - You should be sad', '568228248', '100250']\n",
      "['Ricky Montgomery - Mr. Loverman', '568180504', '706484']\n",
      "['Sia - Thunderclouds', '568007663', '95795']\n",
      "['A Boogie Wit da Hoodie - My Shit', '567637492', '214515']\n",
      "['Nickelback - Rockstar', '567333522', '280490']\n",
      "['Dave - Location', '567252994', '284005']\n",
      "['XXXTENTACION - Carry On', '566952794', '169526']\n",
      "['John Mayer - Your Body Is a Wonderland', '566879887', '123396']\n",
      "['Céline Dion - My Heart Will Go On', '566784195', '265792']\n",
      "['Ed Sheeran - Sing', '566681668', '92795']\n",
      "['Juice WRLD - Righteous', '566473397', '126025']\n",
      "['Matt Sassari - Give It To Me', '565860202', '840718']\n",
      "[\"Band Aid - Do They Know It's Christmas?\", '565618999', '21874']\n",
      "['The Killers - Human', '565488884', '216505']\n",
      "['Dua Lipa - Blow Your Mind (Mwah)', '565221013', '160153']\n",
      "[\"Shania Twain - You're Still The One\", '565079152', '281979']\n",
      "[\"Backstreet Boys - Everybody (Backstreet's Back)\", '565054661', '479982']\n",
      "['Gucci Mane - I Get the Bag', '564958175', '99716']\n",
      "['The Strokes - Reptilia', '564745183', '253730']\n",
      "['Bad Bunny - Después de la Playa', '564592791', '165291']\n",
      "['The Weeknd - In The Night', '564545842', '150442']\n",
      "['Sech - Otro Trago', '564511227', '74081']\n",
      "['ThxSoMch - SPIT IN MY FACE!', '564172182', '391336']\n",
      "['Ariana Grande - pov', '563999279', '210719']\n",
      "['SZA - The Weekend', '563936928', '330257']\n",
      "['Amy Winehouse - Rehab', '563816305', '264613']\n",
      "['Troye Sivan - Angel Baby', '563755344', '293818']\n",
      "['Nelly - Hot In Herre', '563745461', '282912']\n",
      "['DJ Luian - Verte Ir', '563329408', '125183']\n",
      "['Labrinth - All For Us', '562334938', '431529']\n",
      "['Mac DeMarco - Heart To Heart', '562058235', '731386']\n",
      "['System Of A Down - Aerials', '562031752', '386833']\n",
      "['Lauren Daigle - You Say', '561618467', '243572']\n",
      "['Marshmello - One Thing Right', '561568803', '224957']\n",
      "['Danny Ocean - Fuera del mercado', '561519855', '179317']\n",
      "['XXXTENTACION - BAD!', '561327329', '264687']\n",
      "['Rels B - cómo dormiste?', '561077325', '382060']\n",
      "['Michael Jackson - Rock with You', '560303791', '521644']\n",
      "['Lil Nas X - HOLIDAY', '560253189', '81081']\n",
      "['Brent Faiyaz - Trust', '560173590', '311203']\n",
      "['2Pac - Changes', '559879216', '235026']\n",
      "['Sam Feldt - Post Malone', '559507066', '95753']\n",
      "['Pearl Jam - Alive', '559243334', '233475']\n",
      "['DJ Snake - Turn Down for What', '559191924', '120087']\n",
      "['Ozuna - Síguelo Bailando', '558975931', '113918']\n",
      "['DJ Khaled - GREECE', '558859150', '121278']\n",
      "['Christian Nodal - De Los Besos Que Te Di', '558838462', '392418']\n",
      "['Twenty One Pilots - Tear in My Heart', '558703469', '218545']\n",
      "['Ciara - One, Two Step', '558496633', '504943']\n",
      "['Morat - No Se Va', '558106692', '388500']\n",
      "['Pitbull - International Love', '557841418', '368513']\n",
      "['Jessie J - Flashlight', '557797444', '129347']\n",
      "['Lil Wayne - Lollipop', '557613780', '299922']\n",
      "['Trippie Redd - Miss The Rage', '557515037', '203489']\n",
      "['Rihanna - Kiss It Better', '557496747', '447604']\n",
      "['Bon Jovi - Always', '557272246', '285350']\n",
      "[\"The Human League - Don't You Want Me\", '557081772', '422123']\n",
      "[\"Shakira - Can't Remember to Forget You\", '556996928', '297176']\n",
      "['Bakar - Hell N Back', '556876494', '345022']\n",
      "[\"John Mayer - Free Fallin'\", '556845748', '118887']\n",
      "['Nick Jonas - Close', '556496196', '73251']\n",
      "['Aqua - Barbie Girl', '556314698', '368950']\n",
      "['Linkin Park - Somewhere I Belong', '556191208', '494600']\n",
      "['KAROL G - MI EX TENÍA RAZÓN', '556070326', '1010101']\n",
      "['NLE Choppa - Camelot', '556025997', '173741']\n",
      "['Fuerza Regida - Ch y la Pizza', '555823080', '327233']\n",
      "['Metallica - The Unforgiven (Remastered)', '555615247', '286430']\n",
      "['Robbie Williams - Angels', '555529336', '283004']\n",
      "['Lady Gaga - Bloody Mary', '555522821', '401413']\n",
      "['Selena Gomez - Kill Em With Kindness', '555485575', '50715']\n",
      "['salvia palth - i was all over her', '555433761', '721278']\n",
      "['Kendrick Lamar - Poetic Justice', '555431670', '263709']\n",
      "['Post Malone - Chemical', '555287501', '348976']\n",
      "[\"Rihanna - What's My Name?\", '555074888', '343676']\n",
      "['Nicky Jam - Te Robaré', '555008270', '69102']\n",
      "['Alan Walker - All Falls Down', '554095918', '92599']\n",
      "['Lil Wayne - Mirror', '554088324', '213024']\n",
      "['BLACKPINK - BOOMBAYAH', '553965658', '183653']\n",
      "['MØ - Final Song', '553687987', '48829']\n",
      "['J Balvin - Ginza', '553179838', '266068']\n",
      "['Various Artists -', '552631117', '376335']\n",
      "['Rauw Alejandro - 2/Catorce', '551873970', '160652']\n",
      "['Christina Perri - jar of hearts', '551679880', '147278']\n",
      "['Deep Purple - Smoke On The Water', '551664615', '234183']\n",
      "['Mark Ronson - Valerie', '551460839', '837212']\n",
      "['The Chainsmokers - Who Do You Love', '551332123', '66879']\n",
      "['KAROL G - X SI VOLVEMOS', '551294880', '541221']\n",
      "['Roddy Ricch - High Fashion', '550833749', '131369']\n",
      "['Slipknot - Before I Forget', '550370155', '286321']\n",
      "['Kenny Loggins - Danger Zone', '550278632', '216478']\n",
      "['Mobb Deep - Shook Ones, Pt. II', '549869767', '270857']\n",
      "['Eminem - Sing For The Moment', '549655069', '204254']\n",
      "['Simon & Garfunkel - The Sound of Silence', '549644238', '277428']\n",
      "['Romeo Santos - Imitadora', '549624274', '432420']\n",
      "[\"The Pointer Sisters - I'm So Excited\", '549601299', '478733']\n",
      "['Christian Nodal - Ya No Somos Ni Seremos', '549358183', '861770']\n",
      "['Taylor Swift - my tears ricochet', '549282321', '609896']\n",
      "['Pritam - Kesariya', '548978194', '311330']\n",
      "['Timmy Trumpet - Freaks', '548932551', '213958']\n",
      "['Coyote Theory - This Side of Paradise', '548908640', '342421']\n",
      "['JAY-Z - Run This Town', '548373686', '414357']\n",
      "['Chase Atlantic - Into It', '548316914', '504314']\n",
      "['Ozuna - El Farsante', '548216784', '207554']\n",
      "['Morgan Wallen - More Than My Hometown', '547612072', '326689']\n",
      "['Chuck Berry - Johnny B. Goode', '547381937', '348988']\n",
      "['Ed Sheeran - Give Me Love', '547059112', '113272']\n",
      "['Aminé - REEL IT IN', '546723291', '99876']\n",
      "['Calvin Harris - Sweet Nothing', '546715401', '375455']\n",
      "['Katy Perry - Harleys In Hawaii', '546705809', '291217']\n",
      "['Selena Gomez - The Heart Wants What It Wants', '546410829', '152318']\n",
      "['Selena Gomez - Fetish', '546398868', '248282']\n",
      "['Mary J. Blige - Family Affair', '546337045', '468742']\n",
      "['Quevedo - VISTA AL MAR', '546222804', '352229']\n",
      "['Logic - Everyday', '546197270', '43849']\n",
      "['Hozier - Someone New', '546167071', '358897']\n",
      "['David Bowie - Starman', '545833192', '387500']\n",
      "['The Living Tombstone - My Ordinary Life', '545561221', '292825']\n",
      "['Alexander 23 - IDK You Yet', '545540729', '154378']\n",
      "['José González - Heartbeats', '545461646', '284477']\n",
      "['Kanye West - Ghost Town', '544904230', '335548']\n",
      "['Linkin Park - Papercut', '544817732', '390212']\n",
      "[\"Andy Grammer - Don't Give Up On Me\", '544537923', '386409']\n",
      "['Kygo - Stargazing', '544445576', '70023']\n",
      "['SHAED - Trampoline', '544394944', '135601']\n",
      "['Alec Benjamin - Water Fountain', '544322811', '167974']\n",
      "['Evanescence - My Immortal', '544110221', '256962']\n",
      "['King Von - Took Her To The O', '544021736', '571718']\n",
      "['Travis Scott - 5% TINT', '543726896', '258478']\n",
      "['Lil Jon & The East Side Boyz - Get Low', '543511713', '288010']\n",
      "['Nate Dogg - Regulate', '543479437', '231132']\n",
      "['Pop Smoke - Element', '543410429', '150273']\n",
      "['Bad Bunny - Otra Noche en Miami', '542972525', '217496']\n",
      "['FISHER - Losing It', '542864032', '206649']\n",
      "['Eminem - Shake That', '542841699', '207241']\n",
      "['Super Yei - La Forma en Que Me Miras', '542582207', '295106']\n",
      "['Dominic Fike - Babydoll', '542559311', '465697']\n",
      "['OneRepublic - Lose Somebody', '542375062', '96897']\n",
      "['Madison Beer - Reckless', '542374956', '762703']\n",
      "['Warren G - Regulate', '541865322', '224873']\n",
      "['Harry Styles - Kiwi', '541812858', '101889']\n",
      "['Kaash Paige - Love Songs', '541114606', '665437']\n",
      "['Lizzo - Juice', '541034982', '123921']\n",
      "['Quality Control - Baby', '540677867', '167201']\n",
      "['Eric Carmen - Hungry Eyes', '540250728', '295364']\n",
      "['George Harrison - My Sweet Lord (2014 Remaster)', '540212383', '223622']\n",
      "['Black Eyed Peas - GIRL LIKE ME', '539815124', '100191']\n",
      "['Dire Straits - Money for Nothing', '539706821', '336249']\n",
      "['A$AP Rocky - L$D', '539491520', '146374']\n",
      "['Aventura - Obsesion', '539421290', '396608']\n",
      "['Daddy Yankee - La Rompe Corazones', '539361054', '120109']\n",
      "[\"Dasha - Austin (Boots Stop Workin')\", '539275304', '2404759']\n",
      "['Ava Max - My Head & My Heart', '538806532', '150351']\n",
      "['Billie Eilish - my boy', '538771868', '132509']\n",
      "['Fuerza Regida - TQM', '538764248', '361358']\n",
      "['Playboi Carti - wokeuplikethis*', '538287184', '145187']\n",
      "['Reik - Ya Me Enteré', '538250092', '515871']\n",
      "['Ingratax - París', '538213574', '89418']\n",
      "['Daddy Yankee - Limbo', '538081911', '277378']\n",
      "['Sum 41 - In Too Deep', '538076657', '324659']\n",
      "['James Arthur - Falling Like The Stars', '538071530', '141931']\n",
      "[\"Norah Jones - Don't Know Why\", '538042705', '274110']\n",
      "['Juice WRLD - Let Me Know (I Wonder Why Freestyle)', '537671471', '357955']\n",
      "['Logic - Homicide', '537593900', '87137']\n",
      "['The Ronettes - Sleigh Ride', '537369030', '41119']\n",
      "[\"Two Feet - I Feel Like I'm Drowning\", '537353271', '387722']\n",
      "['Twenty One Pilots - Chlorine', '537103657', '181506']\n",
      "['Mumford & Sons - The Cave', '536881122', '146484']\n",
      "['LISA - LALISA', '536668661', '224753']\n",
      "['Martin Garrix - Ocean', '536322585', '62709']\n",
      "['Post Malone - Feeling Whitney', '536156851', '122304']\n",
      "['Rita Ora - Let You Love Me', '535843461', '80587']\n",
      "[\"Four Tops - I Can't Help Myself (Sugar Pie, Honey Bunch)\", '535781379', '280726']\n",
      "['21 Savage - redrum', '535561011', '865185']\n",
      "['Black Eyed Peas - MAMACITA', '535539463', '74105']\n",
      "['Harry Styles - Matilda', '535516253', '299175']\n",
      "['Rammstein - Sonne', '535464522', '528885']\n",
      "['The Smiths - This Charming Man', '535405632', '360427']\n",
      "['Myke Towers - Si Se Da', '534963163', '239067']\n",
      "['Belinda Carlisle - Heaven Is A Place On Earth', '534584277', '361225']\n",
      "['Justin Bieber - Confident', '534494630', '452244']\n",
      "['Kid Cudi - Mr. Rager', '534326755', '359412']\n",
      "['Tory Lanez - Say It', '534320559', '230848']\n",
      "['Rita Ora - Anywhere', '534116827', '68330']\n",
      "['Korn - Freak On a Leash', '534096105', '364094']\n",
      "['Pia Mia - Do It Again', '533923781', '122888']\n",
      "[\"Beyoncé - TEXAS HOLD 'EM\", '533739204', '785605']\n",
      "['Armin van Buuren - Blah Blah Blah', '533703591', '160531']\n",
      "['Talking Heads - Psycho Killer', '533379024', '427417']\n",
      "['Blondie - Call Me', '533263141', '354341']\n",
      "['Kane Brown - What Ifs', '533146427', '227110']\n",
      "['Luke Combs - The Kind of Love We Make', '533110718', '578296']\n",
      "['Peter Bjorn and John - Young Folks', '533013368', '333704']\n",
      "['$uicideboy$ - Paris', '532963582', '250798']\n",
      "['Bob Marley & The Wailers - One Love / People Get Ready', '532953171', '315898']\n",
      "['Pablo Alborán - Saturno', '532897583', '439395']\n",
      "['Bad Bunny - MONACO', '532185370', '394431']\n",
      "['Joel Corry - OUT OUT', '531847184', '202672']\n",
      "['Third Eye Blind - Semi-Charmed Life', '531623694', '276047']\n",
      "['Steve Lacy - C U Girl', '531383621', '545695']\n",
      "['Various Artists - Jailhouse Rock (from Jailhouse Rock)', '531306272', '402859']\n",
      "['Run–D.M.C. - Walk This Way', '531187230', '212717']\n",
      "['Wolfine - Bella', '531125105', '92130']\n",
      "['Elvis Presley - Jailhouse Rock', '530903413', '481521']\n",
      "['Future - Like That', '530850817', '1057167']\n",
      "[\"David Guetta - This One's for You\", '530801773', '91843']\n",
      "['Gala - Freed From Desire', '530736696', '479513']\n",
      "['The Beatles - Twist And Shout', '530712533', '400848']\n",
      "['Chris Brown - Forever', '530695630', '508646']\n",
      "['Juice WRLD - Black & White', '530370433', '141995']\n",
      "['SZA - Saturn', '530318242', '1465477']\n",
      "['Spin Doctors - Two Princes', '530012029', '252347']\n",
      "['Trippie Redd - 1400 / 999 Freestyle', '529828890', '115793']\n",
      "['Daya - Hide Away', '529633365', '250079']\n",
      "['Ariana Grande - Everyday', '529570662', '258468']\n",
      "['Billie Eilish - my strange addiction', '528864583', '164285']\n",
      "[\"Keane - Everybody's Changing\", '528793884', '253528']\n",
      "['Camila Cabello - Crying in the Club', '528413880', '85332']\n",
      "['Modjo - Lady', '528081232', '536134']\n",
      "[\"Dua Lipa - We're Good\", '527942365', '136038']\n",
      "['Norman Greenbaum - Spirit In The Sky', '527755270', '209423']\n",
      "['Demi Lovato - Stone Cold', '527512163', '70278']\n",
      "['Harry Styles - Fine Line', '527392514', '320618']\n",
      "['Etta James - At Last', '527305849', '416477']\n",
      "['Ramz - Barking', '527285003', '143280']\n",
      "[\"Duki - She Don't Give a Fo\", '527033520', '249384']\n",
      "['Christian Nodal - No Te Contaron Mal', '526599175', '351857']\n",
      "['Billie Eilish - COPYCAT', '525952302', '145518']\n",
      "['Bad Bunny - Soy Peor', '525811558', '156053']\n",
      "['Jack Johnson - Upside Down', '525810037', '381762']\n",
      "['Doja Cat - Like That', '525609347', '142834']\n",
      "['Bad Bunny - Un Ratito', '525491945', '183738']\n",
      "['Peggy Gou - (It Goes Like) Nanana', '525266522', '514914']\n",
      "[\"Billy Joel - We Didn't Start the Fire\", '525204489', '390714']\n",
      "[\"SAYGRACE - You Don't Own Me\", '524875646', '208932']\n",
      "['Luniz - I Got 5 On It', '524867096', '301469']\n",
      "['The Red Jumpsuit Apparatus - Face Down', '524811536', '297662']\n",
      "['Olivia Rodrigo - 1 step forward, 3 steps back', '524795713', '346891']\n",
      "['XXXTENTACION - NUMB', '524329319', '138806']\n",
      "['Drowning Pool - Bodies', '524066355', '610724']\n",
      "['Piso 21 - Me Llamas', '523634372', '79407']\n",
      "['Joy Again - Looking Out for You', '523130484', '523381']\n",
      "['Billie Eilish - bitches broken hearts', '523002567', '185298']\n",
      "['Ashnikko - Daisy', '522748390', '134265']\n",
      "[\"Weezer - Say It Ain't So\", '522357201', '267245']\n",
      "['Fuerza Regida - HARLEY QUINN', '522318196', '481096']\n",
      "['León Larregui - Brillas', '522292745', '288038']\n",
      "['Dan + Shay - Speechless', '522178665', '99153']\n",
      "['David Bowie - Heroes', '522109889', '210512']\n",
      "[\"Carolina Gaitán - La Gaita - We Don't Talk About Bruno\", '522093532', '200584']\n",
      "[\"Unknown - We Don't Talk About Bruno\", '522093532', '200584']\n",
      "['Rvssian - Nostálgico', '521879154', '162464']\n",
      "['Clairo - Bubble Gum', '521699454', '301483']\n",
      "['Vance Joy - Mess Is Mine', '521612218', '177573']\n",
      "['Red Hot Chili Peppers - By the Way', '521322597', '240113']\n",
      "['Taylor Swift - End Game', '521313596', '173123']\n",
      "['Melanie Martinez - Pacify Her', '521140670', '228191']\n",
      "['Metallica - For Whom The Bell Tolls', '521104008', '666226']\n",
      "[\"Bruce Springsteen - I'm On Fire\", '520886508', '554883']\n",
      "['DJ Snake - You Know You Like It', '520877863', '171454']\n",
      "['Calibre 50 - Si Te Pudiera Mentir', '520715752', '223402']\n",
      "['Lil Wayne - 6 Foot 7 Foot', '520705681', '171317']\n",
      "['Ozuna - Tú Foto', '520275161', '163520']\n",
      "['Jonas Brothers - Only Human', '520225124', '109004']\n",
      "['Nelly - Just A Dream', '520196738', '230393']\n",
      "['Eyedress - Something About You', '520185464', '881676']\n",
      "['Little Mix - Woman Like Me', '520163833', '71906']\n",
      "['Tinlicker - Because You Move Me', '520126362', '948913']\n",
      "['Pop Smoke - Got It On Me', '520097647', '137545']\n",
      "['Steve Aoki - Just Hold On', '520016905', '35295']\n",
      "['Tame Impala - Feels Like We Only Go Backwards', '519920041', '246474']\n",
      "['Chris Rea - Driving Home for Christmas', '519886709', '21841']\n",
      "['Cochise - Tell Em', '519763195', '180477']\n",
      "['The Fray - You Found Me', '519695852', '178725']\n",
      "['Savage Garden - Truly Madly Deeply', '519638154', '263660']\n",
      "['Kanye West - All Mine', '519622918', '136400']\n",
      "['Michael Bublé - Feeling Good', '519509100', '350463']\n",
      "['Aventura - Dile al Amor', '519372890', '505320']\n",
      "['Starship - We Built This City', '519328507', '251555']\n",
      "['Zedd - Happy Now', '519178463', '47559']\n",
      "['BTS - Spring Day', '519008933', '186144']\n",
      "['Yiruma - River Flows In You', '518869071', '167345']\n",
      "['Banda MS de Sergio Lizárraga - El Color de Tus Ojos', '518735921', '558302']\n",
      "['Ella Mai - Trip', '518539197', '188216']\n",
      "['Shakira - Monotonía', '518504311', '182305']\n",
      "['DVRST - Close Eyes', '518459912', '204640']\n",
      "['Calvin Harris - I Need Your Love', '518291167', '180270']\n",
      "['Selena Gomez & The Scene - Who Says', '518002386', '187189']\n",
      "['Pink Floyd - Money', '517973698', '178134']\n",
      "[\"Michael Jackson - Don't Stop 'Til You Get Enough\", '517820433', '242240']\n",
      "['Steve Miller Band - The Joker', '517799727', '270583']\n",
      "['Bryson Tiller - Right My Wrongs', '517776450', '566714']\n",
      "['BROCKHAMPTON - SUGAR', '517703872', '106002']\n",
      "['Jhené Aiko - Sativa', '517672044', '340798']\n",
      "['Childish Gambino - Heartbeat', '517550907', '513322']\n",
      "['T.I. - Whatever You Like', '517489647', '177977']\n",
      "['Fools Garden - Lemon Tree', '517429439', '283249']\n",
      "['The Police - Message In A Bottle', '517333743', '298742']\n",
      "['John Mayer - Slow Dancing in a Burning Room', '517280631', '337471']\n",
      "['Daft Punk - Get Lucky', '517256946', '380190']\n",
      "['Tame Impala - New Person, Same Old Mistakes', '516685707', '345935']\n",
      "['Matt Simons - Catch & Release', '516641360', '179621']\n",
      "['Sufjan Stevens - Mystery of Love', '516641011', '217461']\n",
      "['SLANDER - Love Is Gone', '516473952', '302678']\n",
      "['Eslabon Armado - Jugaste y Sufrí', '516453021', '245601']\n",
      "['Kid Rock - All Summer Long', '516434610', '195660']\n",
      "['Justin Timberlake - Say Something', '516337305', '103012']\n",
      "[\"Elle King - Ex's & Oh's\", '516292043', '137374']\n",
      "['Reik - Amigos Con Derechos', '516003702', '141252']\n",
      "['Men I Trust - Show Me How', '515975426', '500207']\n",
      "['Rex Orange County - Loving Is Easy', '515847119', '92268']\n",
      "['Ginuwine - Pony', '515803602', '194233']\n",
      "['Juanes - Es Por Ti', '515325369', '361268']\n",
      "['Beyoncé - Partition', '515265444', '146858']\n",
      "['Ariana Grande - motive', '515170508', '166780']\n",
      "['Enrique Iglesias - Cuando Me Enamoro', '515115572', '420599']\n",
      "['Jonas Brothers - What A Man Gotta Do', '515100647', '107125']\n",
      "['Polo G - 21', '514865107', '239392']\n",
      "['Ozuna - Caramelo', '514734579', '57820']\n",
      "['NLE Choppa - Shotta Flow', '514674683', '171805']\n",
      "['Drake - Started From the Bottom', '514647412', '89786']\n",
      "['Grover Washington, Jr. - Just the Two of Us', '514247128', '236823']\n",
      "['The Notorious B.I.G. - Mo Money Mo Problems', '513802779', '227108']\n",
      "['Shakira - La Tortura', '513707068', '248062']\n",
      "['Selena Gomez - Bad Liar', '513450850', '50845']\n",
      "['Stromae - Papaoutai', '513248329', '191988']\n",
      "['Sublime - What I Got', '513173224', '351326']\n",
      "['Hozier - Cherry Wine', '513160273', '204653']\n",
      "['Lil Skies - Nowadays', '513022649', '52268']\n",
      "['Jordan Davis - Buy Dirt', '512938783', '572278']\n",
      "['Juice WRLD - Empty', '512768802', '184037']\n",
      "['Mura Masa - Love$ick', '512722887', '135630']\n",
      "['The Turtles - Happy Together', '512685753', '271882']\n",
      "['Billie Eilish - LUNCH', '512632106', '1568261']\n",
      "['Manuel Turizo - Quiéreme Mientras Se Pueda', '512575166', '615013']\n",
      "['OneRepublic - I Lived', '512277449', '263396']\n",
      "[\"Alicia Keys - Fallin'\", '511998718', '442756']\n",
      "['Jeremih - Birthday Sex', '511796634', '368090']\n",
      "['Alex Rose - Toda (Remix)', '511684247', '306282']\n",
      "[\"Camila Cabello - Don't Go Yet\", '511683178', '112458']\n",
      "[\"Carly Simon - You're So Vain\", '511365519', '288789']\n",
      "[\"Eminem - When I'm Gone\", '511062984', '98614']\n",
      "['Eric Clapton - Wonderful Tonight', '510896228', '218117']\n",
      "['Lil Peep - beamer boy', '510806143', '201519']\n",
      "['Roy Woods - Drama', '510801508', '133696']\n",
      "['Drake - Energy', '510621601', '74129']\n",
      "['Ludovico Einaudi - Experience', '510140577', '332147']\n",
      "['Romeo Santos - Bella y Sensual', '510028092', '150181']\n",
      "['Frankie Valli & The Four Seasons - December, 1963 (Oh What a Night!)', '509901194', '262138']\n",
      "['JIN - The Astronaut', '509765341', '782711']\n",
      "['Billie Eilish - Happier Than Ever', '509657354', '112239']\n",
      "[\"mgk - I Think I'm OKAY\", '509334076', '123429']\n",
      "['Kygo - Happy Now', '509296380', '65849']\n",
      "['Jubël - Dancing In The Moonlight', '509163794', '218311']\n",
      "['Don Omar - Salió El Sol', '509114629', '552283']\n",
      "['Earth, Wind & Fire - Boogie Wonderland', '508819180', '299332']\n",
      "['Chance the Rapper - No Problem', '508586897', '67368']\n",
      "['NF - If You Want Love', '508190890', '132312']\n",
      "['Kesha - Praying', '508167317', '76579']\n",
      "['JVKE - this is what falling in love feels like', '508022922', '317889']\n",
      "['Sade - Smooth Operator', '507772358', '607152']\n",
      "['Sebastian Yatra - Chica Ideal', '507527781', '113959']\n",
      "['Vegedream - Ramenez la coupe à la maison', '507371379', '184447']\n",
      "['Kane Brown - Heaven', '507288477', '203418']\n",
      "['The Weeknd - Acquainted', '507146471', '168859']\n",
      "['David Guetta - When Love Takes Over', '506790319', '202632']\n",
      "['girl in red - i wanna be your girlfriend', '506597914', '498643']\n",
      "['Belanova - Rosa Pastel', '506484127', '531075']\n",
      "['Shaggy - Angel', '506470892', '324820']\n",
      "['Hillsong UNITED - Oceans (Where Feet May Fail)', '506403163', '251988']\n",
      "['Baby Bash - Suga Suga', '506325296', '216116']\n",
      "['MEDUZA - Bad Memories', '506181355', '328110']\n",
      "['Jordin Sparks - No Air', '506032442', '226414']\n",
      "['Black Eyed Peas - MAMACITA', '505990099', '99626']\n",
      "['Drake - Don’t Matter To Me', '505988834', '89117']\n",
      "['alt-J - Left Hand Free', '505982369', '324573']\n",
      "['Kim Carnes - Bette Davis Eyes', '505780791', '349406']\n",
      "['SZA - Shirt', '505746121', '221178']\n",
      "['Ne-Yo - Because Of You', '505737998', '341309']\n",
      "['Carly Rae Jepsen - I Really Like You', '505658549', '94261']\n",
      "['Myke Towers - LA FALDA', '505592800', '1278450']\n",
      "['Social House - Magic In The Hamptons', '505511969', '118483']\n",
      "['KISS - Rock And Roll All Nite', '505386377', '205701']\n",
      "['Mora - 512', '505309100', '280336']\n",
      "['Meghan Trainor - Me Too', '505249124', '288515']\n"
     ]
    }
   ],
   "source": [
    "with open(\"data/examples/spotify_data.csv\") as f:\n",
    "    data = csv.reader(f, delimiter=\",\")\n",
    "    for row in data:\n",
    "        print(row)"
   ]
  },
  {
   "cell_type": "code",
   "execution_count": 3,
   "metadata": {},
   "outputs": [],
   "source": [
    "import re"
   ]
  },
  {
   "cell_type": "code",
   "execution_count": 4,
   "metadata": {},
   "outputs": [],
   "source": [
    "with open(\"./data/cisi/CISI.ALL\") as f:\n",
    "    data = f.read()\n",
    "    raw_docs = [\n",
    "        re.split(r\"\\.I\\n|\\.T\\n|\\.A\\n|\\.W\\n|\\.X\\n|\\n.T +\\n|\\n.A +\\n|\\n.W +\\n\", d)\n",
    "        for d in data.split(\".I \")\n",
    "        if d\n",
    "    ]"
   ]
  },
  {
   "cell_type": "code",
   "execution_count": 5,
   "metadata": {},
   "outputs": [
    {
     "data": {
      "text/plain": [
       "['2',\n",
       " 'Use Made of Technical Libraries',\n",
       " 'Slater, M.\\n',\n",
       " 'This report is an analysis of 6300 acts of use\\nin 104 technical libraries in the United Kingdom.\\nLibrary use is only one aspect of the wider pattern of\\ninformation use.  Information transfer in libraries is\\nrestricted to the use of documents.  It takes no\\naccount of documents used outside the library, still\\nless of information transferred orally from person\\nto person.  The library acts as a channel in only a\\nproportion of the situations in which information is\\ntransferred.\\nTaking technical information transfer as a whole,\\nthere is no doubt that this proportion is not the\\nmajor one.  There are users of technical information -\\nparticularly in technology rather than science -\\nwho visit libraries rarely if at all, relying on desk\\ncollections of handbooks, current periodicals and personal\\ncontact with their colleagues and with people in other\\norganizations.  Even regular library users also receive\\ninformation in other ways.\\n',\n",
       " '2\\t5\\t2\\n32\\t1\\t2\\n76\\t1\\t2\\n132\\t1\\t2\\n137\\t1\\t2\\n139\\t1\\t2\\n152\\t2\\t2\\n155\\t1\\t2\\n158\\t1\\t2\\n183\\t1\\t2\\n195\\t1\\t2\\n203\\t1\\t2\\n204\\t1\\t2\\n210\\t1\\t2\\n243\\t1\\t2\\n371\\t1\\t2\\n475\\t1\\t2\\n552\\t1\\t2\\n760\\t1\\t2\\n770\\t1\\t2\\n771\\t1\\t2\\n774\\t1\\t2\\n775\\t1\\t2\\n776\\t1\\t2\\n788\\t1\\t2\\n789\\t1\\t2\\n801\\t1\\t2\\n815\\t1\\t2\\n839\\t1\\t2\\n977\\t1\\t2\\n1055\\t1\\t2\\n1056\\t1\\t2\\n1151\\t1\\t2\\n1361\\t1\\t2\\n1414\\t1\\t2\\n1451\\t1\\t2\\n1451\\t1\\t2\\n']"
      ]
     },
     "execution_count": 5,
     "metadata": {},
     "output_type": "execute_result"
    }
   ],
   "source": [
    "raw_docs[1]"
   ]
  },
  {
   "cell_type": "code",
   "execution_count": 153,
   "metadata": {},
   "outputs": [],
   "source": [
    "documents = [\n",
    "    {\n",
    "        \"id\": 1,\n",
    "        \"title\": \"document 1\"\n",
    "    },\n",
    "    {\n",
    "        \"id\": 2,\n",
    "        \"title\": \"document 2\"\n",
    "    }\n",
    "]"
   ]
  },
  {
   "cell_type": "code",
   "execution_count": 154,
   "metadata": {},
   "outputs": [
    {
     "data": {
      "text/plain": [
       "[{'id': 1, 'title': 'document 1'}, {'id': 2, 'title': 'document 2'}]"
      ]
     },
     "execution_count": 154,
     "metadata": {},
     "output_type": "execute_result"
    }
   ],
   "source": [
    "documents"
   ]
  },
  {
   "cell_type": "code",
   "execution_count": 152,
   "metadata": {},
   "outputs": [],
   "source": [
    "import pandas as pd"
   ]
  },
  {
   "cell_type": "code",
   "execution_count": 155,
   "metadata": {},
   "outputs": [
    {
     "data": {
      "text/html": [
       "<div>\n",
       "<style scoped>\n",
       "    .dataframe tbody tr th:only-of-type {\n",
       "        vertical-align: middle;\n",
       "    }\n",
       "\n",
       "    .dataframe tbody tr th {\n",
       "        vertical-align: top;\n",
       "    }\n",
       "\n",
       "    .dataframe thead th {\n",
       "        text-align: right;\n",
       "    }\n",
       "</style>\n",
       "<table border=\"1\" class=\"dataframe\">\n",
       "  <thead>\n",
       "    <tr style=\"text-align: right;\">\n",
       "      <th></th>\n",
       "      <th>id</th>\n",
       "      <th>title</th>\n",
       "    </tr>\n",
       "  </thead>\n",
       "  <tbody>\n",
       "    <tr>\n",
       "      <th>0</th>\n",
       "      <td>1</td>\n",
       "      <td>document 1</td>\n",
       "    </tr>\n",
       "    <tr>\n",
       "      <th>1</th>\n",
       "      <td>2</td>\n",
       "      <td>document 2</td>\n",
       "    </tr>\n",
       "  </tbody>\n",
       "</table>\n",
       "</div>"
      ],
      "text/plain": [
       "   id       title\n",
       "0   1  document 1\n",
       "1   2  document 2"
      ]
     },
     "execution_count": 155,
     "metadata": {},
     "output_type": "execute_result"
    }
   ],
   "source": [
    "pd.DataFrame(documents)"
   ]
  },
  {
   "cell_type": "code",
   "execution_count": 158,
   "metadata": {},
   "outputs": [],
   "source": [
    "data = pd.read_csv(\"./data/examples/spotify_data.csv\", sep=\",\")"
   ]
  },
  {
   "cell_type": "code",
   "execution_count": 161,
   "metadata": {},
   "outputs": [
    {
     "data": {
      "text/html": [
       "<div>\n",
       "<style scoped>\n",
       "    .dataframe tbody tr th:only-of-type {\n",
       "        vertical-align: middle;\n",
       "    }\n",
       "\n",
       "    .dataframe tbody tr th {\n",
       "        vertical-align: top;\n",
       "    }\n",
       "\n",
       "    .dataframe thead th {\n",
       "        text-align: right;\n",
       "    }\n",
       "</style>\n",
       "<table border=\"1\" class=\"dataframe\">\n",
       "  <thead>\n",
       "    <tr style=\"text-align: right;\">\n",
       "      <th></th>\n",
       "      <th>Songs &amp; Artist</th>\n",
       "      <th>Streams</th>\n",
       "      <th>Daily</th>\n",
       "    </tr>\n",
       "  </thead>\n",
       "  <tbody>\n",
       "    <tr>\n",
       "      <th>0</th>\n",
       "      <td>The Weeknd - Blinding Lights</td>\n",
       "      <td>4463658617</td>\n",
       "      <td>1619447.0</td>\n",
       "    </tr>\n",
       "    <tr>\n",
       "      <th>1</th>\n",
       "      <td>Ed Sheeran - Shape of You</td>\n",
       "      <td>4018102402</td>\n",
       "      <td>1001507.0</td>\n",
       "    </tr>\n",
       "    <tr>\n",
       "      <th>2</th>\n",
       "      <td>Lewis Capaldi - Someone You Loved</td>\n",
       "      <td>3588673578</td>\n",
       "      <td>1506961.0</td>\n",
       "    </tr>\n",
       "    <tr>\n",
       "      <th>3</th>\n",
       "      <td>Harry Styles - As It Was</td>\n",
       "      <td>3544187311</td>\n",
       "      <td>1611374.0</td>\n",
       "    </tr>\n",
       "    <tr>\n",
       "      <th>4</th>\n",
       "      <td>Post Malone - Sunflower</td>\n",
       "      <td>3518744128</td>\n",
       "      <td>1337404.0</td>\n",
       "    </tr>\n",
       "    <tr>\n",
       "      <th>5</th>\n",
       "      <td>The Weeknd - Starboy</td>\n",
       "      <td>3481137472</td>\n",
       "      <td>1897939.0</td>\n",
       "    </tr>\n",
       "    <tr>\n",
       "      <th>6</th>\n",
       "      <td>Drake - One Dance</td>\n",
       "      <td>3343221259</td>\n",
       "      <td>1329534.0</td>\n",
       "    </tr>\n",
       "    <tr>\n",
       "      <th>7</th>\n",
       "      <td>The Kid LAROI - STAY</td>\n",
       "      <td>3266446596</td>\n",
       "      <td>1336615.0</td>\n",
       "    </tr>\n",
       "    <tr>\n",
       "      <th>8</th>\n",
       "      <td>The Neighbourhood - Sweater Weather</td>\n",
       "      <td>3187169593</td>\n",
       "      <td>2976255.0</td>\n",
       "    </tr>\n",
       "    <tr>\n",
       "      <th>9</th>\n",
       "      <td>Imagine Dragons - Believer</td>\n",
       "      <td>3140449933</td>\n",
       "      <td>1261166.0</td>\n",
       "    </tr>\n",
       "    <tr>\n",
       "      <th>10</th>\n",
       "      <td>Tones And I - Dance Monkey</td>\n",
       "      <td>3139823510</td>\n",
       "      <td>602667.0</td>\n",
       "    </tr>\n",
       "  </tbody>\n",
       "</table>\n",
       "</div>"
      ],
      "text/plain": [
       "                         Songs & Artist     Streams      Daily\n",
       "0          The Weeknd - Blinding Lights  4463658617  1619447.0\n",
       "1             Ed Sheeran - Shape of You  4018102402  1001507.0\n",
       "2     Lewis Capaldi - Someone You Loved  3588673578  1506961.0\n",
       "3              Harry Styles - As It Was  3544187311  1611374.0\n",
       "4               Post Malone - Sunflower  3518744128  1337404.0\n",
       "5                  The Weeknd - Starboy  3481137472  1897939.0\n",
       "6                     Drake - One Dance  3343221259  1329534.0\n",
       "7                  The Kid LAROI - STAY  3266446596  1336615.0\n",
       "8   The Neighbourhood - Sweater Weather  3187169593  2976255.0\n",
       "9            Imagine Dragons - Believer  3140449933  1261166.0\n",
       "10           Tones And I - Dance Monkey  3139823510   602667.0"
      ]
     },
     "execution_count": 161,
     "metadata": {},
     "output_type": "execute_result"
    }
   ],
   "source": [
    "data.head(11)"
   ]
  },
  {
   "cell_type": "code",
   "execution_count": 162,
   "metadata": {},
   "outputs": [
    {
     "data": {
      "text/html": [
       "<div>\n",
       "<style scoped>\n",
       "    .dataframe tbody tr th:only-of-type {\n",
       "        vertical-align: middle;\n",
       "    }\n",
       "\n",
       "    .dataframe tbody tr th {\n",
       "        vertical-align: top;\n",
       "    }\n",
       "\n",
       "    .dataframe thead th {\n",
       "        text-align: right;\n",
       "    }\n",
       "</style>\n",
       "<table border=\"1\" class=\"dataframe\">\n",
       "  <thead>\n",
       "    <tr style=\"text-align: right;\">\n",
       "      <th></th>\n",
       "      <th>Songs &amp; Artist</th>\n",
       "      <th>Streams</th>\n",
       "      <th>Daily</th>\n",
       "    </tr>\n",
       "  </thead>\n",
       "  <tbody>\n",
       "    <tr>\n",
       "      <th>2489</th>\n",
       "      <td>Drake - Don’t Matter To Me</td>\n",
       "      <td>505988834</td>\n",
       "      <td>89117.0</td>\n",
       "    </tr>\n",
       "    <tr>\n",
       "      <th>2490</th>\n",
       "      <td>alt-J - Left Hand Free</td>\n",
       "      <td>505982369</td>\n",
       "      <td>324573.0</td>\n",
       "    </tr>\n",
       "    <tr>\n",
       "      <th>2491</th>\n",
       "      <td>Kim Carnes - Bette Davis Eyes</td>\n",
       "      <td>505780791</td>\n",
       "      <td>349406.0</td>\n",
       "    </tr>\n",
       "    <tr>\n",
       "      <th>2492</th>\n",
       "      <td>SZA - Shirt</td>\n",
       "      <td>505746121</td>\n",
       "      <td>221178.0</td>\n",
       "    </tr>\n",
       "    <tr>\n",
       "      <th>2493</th>\n",
       "      <td>Ne-Yo - Because Of You</td>\n",
       "      <td>505737998</td>\n",
       "      <td>341309.0</td>\n",
       "    </tr>\n",
       "    <tr>\n",
       "      <th>2494</th>\n",
       "      <td>Carly Rae Jepsen - I Really Like You</td>\n",
       "      <td>505658549</td>\n",
       "      <td>94261.0</td>\n",
       "    </tr>\n",
       "    <tr>\n",
       "      <th>2495</th>\n",
       "      <td>Myke Towers - LA FALDA</td>\n",
       "      <td>505592800</td>\n",
       "      <td>1278450.0</td>\n",
       "    </tr>\n",
       "    <tr>\n",
       "      <th>2496</th>\n",
       "      <td>Social House - Magic In The Hamptons</td>\n",
       "      <td>505511969</td>\n",
       "      <td>118483.0</td>\n",
       "    </tr>\n",
       "    <tr>\n",
       "      <th>2497</th>\n",
       "      <td>KISS - Rock And Roll All Nite</td>\n",
       "      <td>505386377</td>\n",
       "      <td>205701.0</td>\n",
       "    </tr>\n",
       "    <tr>\n",
       "      <th>2498</th>\n",
       "      <td>Mora - 512</td>\n",
       "      <td>505309100</td>\n",
       "      <td>280336.0</td>\n",
       "    </tr>\n",
       "    <tr>\n",
       "      <th>2499</th>\n",
       "      <td>Meghan Trainor - Me Too</td>\n",
       "      <td>505249124</td>\n",
       "      <td>288515.0</td>\n",
       "    </tr>\n",
       "  </tbody>\n",
       "</table>\n",
       "</div>"
      ],
      "text/plain": [
       "                            Songs & Artist    Streams      Daily\n",
       "2489            Drake - Don’t Matter To Me  505988834    89117.0\n",
       "2490                alt-J - Left Hand Free  505982369   324573.0\n",
       "2491         Kim Carnes - Bette Davis Eyes  505780791   349406.0\n",
       "2492                           SZA - Shirt  505746121   221178.0\n",
       "2493                Ne-Yo - Because Of You  505737998   341309.0\n",
       "2494  Carly Rae Jepsen - I Really Like You  505658549    94261.0\n",
       "2495                Myke Towers - LA FALDA  505592800  1278450.0\n",
       "2496  Social House - Magic In The Hamptons  505511969   118483.0\n",
       "2497         KISS - Rock And Roll All Nite  505386377   205701.0\n",
       "2498                            Mora - 512  505309100   280336.0\n",
       "2499               Meghan Trainor - Me Too  505249124   288515.0"
      ]
     },
     "execution_count": 162,
     "metadata": {},
     "output_type": "execute_result"
    }
   ],
   "source": [
    "data.tail(11)"
   ]
  },
  {
   "cell_type": "code",
   "execution_count": 163,
   "metadata": {},
   "outputs": [
    {
     "data": {
      "text/plain": [
       "Songs & Artist     object\n",
       "Streams             int64\n",
       "Daily             float64\n",
       "dtype: object"
      ]
     },
     "execution_count": 163,
     "metadata": {},
     "output_type": "execute_result"
    }
   ],
   "source": [
    "data.dtypes"
   ]
  },
  {
   "cell_type": "code",
   "execution_count": 164,
   "metadata": {},
   "outputs": [
    {
     "data": {
      "text/html": [
       "<div>\n",
       "<style scoped>\n",
       "    .dataframe tbody tr th:only-of-type {\n",
       "        vertical-align: middle;\n",
       "    }\n",
       "\n",
       "    .dataframe tbody tr th {\n",
       "        vertical-align: top;\n",
       "    }\n",
       "\n",
       "    .dataframe thead th {\n",
       "        text-align: right;\n",
       "    }\n",
       "</style>\n",
       "<table border=\"1\" class=\"dataframe\">\n",
       "  <thead>\n",
       "    <tr style=\"text-align: right;\">\n",
       "      <th></th>\n",
       "      <th>Streams</th>\n",
       "      <th>Daily</th>\n",
       "    </tr>\n",
       "  </thead>\n",
       "  <tbody>\n",
       "    <tr>\n",
       "      <th>count</th>\n",
       "      <td>2.500000e+03</td>\n",
       "      <td>2.498000e+03</td>\n",
       "    </tr>\n",
       "    <tr>\n",
       "      <th>mean</th>\n",
       "      <td>9.381437e+08</td>\n",
       "      <td>5.044663e+05</td>\n",
       "    </tr>\n",
       "    <tr>\n",
       "      <th>std</th>\n",
       "      <td>4.788772e+08</td>\n",
       "      <td>4.963328e+05</td>\n",
       "    </tr>\n",
       "    <tr>\n",
       "      <th>min</th>\n",
       "      <td>5.052491e+08</td>\n",
       "      <td>7.523000e+03</td>\n",
       "    </tr>\n",
       "    <tr>\n",
       "      <th>25%</th>\n",
       "      <td>6.099077e+08</td>\n",
       "      <td>2.245135e+05</td>\n",
       "    </tr>\n",
       "    <tr>\n",
       "      <th>50%</th>\n",
       "      <td>7.628053e+08</td>\n",
       "      <td>3.763570e+05</td>\n",
       "    </tr>\n",
       "    <tr>\n",
       "      <th>75%</th>\n",
       "      <td>1.096878e+09</td>\n",
       "      <td>6.318060e+05</td>\n",
       "    </tr>\n",
       "    <tr>\n",
       "      <th>max</th>\n",
       "      <td>4.463659e+09</td>\n",
       "      <td>7.553534e+06</td>\n",
       "    </tr>\n",
       "  </tbody>\n",
       "</table>\n",
       "</div>"
      ],
      "text/plain": [
       "            Streams         Daily\n",
       "count  2.500000e+03  2.498000e+03\n",
       "mean   9.381437e+08  5.044663e+05\n",
       "std    4.788772e+08  4.963328e+05\n",
       "min    5.052491e+08  7.523000e+03\n",
       "25%    6.099077e+08  2.245135e+05\n",
       "50%    7.628053e+08  3.763570e+05\n",
       "75%    1.096878e+09  6.318060e+05\n",
       "max    4.463659e+09  7.553534e+06"
      ]
     },
     "execution_count": 164,
     "metadata": {},
     "output_type": "execute_result"
    }
   ],
   "source": [
    "data.describe()"
   ]
  },
  {
   "cell_type": "code",
   "execution_count": 165,
   "metadata": {},
   "outputs": [
    {
     "data": {
      "text/html": [
       "<div>\n",
       "<style scoped>\n",
       "    .dataframe tbody tr th:only-of-type {\n",
       "        vertical-align: middle;\n",
       "    }\n",
       "\n",
       "    .dataframe tbody tr th {\n",
       "        vertical-align: top;\n",
       "    }\n",
       "\n",
       "    .dataframe thead th {\n",
       "        text-align: right;\n",
       "    }\n",
       "</style>\n",
       "<table border=\"1\" class=\"dataframe\">\n",
       "  <thead>\n",
       "    <tr style=\"text-align: right;\">\n",
       "      <th></th>\n",
       "      <th>Songs &amp; Artist</th>\n",
       "      <th>Streams</th>\n",
       "      <th>Daily</th>\n",
       "    </tr>\n",
       "  </thead>\n",
       "  <tbody>\n",
       "    <tr>\n",
       "      <th>count</th>\n",
       "      <td>2500</td>\n",
       "      <td>2.500000e+03</td>\n",
       "      <td>2.498000e+03</td>\n",
       "    </tr>\n",
       "    <tr>\n",
       "      <th>unique</th>\n",
       "      <td>2474</td>\n",
       "      <td>NaN</td>\n",
       "      <td>NaN</td>\n",
       "    </tr>\n",
       "    <tr>\n",
       "      <th>top</th>\n",
       "      <td>Super Yei - La Forma en Que Me Miras</td>\n",
       "      <td>NaN</td>\n",
       "      <td>NaN</td>\n",
       "    </tr>\n",
       "    <tr>\n",
       "      <th>freq</th>\n",
       "      <td>2</td>\n",
       "      <td>NaN</td>\n",
       "      <td>NaN</td>\n",
       "    </tr>\n",
       "    <tr>\n",
       "      <th>mean</th>\n",
       "      <td>NaN</td>\n",
       "      <td>9.381437e+08</td>\n",
       "      <td>5.044663e+05</td>\n",
       "    </tr>\n",
       "    <tr>\n",
       "      <th>std</th>\n",
       "      <td>NaN</td>\n",
       "      <td>4.788772e+08</td>\n",
       "      <td>4.963328e+05</td>\n",
       "    </tr>\n",
       "    <tr>\n",
       "      <th>min</th>\n",
       "      <td>NaN</td>\n",
       "      <td>5.052491e+08</td>\n",
       "      <td>7.523000e+03</td>\n",
       "    </tr>\n",
       "    <tr>\n",
       "      <th>25%</th>\n",
       "      <td>NaN</td>\n",
       "      <td>6.099077e+08</td>\n",
       "      <td>2.245135e+05</td>\n",
       "    </tr>\n",
       "    <tr>\n",
       "      <th>50%</th>\n",
       "      <td>NaN</td>\n",
       "      <td>7.628053e+08</td>\n",
       "      <td>3.763570e+05</td>\n",
       "    </tr>\n",
       "    <tr>\n",
       "      <th>75%</th>\n",
       "      <td>NaN</td>\n",
       "      <td>1.096878e+09</td>\n",
       "      <td>6.318060e+05</td>\n",
       "    </tr>\n",
       "    <tr>\n",
       "      <th>max</th>\n",
       "      <td>NaN</td>\n",
       "      <td>4.463659e+09</td>\n",
       "      <td>7.553534e+06</td>\n",
       "    </tr>\n",
       "  </tbody>\n",
       "</table>\n",
       "</div>"
      ],
      "text/plain": [
       "                              Songs & Artist       Streams         Daily\n",
       "count                                   2500  2.500000e+03  2.498000e+03\n",
       "unique                                  2474           NaN           NaN\n",
       "top     Super Yei - La Forma en Que Me Miras           NaN           NaN\n",
       "freq                                       2           NaN           NaN\n",
       "mean                                     NaN  9.381437e+08  5.044663e+05\n",
       "std                                      NaN  4.788772e+08  4.963328e+05\n",
       "min                                      NaN  5.052491e+08  7.523000e+03\n",
       "25%                                      NaN  6.099077e+08  2.245135e+05\n",
       "50%                                      NaN  7.628053e+08  3.763570e+05\n",
       "75%                                      NaN  1.096878e+09  6.318060e+05\n",
       "max                                      NaN  4.463659e+09  7.553534e+06"
      ]
     },
     "execution_count": 165,
     "metadata": {},
     "output_type": "execute_result"
    }
   ],
   "source": [
    "data.describe(include=\"all\")"
   ]
  },
  {
   "cell_type": "code",
   "execution_count": 167,
   "metadata": {},
   "outputs": [
    {
     "data": {
      "text/plain": [
       "Index(['Songs & Artist', 'Streams', 'Daily'], dtype='object')"
      ]
     },
     "execution_count": 167,
     "metadata": {},
     "output_type": "execute_result"
    }
   ],
   "source": [
    "data.columns"
   ]
  },
  {
   "cell_type": "code",
   "execution_count": 166,
   "metadata": {},
   "outputs": [
    {
     "data": {
      "text/plain": [
       "0       4463658617\n",
       "1       4018102402\n",
       "2       3588673578\n",
       "3       3544187311\n",
       "4       3518744128\n",
       "           ...    \n",
       "2495     505592800\n",
       "2496     505511969\n",
       "2497     505386377\n",
       "2498     505309100\n",
       "2499     505249124\n",
       "Name: Streams, Length: 2500, dtype: int64"
      ]
     },
     "execution_count": 166,
     "metadata": {},
     "output_type": "execute_result"
    }
   ],
   "source": [
    "data[\"Streams\"]"
   ]
  },
  {
   "cell_type": "code",
   "execution_count": 168,
   "metadata": {},
   "outputs": [
    {
     "data": {
      "text/plain": [
       "0    4463658617\n",
       "1    4018102402\n",
       "2    3588673578\n",
       "3    3544187311\n",
       "4    3518744128\n",
       "Name: Streams, dtype: int64"
      ]
     },
     "execution_count": 168,
     "metadata": {},
     "output_type": "execute_result"
    }
   ],
   "source": [
    "data[\"Streams\"].head()"
   ]
  },
  {
   "cell_type": "code",
   "execution_count": 169,
   "metadata": {},
   "outputs": [
    {
     "data": {
      "text/plain": [
       "(2500,)"
      ]
     },
     "execution_count": 169,
     "metadata": {},
     "output_type": "execute_result"
    }
   ],
   "source": [
    "data[\"Streams\"].shape"
   ]
  },
  {
   "cell_type": "code",
   "execution_count": 170,
   "metadata": {},
   "outputs": [
    {
     "data": {
      "text/plain": [
       "(2500, 3)"
      ]
     },
     "execution_count": 170,
     "metadata": {},
     "output_type": "execute_result"
    }
   ],
   "source": [
    "data.shape"
   ]
  },
  {
   "cell_type": "code",
   "execution_count": 171,
   "metadata": {},
   "outputs": [
    {
     "data": {
      "text/html": [
       "<div>\n",
       "<style scoped>\n",
       "    .dataframe tbody tr th:only-of-type {\n",
       "        vertical-align: middle;\n",
       "    }\n",
       "\n",
       "    .dataframe tbody tr th {\n",
       "        vertical-align: top;\n",
       "    }\n",
       "\n",
       "    .dataframe thead th {\n",
       "        text-align: right;\n",
       "    }\n",
       "</style>\n",
       "<table border=\"1\" class=\"dataframe\">\n",
       "  <thead>\n",
       "    <tr style=\"text-align: right;\">\n",
       "      <th></th>\n",
       "      <th>Streams</th>\n",
       "      <th>Daily</th>\n",
       "    </tr>\n",
       "  </thead>\n",
       "  <tbody>\n",
       "    <tr>\n",
       "      <th>0</th>\n",
       "      <td>4463658617</td>\n",
       "      <td>1619447.0</td>\n",
       "    </tr>\n",
       "    <tr>\n",
       "      <th>1</th>\n",
       "      <td>4018102402</td>\n",
       "      <td>1001507.0</td>\n",
       "    </tr>\n",
       "    <tr>\n",
       "      <th>2</th>\n",
       "      <td>3588673578</td>\n",
       "      <td>1506961.0</td>\n",
       "    </tr>\n",
       "    <tr>\n",
       "      <th>3</th>\n",
       "      <td>3544187311</td>\n",
       "      <td>1611374.0</td>\n",
       "    </tr>\n",
       "    <tr>\n",
       "      <th>4</th>\n",
       "      <td>3518744128</td>\n",
       "      <td>1337404.0</td>\n",
       "    </tr>\n",
       "    <tr>\n",
       "      <th>...</th>\n",
       "      <td>...</td>\n",
       "      <td>...</td>\n",
       "    </tr>\n",
       "    <tr>\n",
       "      <th>2495</th>\n",
       "      <td>505592800</td>\n",
       "      <td>1278450.0</td>\n",
       "    </tr>\n",
       "    <tr>\n",
       "      <th>2496</th>\n",
       "      <td>505511969</td>\n",
       "      <td>118483.0</td>\n",
       "    </tr>\n",
       "    <tr>\n",
       "      <th>2497</th>\n",
       "      <td>505386377</td>\n",
       "      <td>205701.0</td>\n",
       "    </tr>\n",
       "    <tr>\n",
       "      <th>2498</th>\n",
       "      <td>505309100</td>\n",
       "      <td>280336.0</td>\n",
       "    </tr>\n",
       "    <tr>\n",
       "      <th>2499</th>\n",
       "      <td>505249124</td>\n",
       "      <td>288515.0</td>\n",
       "    </tr>\n",
       "  </tbody>\n",
       "</table>\n",
       "<p>2500 rows × 2 columns</p>\n",
       "</div>"
      ],
      "text/plain": [
       "         Streams      Daily\n",
       "0     4463658617  1619447.0\n",
       "1     4018102402  1001507.0\n",
       "2     3588673578  1506961.0\n",
       "3     3544187311  1611374.0\n",
       "4     3518744128  1337404.0\n",
       "...          ...        ...\n",
       "2495   505592800  1278450.0\n",
       "2496   505511969   118483.0\n",
       "2497   505386377   205701.0\n",
       "2498   505309100   280336.0\n",
       "2499   505249124   288515.0\n",
       "\n",
       "[2500 rows x 2 columns]"
      ]
     },
     "execution_count": 171,
     "metadata": {},
     "output_type": "execute_result"
    }
   ],
   "source": [
    "data[[\"Streams\", \"Daily\"]]"
   ]
  },
  {
   "cell_type": "code",
   "execution_count": 172,
   "metadata": {},
   "outputs": [
    {
     "data": {
      "text/plain": [
       "0       False\n",
       "1       False\n",
       "2       False\n",
       "3       False\n",
       "4       False\n",
       "        ...  \n",
       "2495    False\n",
       "2496    False\n",
       "2497    False\n",
       "2498    False\n",
       "2499    False\n",
       "Length: 2500, dtype: bool"
      ]
     },
     "execution_count": 172,
     "metadata": {},
     "output_type": "execute_result"
    }
   ],
   "source": [
    "data.duplicated()"
   ]
  },
  {
   "cell_type": "code",
   "execution_count": 174,
   "metadata": {},
   "outputs": [
    {
     "data": {
      "text/plain": [
       "0"
      ]
     },
     "execution_count": 174,
     "metadata": {},
     "output_type": "execute_result"
    }
   ],
   "source": [
    "sum(data.duplicated())"
   ]
  },
  {
   "cell_type": "code",
   "execution_count": 177,
   "metadata": {},
   "outputs": [
    {
     "data": {
      "text/html": [
       "<div>\n",
       "<style scoped>\n",
       "    .dataframe tbody tr th:only-of-type {\n",
       "        vertical-align: middle;\n",
       "    }\n",
       "\n",
       "    .dataframe tbody tr th {\n",
       "        vertical-align: top;\n",
       "    }\n",
       "\n",
       "    .dataframe thead th {\n",
       "        text-align: right;\n",
       "    }\n",
       "</style>\n",
       "<table border=\"1\" class=\"dataframe\">\n",
       "  <thead>\n",
       "    <tr style=\"text-align: right;\">\n",
       "      <th></th>\n",
       "      <th>Songs &amp; Artist</th>\n",
       "      <th>Streams</th>\n",
       "      <th>Daily</th>\n",
       "    </tr>\n",
       "  </thead>\n",
       "  <tbody>\n",
       "  </tbody>\n",
       "</table>\n",
       "</div>"
      ],
      "text/plain": [
       "Empty DataFrame\n",
       "Columns: [Songs & Artist, Streams, Daily]\n",
       "Index: []"
      ]
     },
     "execution_count": 177,
     "metadata": {},
     "output_type": "execute_result"
    }
   ],
   "source": [
    "data[data.duplicated()]"
   ]
  },
  {
   "cell_type": "code",
   "execution_count": 175,
   "metadata": {},
   "outputs": [
    {
     "data": {
      "text/plain": [
       "0       False\n",
       "1       False\n",
       "2       False\n",
       "3       False\n",
       "4       False\n",
       "        ...  \n",
       "2495    False\n",
       "2496    False\n",
       "2497    False\n",
       "2498    False\n",
       "2499    False\n",
       "Length: 2500, dtype: bool"
      ]
     },
     "execution_count": 175,
     "metadata": {},
     "output_type": "execute_result"
    }
   ],
   "source": [
    "data.duplicated(subset=[\"Songs & Artist\"])"
   ]
  },
  {
   "cell_type": "code",
   "execution_count": 176,
   "metadata": {},
   "outputs": [
    {
     "data": {
      "text/plain": [
       "26"
      ]
     },
     "execution_count": 176,
     "metadata": {},
     "output_type": "execute_result"
    }
   ],
   "source": [
    "sum(data.duplicated(subset=[\"Songs & Artist\"]))"
   ]
  },
  {
   "cell_type": "code",
   "execution_count": 178,
   "metadata": {},
   "outputs": [
    {
     "data": {
      "text/html": [
       "<div>\n",
       "<style scoped>\n",
       "    .dataframe tbody tr th:only-of-type {\n",
       "        vertical-align: middle;\n",
       "    }\n",
       "\n",
       "    .dataframe tbody tr th {\n",
       "        vertical-align: top;\n",
       "    }\n",
       "\n",
       "    .dataframe thead th {\n",
       "        text-align: right;\n",
       "    }\n",
       "</style>\n",
       "<table border=\"1\" class=\"dataframe\">\n",
       "  <thead>\n",
       "    <tr style=\"text-align: right;\">\n",
       "      <th></th>\n",
       "      <th>Songs &amp; Artist</th>\n",
       "      <th>Streams</th>\n",
       "      <th>Daily</th>\n",
       "    </tr>\n",
       "  </thead>\n",
       "  <tbody>\n",
       "    <tr>\n",
       "      <th>43</th>\n",
       "      <td>The Weeknd - Die For You</td>\n",
       "      <td>2424085403</td>\n",
       "      <td>1667707.0</td>\n",
       "    </tr>\n",
       "    <tr>\n",
       "      <th>78</th>\n",
       "      <td>Dua Lipa - Levitating</td>\n",
       "      <td>2154284982</td>\n",
       "      <td>893251.0</td>\n",
       "    </tr>\n",
       "    <tr>\n",
       "      <th>85</th>\n",
       "      <td>The Weeknd - Save Your Tears</td>\n",
       "      <td>2106540115</td>\n",
       "      <td>999562.0</td>\n",
       "    </tr>\n",
       "    <tr>\n",
       "      <th>152</th>\n",
       "      <td>Sia - Cheap Thrills</td>\n",
       "      <td>1816755550</td>\n",
       "      <td>361118.0</td>\n",
       "    </tr>\n",
       "    <tr>\n",
       "      <th>163</th>\n",
       "      <td>Luis Fonsi - Despacito</td>\n",
       "      <td>1800662716</td>\n",
       "      <td>555695.0</td>\n",
       "    </tr>\n",
       "    <tr>\n",
       "      <th>183</th>\n",
       "      <td>Luis Fonsi - Despacito</td>\n",
       "      <td>1739696575</td>\n",
       "      <td>246341.0</td>\n",
       "    </tr>\n",
       "    <tr>\n",
       "      <th>230</th>\n",
       "      <td>The Weeknd - Save Your Tears</td>\n",
       "      <td>1641748842</td>\n",
       "      <td>751787.0</td>\n",
       "    </tr>\n",
       "    <tr>\n",
       "      <th>232</th>\n",
       "      <td>Ed Sheeran - Shivers</td>\n",
       "      <td>1641091438</td>\n",
       "      <td>576659.0</td>\n",
       "    </tr>\n",
       "    <tr>\n",
       "      <th>266</th>\n",
       "      <td>Lil Nas X - Old Town Road</td>\n",
       "      <td>1549228839</td>\n",
       "      <td>206616.0</td>\n",
       "    </tr>\n",
       "    <tr>\n",
       "      <th>298</th>\n",
       "      <td>Coldplay - Hymn for the Weekend</td>\n",
       "      <td>1496256559</td>\n",
       "      <td>1056203.0</td>\n",
       "    </tr>\n",
       "    <tr>\n",
       "      <th>308</th>\n",
       "      <td>Rema - Calm Down</td>\n",
       "      <td>1483474961</td>\n",
       "      <td>873674.0</td>\n",
       "    </tr>\n",
       "    <tr>\n",
       "      <th>362</th>\n",
       "      <td>Billie Eilish - Happier Than Ever</td>\n",
       "      <td>1394078140</td>\n",
       "      <td>682106.0</td>\n",
       "    </tr>\n",
       "    <tr>\n",
       "      <th>398</th>\n",
       "      <td>Ed Sheeran - Shivers</td>\n",
       "      <td>1356315091</td>\n",
       "      <td>NaN</td>\n",
       "    </tr>\n",
       "    <tr>\n",
       "      <th>712</th>\n",
       "      <td>Lil Nas X - Old Town Road</td>\n",
       "      <td>1029388334</td>\n",
       "      <td>189386.0</td>\n",
       "    </tr>\n",
       "    <tr>\n",
       "      <th>784</th>\n",
       "      <td>Dua Lipa - Levitating</td>\n",
       "      <td>987773822</td>\n",
       "      <td>334828.0</td>\n",
       "    </tr>\n",
       "    <tr>\n",
       "      <th>794</th>\n",
       "      <td>The Weeknd - Die For You</td>\n",
       "      <td>984347878</td>\n",
       "      <td>733231.0</td>\n",
       "    </tr>\n",
       "    <tr>\n",
       "      <th>819</th>\n",
       "      <td>Tove Lo - Habits (Stay High)</td>\n",
       "      <td>967185289</td>\n",
       "      <td>466186.0</td>\n",
       "    </tr>\n",
       "    <tr>\n",
       "      <th>845</th>\n",
       "      <td>Elvis Presley - Can't Help Falling in Love</td>\n",
       "      <td>953534151</td>\n",
       "      <td>665740.0</td>\n",
       "    </tr>\n",
       "    <tr>\n",
       "      <th>970</th>\n",
       "      <td>Taylor Swift - ME!</td>\n",
       "      <td>884543285</td>\n",
       "      <td>182419.0</td>\n",
       "    </tr>\n",
       "    <tr>\n",
       "      <th>995</th>\n",
       "      <td>Kid Cudi - Day 'N' Nite</td>\n",
       "      <td>871387550</td>\n",
       "      <td>353965.0</td>\n",
       "    </tr>\n",
       "    <tr>\n",
       "      <th>1035</th>\n",
       "      <td>Elvis Presley - Can't Help Falling in Love</td>\n",
       "      <td>846573905</td>\n",
       "      <td>497676.0</td>\n",
       "    </tr>\n",
       "    <tr>\n",
       "      <th>1038</th>\n",
       "      <td>Kid Cudi - Day 'N' Nite</td>\n",
       "      <td>846085321</td>\n",
       "      <td>318493.0</td>\n",
       "    </tr>\n",
       "    <tr>\n",
       "      <th>1090</th>\n",
       "      <td>Olivia Rodrigo - All I Want</td>\n",
       "      <td>823896543</td>\n",
       "      <td>455847.0</td>\n",
       "    </tr>\n",
       "    <tr>\n",
       "      <th>1233</th>\n",
       "      <td>Olivia Rodrigo - All I Want</td>\n",
       "      <td>768847035</td>\n",
       "      <td>487824.0</td>\n",
       "    </tr>\n",
       "    <tr>\n",
       "      <th>1276</th>\n",
       "      <td>Lil Tjay - F.N</td>\n",
       "      <td>754521936</td>\n",
       "      <td>226976.0</td>\n",
       "    </tr>\n",
       "    <tr>\n",
       "      <th>1294</th>\n",
       "      <td>Sia - Cheap Thrills</td>\n",
       "      <td>750321259</td>\n",
       "      <td>374355.0</td>\n",
       "    </tr>\n",
       "    <tr>\n",
       "      <th>1358</th>\n",
       "      <td>Taylor Swift - ME!</td>\n",
       "      <td>730859004</td>\n",
       "      <td>320741.0</td>\n",
       "    </tr>\n",
       "    <tr>\n",
       "      <th>1448</th>\n",
       "      <td>Lil Uzi Vert - Just Wanna Rock</td>\n",
       "      <td>706064376</td>\n",
       "      <td>321109.0</td>\n",
       "    </tr>\n",
       "    <tr>\n",
       "      <th>1461</th>\n",
       "      <td>Sech - Otro Trago</td>\n",
       "      <td>702218100</td>\n",
       "      <td>74680.0</td>\n",
       "    </tr>\n",
       "    <tr>\n",
       "      <th>1481</th>\n",
       "      <td>Dua Lipa - Love Again</td>\n",
       "      <td>695558133</td>\n",
       "      <td>409176.0</td>\n",
       "    </tr>\n",
       "    <tr>\n",
       "      <th>1547</th>\n",
       "      <td>Lil Uzi Vert - Just Wanna Rock</td>\n",
       "      <td>676421811</td>\n",
       "      <td>398761.0</td>\n",
       "    </tr>\n",
       "    <tr>\n",
       "      <th>1610</th>\n",
       "      <td>Coldplay - Hymn for the Weekend</td>\n",
       "      <td>661017746</td>\n",
       "      <td>49584.0</td>\n",
       "    </tr>\n",
       "    <tr>\n",
       "      <th>1660</th>\n",
       "      <td>Kina - Can We Kiss Forever?</td>\n",
       "      <td>650333693</td>\n",
       "      <td>147605.0</td>\n",
       "    </tr>\n",
       "    <tr>\n",
       "      <th>1694</th>\n",
       "      <td>Dua Lipa - Love Again</td>\n",
       "      <td>642320839</td>\n",
       "      <td>286822.0</td>\n",
       "    </tr>\n",
       "    <tr>\n",
       "      <th>1756</th>\n",
       "      <td>Tove Lo - Habits (Stay High)</td>\n",
       "      <td>629870714</td>\n",
       "      <td>124970.0</td>\n",
       "    </tr>\n",
       "    <tr>\n",
       "      <th>1769</th>\n",
       "      <td>Simon &amp; Garfunkel - The Sound of Silence</td>\n",
       "      <td>628244943</td>\n",
       "      <td>549285.0</td>\n",
       "    </tr>\n",
       "    <tr>\n",
       "      <th>1795</th>\n",
       "      <td>Lil Tjay - F.N</td>\n",
       "      <td>624709072</td>\n",
       "      <td>NaN</td>\n",
       "    </tr>\n",
       "    <tr>\n",
       "      <th>1827</th>\n",
       "      <td>Kina - Can We Kiss Forever?</td>\n",
       "      <td>617681058</td>\n",
       "      <td>179852.0</td>\n",
       "    </tr>\n",
       "    <tr>\n",
       "      <th>1849</th>\n",
       "      <td>Rema - Calm Down</td>\n",
       "      <td>613460856</td>\n",
       "      <td>259954.0</td>\n",
       "    </tr>\n",
       "    <tr>\n",
       "      <th>1861</th>\n",
       "      <td>CKay - love nwantiti</td>\n",
       "      <td>611824749</td>\n",
       "      <td>156699.0</td>\n",
       "    </tr>\n",
       "    <tr>\n",
       "      <th>1974</th>\n",
       "      <td>Sam Feldt - Post Malone</td>\n",
       "      <td>593078036</td>\n",
       "      <td>91025.0</td>\n",
       "    </tr>\n",
       "    <tr>\n",
       "      <th>2037</th>\n",
       "      <td>CKay - love nwantiti</td>\n",
       "      <td>582038804</td>\n",
       "      <td>156025.0</td>\n",
       "    </tr>\n",
       "    <tr>\n",
       "      <th>2071</th>\n",
       "      <td>Starship - We Built This City</td>\n",
       "      <td>576046295</td>\n",
       "      <td>222306.0</td>\n",
       "    </tr>\n",
       "    <tr>\n",
       "      <th>2106</th>\n",
       "      <td>Super Yei - La Forma en Que Me Miras</td>\n",
       "      <td>570110083</td>\n",
       "      <td>297587.0</td>\n",
       "    </tr>\n",
       "    <tr>\n",
       "      <th>2137</th>\n",
       "      <td>Sech - Otro Trago</td>\n",
       "      <td>564511227</td>\n",
       "      <td>74081.0</td>\n",
       "    </tr>\n",
       "    <tr>\n",
       "      <th>2157</th>\n",
       "      <td>Sam Feldt - Post Malone</td>\n",
       "      <td>559507066</td>\n",
       "      <td>95753.0</td>\n",
       "    </tr>\n",
       "    <tr>\n",
       "      <th>2208</th>\n",
       "      <td>Simon &amp; Garfunkel - The Sound of Silence</td>\n",
       "      <td>549644238</td>\n",
       "      <td>277428.0</td>\n",
       "    </tr>\n",
       "    <tr>\n",
       "      <th>2250</th>\n",
       "      <td>Super Yei - La Forma en Que Me Miras</td>\n",
       "      <td>542582207</td>\n",
       "      <td>295106.0</td>\n",
       "    </tr>\n",
       "    <tr>\n",
       "      <th>2289</th>\n",
       "      <td>Black Eyed Peas - MAMACITA</td>\n",
       "      <td>535539463</td>\n",
       "      <td>74105.0</td>\n",
       "    </tr>\n",
       "    <tr>\n",
       "      <th>2393</th>\n",
       "      <td>Starship - We Built This City</td>\n",
       "      <td>519328507</td>\n",
       "      <td>251555.0</td>\n",
       "    </tr>\n",
       "    <tr>\n",
       "      <th>2465</th>\n",
       "      <td>Billie Eilish - Happier Than Ever</td>\n",
       "      <td>509657354</td>\n",
       "      <td>112239.0</td>\n",
       "    </tr>\n",
       "    <tr>\n",
       "      <th>2488</th>\n",
       "      <td>Black Eyed Peas - MAMACITA</td>\n",
       "      <td>505990099</td>\n",
       "      <td>99626.0</td>\n",
       "    </tr>\n",
       "  </tbody>\n",
       "</table>\n",
       "</div>"
      ],
      "text/plain": [
       "                                  Songs & Artist     Streams      Daily\n",
       "43                      The Weeknd - Die For You  2424085403  1667707.0\n",
       "78                         Dua Lipa - Levitating  2154284982   893251.0\n",
       "85                  The Weeknd - Save Your Tears  2106540115   999562.0\n",
       "152                          Sia - Cheap Thrills  1816755550   361118.0\n",
       "163                       Luis Fonsi - Despacito  1800662716   555695.0\n",
       "183                       Luis Fonsi - Despacito  1739696575   246341.0\n",
       "230                 The Weeknd - Save Your Tears  1641748842   751787.0\n",
       "232                         Ed Sheeran - Shivers  1641091438   576659.0\n",
       "266                    Lil Nas X - Old Town Road  1549228839   206616.0\n",
       "298              Coldplay - Hymn for the Weekend  1496256559  1056203.0\n",
       "308                             Rema - Calm Down  1483474961   873674.0\n",
       "362            Billie Eilish - Happier Than Ever  1394078140   682106.0\n",
       "398                         Ed Sheeran - Shivers  1356315091        NaN\n",
       "712                    Lil Nas X - Old Town Road  1029388334   189386.0\n",
       "784                        Dua Lipa - Levitating   987773822   334828.0\n",
       "794                     The Weeknd - Die For You   984347878   733231.0\n",
       "819                 Tove Lo - Habits (Stay High)   967185289   466186.0\n",
       "845   Elvis Presley - Can't Help Falling in Love   953534151   665740.0\n",
       "970                           Taylor Swift - ME!   884543285   182419.0\n",
       "995                      Kid Cudi - Day 'N' Nite   871387550   353965.0\n",
       "1035  Elvis Presley - Can't Help Falling in Love   846573905   497676.0\n",
       "1038                     Kid Cudi - Day 'N' Nite   846085321   318493.0\n",
       "1090                 Olivia Rodrigo - All I Want   823896543   455847.0\n",
       "1233                 Olivia Rodrigo - All I Want   768847035   487824.0\n",
       "1276                              Lil Tjay - F.N   754521936   226976.0\n",
       "1294                         Sia - Cheap Thrills   750321259   374355.0\n",
       "1358                          Taylor Swift - ME!   730859004   320741.0\n",
       "1448              Lil Uzi Vert - Just Wanna Rock   706064376   321109.0\n",
       "1461                           Sech - Otro Trago   702218100    74680.0\n",
       "1481                       Dua Lipa - Love Again   695558133   409176.0\n",
       "1547              Lil Uzi Vert - Just Wanna Rock   676421811   398761.0\n",
       "1610             Coldplay - Hymn for the Weekend   661017746    49584.0\n",
       "1660                 Kina - Can We Kiss Forever?   650333693   147605.0\n",
       "1694                       Dua Lipa - Love Again   642320839   286822.0\n",
       "1756                Tove Lo - Habits (Stay High)   629870714   124970.0\n",
       "1769    Simon & Garfunkel - The Sound of Silence   628244943   549285.0\n",
       "1795                              Lil Tjay - F.N   624709072        NaN\n",
       "1827                 Kina - Can We Kiss Forever?   617681058   179852.0\n",
       "1849                            Rema - Calm Down   613460856   259954.0\n",
       "1861                        CKay - love nwantiti   611824749   156699.0\n",
       "1974                     Sam Feldt - Post Malone   593078036    91025.0\n",
       "2037                        CKay - love nwantiti   582038804   156025.0\n",
       "2071               Starship - We Built This City   576046295   222306.0\n",
       "2106        Super Yei - La Forma en Que Me Miras   570110083   297587.0\n",
       "2137                           Sech - Otro Trago   564511227    74081.0\n",
       "2157                     Sam Feldt - Post Malone   559507066    95753.0\n",
       "2208    Simon & Garfunkel - The Sound of Silence   549644238   277428.0\n",
       "2250        Super Yei - La Forma en Que Me Miras   542582207   295106.0\n",
       "2289                  Black Eyed Peas - MAMACITA   535539463    74105.0\n",
       "2393               Starship - We Built This City   519328507   251555.0\n",
       "2465           Billie Eilish - Happier Than Ever   509657354   112239.0\n",
       "2488                  Black Eyed Peas - MAMACITA   505990099    99626.0"
      ]
     },
     "execution_count": 178,
     "metadata": {},
     "output_type": "execute_result"
    }
   ],
   "source": [
    "data[data.duplicated(subset=[\"Songs & Artist\"], keep=False)]"
   ]
  },
  {
   "cell_type": "code",
   "execution_count": 179,
   "metadata": {},
   "outputs": [
    {
     "data": {
      "text/html": [
       "<div>\n",
       "<style scoped>\n",
       "    .dataframe tbody tr th:only-of-type {\n",
       "        vertical-align: middle;\n",
       "    }\n",
       "\n",
       "    .dataframe tbody tr th {\n",
       "        vertical-align: top;\n",
       "    }\n",
       "\n",
       "    .dataframe thead th {\n",
       "        text-align: right;\n",
       "    }\n",
       "</style>\n",
       "<table border=\"1\" class=\"dataframe\">\n",
       "  <thead>\n",
       "    <tr style=\"text-align: right;\">\n",
       "      <th></th>\n",
       "      <th>Songs &amp; Artist</th>\n",
       "      <th>Streams</th>\n",
       "      <th>Daily</th>\n",
       "    </tr>\n",
       "  </thead>\n",
       "  <tbody>\n",
       "    <tr>\n",
       "      <th>0</th>\n",
       "      <td>The Weeknd - Blinding Lights</td>\n",
       "      <td>4463658617</td>\n",
       "      <td>1619447.0</td>\n",
       "    </tr>\n",
       "    <tr>\n",
       "      <th>1</th>\n",
       "      <td>Ed Sheeran - Shape of You</td>\n",
       "      <td>4018102402</td>\n",
       "      <td>1001507.0</td>\n",
       "    </tr>\n",
       "    <tr>\n",
       "      <th>2</th>\n",
       "      <td>Lewis Capaldi - Someone You Loved</td>\n",
       "      <td>3588673578</td>\n",
       "      <td>1506961.0</td>\n",
       "    </tr>\n",
       "    <tr>\n",
       "      <th>3</th>\n",
       "      <td>Harry Styles - As It Was</td>\n",
       "      <td>3544187311</td>\n",
       "      <td>1611374.0</td>\n",
       "    </tr>\n",
       "    <tr>\n",
       "      <th>4</th>\n",
       "      <td>Post Malone - Sunflower</td>\n",
       "      <td>3518744128</td>\n",
       "      <td>1337404.0</td>\n",
       "    </tr>\n",
       "    <tr>\n",
       "      <th>...</th>\n",
       "      <td>...</td>\n",
       "      <td>...</td>\n",
       "      <td>...</td>\n",
       "    </tr>\n",
       "    <tr>\n",
       "      <th>2495</th>\n",
       "      <td>Myke Towers - LA FALDA</td>\n",
       "      <td>505592800</td>\n",
       "      <td>1278450.0</td>\n",
       "    </tr>\n",
       "    <tr>\n",
       "      <th>2496</th>\n",
       "      <td>Social House - Magic In The Hamptons</td>\n",
       "      <td>505511969</td>\n",
       "      <td>118483.0</td>\n",
       "    </tr>\n",
       "    <tr>\n",
       "      <th>2497</th>\n",
       "      <td>KISS - Rock And Roll All Nite</td>\n",
       "      <td>505386377</td>\n",
       "      <td>205701.0</td>\n",
       "    </tr>\n",
       "    <tr>\n",
       "      <th>2498</th>\n",
       "      <td>Mora - 512</td>\n",
       "      <td>505309100</td>\n",
       "      <td>280336.0</td>\n",
       "    </tr>\n",
       "    <tr>\n",
       "      <th>2499</th>\n",
       "      <td>Meghan Trainor - Me Too</td>\n",
       "      <td>505249124</td>\n",
       "      <td>288515.0</td>\n",
       "    </tr>\n",
       "  </tbody>\n",
       "</table>\n",
       "<p>2474 rows × 3 columns</p>\n",
       "</div>"
      ],
      "text/plain": [
       "                            Songs & Artist     Streams      Daily\n",
       "0             The Weeknd - Blinding Lights  4463658617  1619447.0\n",
       "1                Ed Sheeran - Shape of You  4018102402  1001507.0\n",
       "2        Lewis Capaldi - Someone You Loved  3588673578  1506961.0\n",
       "3                 Harry Styles - As It Was  3544187311  1611374.0\n",
       "4                  Post Malone - Sunflower  3518744128  1337404.0\n",
       "...                                    ...         ...        ...\n",
       "2495                Myke Towers - LA FALDA   505592800  1278450.0\n",
       "2496  Social House - Magic In The Hamptons   505511969   118483.0\n",
       "2497         KISS - Rock And Roll All Nite   505386377   205701.0\n",
       "2498                            Mora - 512   505309100   280336.0\n",
       "2499               Meghan Trainor - Me Too   505249124   288515.0\n",
       "\n",
       "[2474 rows x 3 columns]"
      ]
     },
     "execution_count": 179,
     "metadata": {},
     "output_type": "execute_result"
    }
   ],
   "source": [
    "data.drop_duplicates(subset=[\"Songs & Artist\"], keep=\"first\")"
   ]
  },
  {
   "cell_type": "code",
   "execution_count": 180,
   "metadata": {},
   "outputs": [
    {
     "data": {
      "text/html": [
       "<div>\n",
       "<style scoped>\n",
       "    .dataframe tbody tr th:only-of-type {\n",
       "        vertical-align: middle;\n",
       "    }\n",
       "\n",
       "    .dataframe tbody tr th {\n",
       "        vertical-align: top;\n",
       "    }\n",
       "\n",
       "    .dataframe thead th {\n",
       "        text-align: right;\n",
       "    }\n",
       "</style>\n",
       "<table border=\"1\" class=\"dataframe\">\n",
       "  <thead>\n",
       "    <tr style=\"text-align: right;\">\n",
       "      <th></th>\n",
       "      <th>Songs &amp; Artist</th>\n",
       "      <th>Streams</th>\n",
       "      <th>Daily</th>\n",
       "    </tr>\n",
       "  </thead>\n",
       "  <tbody>\n",
       "    <tr>\n",
       "      <th>0</th>\n",
       "      <td>False</td>\n",
       "      <td>False</td>\n",
       "      <td>False</td>\n",
       "    </tr>\n",
       "    <tr>\n",
       "      <th>1</th>\n",
       "      <td>False</td>\n",
       "      <td>False</td>\n",
       "      <td>False</td>\n",
       "    </tr>\n",
       "    <tr>\n",
       "      <th>2</th>\n",
       "      <td>False</td>\n",
       "      <td>False</td>\n",
       "      <td>False</td>\n",
       "    </tr>\n",
       "    <tr>\n",
       "      <th>3</th>\n",
       "      <td>False</td>\n",
       "      <td>False</td>\n",
       "      <td>False</td>\n",
       "    </tr>\n",
       "    <tr>\n",
       "      <th>4</th>\n",
       "      <td>False</td>\n",
       "      <td>False</td>\n",
       "      <td>False</td>\n",
       "    </tr>\n",
       "    <tr>\n",
       "      <th>...</th>\n",
       "      <td>...</td>\n",
       "      <td>...</td>\n",
       "      <td>...</td>\n",
       "    </tr>\n",
       "    <tr>\n",
       "      <th>2495</th>\n",
       "      <td>False</td>\n",
       "      <td>False</td>\n",
       "      <td>False</td>\n",
       "    </tr>\n",
       "    <tr>\n",
       "      <th>2496</th>\n",
       "      <td>False</td>\n",
       "      <td>False</td>\n",
       "      <td>False</td>\n",
       "    </tr>\n",
       "    <tr>\n",
       "      <th>2497</th>\n",
       "      <td>False</td>\n",
       "      <td>False</td>\n",
       "      <td>False</td>\n",
       "    </tr>\n",
       "    <tr>\n",
       "      <th>2498</th>\n",
       "      <td>False</td>\n",
       "      <td>False</td>\n",
       "      <td>False</td>\n",
       "    </tr>\n",
       "    <tr>\n",
       "      <th>2499</th>\n",
       "      <td>False</td>\n",
       "      <td>False</td>\n",
       "      <td>False</td>\n",
       "    </tr>\n",
       "  </tbody>\n",
       "</table>\n",
       "<p>2500 rows × 3 columns</p>\n",
       "</div>"
      ],
      "text/plain": [
       "      Songs & Artist  Streams  Daily\n",
       "0              False    False  False\n",
       "1              False    False  False\n",
       "2              False    False  False\n",
       "3              False    False  False\n",
       "4              False    False  False\n",
       "...              ...      ...    ...\n",
       "2495           False    False  False\n",
       "2496           False    False  False\n",
       "2497           False    False  False\n",
       "2498           False    False  False\n",
       "2499           False    False  False\n",
       "\n",
       "[2500 rows x 3 columns]"
      ]
     },
     "execution_count": 180,
     "metadata": {},
     "output_type": "execute_result"
    }
   ],
   "source": [
    "data.isna()"
   ]
  },
  {
   "cell_type": "code",
   "execution_count": 181,
   "metadata": {},
   "outputs": [
    {
     "data": {
      "text/html": [
       "<div>\n",
       "<style scoped>\n",
       "    .dataframe tbody tr th:only-of-type {\n",
       "        vertical-align: middle;\n",
       "    }\n",
       "\n",
       "    .dataframe tbody tr th {\n",
       "        vertical-align: top;\n",
       "    }\n",
       "\n",
       "    .dataframe thead th {\n",
       "        text-align: right;\n",
       "    }\n",
       "</style>\n",
       "<table border=\"1\" class=\"dataframe\">\n",
       "  <thead>\n",
       "    <tr style=\"text-align: right;\">\n",
       "      <th></th>\n",
       "      <th>Songs &amp; Artist</th>\n",
       "      <th>Streams</th>\n",
       "      <th>Daily</th>\n",
       "    </tr>\n",
       "  </thead>\n",
       "  <tbody>\n",
       "    <tr>\n",
       "      <th>0</th>\n",
       "      <td>True</td>\n",
       "      <td>True</td>\n",
       "      <td>True</td>\n",
       "    </tr>\n",
       "    <tr>\n",
       "      <th>1</th>\n",
       "      <td>True</td>\n",
       "      <td>True</td>\n",
       "      <td>True</td>\n",
       "    </tr>\n",
       "    <tr>\n",
       "      <th>2</th>\n",
       "      <td>True</td>\n",
       "      <td>True</td>\n",
       "      <td>True</td>\n",
       "    </tr>\n",
       "    <tr>\n",
       "      <th>3</th>\n",
       "      <td>True</td>\n",
       "      <td>True</td>\n",
       "      <td>True</td>\n",
       "    </tr>\n",
       "    <tr>\n",
       "      <th>4</th>\n",
       "      <td>True</td>\n",
       "      <td>True</td>\n",
       "      <td>True</td>\n",
       "    </tr>\n",
       "    <tr>\n",
       "      <th>...</th>\n",
       "      <td>...</td>\n",
       "      <td>...</td>\n",
       "      <td>...</td>\n",
       "    </tr>\n",
       "    <tr>\n",
       "      <th>2495</th>\n",
       "      <td>True</td>\n",
       "      <td>True</td>\n",
       "      <td>True</td>\n",
       "    </tr>\n",
       "    <tr>\n",
       "      <th>2496</th>\n",
       "      <td>True</td>\n",
       "      <td>True</td>\n",
       "      <td>True</td>\n",
       "    </tr>\n",
       "    <tr>\n",
       "      <th>2497</th>\n",
       "      <td>True</td>\n",
       "      <td>True</td>\n",
       "      <td>True</td>\n",
       "    </tr>\n",
       "    <tr>\n",
       "      <th>2498</th>\n",
       "      <td>True</td>\n",
       "      <td>True</td>\n",
       "      <td>True</td>\n",
       "    </tr>\n",
       "    <tr>\n",
       "      <th>2499</th>\n",
       "      <td>True</td>\n",
       "      <td>True</td>\n",
       "      <td>True</td>\n",
       "    </tr>\n",
       "  </tbody>\n",
       "</table>\n",
       "<p>2500 rows × 3 columns</p>\n",
       "</div>"
      ],
      "text/plain": [
       "      Songs & Artist  Streams  Daily\n",
       "0               True     True   True\n",
       "1               True     True   True\n",
       "2               True     True   True\n",
       "3               True     True   True\n",
       "4               True     True   True\n",
       "...              ...      ...    ...\n",
       "2495            True     True   True\n",
       "2496            True     True   True\n",
       "2497            True     True   True\n",
       "2498            True     True   True\n",
       "2499            True     True   True\n",
       "\n",
       "[2500 rows x 3 columns]"
      ]
     },
     "execution_count": 181,
     "metadata": {},
     "output_type": "execute_result"
    }
   ],
   "source": [
    "data.notna()"
   ]
  },
  {
   "cell_type": "code",
   "execution_count": 183,
   "metadata": {},
   "outputs": [
    {
     "data": {
      "text/html": [
       "<div>\n",
       "<style scoped>\n",
       "    .dataframe tbody tr th:only-of-type {\n",
       "        vertical-align: middle;\n",
       "    }\n",
       "\n",
       "    .dataframe tbody tr th {\n",
       "        vertical-align: top;\n",
       "    }\n",
       "\n",
       "    .dataframe thead th {\n",
       "        text-align: right;\n",
       "    }\n",
       "</style>\n",
       "<table border=\"1\" class=\"dataframe\">\n",
       "  <thead>\n",
       "    <tr style=\"text-align: right;\">\n",
       "      <th></th>\n",
       "      <th>Songs &amp; Artist</th>\n",
       "      <th>Streams</th>\n",
       "      <th>Daily</th>\n",
       "    </tr>\n",
       "  </thead>\n",
       "  <tbody>\n",
       "    <tr>\n",
       "      <th>0</th>\n",
       "      <td>The Weeknd - Blinding Lights</td>\n",
       "      <td>4463658617</td>\n",
       "      <td>1619447.0</td>\n",
       "    </tr>\n",
       "    <tr>\n",
       "      <th>1</th>\n",
       "      <td>Ed Sheeran - Shape of You</td>\n",
       "      <td>4018102402</td>\n",
       "      <td>1001507.0</td>\n",
       "    </tr>\n",
       "    <tr>\n",
       "      <th>2</th>\n",
       "      <td>Lewis Capaldi - Someone You Loved</td>\n",
       "      <td>3588673578</td>\n",
       "      <td>1506961.0</td>\n",
       "    </tr>\n",
       "    <tr>\n",
       "      <th>3</th>\n",
       "      <td>Harry Styles - As It Was</td>\n",
       "      <td>3544187311</td>\n",
       "      <td>1611374.0</td>\n",
       "    </tr>\n",
       "    <tr>\n",
       "      <th>4</th>\n",
       "      <td>Post Malone - Sunflower</td>\n",
       "      <td>3518744128</td>\n",
       "      <td>1337404.0</td>\n",
       "    </tr>\n",
       "    <tr>\n",
       "      <th>...</th>\n",
       "      <td>...</td>\n",
       "      <td>...</td>\n",
       "      <td>...</td>\n",
       "    </tr>\n",
       "    <tr>\n",
       "      <th>2495</th>\n",
       "      <td>Myke Towers - LA FALDA</td>\n",
       "      <td>505592800</td>\n",
       "      <td>1278450.0</td>\n",
       "    </tr>\n",
       "    <tr>\n",
       "      <th>2496</th>\n",
       "      <td>Social House - Magic In The Hamptons</td>\n",
       "      <td>505511969</td>\n",
       "      <td>118483.0</td>\n",
       "    </tr>\n",
       "    <tr>\n",
       "      <th>2497</th>\n",
       "      <td>KISS - Rock And Roll All Nite</td>\n",
       "      <td>505386377</td>\n",
       "      <td>205701.0</td>\n",
       "    </tr>\n",
       "    <tr>\n",
       "      <th>2498</th>\n",
       "      <td>Mora - 512</td>\n",
       "      <td>505309100</td>\n",
       "      <td>280336.0</td>\n",
       "    </tr>\n",
       "    <tr>\n",
       "      <th>2499</th>\n",
       "      <td>Meghan Trainor - Me Too</td>\n",
       "      <td>505249124</td>\n",
       "      <td>288515.0</td>\n",
       "    </tr>\n",
       "  </tbody>\n",
       "</table>\n",
       "<p>2498 rows × 3 columns</p>\n",
       "</div>"
      ],
      "text/plain": [
       "                            Songs & Artist     Streams      Daily\n",
       "0             The Weeknd - Blinding Lights  4463658617  1619447.0\n",
       "1                Ed Sheeran - Shape of You  4018102402  1001507.0\n",
       "2        Lewis Capaldi - Someone You Loved  3588673578  1506961.0\n",
       "3                 Harry Styles - As It Was  3544187311  1611374.0\n",
       "4                  Post Malone - Sunflower  3518744128  1337404.0\n",
       "...                                    ...         ...        ...\n",
       "2495                Myke Towers - LA FALDA   505592800  1278450.0\n",
       "2496  Social House - Magic In The Hamptons   505511969   118483.0\n",
       "2497         KISS - Rock And Roll All Nite   505386377   205701.0\n",
       "2498                            Mora - 512   505309100   280336.0\n",
       "2499               Meghan Trainor - Me Too   505249124   288515.0\n",
       "\n",
       "[2498 rows x 3 columns]"
      ]
     },
     "execution_count": 183,
     "metadata": {},
     "output_type": "execute_result"
    }
   ],
   "source": [
    "data.dropna(axis=0)"
   ]
  },
  {
   "cell_type": "code",
   "execution_count": 184,
   "metadata": {},
   "outputs": [
    {
     "data": {
      "text/html": [
       "<div>\n",
       "<style scoped>\n",
       "    .dataframe tbody tr th:only-of-type {\n",
       "        vertical-align: middle;\n",
       "    }\n",
       "\n",
       "    .dataframe tbody tr th {\n",
       "        vertical-align: top;\n",
       "    }\n",
       "\n",
       "    .dataframe thead th {\n",
       "        text-align: right;\n",
       "    }\n",
       "</style>\n",
       "<table border=\"1\" class=\"dataframe\">\n",
       "  <thead>\n",
       "    <tr style=\"text-align: right;\">\n",
       "      <th></th>\n",
       "      <th>Songs &amp; Artist</th>\n",
       "      <th>Streams</th>\n",
       "    </tr>\n",
       "  </thead>\n",
       "  <tbody>\n",
       "    <tr>\n",
       "      <th>0</th>\n",
       "      <td>The Weeknd - Blinding Lights</td>\n",
       "      <td>4463658617</td>\n",
       "    </tr>\n",
       "    <tr>\n",
       "      <th>1</th>\n",
       "      <td>Ed Sheeran - Shape of You</td>\n",
       "      <td>4018102402</td>\n",
       "    </tr>\n",
       "    <tr>\n",
       "      <th>2</th>\n",
       "      <td>Lewis Capaldi - Someone You Loved</td>\n",
       "      <td>3588673578</td>\n",
       "    </tr>\n",
       "    <tr>\n",
       "      <th>3</th>\n",
       "      <td>Harry Styles - As It Was</td>\n",
       "      <td>3544187311</td>\n",
       "    </tr>\n",
       "    <tr>\n",
       "      <th>4</th>\n",
       "      <td>Post Malone - Sunflower</td>\n",
       "      <td>3518744128</td>\n",
       "    </tr>\n",
       "    <tr>\n",
       "      <th>...</th>\n",
       "      <td>...</td>\n",
       "      <td>...</td>\n",
       "    </tr>\n",
       "    <tr>\n",
       "      <th>2495</th>\n",
       "      <td>Myke Towers - LA FALDA</td>\n",
       "      <td>505592800</td>\n",
       "    </tr>\n",
       "    <tr>\n",
       "      <th>2496</th>\n",
       "      <td>Social House - Magic In The Hamptons</td>\n",
       "      <td>505511969</td>\n",
       "    </tr>\n",
       "    <tr>\n",
       "      <th>2497</th>\n",
       "      <td>KISS - Rock And Roll All Nite</td>\n",
       "      <td>505386377</td>\n",
       "    </tr>\n",
       "    <tr>\n",
       "      <th>2498</th>\n",
       "      <td>Mora - 512</td>\n",
       "      <td>505309100</td>\n",
       "    </tr>\n",
       "    <tr>\n",
       "      <th>2499</th>\n",
       "      <td>Meghan Trainor - Me Too</td>\n",
       "      <td>505249124</td>\n",
       "    </tr>\n",
       "  </tbody>\n",
       "</table>\n",
       "<p>2500 rows × 2 columns</p>\n",
       "</div>"
      ],
      "text/plain": [
       "                            Songs & Artist     Streams\n",
       "0             The Weeknd - Blinding Lights  4463658617\n",
       "1                Ed Sheeran - Shape of You  4018102402\n",
       "2        Lewis Capaldi - Someone You Loved  3588673578\n",
       "3                 Harry Styles - As It Was  3544187311\n",
       "4                  Post Malone - Sunflower  3518744128\n",
       "...                                    ...         ...\n",
       "2495                Myke Towers - LA FALDA   505592800\n",
       "2496  Social House - Magic In The Hamptons   505511969\n",
       "2497         KISS - Rock And Roll All Nite   505386377\n",
       "2498                            Mora - 512   505309100\n",
       "2499               Meghan Trainor - Me Too   505249124\n",
       "\n",
       "[2500 rows x 2 columns]"
      ]
     },
     "execution_count": 184,
     "metadata": {},
     "output_type": "execute_result"
    }
   ],
   "source": [
    "data.dropna(axis=1)"
   ]
  },
  {
   "cell_type": "code",
   "execution_count": 185,
   "metadata": {},
   "outputs": [
    {
     "data": {
      "text/html": [
       "<div>\n",
       "<style scoped>\n",
       "    .dataframe tbody tr th:only-of-type {\n",
       "        vertical-align: middle;\n",
       "    }\n",
       "\n",
       "    .dataframe tbody tr th {\n",
       "        vertical-align: top;\n",
       "    }\n",
       "\n",
       "    .dataframe thead th {\n",
       "        text-align: right;\n",
       "    }\n",
       "</style>\n",
       "<table border=\"1\" class=\"dataframe\">\n",
       "  <thead>\n",
       "    <tr style=\"text-align: right;\">\n",
       "      <th></th>\n",
       "      <th>Songs &amp; Artist</th>\n",
       "      <th>Streams</th>\n",
       "      <th>Daily</th>\n",
       "    </tr>\n",
       "  </thead>\n",
       "  <tbody>\n",
       "    <tr>\n",
       "      <th>0</th>\n",
       "      <td>The Weeknd - Blinding Lights</td>\n",
       "      <td>4463658617</td>\n",
       "      <td>1619447.0</td>\n",
       "    </tr>\n",
       "    <tr>\n",
       "      <th>1</th>\n",
       "      <td>Ed Sheeran - Shape of You</td>\n",
       "      <td>4018102402</td>\n",
       "      <td>1001507.0</td>\n",
       "    </tr>\n",
       "    <tr>\n",
       "      <th>2</th>\n",
       "      <td>Lewis Capaldi - Someone You Loved</td>\n",
       "      <td>3588673578</td>\n",
       "      <td>1506961.0</td>\n",
       "    </tr>\n",
       "    <tr>\n",
       "      <th>3</th>\n",
       "      <td>Harry Styles - As It Was</td>\n",
       "      <td>3544187311</td>\n",
       "      <td>1611374.0</td>\n",
       "    </tr>\n",
       "    <tr>\n",
       "      <th>4</th>\n",
       "      <td>Post Malone - Sunflower</td>\n",
       "      <td>3518744128</td>\n",
       "      <td>1337404.0</td>\n",
       "    </tr>\n",
       "    <tr>\n",
       "      <th>...</th>\n",
       "      <td>...</td>\n",
       "      <td>...</td>\n",
       "      <td>...</td>\n",
       "    </tr>\n",
       "    <tr>\n",
       "      <th>2495</th>\n",
       "      <td>Myke Towers - LA FALDA</td>\n",
       "      <td>505592800</td>\n",
       "      <td>1278450.0</td>\n",
       "    </tr>\n",
       "    <tr>\n",
       "      <th>2496</th>\n",
       "      <td>Social House - Magic In The Hamptons</td>\n",
       "      <td>505511969</td>\n",
       "      <td>118483.0</td>\n",
       "    </tr>\n",
       "    <tr>\n",
       "      <th>2497</th>\n",
       "      <td>KISS - Rock And Roll All Nite</td>\n",
       "      <td>505386377</td>\n",
       "      <td>205701.0</td>\n",
       "    </tr>\n",
       "    <tr>\n",
       "      <th>2498</th>\n",
       "      <td>Mora - 512</td>\n",
       "      <td>505309100</td>\n",
       "      <td>280336.0</td>\n",
       "    </tr>\n",
       "    <tr>\n",
       "      <th>2499</th>\n",
       "      <td>Meghan Trainor - Me Too</td>\n",
       "      <td>505249124</td>\n",
       "      <td>288515.0</td>\n",
       "    </tr>\n",
       "  </tbody>\n",
       "</table>\n",
       "<p>2500 rows × 3 columns</p>\n",
       "</div>"
      ],
      "text/plain": [
       "                            Songs & Artist     Streams      Daily\n",
       "0             The Weeknd - Blinding Lights  4463658617  1619447.0\n",
       "1                Ed Sheeran - Shape of You  4018102402  1001507.0\n",
       "2        Lewis Capaldi - Someone You Loved  3588673578  1506961.0\n",
       "3                 Harry Styles - As It Was  3544187311  1611374.0\n",
       "4                  Post Malone - Sunflower  3518744128  1337404.0\n",
       "...                                    ...         ...        ...\n",
       "2495                Myke Towers - LA FALDA   505592800  1278450.0\n",
       "2496  Social House - Magic In The Hamptons   505511969   118483.0\n",
       "2497         KISS - Rock And Roll All Nite   505386377   205701.0\n",
       "2498                            Mora - 512   505309100   280336.0\n",
       "2499               Meghan Trainor - Me Too   505249124   288515.0\n",
       "\n",
       "[2500 rows x 3 columns]"
      ]
     },
     "execution_count": 185,
     "metadata": {},
     "output_type": "execute_result"
    }
   ],
   "source": [
    "data.dropna(axis=1, how=\"all\")"
   ]
  },
  {
   "cell_type": "code",
   "execution_count": 186,
   "metadata": {},
   "outputs": [
    {
     "data": {
      "text/html": [
       "<div>\n",
       "<style scoped>\n",
       "    .dataframe tbody tr th:only-of-type {\n",
       "        vertical-align: middle;\n",
       "    }\n",
       "\n",
       "    .dataframe tbody tr th {\n",
       "        vertical-align: top;\n",
       "    }\n",
       "\n",
       "    .dataframe thead th {\n",
       "        text-align: right;\n",
       "    }\n",
       "</style>\n",
       "<table border=\"1\" class=\"dataframe\">\n",
       "  <thead>\n",
       "    <tr style=\"text-align: right;\">\n",
       "      <th></th>\n",
       "      <th>Songs &amp; Artist</th>\n",
       "      <th>Streams</th>\n",
       "      <th>Daily</th>\n",
       "    </tr>\n",
       "  </thead>\n",
       "  <tbody>\n",
       "    <tr>\n",
       "      <th>0</th>\n",
       "      <td>The Weeknd - Blinding Lights</td>\n",
       "      <td>4463658617</td>\n",
       "      <td>1619447.0</td>\n",
       "    </tr>\n",
       "    <tr>\n",
       "      <th>1</th>\n",
       "      <td>Ed Sheeran - Shape of You</td>\n",
       "      <td>4018102402</td>\n",
       "      <td>1001507.0</td>\n",
       "    </tr>\n",
       "    <tr>\n",
       "      <th>2</th>\n",
       "      <td>Lewis Capaldi - Someone You Loved</td>\n",
       "      <td>3588673578</td>\n",
       "      <td>1506961.0</td>\n",
       "    </tr>\n",
       "    <tr>\n",
       "      <th>3</th>\n",
       "      <td>Harry Styles - As It Was</td>\n",
       "      <td>3544187311</td>\n",
       "      <td>1611374.0</td>\n",
       "    </tr>\n",
       "    <tr>\n",
       "      <th>4</th>\n",
       "      <td>Post Malone - Sunflower</td>\n",
       "      <td>3518744128</td>\n",
       "      <td>1337404.0</td>\n",
       "    </tr>\n",
       "    <tr>\n",
       "      <th>...</th>\n",
       "      <td>...</td>\n",
       "      <td>...</td>\n",
       "      <td>...</td>\n",
       "    </tr>\n",
       "    <tr>\n",
       "      <th>2495</th>\n",
       "      <td>Myke Towers - LA FALDA</td>\n",
       "      <td>505592800</td>\n",
       "      <td>1278450.0</td>\n",
       "    </tr>\n",
       "    <tr>\n",
       "      <th>2496</th>\n",
       "      <td>Social House - Magic In The Hamptons</td>\n",
       "      <td>505511969</td>\n",
       "      <td>118483.0</td>\n",
       "    </tr>\n",
       "    <tr>\n",
       "      <th>2497</th>\n",
       "      <td>KISS - Rock And Roll All Nite</td>\n",
       "      <td>505386377</td>\n",
       "      <td>205701.0</td>\n",
       "    </tr>\n",
       "    <tr>\n",
       "      <th>2498</th>\n",
       "      <td>Mora - 512</td>\n",
       "      <td>505309100</td>\n",
       "      <td>280336.0</td>\n",
       "    </tr>\n",
       "    <tr>\n",
       "      <th>2499</th>\n",
       "      <td>Meghan Trainor - Me Too</td>\n",
       "      <td>505249124</td>\n",
       "      <td>288515.0</td>\n",
       "    </tr>\n",
       "  </tbody>\n",
       "</table>\n",
       "<p>2498 rows × 3 columns</p>\n",
       "</div>"
      ],
      "text/plain": [
       "                            Songs & Artist     Streams      Daily\n",
       "0             The Weeknd - Blinding Lights  4463658617  1619447.0\n",
       "1                Ed Sheeran - Shape of You  4018102402  1001507.0\n",
       "2        Lewis Capaldi - Someone You Loved  3588673578  1506961.0\n",
       "3                 Harry Styles - As It Was  3544187311  1611374.0\n",
       "4                  Post Malone - Sunflower  3518744128  1337404.0\n",
       "...                                    ...         ...        ...\n",
       "2495                Myke Towers - LA FALDA   505592800  1278450.0\n",
       "2496  Social House - Magic In The Hamptons   505511969   118483.0\n",
       "2497         KISS - Rock And Roll All Nite   505386377   205701.0\n",
       "2498                            Mora - 512   505309100   280336.0\n",
       "2499               Meghan Trainor - Me Too   505249124   288515.0\n",
       "\n",
       "[2498 rows x 3 columns]"
      ]
     },
     "execution_count": 186,
     "metadata": {},
     "output_type": "execute_result"
    }
   ],
   "source": [
    "data.dropna()"
   ]
  },
  {
   "cell_type": "code",
   "execution_count": 187,
   "metadata": {},
   "outputs": [
    {
     "data": {
      "text/html": [
       "<div>\n",
       "<style scoped>\n",
       "    .dataframe tbody tr th:only-of-type {\n",
       "        vertical-align: middle;\n",
       "    }\n",
       "\n",
       "    .dataframe tbody tr th {\n",
       "        vertical-align: top;\n",
       "    }\n",
       "\n",
       "    .dataframe thead th {\n",
       "        text-align: right;\n",
       "    }\n",
       "</style>\n",
       "<table border=\"1\" class=\"dataframe\">\n",
       "  <thead>\n",
       "    <tr style=\"text-align: right;\">\n",
       "      <th></th>\n",
       "      <th>Songs &amp; Artist</th>\n",
       "      <th>Streams</th>\n",
       "      <th>Daily</th>\n",
       "    </tr>\n",
       "  </thead>\n",
       "  <tbody>\n",
       "    <tr>\n",
       "      <th>0</th>\n",
       "      <td>The Weeknd - Blinding Lights</td>\n",
       "      <td>4463658617</td>\n",
       "      <td>1619447.0</td>\n",
       "    </tr>\n",
       "    <tr>\n",
       "      <th>1</th>\n",
       "      <td>Ed Sheeran - Shape of You</td>\n",
       "      <td>4018102402</td>\n",
       "      <td>1001507.0</td>\n",
       "    </tr>\n",
       "    <tr>\n",
       "      <th>2</th>\n",
       "      <td>Lewis Capaldi - Someone You Loved</td>\n",
       "      <td>3588673578</td>\n",
       "      <td>1506961.0</td>\n",
       "    </tr>\n",
       "    <tr>\n",
       "      <th>3</th>\n",
       "      <td>Harry Styles - As It Was</td>\n",
       "      <td>3544187311</td>\n",
       "      <td>1611374.0</td>\n",
       "    </tr>\n",
       "    <tr>\n",
       "      <th>4</th>\n",
       "      <td>Post Malone - Sunflower</td>\n",
       "      <td>3518744128</td>\n",
       "      <td>1337404.0</td>\n",
       "    </tr>\n",
       "    <tr>\n",
       "      <th>...</th>\n",
       "      <td>...</td>\n",
       "      <td>...</td>\n",
       "      <td>...</td>\n",
       "    </tr>\n",
       "    <tr>\n",
       "      <th>2495</th>\n",
       "      <td>Myke Towers - LA FALDA</td>\n",
       "      <td>505592800</td>\n",
       "      <td>1278450.0</td>\n",
       "    </tr>\n",
       "    <tr>\n",
       "      <th>2496</th>\n",
       "      <td>Social House - Magic In The Hamptons</td>\n",
       "      <td>505511969</td>\n",
       "      <td>118483.0</td>\n",
       "    </tr>\n",
       "    <tr>\n",
       "      <th>2497</th>\n",
       "      <td>KISS - Rock And Roll All Nite</td>\n",
       "      <td>505386377</td>\n",
       "      <td>205701.0</td>\n",
       "    </tr>\n",
       "    <tr>\n",
       "      <th>2498</th>\n",
       "      <td>Mora - 512</td>\n",
       "      <td>505309100</td>\n",
       "      <td>280336.0</td>\n",
       "    </tr>\n",
       "    <tr>\n",
       "      <th>2499</th>\n",
       "      <td>Meghan Trainor - Me Too</td>\n",
       "      <td>505249124</td>\n",
       "      <td>288515.0</td>\n",
       "    </tr>\n",
       "  </tbody>\n",
       "</table>\n",
       "<p>2500 rows × 3 columns</p>\n",
       "</div>"
      ],
      "text/plain": [
       "                            Songs & Artist     Streams      Daily\n",
       "0             The Weeknd - Blinding Lights  4463658617  1619447.0\n",
       "1                Ed Sheeran - Shape of You  4018102402  1001507.0\n",
       "2        Lewis Capaldi - Someone You Loved  3588673578  1506961.0\n",
       "3                 Harry Styles - As It Was  3544187311  1611374.0\n",
       "4                  Post Malone - Sunflower  3518744128  1337404.0\n",
       "...                                    ...         ...        ...\n",
       "2495                Myke Towers - LA FALDA   505592800  1278450.0\n",
       "2496  Social House - Magic In The Hamptons   505511969   118483.0\n",
       "2497         KISS - Rock And Roll All Nite   505386377   205701.0\n",
       "2498                            Mora - 512   505309100   280336.0\n",
       "2499               Meghan Trainor - Me Too   505249124   288515.0\n",
       "\n",
       "[2500 rows x 3 columns]"
      ]
     },
     "execution_count": 187,
     "metadata": {},
     "output_type": "execute_result"
    }
   ],
   "source": [
    "data"
   ]
  },
  {
   "cell_type": "code",
   "execution_count": 188,
   "metadata": {},
   "outputs": [],
   "source": [
    "data.dropna(inplace=True)"
   ]
  },
  {
   "cell_type": "code",
   "execution_count": 189,
   "metadata": {},
   "outputs": [
    {
     "data": {
      "text/html": [
       "<div>\n",
       "<style scoped>\n",
       "    .dataframe tbody tr th:only-of-type {\n",
       "        vertical-align: middle;\n",
       "    }\n",
       "\n",
       "    .dataframe tbody tr th {\n",
       "        vertical-align: top;\n",
       "    }\n",
       "\n",
       "    .dataframe thead th {\n",
       "        text-align: right;\n",
       "    }\n",
       "</style>\n",
       "<table border=\"1\" class=\"dataframe\">\n",
       "  <thead>\n",
       "    <tr style=\"text-align: right;\">\n",
       "      <th></th>\n",
       "      <th>Songs &amp; Artist</th>\n",
       "      <th>Streams</th>\n",
       "      <th>Daily</th>\n",
       "    </tr>\n",
       "  </thead>\n",
       "  <tbody>\n",
       "    <tr>\n",
       "      <th>0</th>\n",
       "      <td>The Weeknd - Blinding Lights</td>\n",
       "      <td>4463658617</td>\n",
       "      <td>1619447.0</td>\n",
       "    </tr>\n",
       "    <tr>\n",
       "      <th>1</th>\n",
       "      <td>Ed Sheeran - Shape of You</td>\n",
       "      <td>4018102402</td>\n",
       "      <td>1001507.0</td>\n",
       "    </tr>\n",
       "    <tr>\n",
       "      <th>2</th>\n",
       "      <td>Lewis Capaldi - Someone You Loved</td>\n",
       "      <td>3588673578</td>\n",
       "      <td>1506961.0</td>\n",
       "    </tr>\n",
       "    <tr>\n",
       "      <th>3</th>\n",
       "      <td>Harry Styles - As It Was</td>\n",
       "      <td>3544187311</td>\n",
       "      <td>1611374.0</td>\n",
       "    </tr>\n",
       "    <tr>\n",
       "      <th>4</th>\n",
       "      <td>Post Malone - Sunflower</td>\n",
       "      <td>3518744128</td>\n",
       "      <td>1337404.0</td>\n",
       "    </tr>\n",
       "    <tr>\n",
       "      <th>...</th>\n",
       "      <td>...</td>\n",
       "      <td>...</td>\n",
       "      <td>...</td>\n",
       "    </tr>\n",
       "    <tr>\n",
       "      <th>2495</th>\n",
       "      <td>Myke Towers - LA FALDA</td>\n",
       "      <td>505592800</td>\n",
       "      <td>1278450.0</td>\n",
       "    </tr>\n",
       "    <tr>\n",
       "      <th>2496</th>\n",
       "      <td>Social House - Magic In The Hamptons</td>\n",
       "      <td>505511969</td>\n",
       "      <td>118483.0</td>\n",
       "    </tr>\n",
       "    <tr>\n",
       "      <th>2497</th>\n",
       "      <td>KISS - Rock And Roll All Nite</td>\n",
       "      <td>505386377</td>\n",
       "      <td>205701.0</td>\n",
       "    </tr>\n",
       "    <tr>\n",
       "      <th>2498</th>\n",
       "      <td>Mora - 512</td>\n",
       "      <td>505309100</td>\n",
       "      <td>280336.0</td>\n",
       "    </tr>\n",
       "    <tr>\n",
       "      <th>2499</th>\n",
       "      <td>Meghan Trainor - Me Too</td>\n",
       "      <td>505249124</td>\n",
       "      <td>288515.0</td>\n",
       "    </tr>\n",
       "  </tbody>\n",
       "</table>\n",
       "<p>2498 rows × 3 columns</p>\n",
       "</div>"
      ],
      "text/plain": [
       "                            Songs & Artist     Streams      Daily\n",
       "0             The Weeknd - Blinding Lights  4463658617  1619447.0\n",
       "1                Ed Sheeran - Shape of You  4018102402  1001507.0\n",
       "2        Lewis Capaldi - Someone You Loved  3588673578  1506961.0\n",
       "3                 Harry Styles - As It Was  3544187311  1611374.0\n",
       "4                  Post Malone - Sunflower  3518744128  1337404.0\n",
       "...                                    ...         ...        ...\n",
       "2495                Myke Towers - LA FALDA   505592800  1278450.0\n",
       "2496  Social House - Magic In The Hamptons   505511969   118483.0\n",
       "2497         KISS - Rock And Roll All Nite   505386377   205701.0\n",
       "2498                            Mora - 512   505309100   280336.0\n",
       "2499               Meghan Trainor - Me Too   505249124   288515.0\n",
       "\n",
       "[2498 rows x 3 columns]"
      ]
     },
     "execution_count": 189,
     "metadata": {},
     "output_type": "execute_result"
    }
   ],
   "source": [
    "data"
   ]
  },
  {
   "cell_type": "code",
   "execution_count": 191,
   "metadata": {},
   "outputs": [],
   "source": [
    "data_without_duplicates = data.drop_duplicates(subset=\"Songs & Artist\")"
   ]
  },
  {
   "cell_type": "code",
   "execution_count": 192,
   "metadata": {},
   "outputs": [
    {
     "data": {
      "text/html": [
       "<div>\n",
       "<style scoped>\n",
       "    .dataframe tbody tr th:only-of-type {\n",
       "        vertical-align: middle;\n",
       "    }\n",
       "\n",
       "    .dataframe tbody tr th {\n",
       "        vertical-align: top;\n",
       "    }\n",
       "\n",
       "    .dataframe thead th {\n",
       "        text-align: right;\n",
       "    }\n",
       "</style>\n",
       "<table border=\"1\" class=\"dataframe\">\n",
       "  <thead>\n",
       "    <tr style=\"text-align: right;\">\n",
       "      <th></th>\n",
       "      <th>Songs &amp; Artist</th>\n",
       "      <th>Streams</th>\n",
       "      <th>Daily</th>\n",
       "    </tr>\n",
       "  </thead>\n",
       "  <tbody>\n",
       "    <tr>\n",
       "      <th>0</th>\n",
       "      <td>The Weeknd - Blinding Lights</td>\n",
       "      <td>4463658617</td>\n",
       "      <td>1619447.0</td>\n",
       "    </tr>\n",
       "    <tr>\n",
       "      <th>1</th>\n",
       "      <td>Ed Sheeran - Shape of You</td>\n",
       "      <td>4018102402</td>\n",
       "      <td>1001507.0</td>\n",
       "    </tr>\n",
       "    <tr>\n",
       "      <th>2</th>\n",
       "      <td>Lewis Capaldi - Someone You Loved</td>\n",
       "      <td>3588673578</td>\n",
       "      <td>1506961.0</td>\n",
       "    </tr>\n",
       "    <tr>\n",
       "      <th>3</th>\n",
       "      <td>Harry Styles - As It Was</td>\n",
       "      <td>3544187311</td>\n",
       "      <td>1611374.0</td>\n",
       "    </tr>\n",
       "    <tr>\n",
       "      <th>4</th>\n",
       "      <td>Post Malone - Sunflower</td>\n",
       "      <td>3518744128</td>\n",
       "      <td>1337404.0</td>\n",
       "    </tr>\n",
       "    <tr>\n",
       "      <th>...</th>\n",
       "      <td>...</td>\n",
       "      <td>...</td>\n",
       "      <td>...</td>\n",
       "    </tr>\n",
       "    <tr>\n",
       "      <th>2495</th>\n",
       "      <td>Myke Towers - LA FALDA</td>\n",
       "      <td>505592800</td>\n",
       "      <td>1278450.0</td>\n",
       "    </tr>\n",
       "    <tr>\n",
       "      <th>2496</th>\n",
       "      <td>Social House - Magic In The Hamptons</td>\n",
       "      <td>505511969</td>\n",
       "      <td>118483.0</td>\n",
       "    </tr>\n",
       "    <tr>\n",
       "      <th>2497</th>\n",
       "      <td>KISS - Rock And Roll All Nite</td>\n",
       "      <td>505386377</td>\n",
       "      <td>205701.0</td>\n",
       "    </tr>\n",
       "    <tr>\n",
       "      <th>2498</th>\n",
       "      <td>Mora - 512</td>\n",
       "      <td>505309100</td>\n",
       "      <td>280336.0</td>\n",
       "    </tr>\n",
       "    <tr>\n",
       "      <th>2499</th>\n",
       "      <td>Meghan Trainor - Me Too</td>\n",
       "      <td>505249124</td>\n",
       "      <td>288515.0</td>\n",
       "    </tr>\n",
       "  </tbody>\n",
       "</table>\n",
       "<p>2474 rows × 3 columns</p>\n",
       "</div>"
      ],
      "text/plain": [
       "                            Songs & Artist     Streams      Daily\n",
       "0             The Weeknd - Blinding Lights  4463658617  1619447.0\n",
       "1                Ed Sheeran - Shape of You  4018102402  1001507.0\n",
       "2        Lewis Capaldi - Someone You Loved  3588673578  1506961.0\n",
       "3                 Harry Styles - As It Was  3544187311  1611374.0\n",
       "4                  Post Malone - Sunflower  3518744128  1337404.0\n",
       "...                                    ...         ...        ...\n",
       "2495                Myke Towers - LA FALDA   505592800  1278450.0\n",
       "2496  Social House - Magic In The Hamptons   505511969   118483.0\n",
       "2497         KISS - Rock And Roll All Nite   505386377   205701.0\n",
       "2498                            Mora - 512   505309100   280336.0\n",
       "2499               Meghan Trainor - Me Too   505249124   288515.0\n",
       "\n",
       "[2474 rows x 3 columns]"
      ]
     },
     "execution_count": 192,
     "metadata": {},
     "output_type": "execute_result"
    }
   ],
   "source": [
    "data_without_duplicates"
   ]
  },
  {
   "cell_type": "code",
   "execution_count": 193,
   "metadata": {},
   "outputs": [
    {
     "data": {
      "text/html": [
       "<div>\n",
       "<style scoped>\n",
       "    .dataframe tbody tr th:only-of-type {\n",
       "        vertical-align: middle;\n",
       "    }\n",
       "\n",
       "    .dataframe tbody tr th {\n",
       "        vertical-align: top;\n",
       "    }\n",
       "\n",
       "    .dataframe thead th {\n",
       "        text-align: right;\n",
       "    }\n",
       "</style>\n",
       "<table border=\"1\" class=\"dataframe\">\n",
       "  <thead>\n",
       "    <tr style=\"text-align: right;\">\n",
       "      <th></th>\n",
       "      <th>Songs &amp; Artist</th>\n",
       "      <th>Streams</th>\n",
       "      <th>Daily</th>\n",
       "    </tr>\n",
       "  </thead>\n",
       "  <tbody>\n",
       "    <tr>\n",
       "      <th>0</th>\n",
       "      <td>The Weeknd - Blinding Lights</td>\n",
       "      <td>4463658617</td>\n",
       "      <td>1619447.0</td>\n",
       "    </tr>\n",
       "    <tr>\n",
       "      <th>1</th>\n",
       "      <td>Ed Sheeran - Shape of You</td>\n",
       "      <td>4018102402</td>\n",
       "      <td>1001507.0</td>\n",
       "    </tr>\n",
       "    <tr>\n",
       "      <th>2</th>\n",
       "      <td>Lewis Capaldi - Someone You Loved</td>\n",
       "      <td>3588673578</td>\n",
       "      <td>1506961.0</td>\n",
       "    </tr>\n",
       "    <tr>\n",
       "      <th>3</th>\n",
       "      <td>Harry Styles - As It Was</td>\n",
       "      <td>3544187311</td>\n",
       "      <td>1611374.0</td>\n",
       "    </tr>\n",
       "    <tr>\n",
       "      <th>4</th>\n",
       "      <td>Post Malone - Sunflower</td>\n",
       "      <td>3518744128</td>\n",
       "      <td>1337404.0</td>\n",
       "    </tr>\n",
       "    <tr>\n",
       "      <th>...</th>\n",
       "      <td>...</td>\n",
       "      <td>...</td>\n",
       "      <td>...</td>\n",
       "    </tr>\n",
       "    <tr>\n",
       "      <th>2495</th>\n",
       "      <td>Myke Towers - LA FALDA</td>\n",
       "      <td>505592800</td>\n",
       "      <td>1278450.0</td>\n",
       "    </tr>\n",
       "    <tr>\n",
       "      <th>2496</th>\n",
       "      <td>Social House - Magic In The Hamptons</td>\n",
       "      <td>505511969</td>\n",
       "      <td>118483.0</td>\n",
       "    </tr>\n",
       "    <tr>\n",
       "      <th>2497</th>\n",
       "      <td>KISS - Rock And Roll All Nite</td>\n",
       "      <td>505386377</td>\n",
       "      <td>205701.0</td>\n",
       "    </tr>\n",
       "    <tr>\n",
       "      <th>2498</th>\n",
       "      <td>Mora - 512</td>\n",
       "      <td>505309100</td>\n",
       "      <td>280336.0</td>\n",
       "    </tr>\n",
       "    <tr>\n",
       "      <th>2499</th>\n",
       "      <td>Meghan Trainor - Me Too</td>\n",
       "      <td>505249124</td>\n",
       "      <td>288515.0</td>\n",
       "    </tr>\n",
       "  </tbody>\n",
       "</table>\n",
       "<p>2498 rows × 3 columns</p>\n",
       "</div>"
      ],
      "text/plain": [
       "                            Songs & Artist     Streams      Daily\n",
       "0             The Weeknd - Blinding Lights  4463658617  1619447.0\n",
       "1                Ed Sheeran - Shape of You  4018102402  1001507.0\n",
       "2        Lewis Capaldi - Someone You Loved  3588673578  1506961.0\n",
       "3                 Harry Styles - As It Was  3544187311  1611374.0\n",
       "4                  Post Malone - Sunflower  3518744128  1337404.0\n",
       "...                                    ...         ...        ...\n",
       "2495                Myke Towers - LA FALDA   505592800  1278450.0\n",
       "2496  Social House - Magic In The Hamptons   505511969   118483.0\n",
       "2497         KISS - Rock And Roll All Nite   505386377   205701.0\n",
       "2498                            Mora - 512   505309100   280336.0\n",
       "2499               Meghan Trainor - Me Too   505249124   288515.0\n",
       "\n",
       "[2498 rows x 3 columns]"
      ]
     },
     "execution_count": 193,
     "metadata": {},
     "output_type": "execute_result"
    }
   ],
   "source": [
    "data"
   ]
  },
  {
   "cell_type": "code",
   "execution_count": 194,
   "metadata": {},
   "outputs": [],
   "source": [
    "data.drop_duplicates(subset=\"Songs & Artist\", inplace=True)"
   ]
  },
  {
   "cell_type": "code",
   "execution_count": 195,
   "metadata": {},
   "outputs": [
    {
     "data": {
      "text/html": [
       "<div>\n",
       "<style scoped>\n",
       "    .dataframe tbody tr th:only-of-type {\n",
       "        vertical-align: middle;\n",
       "    }\n",
       "\n",
       "    .dataframe tbody tr th {\n",
       "        vertical-align: top;\n",
       "    }\n",
       "\n",
       "    .dataframe thead th {\n",
       "        text-align: right;\n",
       "    }\n",
       "</style>\n",
       "<table border=\"1\" class=\"dataframe\">\n",
       "  <thead>\n",
       "    <tr style=\"text-align: right;\">\n",
       "      <th></th>\n",
       "      <th>Songs &amp; Artist</th>\n",
       "      <th>Streams</th>\n",
       "      <th>Daily</th>\n",
       "    </tr>\n",
       "  </thead>\n",
       "  <tbody>\n",
       "    <tr>\n",
       "      <th>0</th>\n",
       "      <td>The Weeknd - Blinding Lights</td>\n",
       "      <td>4463658617</td>\n",
       "      <td>1619447.0</td>\n",
       "    </tr>\n",
       "    <tr>\n",
       "      <th>1</th>\n",
       "      <td>Ed Sheeran - Shape of You</td>\n",
       "      <td>4018102402</td>\n",
       "      <td>1001507.0</td>\n",
       "    </tr>\n",
       "    <tr>\n",
       "      <th>2</th>\n",
       "      <td>Lewis Capaldi - Someone You Loved</td>\n",
       "      <td>3588673578</td>\n",
       "      <td>1506961.0</td>\n",
       "    </tr>\n",
       "    <tr>\n",
       "      <th>3</th>\n",
       "      <td>Harry Styles - As It Was</td>\n",
       "      <td>3544187311</td>\n",
       "      <td>1611374.0</td>\n",
       "    </tr>\n",
       "    <tr>\n",
       "      <th>4</th>\n",
       "      <td>Post Malone - Sunflower</td>\n",
       "      <td>3518744128</td>\n",
       "      <td>1337404.0</td>\n",
       "    </tr>\n",
       "    <tr>\n",
       "      <th>...</th>\n",
       "      <td>...</td>\n",
       "      <td>...</td>\n",
       "      <td>...</td>\n",
       "    </tr>\n",
       "    <tr>\n",
       "      <th>2495</th>\n",
       "      <td>Myke Towers - LA FALDA</td>\n",
       "      <td>505592800</td>\n",
       "      <td>1278450.0</td>\n",
       "    </tr>\n",
       "    <tr>\n",
       "      <th>2496</th>\n",
       "      <td>Social House - Magic In The Hamptons</td>\n",
       "      <td>505511969</td>\n",
       "      <td>118483.0</td>\n",
       "    </tr>\n",
       "    <tr>\n",
       "      <th>2497</th>\n",
       "      <td>KISS - Rock And Roll All Nite</td>\n",
       "      <td>505386377</td>\n",
       "      <td>205701.0</td>\n",
       "    </tr>\n",
       "    <tr>\n",
       "      <th>2498</th>\n",
       "      <td>Mora - 512</td>\n",
       "      <td>505309100</td>\n",
       "      <td>280336.0</td>\n",
       "    </tr>\n",
       "    <tr>\n",
       "      <th>2499</th>\n",
       "      <td>Meghan Trainor - Me Too</td>\n",
       "      <td>505249124</td>\n",
       "      <td>288515.0</td>\n",
       "    </tr>\n",
       "  </tbody>\n",
       "</table>\n",
       "<p>2474 rows × 3 columns</p>\n",
       "</div>"
      ],
      "text/plain": [
       "                            Songs & Artist     Streams      Daily\n",
       "0             The Weeknd - Blinding Lights  4463658617  1619447.0\n",
       "1                Ed Sheeran - Shape of You  4018102402  1001507.0\n",
       "2        Lewis Capaldi - Someone You Loved  3588673578  1506961.0\n",
       "3                 Harry Styles - As It Was  3544187311  1611374.0\n",
       "4                  Post Malone - Sunflower  3518744128  1337404.0\n",
       "...                                    ...         ...        ...\n",
       "2495                Myke Towers - LA FALDA   505592800  1278450.0\n",
       "2496  Social House - Magic In The Hamptons   505511969   118483.0\n",
       "2497         KISS - Rock And Roll All Nite   505386377   205701.0\n",
       "2498                            Mora - 512   505309100   280336.0\n",
       "2499               Meghan Trainor - Me Too   505249124   288515.0\n",
       "\n",
       "[2474 rows x 3 columns]"
      ]
     },
     "execution_count": 195,
     "metadata": {},
     "output_type": "execute_result"
    }
   ],
   "source": [
    "data"
   ]
  },
  {
   "cell_type": "code",
   "execution_count": 196,
   "metadata": {},
   "outputs": [
    {
     "data": {
      "text/plain": [
       "dtype('float64')"
      ]
     },
     "execution_count": 196,
     "metadata": {},
     "output_type": "execute_result"
    }
   ],
   "source": [
    "data[\"Daily\"].dtype"
   ]
  },
  {
   "cell_type": "code",
   "execution_count": 197,
   "metadata": {},
   "outputs": [
    {
     "data": {
      "text/plain": [
       "0       1619447\n",
       "1       1001507\n",
       "2       1506961\n",
       "3       1611374\n",
       "4       1337404\n",
       "         ...   \n",
       "2495    1278450\n",
       "2496     118483\n",
       "2497     205701\n",
       "2498     280336\n",
       "2499     288515\n",
       "Name: Daily, Length: 2474, dtype: int64"
      ]
     },
     "execution_count": 197,
     "metadata": {},
     "output_type": "execute_result"
    }
   ],
   "source": [
    "data[\"Daily\"].astype(int)"
   ]
  },
  {
   "cell_type": "code",
   "execution_count": 199,
   "metadata": {},
   "outputs": [],
   "source": [
    "data[\"Daily\"] = data[\"Daily\"].astype(int)"
   ]
  },
  {
   "cell_type": "code",
   "execution_count": 200,
   "metadata": {},
   "outputs": [
    {
     "data": {
      "text/plain": [
       "0       1619447\n",
       "1       1001507\n",
       "2       1506961\n",
       "3       1611374\n",
       "4       1337404\n",
       "         ...   \n",
       "2495    1278450\n",
       "2496     118483\n",
       "2497     205701\n",
       "2498     280336\n",
       "2499     288515\n",
       "Name: Daily, Length: 2474, dtype: int64"
      ]
     },
     "execution_count": 200,
     "metadata": {},
     "output_type": "execute_result"
    }
   ],
   "source": [
    "data[\"Daily\"]"
   ]
  },
  {
   "cell_type": "code",
   "execution_count": 201,
   "metadata": {},
   "outputs": [
    {
     "data": {
      "text/html": [
       "<div>\n",
       "<style scoped>\n",
       "    .dataframe tbody tr th:only-of-type {\n",
       "        vertical-align: middle;\n",
       "    }\n",
       "\n",
       "    .dataframe tbody tr th {\n",
       "        vertical-align: top;\n",
       "    }\n",
       "\n",
       "    .dataframe thead th {\n",
       "        text-align: right;\n",
       "    }\n",
       "</style>\n",
       "<table border=\"1\" class=\"dataframe\">\n",
       "  <thead>\n",
       "    <tr style=\"text-align: right;\">\n",
       "      <th></th>\n",
       "      <th>Songs &amp; Artist</th>\n",
       "      <th>Streams</th>\n",
       "      <th>Daily</th>\n",
       "    </tr>\n",
       "  </thead>\n",
       "  <tbody>\n",
       "    <tr>\n",
       "      <th>0</th>\n",
       "      <td>The Weeknd - Blinding Lights</td>\n",
       "      <td>4463658617</td>\n",
       "      <td>1619447</td>\n",
       "    </tr>\n",
       "    <tr>\n",
       "      <th>1</th>\n",
       "      <td>Ed Sheeran - Shape of You</td>\n",
       "      <td>4018102402</td>\n",
       "      <td>1001507</td>\n",
       "    </tr>\n",
       "    <tr>\n",
       "      <th>2</th>\n",
       "      <td>Lewis Capaldi - Someone You Loved</td>\n",
       "      <td>3588673578</td>\n",
       "      <td>1506961</td>\n",
       "    </tr>\n",
       "    <tr>\n",
       "      <th>3</th>\n",
       "      <td>Harry Styles - As It Was</td>\n",
       "      <td>3544187311</td>\n",
       "      <td>1611374</td>\n",
       "    </tr>\n",
       "    <tr>\n",
       "      <th>4</th>\n",
       "      <td>Post Malone - Sunflower</td>\n",
       "      <td>3518744128</td>\n",
       "      <td>1337404</td>\n",
       "    </tr>\n",
       "    <tr>\n",
       "      <th>...</th>\n",
       "      <td>...</td>\n",
       "      <td>...</td>\n",
       "      <td>...</td>\n",
       "    </tr>\n",
       "    <tr>\n",
       "      <th>2495</th>\n",
       "      <td>Myke Towers - LA FALDA</td>\n",
       "      <td>505592800</td>\n",
       "      <td>1278450</td>\n",
       "    </tr>\n",
       "    <tr>\n",
       "      <th>2496</th>\n",
       "      <td>Social House - Magic In The Hamptons</td>\n",
       "      <td>505511969</td>\n",
       "      <td>118483</td>\n",
       "    </tr>\n",
       "    <tr>\n",
       "      <th>2497</th>\n",
       "      <td>KISS - Rock And Roll All Nite</td>\n",
       "      <td>505386377</td>\n",
       "      <td>205701</td>\n",
       "    </tr>\n",
       "    <tr>\n",
       "      <th>2498</th>\n",
       "      <td>Mora - 512</td>\n",
       "      <td>505309100</td>\n",
       "      <td>280336</td>\n",
       "    </tr>\n",
       "    <tr>\n",
       "      <th>2499</th>\n",
       "      <td>Meghan Trainor - Me Too</td>\n",
       "      <td>505249124</td>\n",
       "      <td>288515</td>\n",
       "    </tr>\n",
       "  </tbody>\n",
       "</table>\n",
       "<p>2474 rows × 3 columns</p>\n",
       "</div>"
      ],
      "text/plain": [
       "                            Songs & Artist     Streams    Daily\n",
       "0             The Weeknd - Blinding Lights  4463658617  1619447\n",
       "1                Ed Sheeran - Shape of You  4018102402  1001507\n",
       "2        Lewis Capaldi - Someone You Loved  3588673578  1506961\n",
       "3                 Harry Styles - As It Was  3544187311  1611374\n",
       "4                  Post Malone - Sunflower  3518744128  1337404\n",
       "...                                    ...         ...      ...\n",
       "2495                Myke Towers - LA FALDA   505592800  1278450\n",
       "2496  Social House - Magic In The Hamptons   505511969   118483\n",
       "2497         KISS - Rock And Roll All Nite   505386377   205701\n",
       "2498                            Mora - 512   505309100   280336\n",
       "2499               Meghan Trainor - Me Too   505249124   288515\n",
       "\n",
       "[2474 rows x 3 columns]"
      ]
     },
     "execution_count": 201,
     "metadata": {},
     "output_type": "execute_result"
    }
   ],
   "source": [
    "data"
   ]
  },
  {
   "cell_type": "code",
   "execution_count": 206,
   "metadata": {},
   "outputs": [
    {
     "data": {
      "text/plain": [
       "['The Weeknd', 'Blinding Lights']"
      ]
     },
     "execution_count": 206,
     "metadata": {},
     "output_type": "execute_result"
    }
   ],
   "source": [
    "\"The Weeknd - Blinding Lights\".split(\" - \")"
   ]
  },
  {
   "cell_type": "code",
   "execution_count": 204,
   "metadata": {},
   "outputs": [
    {
     "data": {
      "text/plain": [
       "0               THE WEEKND - BLINDING LIGHTS\n",
       "1                  ED SHEERAN - SHAPE OF YOU\n",
       "2          LEWIS CAPALDI - SOMEONE YOU LOVED\n",
       "3                   HARRY STYLES - AS IT WAS\n",
       "4                    POST MALONE - SUNFLOWER\n",
       "                        ...                 \n",
       "2495                  MYKE TOWERS - LA FALDA\n",
       "2496    SOCIAL HOUSE - MAGIC IN THE HAMPTONS\n",
       "2497           KISS - ROCK AND ROLL ALL NITE\n",
       "2498                              MORA - 512\n",
       "2499                 MEGHAN TRAINOR - ME TOO\n",
       "Name: Songs & Artist, Length: 2474, dtype: object"
      ]
     },
     "execution_count": 204,
     "metadata": {},
     "output_type": "execute_result"
    }
   ],
   "source": [
    "data[\"Songs & Artist\"].str.upper()"
   ]
  },
  {
   "cell_type": "code",
   "execution_count": 208,
   "metadata": {},
   "outputs": [
    {
     "data": {
      "text/html": [
       "<div>\n",
       "<style scoped>\n",
       "    .dataframe tbody tr th:only-of-type {\n",
       "        vertical-align: middle;\n",
       "    }\n",
       "\n",
       "    .dataframe tbody tr th {\n",
       "        vertical-align: top;\n",
       "    }\n",
       "\n",
       "    .dataframe thead th {\n",
       "        text-align: right;\n",
       "    }\n",
       "</style>\n",
       "<table border=\"1\" class=\"dataframe\">\n",
       "  <thead>\n",
       "    <tr style=\"text-align: right;\">\n",
       "      <th></th>\n",
       "      <th>0</th>\n",
       "      <th>1</th>\n",
       "    </tr>\n",
       "  </thead>\n",
       "  <tbody>\n",
       "    <tr>\n",
       "      <th>0</th>\n",
       "      <td>The Weeknd</td>\n",
       "      <td>Blinding Lights</td>\n",
       "    </tr>\n",
       "    <tr>\n",
       "      <th>1</th>\n",
       "      <td>Ed Sheeran</td>\n",
       "      <td>Shape of You</td>\n",
       "    </tr>\n",
       "    <tr>\n",
       "      <th>2</th>\n",
       "      <td>Lewis Capaldi</td>\n",
       "      <td>Someone You Loved</td>\n",
       "    </tr>\n",
       "    <tr>\n",
       "      <th>3</th>\n",
       "      <td>Harry Styles</td>\n",
       "      <td>As It Was</td>\n",
       "    </tr>\n",
       "    <tr>\n",
       "      <th>4</th>\n",
       "      <td>Post Malone</td>\n",
       "      <td>Sunflower</td>\n",
       "    </tr>\n",
       "    <tr>\n",
       "      <th>...</th>\n",
       "      <td>...</td>\n",
       "      <td>...</td>\n",
       "    </tr>\n",
       "    <tr>\n",
       "      <th>2495</th>\n",
       "      <td>Myke Towers</td>\n",
       "      <td>LA FALDA</td>\n",
       "    </tr>\n",
       "    <tr>\n",
       "      <th>2496</th>\n",
       "      <td>Social House</td>\n",
       "      <td>Magic In The Hamptons</td>\n",
       "    </tr>\n",
       "    <tr>\n",
       "      <th>2497</th>\n",
       "      <td>KISS</td>\n",
       "      <td>Rock And Roll All Nite</td>\n",
       "    </tr>\n",
       "    <tr>\n",
       "      <th>2498</th>\n",
       "      <td>Mora</td>\n",
       "      <td>512</td>\n",
       "    </tr>\n",
       "    <tr>\n",
       "      <th>2499</th>\n",
       "      <td>Meghan Trainor</td>\n",
       "      <td>Me Too</td>\n",
       "    </tr>\n",
       "  </tbody>\n",
       "</table>\n",
       "<p>2474 rows × 2 columns</p>\n",
       "</div>"
      ],
      "text/plain": [
       "                   0                       1\n",
       "0         The Weeknd         Blinding Lights\n",
       "1         Ed Sheeran            Shape of You\n",
       "2      Lewis Capaldi       Someone You Loved\n",
       "3       Harry Styles               As It Was\n",
       "4        Post Malone               Sunflower\n",
       "...              ...                     ...\n",
       "2495     Myke Towers                LA FALDA\n",
       "2496    Social House   Magic In The Hamptons\n",
       "2497            KISS  Rock And Roll All Nite\n",
       "2498            Mora                     512\n",
       "2499  Meghan Trainor                  Me Too\n",
       "\n",
       "[2474 rows x 2 columns]"
      ]
     },
     "execution_count": 208,
     "metadata": {},
     "output_type": "execute_result"
    }
   ],
   "source": [
    "data[\"Songs & Artist\"].str.split(\" - \", n=1, expand=True)"
   ]
  },
  {
   "cell_type": "code",
   "execution_count": 209,
   "metadata": {},
   "outputs": [],
   "source": [
    "data[[\"Artist\", \"Song\"]] = data[\"Songs & Artist\"].str.split(\" - \", n=1, expand=True)"
   ]
  },
  {
   "cell_type": "code",
   "execution_count": 210,
   "metadata": {},
   "outputs": [
    {
     "data": {
      "text/html": [
       "<div>\n",
       "<style scoped>\n",
       "    .dataframe tbody tr th:only-of-type {\n",
       "        vertical-align: middle;\n",
       "    }\n",
       "\n",
       "    .dataframe tbody tr th {\n",
       "        vertical-align: top;\n",
       "    }\n",
       "\n",
       "    .dataframe thead th {\n",
       "        text-align: right;\n",
       "    }\n",
       "</style>\n",
       "<table border=\"1\" class=\"dataframe\">\n",
       "  <thead>\n",
       "    <tr style=\"text-align: right;\">\n",
       "      <th></th>\n",
       "      <th>Songs &amp; Artist</th>\n",
       "      <th>Streams</th>\n",
       "      <th>Daily</th>\n",
       "      <th>Artist</th>\n",
       "      <th>Song</th>\n",
       "    </tr>\n",
       "  </thead>\n",
       "  <tbody>\n",
       "    <tr>\n",
       "      <th>0</th>\n",
       "      <td>The Weeknd - Blinding Lights</td>\n",
       "      <td>4463658617</td>\n",
       "      <td>1619447</td>\n",
       "      <td>The Weeknd</td>\n",
       "      <td>Blinding Lights</td>\n",
       "    </tr>\n",
       "    <tr>\n",
       "      <th>1</th>\n",
       "      <td>Ed Sheeran - Shape of You</td>\n",
       "      <td>4018102402</td>\n",
       "      <td>1001507</td>\n",
       "      <td>Ed Sheeran</td>\n",
       "      <td>Shape of You</td>\n",
       "    </tr>\n",
       "    <tr>\n",
       "      <th>2</th>\n",
       "      <td>Lewis Capaldi - Someone You Loved</td>\n",
       "      <td>3588673578</td>\n",
       "      <td>1506961</td>\n",
       "      <td>Lewis Capaldi</td>\n",
       "      <td>Someone You Loved</td>\n",
       "    </tr>\n",
       "    <tr>\n",
       "      <th>3</th>\n",
       "      <td>Harry Styles - As It Was</td>\n",
       "      <td>3544187311</td>\n",
       "      <td>1611374</td>\n",
       "      <td>Harry Styles</td>\n",
       "      <td>As It Was</td>\n",
       "    </tr>\n",
       "    <tr>\n",
       "      <th>4</th>\n",
       "      <td>Post Malone - Sunflower</td>\n",
       "      <td>3518744128</td>\n",
       "      <td>1337404</td>\n",
       "      <td>Post Malone</td>\n",
       "      <td>Sunflower</td>\n",
       "    </tr>\n",
       "    <tr>\n",
       "      <th>...</th>\n",
       "      <td>...</td>\n",
       "      <td>...</td>\n",
       "      <td>...</td>\n",
       "      <td>...</td>\n",
       "      <td>...</td>\n",
       "    </tr>\n",
       "    <tr>\n",
       "      <th>2495</th>\n",
       "      <td>Myke Towers - LA FALDA</td>\n",
       "      <td>505592800</td>\n",
       "      <td>1278450</td>\n",
       "      <td>Myke Towers</td>\n",
       "      <td>LA FALDA</td>\n",
       "    </tr>\n",
       "    <tr>\n",
       "      <th>2496</th>\n",
       "      <td>Social House - Magic In The Hamptons</td>\n",
       "      <td>505511969</td>\n",
       "      <td>118483</td>\n",
       "      <td>Social House</td>\n",
       "      <td>Magic In The Hamptons</td>\n",
       "    </tr>\n",
       "    <tr>\n",
       "      <th>2497</th>\n",
       "      <td>KISS - Rock And Roll All Nite</td>\n",
       "      <td>505386377</td>\n",
       "      <td>205701</td>\n",
       "      <td>KISS</td>\n",
       "      <td>Rock And Roll All Nite</td>\n",
       "    </tr>\n",
       "    <tr>\n",
       "      <th>2498</th>\n",
       "      <td>Mora - 512</td>\n",
       "      <td>505309100</td>\n",
       "      <td>280336</td>\n",
       "      <td>Mora</td>\n",
       "      <td>512</td>\n",
       "    </tr>\n",
       "    <tr>\n",
       "      <th>2499</th>\n",
       "      <td>Meghan Trainor - Me Too</td>\n",
       "      <td>505249124</td>\n",
       "      <td>288515</td>\n",
       "      <td>Meghan Trainor</td>\n",
       "      <td>Me Too</td>\n",
       "    </tr>\n",
       "  </tbody>\n",
       "</table>\n",
       "<p>2474 rows × 5 columns</p>\n",
       "</div>"
      ],
      "text/plain": [
       "                            Songs & Artist     Streams    Daily  \\\n",
       "0             The Weeknd - Blinding Lights  4463658617  1619447   \n",
       "1                Ed Sheeran - Shape of You  4018102402  1001507   \n",
       "2        Lewis Capaldi - Someone You Loved  3588673578  1506961   \n",
       "3                 Harry Styles - As It Was  3544187311  1611374   \n",
       "4                  Post Malone - Sunflower  3518744128  1337404   \n",
       "...                                    ...         ...      ...   \n",
       "2495                Myke Towers - LA FALDA   505592800  1278450   \n",
       "2496  Social House - Magic In The Hamptons   505511969   118483   \n",
       "2497         KISS - Rock And Roll All Nite   505386377   205701   \n",
       "2498                            Mora - 512   505309100   280336   \n",
       "2499               Meghan Trainor - Me Too   505249124   288515   \n",
       "\n",
       "              Artist                    Song  \n",
       "0         The Weeknd         Blinding Lights  \n",
       "1         Ed Sheeran            Shape of You  \n",
       "2      Lewis Capaldi       Someone You Loved  \n",
       "3       Harry Styles               As It Was  \n",
       "4        Post Malone               Sunflower  \n",
       "...              ...                     ...  \n",
       "2495     Myke Towers                LA FALDA  \n",
       "2496    Social House   Magic In The Hamptons  \n",
       "2497            KISS  Rock And Roll All Nite  \n",
       "2498            Mora                     512  \n",
       "2499  Meghan Trainor                  Me Too  \n",
       "\n",
       "[2474 rows x 5 columns]"
      ]
     },
     "execution_count": 210,
     "metadata": {},
     "output_type": "execute_result"
    }
   ],
   "source": [
    "data"
   ]
  },
  {
   "cell_type": "code",
   "execution_count": null,
   "metadata": {},
   "outputs": [],
   "source": [
    "data = data.drop(\"Songs & Artist\", axis=1)"
   ]
  },
  {
   "cell_type": "code",
   "execution_count": 214,
   "metadata": {},
   "outputs": [
    {
     "data": {
      "text/html": [
       "<div>\n",
       "<style scoped>\n",
       "    .dataframe tbody tr th:only-of-type {\n",
       "        vertical-align: middle;\n",
       "    }\n",
       "\n",
       "    .dataframe tbody tr th {\n",
       "        vertical-align: top;\n",
       "    }\n",
       "\n",
       "    .dataframe thead th {\n",
       "        text-align: right;\n",
       "    }\n",
       "</style>\n",
       "<table border=\"1\" class=\"dataframe\">\n",
       "  <thead>\n",
       "    <tr style=\"text-align: right;\">\n",
       "      <th></th>\n",
       "      <th>Streams</th>\n",
       "      <th>Daily</th>\n",
       "      <th>Artist</th>\n",
       "      <th>Song</th>\n",
       "    </tr>\n",
       "  </thead>\n",
       "  <tbody>\n",
       "    <tr>\n",
       "      <th>0</th>\n",
       "      <td>4463658617</td>\n",
       "      <td>1619447</td>\n",
       "      <td>The Weeknd</td>\n",
       "      <td>Blinding Lights</td>\n",
       "    </tr>\n",
       "    <tr>\n",
       "      <th>1</th>\n",
       "      <td>4018102402</td>\n",
       "      <td>1001507</td>\n",
       "      <td>Ed Sheeran</td>\n",
       "      <td>Shape of You</td>\n",
       "    </tr>\n",
       "    <tr>\n",
       "      <th>2</th>\n",
       "      <td>3588673578</td>\n",
       "      <td>1506961</td>\n",
       "      <td>Lewis Capaldi</td>\n",
       "      <td>Someone You Loved</td>\n",
       "    </tr>\n",
       "    <tr>\n",
       "      <th>3</th>\n",
       "      <td>3544187311</td>\n",
       "      <td>1611374</td>\n",
       "      <td>Harry Styles</td>\n",
       "      <td>As It Was</td>\n",
       "    </tr>\n",
       "    <tr>\n",
       "      <th>4</th>\n",
       "      <td>3518744128</td>\n",
       "      <td>1337404</td>\n",
       "      <td>Post Malone</td>\n",
       "      <td>Sunflower</td>\n",
       "    </tr>\n",
       "    <tr>\n",
       "      <th>...</th>\n",
       "      <td>...</td>\n",
       "      <td>...</td>\n",
       "      <td>...</td>\n",
       "      <td>...</td>\n",
       "    </tr>\n",
       "    <tr>\n",
       "      <th>2495</th>\n",
       "      <td>505592800</td>\n",
       "      <td>1278450</td>\n",
       "      <td>Myke Towers</td>\n",
       "      <td>LA FALDA</td>\n",
       "    </tr>\n",
       "    <tr>\n",
       "      <th>2496</th>\n",
       "      <td>505511969</td>\n",
       "      <td>118483</td>\n",
       "      <td>Social House</td>\n",
       "      <td>Magic In The Hamptons</td>\n",
       "    </tr>\n",
       "    <tr>\n",
       "      <th>2497</th>\n",
       "      <td>505386377</td>\n",
       "      <td>205701</td>\n",
       "      <td>KISS</td>\n",
       "      <td>Rock And Roll All Nite</td>\n",
       "    </tr>\n",
       "    <tr>\n",
       "      <th>2498</th>\n",
       "      <td>505309100</td>\n",
       "      <td>280336</td>\n",
       "      <td>Mora</td>\n",
       "      <td>512</td>\n",
       "    </tr>\n",
       "    <tr>\n",
       "      <th>2499</th>\n",
       "      <td>505249124</td>\n",
       "      <td>288515</td>\n",
       "      <td>Meghan Trainor</td>\n",
       "      <td>Me Too</td>\n",
       "    </tr>\n",
       "  </tbody>\n",
       "</table>\n",
       "<p>2474 rows × 4 columns</p>\n",
       "</div>"
      ],
      "text/plain": [
       "         Streams    Daily          Artist                    Song\n",
       "0     4463658617  1619447      The Weeknd         Blinding Lights\n",
       "1     4018102402  1001507      Ed Sheeran            Shape of You\n",
       "2     3588673578  1506961   Lewis Capaldi       Someone You Loved\n",
       "3     3544187311  1611374    Harry Styles               As It Was\n",
       "4     3518744128  1337404     Post Malone               Sunflower\n",
       "...          ...      ...             ...                     ...\n",
       "2495   505592800  1278450     Myke Towers                LA FALDA\n",
       "2496   505511969   118483    Social House   Magic In The Hamptons\n",
       "2497   505386377   205701            KISS  Rock And Roll All Nite\n",
       "2498   505309100   280336            Mora                     512\n",
       "2499   505249124   288515  Meghan Trainor                  Me Too\n",
       "\n",
       "[2474 rows x 4 columns]"
      ]
     },
     "execution_count": 214,
     "metadata": {},
     "output_type": "execute_result"
    }
   ],
   "source": [
    "data"
   ]
  },
  {
   "cell_type": "code",
   "execution_count": 215,
   "metadata": {},
   "outputs": [
    {
     "data": {
      "text/plain": [
       "Artist\n",
       "Taylor Swift      41\n",
       "Bad Bunny         36\n",
       "Drake             33\n",
       "Billie Eilish     26\n",
       "The Weeknd        24\n",
       "                  ..\n",
       "Sub Urban          1\n",
       "Arizona Zervas     1\n",
       "*NSYNC             1\n",
       "Don McLean         1\n",
       "Social House       1\n",
       "Name: count, Length: 993, dtype: int64"
      ]
     },
     "execution_count": 215,
     "metadata": {},
     "output_type": "execute_result"
    }
   ],
   "source": [
    "data[\"Artist\"].value_counts()"
   ]
  },
  {
   "cell_type": "code",
   "execution_count": 217,
   "metadata": {},
   "outputs": [
    {
     "data": {
      "text/plain": [
       "array(['The Weeknd', 'Ed Sheeran', 'Lewis Capaldi', 'Harry Styles',\n",
       "       'Post Malone', 'Drake', 'The Kid LAROI', 'The Neighbourhood',\n",
       "       'Imagine Dragons', 'Tones And I', 'Glass Animals', 'James Arthur',\n",
       "       'Billie Eilish', 'The Chainsmokers', 'Shawn Mendes', 'Dua Lipa',\n",
       "       'Vance Joy', 'Hozier', 'Tom Odell', 'Juice WRLD', 'OneRepublic',\n",
       "       'Queen', 'Macklemore & Ryan Lewis', 'Unknown', 'Lady Gaga',\n",
       "       'Travis Scott', 'Justin Bieber', 'Coldplay', 'Taylor Swift',\n",
       "       'John Legend', 'Arctic Monkeys', 'Avicii', 'Twenty One Pilots',\n",
       "       'Lord Huron', 'J. Cole', 'Passenger', 'Kendrick Lamar',\n",
       "       'Ariana Grande', 'The Killers', 'Eminem', 'Olivia Rodrigo',\n",
       "       'Bruno Mars', 'Calvin Harris', 'XXXTENTACION', 'DJ Snake',\n",
       "       'Marshmello', 'French Montana', 'Miley Cyrus', 'Lil Uzi Vert',\n",
       "       'The Police', 'Linkin Park', 'Major Lazer', 'Sam Smith',\n",
       "       'Elton John', 'Nirvana', 'Camila Cabello', 'Oasis', 'Halsey',\n",
       "       'Maroon 5', 'Journey', 'SZA', 'Mark Ronson', 'a-ha', 'Lil Nas X',\n",
       "       'Bad Bunny', 'Adele', 'Mike Posner', 'Alan Walker', 'Lukas Graham',\n",
       "       'Roddy Ricch', \"Guns N' Roses\", 'SAINt JHN', 'Wiz Khalifa',\n",
       "       'Charlie Puth', 'Jason Mraz', '24kGoldn', 'BTS', 'Jung Kook',\n",
       "       'Doja Cat', 'Foster The People', 'Manuel Turizo', 'TOTO',\n",
       "       'The Goo Goo Dolls', 'Michael Jackson', 'Danny Ocean', 'Gotye',\n",
       "       '5 Seconds of Summer', 'Lauv', 'Tyler, The Creator',\n",
       "       'Mariah Carey', 'David Guetta', 'WALK THE MOON', 'Sia', 'Coolio',\n",
       "       'J Balvin', 'Dean Lewis', 'Luis Fonsi', 'Radiohead',\n",
       "       'benny blanco', 'Rihanna', 'Alec Benjamin', 'Justin Timberlake',\n",
       "       'Fleetwood Mac', 'Tears For Fears', 'Shakira', 'Conan Gray',\n",
       "       'Bizarrap', 'ZAYN', 'OMI', 'The White Stripes', 'Tame Impala',\n",
       "       'Creedence Clearwater Revival', 'Christina Perri',\n",
       "       'Earth, Wind & Fire', 'Don Omar', 'Ava Max', 'One Direction',\n",
       "       'Powfu', 'AC/DC', 'Bon Jovi', 'Måneskin', 'Eagles', 'DNCE',\n",
       "       'Ruth B.', 'The Starlite Singers', 'MUSIC LAB JPN', 'Keane',\n",
       "       'Future', 'Childish Gambino', 'DaBaby', 'Cardi B',\n",
       "       'Panic! At The Disco', 'Trevor Daniel', 'Bastille', 'Offset',\n",
       "       'Train', 'Beyoncé', 'White Noise Baby Sleep', '50 Cent', 'Khalid',\n",
       "       'Lana Del Rey', 'MAGIC!', 'Clean Bandit', 'The Walters',\n",
       "       'Anne-Marie', 'Pitbull', 'Ellie Goulding', 'Farruko',\n",
       "       'Kings of Leon', 'Lil Baby', 'Backstreet Boys', 'The Script',\n",
       "       'Zedd', 'Milky Chance', 'KAROL G', 'Wham!', 'Katy Perry',\n",
       "       'Tate McRae', 'Black Eyed Peas', 'Zara Larsson', 'NF', 'Gorillaz',\n",
       "       'Arizona Zervas', 'Martin Garrix', 'JAY-Z', 'Dynoro',\n",
       "       'Red Hot Chili Peppers', 'Dr. Dre', 'Snoop Dogg',\n",
       "       'Carly Rae Jepsen', 'Metallica', 'Rema', 'Daniel Caesar', 'Miguel',\n",
       "       'Eurythmics', 'Kygo', 'Alessia Cara', 'Fifth Harmony',\n",
       "       'Frank Ocean', 'Kanye West', 'Cigarettes After Sex',\n",
       "       'Jonas Brothers', 'System Of A Down', 'Marvin Gaye', 'R.E.M.',\n",
       "       'Lil Tecca', 'Steve Lacy', 'Pharrell Williams', 'gnash', 'Outkast',\n",
       "       'Rauw Alejandro', 'ABBA', 'Metro Boomin', 'JHAYCO', 'P!nk',\n",
       "       'USHER', 'The Beatles', 'MKTO', 'Regard', 'Bebe Rexha',\n",
       "       'Daddy Yankee', 'Axwell /\\\\ Ingrosso', 'Tyga', 'Selena Gomez',\n",
       "       'Jessie J', 'Snow Patrol', 'Britney Spears', 'Gym Class Heroes',\n",
       "       'Bryson Tiller', 'Survivor', 'Portugal. The Man', 'Internet Money',\n",
       "       'Lynyrd Skynyrd', 'Benson Boone', 'Capital Cities', 'Chris Brown',\n",
       "       'Logic', 'The Lumineers', 'Maluma', 'G-Eazy', 'Lost Frequencies',\n",
       "       'Joji', 'Lil Mosey', 'Sabrina Carpenter', 'A$AP Rocky', 'Kesha',\n",
       "       'blackbear', 'Jimin', 'The Rolling Stones', 'Whitney Houston',\n",
       "       'Eslabon Armado', 'Bryan Adams', 'The Cranberries',\n",
       "       'Nelly Furtado', 'Masked Wolf', 'DJ Khaled', 'Calum Scott',\n",
       "       'Kate Bush', 'Robin Schulz', 'd4vd', 'Dire Straits', 'Lil Peep',\n",
       "       'Lorde', 'Foo Fighters', 'The Fray', 'Cyndi Lauper',\n",
       "       'David Kushner', 'Duncan Laurence', 'Joel Corry', 'Julia Michaels',\n",
       "       'Fall Out Boy', 'George Ezra', 'Loud Luxury', 'LISA', 'Sean Paul',\n",
       "       'Tiësto', 'Kali Uchis', 'James Bay', 'Evanescence', 'Meek Mill',\n",
       "       'Giveon', 'Fetty Wap', 'Anuel AA', 'The Notorious B.I.G.',\n",
       "       'Hailee Steinfeld', 'Nio Garcia', 'Aerosmith', 'fun.', 'JVKE',\n",
       "       'Mitski', 'Papa Roach', 'Nicki Minaj', 'Desiigner', 'Ice Cube',\n",
       "       'KALEO', 'blink-182', 'JP Saxe', 'Beach House', 'Kodaline',\n",
       "       'Surf Curse', 'Van Morrison', 'Pedro Capó', 'Jonas Blue',\n",
       "       'Noah Kahan', 'Demi Lovato', 'Kungs', 'Jay Wheeler', '21 Savage',\n",
       "       'Elley Duhé', 'Ben E. King', 'Pop Smoke', 'Black Sabbath',\n",
       "       'Lil Wayne', 'Dream Supplier', 'Ali Gatie', 'TLC', 'GAYLE',\n",
       "       'Rudimental', 'Nickelback', 'Spice Girls', 'Topic',\n",
       "       'Swedish House Mafia', 'FloyyMenor', 'Green Day', 'Smash Mouth',\n",
       "       'Alicia Keys', 'Gnarls Barkley', 'M83', 'Daft Punk', 'Jawsh 685',\n",
       "       'Jason Derulo', 'BØRNS', 'Yng Lvcas', 'WILLOW', 'Akon',\n",
       "       'The Clash', 'Teddy Swims', 'Flo Rida', 'Taio Cruz', 'Skrillex',\n",
       "       'Jack Ü', \"Plain White T's\", 'Rosa Linn',\n",
       "       'Lilly Wood and The Prick', 'Natasha Bedingfield', 'girl in red',\n",
       "       'The Verve', 'George Michael', 'Meghan Trainor', 'Jaymes Young',\n",
       "       'Amy Winehouse', 'Kodak Black', 'Stephen Sanchez',\n",
       "       'Grupo Frontera', 'Of Monsters and Men', 'U2',\n",
       "       'Daryl Hall & John Oates', 'YNW Melly', 'A Great Big World',\n",
       "       'Dan + Shay', 'Florence + The Machine', 'Sheck Wes', 'ROSALÍA',\n",
       "       'Bee Gees', 'Disclosure', \"Rag'n'Bone Man\", 'Plan B', 'Hoobastank',\n",
       "       'Bazzi', 'BLACKPINK', 'Noah Cyrus', 'Shaggy',\n",
       "       'Bob Marley & The Wailers', 'KISS', 'Morgan Wallen', 'Kina',\n",
       "       'Ozuna', 'Dominic Fike', 'American Authors', 'Mario', 'R. City',\n",
       "       'The Offspring', 'Feid', 'Mabel', 'Mr. Probz', 'TV Girl',\n",
       "       'Nicky Jam', 'Chris Stapleton', 'Zach Bryan', 'Myke Towers',\n",
       "       'Zac Efron', 'Bill Withers', 'Hotel Ugly', 'Djo', 'Iyaz',\n",
       "       'Led Zeppelin', 'Brenda Lee', 'MEDUZA', 'Liam Payne',\n",
       "       'The Animals', 'Xmas Classics', 'Riton', 'The Temptations',\n",
       "       'Dennis Lloyd', 'Jimmy Eat World', 'Nico & Vinz', 'Lizzo',\n",
       "       'Electric Light Orchestra', 'Michael Bublé', 'Cage The Elephant',\n",
       "       'The Outfield', 'Billy Joel', 'Niall Horan', 'My Chemical Romance',\n",
       "       'Ty Dolla $ign', 'Rae Sremmurd', 'Empire Of The Sun', 'BlocBoy JB',\n",
       "       'Nicky Youre', 'Lunay', 'Becky G', '3 Doors Down', 'Don Toliver',\n",
       "       'Y2K', '4 Non Blondes', 'Surfaces', 'KYLE', 'Bobby Helms',\n",
       "       'Tove Lo', 'GROUPLOVE', 'Polo G', 'A Boogie Wit da Hoodie',\n",
       "       'Simple Minds', 'The Jackson 5',\n",
       "       'Edward Sharpe & The Magnetic Zeros', 'Elvis Presley', 'Tainy',\n",
       "       'Paulo Londra', 'Migos', 'Rage Against The Machine',\n",
       "       'Gesaffelstein', 'Tracy Chapman', 'Blur', 'Pixies', 'Timbaland',\n",
       "       'The Mamas & The Papas', 'Toploader', 'Surf Mesa', 'Owl City',\n",
       "       'Beach Weather', 'Franz Ferdinand', 'AURORA', 'Zion & Lennox',\n",
       "       'Icona Pop', 'Mustard', 'Avril Lavigne', 'Patrick Watson',\n",
       "       'Galantis', 'Macklemore', 'James Blunt', 'Pink Floyd', 'Dhruv',\n",
       "       'Rachel Platten', 'Van Halen', 'Seafret', 'Artemas', 'Ryan Riback',\n",
       "       'NATTI NATASHA', 'Tory Lanez', 'Selena Gomez & The Scene', 'Nelly',\n",
       "       'Maggie Lindemann', 'FIFTY FIFTY', 'Foreigner', 'Kenny Loggins',\n",
       "       'Gunna', 'Men At Work', 'Luke Combs', 'Sam Hunt', 'Wallows',\n",
       "       'Ne-Yo', 'Labrinth', 'Piso 21', 'Aaron Smith', 'Cris Mj',\n",
       "       'PinkPantheress', 'Sleepy Hallow', 'Enrique Iglesias',\n",
       "       'Leona Lewis', 'Eyedress', 'CKay', 'LP', 'Mr.Kitty',\n",
       "       'PARTYNEXTDOOR', 'Chord Overstreet', 'Rick Astley',\n",
       "       \"Destiny's Child\", 'Neon Trees', 'Sixpence None The Richer',\n",
       "       'Yandel', 'Soft Cell', 'Boston', 'BANNERS', 'Two Door Cinema Club',\n",
       "       'Playboi Carti', 'Robin Thicke', 'alt-J', 'New West', 'Kid Cudi',\n",
       "       'Rob $tone', 'Jack Johnson', 'RAYE', 'Flume', 'DRAM',\n",
       "       'Melanie Martinez', 'Paramore', 'Baby Keem', 'The Wanted',\n",
       "       'Sebastian Yatra', 'Kenya Grace', 'Jack Harlow', 'Andy Williams',\n",
       "       'Jeremy Zucker', 'Haddaway', 'Birdy', 'ACRAZE', 'MGMT',\n",
       "       'Petit Biscuit', 'AWOLNATION', 'Keala Settle', 'Otis Redding',\n",
       "       'Deorro', 'Blackstreet', 'V', 'Bruce Springsteen', 'Weezer',\n",
       "       'Tommy Richman', 'Vanessa Carlton', 'The 1975', 'B.o.B',\n",
       "       'Sean Kingston', 'Quevedo', 'Ashe', 'Sublime', 'Bonnie Tyler',\n",
       "       'Disturbed', 'Romeo Santos', 'X Ambassadors', 'Aventura', 'Tyla',\n",
       "       'THE SCOTTS', 'Mike Perry', 'Wisin', 'Three Days Grace',\n",
       "       'Lil Tjay', 'The Game', 'will.i.am', 'Natalie Imbruglia',\n",
       "       'Big Sean', 'The Proclaimers', 'Hippie Sabotage', 'Slipknot',\n",
       "       'Paloma Faith', 'Chief Keef', '2Pac', 'Mora',\n",
       "       'Katrina & The Waves', 'Counting Crows', 'Alok', 'Idina Menzel',\n",
       "       'Estelle', '6ix9ine', 'CJ', 'Mac Miller', 'Kansas',\n",
       "       'Fitz and The Tantrums', 'Martin Jensen', 'Kelly Clarkson', 'TINI',\n",
       "       'Scorpions', 'Mac DeMarco', 'Micro TDH', 'Clairo', 'Mau y Ricky',\n",
       "       'M.I.A.', 'John Newman', 'Aminé', 'Little Mix', 'Darius Rucker',\n",
       "       'Dave', 'No Doubt', 'Sub Urban', 'The Cure', '*NSYNC',\n",
       "       'Chase Atlantic', 'Don McLean', 'Felix Jaehn', 'StaySolidRocky',\n",
       "       'Calle 24', 'Rixton', 'Pinkfong', 'Xavi', 'CNCO', 'Mumford & Sons',\n",
       "       'LMFAO', 'DMX', 'ATB', 'Peso Pluma', 'Neil Diamond',\n",
       "       'Corinne Bailey Rae', 'Rise Against', 'Shaboozey', 'Luis Miguel',\n",
       "       'BENEE', 'Jay Sean', 'Arcángel', 'A$AP Ferg', 'Alex & Sierra',\n",
       "       'Skillet', 'iñigo quintero', 'Øneheart', 'Young Thug',\n",
       "       'Rascal Flatts', 'Tom Petty', 'Phil Collins', 'Jon Bellion',\n",
       "       'Iggy Azalea', 'Fort Minor', 'Fugees', 'Zac Brown Band',\n",
       "       'JACKBOYS', 'Los Enanitos Verdes', 'Junior H', 'Dalex',\n",
       "       'Manu Chao', 'Jimi Hendrix', 'Central Cee', 'Soundgarden',\n",
       "       'Yot Club', 'Far East Movement', 'Reik', 'America', 'NewJeans',\n",
       "       'Richy Mitch & The Coal Miners', 'Carlos Vives', 'Anitta',\n",
       "       'zzoilo', 'John Mayer', 'Stealers Wheel', 'Russ', 'BoyWithUke',\n",
       "       'Natanael Cano', 'Kordhell', 'Marc Seguí', 'cassö', 'Audioslave',\n",
       "       'Alesso', 'Stromae', 'The Calling', 'Limp Bizkit', '$uicideboy$',\n",
       "       'Carin Leon', 'Blue Swede', 'La Oreja de Van Gogh', 'Dolly Parton',\n",
       "       'Depeche Mode', 'Troye Sivan', 'Chappell Roan', 'Alphaville',\n",
       "       'Natalia Lafourcade', 'Ozzy Osbourne', 'Soulja Boy', 'Daryl Hall',\n",
       "       'Sech', 'Travie McCoy', 'mgk', 'Culture Club', 'AJR', 'Rels B',\n",
       "       'Waka Flocka Flame', 'Cascada', 'Jeremih', 'Chris Isaak', 'T-Pain',\n",
       "       'Rex Orange County', 'Pink Sweat$', 'Extreme', 'Bacilos',\n",
       "       'John Lennon', 'Cheat Codes', 'Joel Adams', 'Yusuf / Cat Stevens',\n",
       "       'Lil Dicky', 'Gwen Stefani', 'grandson', 'Chris Jedi', 'R3HAB',\n",
       "       'Wheatus', 'SYML', 'Libianca', 'Sofía Reyes', 'Gera MX',\n",
       "       'Lou Bega', 'Frank Sinatra', 'The Vamps', 'Naughty Boy',\n",
       "       'Mötley Crüe', 'Olly Alexander (Years & Years)', 'INTERWORLD',\n",
       "       'Dove Cameron', 'The Cardigans', 'The Kooks', 'James Hype',\n",
       "       'José Feliciano', 'Bring Me The Horizon', 'Two Feet', 'UB40',\n",
       "       'Buffalo Springfield', 'Hombres G', 'The xx', 'The Smiths',\n",
       "       'Flipp Dinero', 'Rich The Kid', 'Oliver Tree', 'Summer Walker',\n",
       "       'Kiiara', 'Dexys Midnight Runners', 'The Rare Occasions',\n",
       "       'Roxette', 'James TW', 'Cutting Crew', 'Morat', 'ZZ Top',\n",
       "       'FRENSHIP', 'Cher', 'Bon Iver', 'Declan McKenna',\n",
       "       'Los Legendarios', 'ScHoolboy Q', 'Majestic', 'Jet', 'The Strokes',\n",
       "       'Duke Dumont', 'Lil Pump', 'Alejandro Fernández', 'Stevie Wonder',\n",
       "       'Thirty Seconds To Mars', 'The Smashing Pumpkins', 'Redbone',\n",
       "       'JENNIE', 'Boza', 'Tego Calderón', 'Marc Anthony', 'Sam Fischer',\n",
       "       'Aretha Franklin', 'Eiffel 65', 'Muse', 'Colbie Caillat', 'Ghost',\n",
       "       'Vacations', 'Simon & Garfunkel', \"Auli'i Cravalho\",\n",
       "       'The Cinematic Orchestra', 'Carrie Underwood', 'The Paper Kites',\n",
       "       'Incubus', 'Thomas Rhett', 'The Temper Trap', 'Rick Springfield',\n",
       "       'Europe', 'Rita Ora', 'John Travolta', 'Tom Walker',\n",
       "       'Gente De Zona', 'Jax Jones', 'Starship', 'Paul Simon',\n",
       "       'Johnny Cash', 'Crowded House', 'R. Kelly', 'Commodores',\n",
       "       'THE ANXIETY', 'Ricky Martin', 'Snakehips', 'Dean Martin',\n",
       "       'Christian Nodal', 'Silk City', 'Jennifer Lopez', 'Dayglow',\n",
       "       'Chino & Nacho', 'Cosculluela', 'Lykke Li', 'Louis Armstrong',\n",
       "       'League of Legends', 'Pearl Jam', 'Diplo', 'Breaking Benjamin',\n",
       "       'The Doobie Brothers', 'Ed Maverick', 'Roy Orbison', 'Milo j',\n",
       "       'YOASOBI', 'Avenged Sevenfold', 'Jarabe De Palo', 'Shania Twain',\n",
       "       'Jay Rock', 'Ricky Montgomery', 'Alexandra Stan', 'Roar',\n",
       "       'Ritt Momney', 'The Pussycat Dolls', 'The Who', 'Rammstein',\n",
       "       'Lil Xan', 'The All-American Rejects', 'Burak Yeter',\n",
       "       'Dusty Springfield', 'Mazzy Star', 'Camilo', 'Oscar Maydon',\n",
       "       'Sasha Alex Sloan', 'JID', 'Daniel Powter', 'John Denver', 'Diddy',\n",
       "       'Fergie', 'Rupert Holmes', 'Kehlani', 'Sheppard', 'Brent Faiyaz',\n",
       "       'Fujii Kaze', 'Keyshia Cole', 'Sophie Ellis-Bextor',\n",
       "       'Tropical Florida', 'Beach Bunny', 'Jesse & Joy', 'Loren Allred',\n",
       "       'Fuerza Regida', 'Lizzy McAlpine', 'Chino Pacas', 'Saweetie',\n",
       "       'The Black Keys', 'Gabry Ponte', 'Lil Skies', 'Michael Sembello',\n",
       "       'Sam Feldt', 'All Time Low', 'Imanbek', 'Daya', 'Loreen',\n",
       "       'Lifehouse', 'NLE Choppa', 'Eagle-Eye Cherry', 'Echosmith',\n",
       "       'Vundabar', 'JP Cooper', 'Famous Dex', 'GoldLink', 'AronChupa',\n",
       "       'Ski Mask The Slump God', 'Trippie Redd', 'Bing Crosby',\n",
       "       'Don Henley', 'The Beach Boys', 'Louis Tomlinson', 'Carlos Baute',\n",
       "       'Al Green', 'Luke Bryan', 'The Righteous Brothers', 'Brett Young',\n",
       "       'Cults', 'Kylie Minogue', 'Nick Jonas', 'King Princess',\n",
       "       'Sam Cooke', 'Dwayne Johnson', 'Steppenwolf', '¥$',\n",
       "       'Blue Öyster Cult', 'PUBLIC', 'Liana Flores', 'Hugh Jackman',\n",
       "       'Soda Stereo', 'MARINA', 'Astrid S', 't.A.T.u.', 'House Of Pain',\n",
       "       'Christmas Hits', 'Ryan Castro', 'T.I.', 'Trueno', 'Ziv Zaifman',\n",
       "       'Super Yei', 'Mon Laferte', 'Bishop Briggs', 'Céline Dion',\n",
       "       'Matt Sassari', 'Band Aid', 'Gucci Mane', 'ThxSoMch', 'DJ Luian',\n",
       "       'Lauren Daigle', 'Ciara', 'The Human League', 'Bakar', 'Aqua',\n",
       "       'Robbie Williams', 'salvia palth', 'MØ', 'Various Artists -',\n",
       "       'Deep Purple', 'Mobb Deep', 'The Pointer Sisters', 'Pritam',\n",
       "       'Timmy Trumpet', 'Coyote Theory', 'Chuck Berry', 'Mary J. Blige',\n",
       "       'David Bowie', 'The Living Tombstone', 'Alexander 23',\n",
       "       'José González', 'Andy Grammer', 'SHAED', 'King Von',\n",
       "       'Lil Jon & The East Side Boyz', 'Nate Dogg', 'FISHER',\n",
       "       'Madison Beer', 'Warren G', 'Kaash Paige', 'Quality Control',\n",
       "       'Eric Carmen', 'George Harrison', 'Dasha', 'Ingratax', 'Sum 41',\n",
       "       'Norah Jones', 'The Ronettes', 'Four Tops', 'Belinda Carlisle',\n",
       "       'Korn', 'Pia Mia', 'Armin van Buuren', 'Talking Heads', 'Blondie',\n",
       "       'Kane Brown', 'Peter Bjorn and John', 'Pablo Alborán',\n",
       "       'Third Eye Blind', 'Various Artists', 'Run–D.M.C.', 'Wolfine',\n",
       "       'Gala', 'Spin Doctors', 'Modjo', 'Norman Greenbaum', 'Etta James',\n",
       "       'Ramz', 'Duki', 'Peggy Gou', 'SAYGRACE', 'Luniz',\n",
       "       'The Red Jumpsuit Apparatus', 'Drowning Pool', 'Joy Again',\n",
       "       'Ashnikko', 'León Larregui', 'Carolina Gaitán', 'Rvssian',\n",
       "       'Calibre 50', 'Tinlicker', 'Steve Aoki', 'Chris Rea', 'Cochise',\n",
       "       'Savage Garden', 'Yiruma', 'Banda MS de Sergio Lizárraga',\n",
       "       'Ella Mai', 'DVRST', 'Steve Miller Band', 'BROCKHAMPTON',\n",
       "       'Jhené Aiko', 'Fools Garden', 'Matt Simons', 'Sufjan Stevens',\n",
       "       'SLANDER', 'Kid Rock', 'Elle King', 'Men I Trust', 'Ginuwine',\n",
       "       'Juanes', 'Grover Washington, Jr.', 'Jordan Davis', 'Mura Masa',\n",
       "       'The Turtles', 'Alex Rose', 'Carly Simon', 'Eric Clapton',\n",
       "       'Roy Woods', 'Ludovico Einaudi',\n",
       "       'Frankie Valli & The Four Seasons', 'JIN', 'Jubël',\n",
       "       'Chance the Rapper', 'Sade', 'Vegedream', 'Belanova',\n",
       "       'Hillsong UNITED', 'Baby Bash', 'Jordin Sparks', 'Kim Carnes',\n",
       "       'Social House'], dtype=object)"
      ]
     },
     "execution_count": 217,
     "metadata": {},
     "output_type": "execute_result"
    }
   ],
   "source": [
    "data[\"Artist\"].unique()"
   ]
  },
  {
   "cell_type": "code",
   "execution_count": 219,
   "metadata": {},
   "outputs": [
    {
     "data": {
      "text/html": [
       "<div>\n",
       "<style scoped>\n",
       "    .dataframe tbody tr th:only-of-type {\n",
       "        vertical-align: middle;\n",
       "    }\n",
       "\n",
       "    .dataframe tbody tr th {\n",
       "        vertical-align: top;\n",
       "    }\n",
       "\n",
       "    .dataframe thead th {\n",
       "        text-align: right;\n",
       "    }\n",
       "</style>\n",
       "<table border=\"1\" class=\"dataframe\">\n",
       "  <thead>\n",
       "    <tr style=\"text-align: right;\">\n",
       "      <th></th>\n",
       "      <th>Streams</th>\n",
       "      <th>Daily</th>\n",
       "      <th>Artist</th>\n",
       "      <th>Song</th>\n",
       "    </tr>\n",
       "  </thead>\n",
       "  <tbody>\n",
       "    <tr>\n",
       "      <th>39</th>\n",
       "      <td>2481542457</td>\n",
       "      <td>2271270</td>\n",
       "      <td>Taylor Swift</td>\n",
       "      <td>Cruel Summer</td>\n",
       "    </tr>\n",
       "    <tr>\n",
       "      <th>128</th>\n",
       "      <td>1909046390</td>\n",
       "      <td>674338</td>\n",
       "      <td>Taylor Swift</td>\n",
       "      <td>Blank Space</td>\n",
       "    </tr>\n",
       "    <tr>\n",
       "      <th>221</th>\n",
       "      <td>1663786298</td>\n",
       "      <td>786091</td>\n",
       "      <td>Taylor Swift</td>\n",
       "      <td>Anti-Hero</td>\n",
       "    </tr>\n",
       "    <tr>\n",
       "      <th>274</th>\n",
       "      <td>1539880718</td>\n",
       "      <td>1035606</td>\n",
       "      <td>Taylor Swift</td>\n",
       "      <td>Lover</td>\n",
       "    </tr>\n",
       "    <tr>\n",
       "      <th>311</th>\n",
       "      <td>1479530912</td>\n",
       "      <td>604852</td>\n",
       "      <td>Taylor Swift</td>\n",
       "      <td>Shake It Off</td>\n",
       "    </tr>\n",
       "    <tr>\n",
       "      <th>344</th>\n",
       "      <td>1421155316</td>\n",
       "      <td>1072449</td>\n",
       "      <td>Taylor Swift</td>\n",
       "      <td>cardigan</td>\n",
       "    </tr>\n",
       "    <tr>\n",
       "      <th>445</th>\n",
       "      <td>1275999844</td>\n",
       "      <td>497318</td>\n",
       "      <td>Taylor Swift</td>\n",
       "      <td>Style</td>\n",
       "    </tr>\n",
       "    <tr>\n",
       "      <th>462</th>\n",
       "      <td>1243764603</td>\n",
       "      <td>1298139</td>\n",
       "      <td>Taylor Swift</td>\n",
       "      <td>august</td>\n",
       "    </tr>\n",
       "    <tr>\n",
       "      <th>487</th>\n",
       "      <td>1216808688</td>\n",
       "      <td>837279</td>\n",
       "      <td>Taylor Swift</td>\n",
       "      <td>Don’t Blame Me</td>\n",
       "    </tr>\n",
       "    <tr>\n",
       "      <th>498</th>\n",
       "      <td>1207381259</td>\n",
       "      <td>431873</td>\n",
       "      <td>Taylor Swift</td>\n",
       "      <td>Look What You Made Me Do</td>\n",
       "    </tr>\n",
       "    <tr>\n",
       "      <th>693</th>\n",
       "      <td>1044022896</td>\n",
       "      <td>432322</td>\n",
       "      <td>Taylor Swift</td>\n",
       "      <td>Delicate</td>\n",
       "    </tr>\n",
       "    <tr>\n",
       "      <th>769</th>\n",
       "      <td>998230194</td>\n",
       "      <td>284991</td>\n",
       "      <td>Taylor Swift</td>\n",
       "      <td>Wildest Dreams</td>\n",
       "    </tr>\n",
       "    <tr>\n",
       "      <th>800</th>\n",
       "      <td>982026959</td>\n",
       "      <td>323081</td>\n",
       "      <td>Taylor Swift</td>\n",
       "      <td>You Need To Calm Down</td>\n",
       "    </tr>\n",
       "    <tr>\n",
       "      <th>889</th>\n",
       "      <td>926824958</td>\n",
       "      <td>287774</td>\n",
       "      <td>Taylor Swift</td>\n",
       "      <td>Love Story</td>\n",
       "    </tr>\n",
       "    <tr>\n",
       "      <th>930</th>\n",
       "      <td>900680667</td>\n",
       "      <td>532712</td>\n",
       "      <td>Taylor Swift</td>\n",
       "      <td>All Too Well (10 Minute Version) (Taylor's Ver...</td>\n",
       "    </tr>\n",
       "    <tr>\n",
       "      <th>942</th>\n",
       "      <td>895109334</td>\n",
       "      <td>425931</td>\n",
       "      <td>Taylor Swift</td>\n",
       "      <td>willow</td>\n",
       "    </tr>\n",
       "    <tr>\n",
       "      <th>970</th>\n",
       "      <td>884543285</td>\n",
       "      <td>182419</td>\n",
       "      <td>Taylor Swift</td>\n",
       "      <td>ME!</td>\n",
       "    </tr>\n",
       "    <tr>\n",
       "      <th>977</th>\n",
       "      <td>878438382</td>\n",
       "      <td>313209</td>\n",
       "      <td>Taylor Swift</td>\n",
       "      <td>I Knew You Were Trouble.</td>\n",
       "    </tr>\n",
       "    <tr>\n",
       "      <th>1041</th>\n",
       "      <td>844849233</td>\n",
       "      <td>338700</td>\n",
       "      <td>Taylor Swift</td>\n",
       "      <td>Enchanted</td>\n",
       "    </tr>\n",
       "    <tr>\n",
       "      <th>1045</th>\n",
       "      <td>843376080</td>\n",
       "      <td>639887</td>\n",
       "      <td>Taylor Swift</td>\n",
       "      <td>Love Story (Taylor’s Version)</td>\n",
       "    </tr>\n",
       "    <tr>\n",
       "      <th>1066</th>\n",
       "      <td>833979894</td>\n",
       "      <td>401398</td>\n",
       "      <td>Taylor Swift</td>\n",
       "      <td>Karma</td>\n",
       "    </tr>\n",
       "    <tr>\n",
       "      <th>1092</th>\n",
       "      <td>822293716</td>\n",
       "      <td>459426</td>\n",
       "      <td>Taylor Swift</td>\n",
       "      <td>The Man</td>\n",
       "    </tr>\n",
       "    <tr>\n",
       "      <th>1135</th>\n",
       "      <td>805750194</td>\n",
       "      <td>471832</td>\n",
       "      <td>Taylor Swift</td>\n",
       "      <td>exile</td>\n",
       "    </tr>\n",
       "    <tr>\n",
       "      <th>1170</th>\n",
       "      <td>790294569</td>\n",
       "      <td>470001</td>\n",
       "      <td>Taylor Swift</td>\n",
       "      <td>...Ready For It?</td>\n",
       "    </tr>\n",
       "    <tr>\n",
       "      <th>1172</th>\n",
       "      <td>789906684</td>\n",
       "      <td>441442</td>\n",
       "      <td>Taylor Swift</td>\n",
       "      <td>Wildest Dreams (Taylor's Version)</td>\n",
       "    </tr>\n",
       "    <tr>\n",
       "      <th>1293</th>\n",
       "      <td>750463859</td>\n",
       "      <td>310522</td>\n",
       "      <td>Taylor Swift</td>\n",
       "      <td>Lavender Haze</td>\n",
       "    </tr>\n",
       "    <tr>\n",
       "      <th>1345</th>\n",
       "      <td>736499138</td>\n",
       "      <td>631359</td>\n",
       "      <td>Taylor Swift</td>\n",
       "      <td>You Belong With Me (Taylor’s Version)</td>\n",
       "    </tr>\n",
       "    <tr>\n",
       "      <th>1447</th>\n",
       "      <td>706640175</td>\n",
       "      <td>327976</td>\n",
       "      <td>Taylor Swift</td>\n",
       "      <td>Getaway Car</td>\n",
       "    </tr>\n",
       "    <tr>\n",
       "      <th>1482</th>\n",
       "      <td>695445222</td>\n",
       "      <td>300292</td>\n",
       "      <td>Taylor Swift</td>\n",
       "      <td>Midnight Rain</td>\n",
       "    </tr>\n",
       "    <tr>\n",
       "      <th>1505</th>\n",
       "      <td>690149690</td>\n",
       "      <td>164303</td>\n",
       "      <td>Taylor Swift</td>\n",
       "      <td>We Are Never Ever Getting Back Together</td>\n",
       "    </tr>\n",
       "    <tr>\n",
       "      <th>1526</th>\n",
       "      <td>684362878</td>\n",
       "      <td>297506</td>\n",
       "      <td>Taylor Swift</td>\n",
       "      <td>Paper Rings</td>\n",
       "    </tr>\n",
       "    <tr>\n",
       "      <th>1580</th>\n",
       "      <td>668330605</td>\n",
       "      <td>203184</td>\n",
       "      <td>Taylor Swift</td>\n",
       "      <td>You Belong With Me</td>\n",
       "    </tr>\n",
       "    <tr>\n",
       "      <th>1637</th>\n",
       "      <td>655421920</td>\n",
       "      <td>382761</td>\n",
       "      <td>Taylor Swift</td>\n",
       "      <td>champagne problems</td>\n",
       "    </tr>\n",
       "    <tr>\n",
       "      <th>1645</th>\n",
       "      <td>653657575</td>\n",
       "      <td>1546641</td>\n",
       "      <td>Taylor Swift</td>\n",
       "      <td>Fortnight</td>\n",
       "    </tr>\n",
       "    <tr>\n",
       "      <th>1745</th>\n",
       "      <td>632224906</td>\n",
       "      <td>406977</td>\n",
       "      <td>Taylor Swift</td>\n",
       "      <td>You're On Your Own, Kid</td>\n",
       "    </tr>\n",
       "    <tr>\n",
       "      <th>1792</th>\n",
       "      <td>625169115</td>\n",
       "      <td>234748</td>\n",
       "      <td>Taylor Swift</td>\n",
       "      <td>Gorgeous</td>\n",
       "    </tr>\n",
       "    <tr>\n",
       "      <th>1797</th>\n",
       "      <td>624598156</td>\n",
       "      <td>189162</td>\n",
       "      <td>Taylor Swift</td>\n",
       "      <td>Bad Blood</td>\n",
       "    </tr>\n",
       "    <tr>\n",
       "      <th>1908</th>\n",
       "      <td>604548696</td>\n",
       "      <td>278262</td>\n",
       "      <td>Taylor Swift</td>\n",
       "      <td>the 1</td>\n",
       "    </tr>\n",
       "    <tr>\n",
       "      <th>2078</th>\n",
       "      <td>574645380</td>\n",
       "      <td>290016</td>\n",
       "      <td>Taylor Swift</td>\n",
       "      <td>Bejeweled</td>\n",
       "    </tr>\n",
       "    <tr>\n",
       "      <th>2212</th>\n",
       "      <td>549282321</td>\n",
       "      <td>609896</td>\n",
       "      <td>Taylor Swift</td>\n",
       "      <td>my tears ricochet</td>\n",
       "    </tr>\n",
       "    <tr>\n",
       "      <th>2370</th>\n",
       "      <td>521313596</td>\n",
       "      <td>173123</td>\n",
       "      <td>Taylor Swift</td>\n",
       "      <td>End Game</td>\n",
       "    </tr>\n",
       "  </tbody>\n",
       "</table>\n",
       "</div>"
      ],
      "text/plain": [
       "         Streams    Daily        Artist  \\\n",
       "39    2481542457  2271270  Taylor Swift   \n",
       "128   1909046390   674338  Taylor Swift   \n",
       "221   1663786298   786091  Taylor Swift   \n",
       "274   1539880718  1035606  Taylor Swift   \n",
       "311   1479530912   604852  Taylor Swift   \n",
       "344   1421155316  1072449  Taylor Swift   \n",
       "445   1275999844   497318  Taylor Swift   \n",
       "462   1243764603  1298139  Taylor Swift   \n",
       "487   1216808688   837279  Taylor Swift   \n",
       "498   1207381259   431873  Taylor Swift   \n",
       "693   1044022896   432322  Taylor Swift   \n",
       "769    998230194   284991  Taylor Swift   \n",
       "800    982026959   323081  Taylor Swift   \n",
       "889    926824958   287774  Taylor Swift   \n",
       "930    900680667   532712  Taylor Swift   \n",
       "942    895109334   425931  Taylor Swift   \n",
       "970    884543285   182419  Taylor Swift   \n",
       "977    878438382   313209  Taylor Swift   \n",
       "1041   844849233   338700  Taylor Swift   \n",
       "1045   843376080   639887  Taylor Swift   \n",
       "1066   833979894   401398  Taylor Swift   \n",
       "1092   822293716   459426  Taylor Swift   \n",
       "1135   805750194   471832  Taylor Swift   \n",
       "1170   790294569   470001  Taylor Swift   \n",
       "1172   789906684   441442  Taylor Swift   \n",
       "1293   750463859   310522  Taylor Swift   \n",
       "1345   736499138   631359  Taylor Swift   \n",
       "1447   706640175   327976  Taylor Swift   \n",
       "1482   695445222   300292  Taylor Swift   \n",
       "1505   690149690   164303  Taylor Swift   \n",
       "1526   684362878   297506  Taylor Swift   \n",
       "1580   668330605   203184  Taylor Swift   \n",
       "1637   655421920   382761  Taylor Swift   \n",
       "1645   653657575  1546641  Taylor Swift   \n",
       "1745   632224906   406977  Taylor Swift   \n",
       "1792   625169115   234748  Taylor Swift   \n",
       "1797   624598156   189162  Taylor Swift   \n",
       "1908   604548696   278262  Taylor Swift   \n",
       "2078   574645380   290016  Taylor Swift   \n",
       "2212   549282321   609896  Taylor Swift   \n",
       "2370   521313596   173123  Taylor Swift   \n",
       "\n",
       "                                                   Song  \n",
       "39                                         Cruel Summer  \n",
       "128                                         Blank Space  \n",
       "221                                           Anti-Hero  \n",
       "274                                               Lover  \n",
       "311                                        Shake It Off  \n",
       "344                                            cardigan  \n",
       "445                                               Style  \n",
       "462                                              august  \n",
       "487                                      Don’t Blame Me  \n",
       "498                            Look What You Made Me Do  \n",
       "693                                            Delicate  \n",
       "769                                      Wildest Dreams  \n",
       "800                               You Need To Calm Down  \n",
       "889                                          Love Story  \n",
       "930   All Too Well (10 Minute Version) (Taylor's Ver...  \n",
       "942                                              willow  \n",
       "970                                                 ME!  \n",
       "977                            I Knew You Were Trouble.  \n",
       "1041                                          Enchanted  \n",
       "1045                      Love Story (Taylor’s Version)  \n",
       "1066                                              Karma  \n",
       "1092                                            The Man  \n",
       "1135                                              exile  \n",
       "1170                                   ...Ready For It?  \n",
       "1172                  Wildest Dreams (Taylor's Version)  \n",
       "1293                                      Lavender Haze  \n",
       "1345              You Belong With Me (Taylor’s Version)  \n",
       "1447                                        Getaway Car  \n",
       "1482                                      Midnight Rain  \n",
       "1505            We Are Never Ever Getting Back Together  \n",
       "1526                                        Paper Rings  \n",
       "1580                                 You Belong With Me  \n",
       "1637                                 champagne problems  \n",
       "1645                                          Fortnight  \n",
       "1745                            You're On Your Own, Kid  \n",
       "1792                                           Gorgeous  \n",
       "1797                                          Bad Blood  \n",
       "1908                                              the 1  \n",
       "2078                                          Bejeweled  \n",
       "2212                                  my tears ricochet  \n",
       "2370                                           End Game  "
      ]
     },
     "execution_count": 219,
     "metadata": {},
     "output_type": "execute_result"
    }
   ],
   "source": [
    "data[data[\"Artist\"] == \"Taylor Swift\"]"
   ]
  },
  {
   "cell_type": "code",
   "execution_count": 223,
   "metadata": {},
   "outputs": [
    {
     "data": {
      "text/html": [
       "<div>\n",
       "<style scoped>\n",
       "    .dataframe tbody tr th:only-of-type {\n",
       "        vertical-align: middle;\n",
       "    }\n",
       "\n",
       "    .dataframe tbody tr th {\n",
       "        vertical-align: top;\n",
       "    }\n",
       "\n",
       "    .dataframe thead th {\n",
       "        text-align: right;\n",
       "    }\n",
       "</style>\n",
       "<table border=\"1\" class=\"dataframe\">\n",
       "  <thead>\n",
       "    <tr style=\"text-align: right;\">\n",
       "      <th></th>\n",
       "      <th>Streams</th>\n",
       "      <th>Song</th>\n",
       "    </tr>\n",
       "  </thead>\n",
       "  <tbody>\n",
       "    <tr>\n",
       "      <th>39</th>\n",
       "      <td>2481542457</td>\n",
       "      <td>Cruel Summer</td>\n",
       "    </tr>\n",
       "    <tr>\n",
       "      <th>128</th>\n",
       "      <td>1909046390</td>\n",
       "      <td>Blank Space</td>\n",
       "    </tr>\n",
       "    <tr>\n",
       "      <th>221</th>\n",
       "      <td>1663786298</td>\n",
       "      <td>Anti-Hero</td>\n",
       "    </tr>\n",
       "    <tr>\n",
       "      <th>274</th>\n",
       "      <td>1539880718</td>\n",
       "      <td>Lover</td>\n",
       "    </tr>\n",
       "    <tr>\n",
       "      <th>311</th>\n",
       "      <td>1479530912</td>\n",
       "      <td>Shake It Off</td>\n",
       "    </tr>\n",
       "    <tr>\n",
       "      <th>344</th>\n",
       "      <td>1421155316</td>\n",
       "      <td>cardigan</td>\n",
       "    </tr>\n",
       "    <tr>\n",
       "      <th>445</th>\n",
       "      <td>1275999844</td>\n",
       "      <td>Style</td>\n",
       "    </tr>\n",
       "    <tr>\n",
       "      <th>462</th>\n",
       "      <td>1243764603</td>\n",
       "      <td>august</td>\n",
       "    </tr>\n",
       "    <tr>\n",
       "      <th>487</th>\n",
       "      <td>1216808688</td>\n",
       "      <td>Don’t Blame Me</td>\n",
       "    </tr>\n",
       "    <tr>\n",
       "      <th>498</th>\n",
       "      <td>1207381259</td>\n",
       "      <td>Look What You Made Me Do</td>\n",
       "    </tr>\n",
       "    <tr>\n",
       "      <th>693</th>\n",
       "      <td>1044022896</td>\n",
       "      <td>Delicate</td>\n",
       "    </tr>\n",
       "  </tbody>\n",
       "</table>\n",
       "</div>"
      ],
      "text/plain": [
       "        Streams                      Song\n",
       "39   2481542457              Cruel Summer\n",
       "128  1909046390               Blank Space\n",
       "221  1663786298                 Anti-Hero\n",
       "274  1539880718                     Lover\n",
       "311  1479530912              Shake It Off\n",
       "344  1421155316                  cardigan\n",
       "445  1275999844                     Style\n",
       "462  1243764603                    august\n",
       "487  1216808688            Don’t Blame Me\n",
       "498  1207381259  Look What You Made Me Do\n",
       "693  1044022896                  Delicate"
      ]
     },
     "execution_count": 223,
     "metadata": {},
     "output_type": "execute_result"
    }
   ],
   "source": [
    "data.loc[(data[\"Artist\"] == \"Taylor Swift\") & (data[\"Streams\"] >= 1_000_000_000), [\"Streams\", \"Song\"]]"
   ]
  },
  {
   "cell_type": "code",
   "execution_count": 225,
   "metadata": {},
   "outputs": [
    {
     "data": {
      "text/html": [
       "<div>\n",
       "<style scoped>\n",
       "    .dataframe tbody tr th:only-of-type {\n",
       "        vertical-align: middle;\n",
       "    }\n",
       "\n",
       "    .dataframe tbody tr th {\n",
       "        vertical-align: top;\n",
       "    }\n",
       "\n",
       "    .dataframe thead th {\n",
       "        text-align: right;\n",
       "    }\n",
       "</style>\n",
       "<table border=\"1\" class=\"dataframe\">\n",
       "  <thead>\n",
       "    <tr style=\"text-align: right;\">\n",
       "      <th></th>\n",
       "      <th>Streams</th>\n",
       "      <th>Daily</th>\n",
       "      <th>Artist</th>\n",
       "      <th>Song</th>\n",
       "    </tr>\n",
       "  </thead>\n",
       "  <tbody>\n",
       "    <tr>\n",
       "      <th>39</th>\n",
       "      <td>2481542457</td>\n",
       "      <td>2271270</td>\n",
       "      <td>Taylor Swift</td>\n",
       "      <td>Cruel Summer</td>\n",
       "    </tr>\n",
       "    <tr>\n",
       "      <th>95</th>\n",
       "      <td>2049953714</td>\n",
       "      <td>580752</td>\n",
       "      <td>Bad Bunny</td>\n",
       "      <td>DÁKITI</td>\n",
       "    </tr>\n",
       "    <tr>\n",
       "      <th>128</th>\n",
       "      <td>1909046390</td>\n",
       "      <td>674338</td>\n",
       "      <td>Taylor Swift</td>\n",
       "      <td>Blank Space</td>\n",
       "    </tr>\n",
       "    <tr>\n",
       "      <th>130</th>\n",
       "      <td>1904477660</td>\n",
       "      <td>713517</td>\n",
       "      <td>Bad Bunny</td>\n",
       "      <td>Me Porto Bonito</td>\n",
       "    </tr>\n",
       "    <tr>\n",
       "      <th>221</th>\n",
       "      <td>1663786298</td>\n",
       "      <td>786091</td>\n",
       "      <td>Taylor Swift</td>\n",
       "      <td>Anti-Hero</td>\n",
       "    </tr>\n",
       "    <tr>\n",
       "      <th>...</th>\n",
       "      <td>...</td>\n",
       "      <td>...</td>\n",
       "      <td>...</td>\n",
       "      <td>...</td>\n",
       "    </tr>\n",
       "    <tr>\n",
       "      <th>2247</th>\n",
       "      <td>542972525</td>\n",
       "      <td>217496</td>\n",
       "      <td>Bad Bunny</td>\n",
       "      <td>Otra Noche en Miami</td>\n",
       "    </tr>\n",
       "    <tr>\n",
       "      <th>2311</th>\n",
       "      <td>532185370</td>\n",
       "      <td>394431</td>\n",
       "      <td>Bad Bunny</td>\n",
       "      <td>MONACO</td>\n",
       "    </tr>\n",
       "    <tr>\n",
       "      <th>2343</th>\n",
       "      <td>525811558</td>\n",
       "      <td>156053</td>\n",
       "      <td>Bad Bunny</td>\n",
       "      <td>Soy Peor</td>\n",
       "    </tr>\n",
       "    <tr>\n",
       "      <th>2346</th>\n",
       "      <td>525491945</td>\n",
       "      <td>183738</td>\n",
       "      <td>Bad Bunny</td>\n",
       "      <td>Un Ratito</td>\n",
       "    </tr>\n",
       "    <tr>\n",
       "      <th>2370</th>\n",
       "      <td>521313596</td>\n",
       "      <td>173123</td>\n",
       "      <td>Taylor Swift</td>\n",
       "      <td>End Game</td>\n",
       "    </tr>\n",
       "  </tbody>\n",
       "</table>\n",
       "<p>77 rows × 4 columns</p>\n",
       "</div>"
      ],
      "text/plain": [
       "         Streams    Daily        Artist                 Song\n",
       "39    2481542457  2271270  Taylor Swift         Cruel Summer\n",
       "95    2049953714   580752     Bad Bunny               DÁKITI\n",
       "128   1909046390   674338  Taylor Swift          Blank Space\n",
       "130   1904477660   713517     Bad Bunny      Me Porto Bonito\n",
       "221   1663786298   786091  Taylor Swift            Anti-Hero\n",
       "...          ...      ...           ...                  ...\n",
       "2247   542972525   217496     Bad Bunny  Otra Noche en Miami\n",
       "2311   532185370   394431     Bad Bunny               MONACO\n",
       "2343   525811558   156053     Bad Bunny             Soy Peor\n",
       "2346   525491945   183738     Bad Bunny            Un Ratito\n",
       "2370   521313596   173123  Taylor Swift             End Game\n",
       "\n",
       "[77 rows x 4 columns]"
      ]
     },
     "execution_count": 225,
     "metadata": {},
     "output_type": "execute_result"
    }
   ],
   "source": [
    "data.loc[data[\"Artist\"].isin([\"Taylor Swift\", \"Bad Bunny\"])]"
   ]
  },
  {
   "cell_type": "code",
   "execution_count": 226,
   "metadata": {},
   "outputs": [
    {
     "data": {
      "text/html": [
       "<div>\n",
       "<style scoped>\n",
       "    .dataframe tbody tr th:only-of-type {\n",
       "        vertical-align: middle;\n",
       "    }\n",
       "\n",
       "    .dataframe tbody tr th {\n",
       "        vertical-align: top;\n",
       "    }\n",
       "\n",
       "    .dataframe thead th {\n",
       "        text-align: right;\n",
       "    }\n",
       "</style>\n",
       "<table border=\"1\" class=\"dataframe\">\n",
       "  <thead>\n",
       "    <tr style=\"text-align: right;\">\n",
       "      <th></th>\n",
       "      <th>Streams</th>\n",
       "      <th>Daily</th>\n",
       "      <th>Artist</th>\n",
       "      <th>Song</th>\n",
       "    </tr>\n",
       "  </thead>\n",
       "  <tbody>\n",
       "    <tr>\n",
       "      <th>39</th>\n",
       "      <td>2481542457</td>\n",
       "      <td>2271270</td>\n",
       "      <td>Taylor Swift</td>\n",
       "      <td>Cruel Summer</td>\n",
       "    </tr>\n",
       "    <tr>\n",
       "      <th>95</th>\n",
       "      <td>2049953714</td>\n",
       "      <td>580752</td>\n",
       "      <td>Bad Bunny</td>\n",
       "      <td>DÁKITI</td>\n",
       "    </tr>\n",
       "    <tr>\n",
       "      <th>128</th>\n",
       "      <td>1909046390</td>\n",
       "      <td>674338</td>\n",
       "      <td>Taylor Swift</td>\n",
       "      <td>Blank Space</td>\n",
       "    </tr>\n",
       "    <tr>\n",
       "      <th>130</th>\n",
       "      <td>1904477660</td>\n",
       "      <td>713517</td>\n",
       "      <td>Bad Bunny</td>\n",
       "      <td>Me Porto Bonito</td>\n",
       "    </tr>\n",
       "    <tr>\n",
       "      <th>221</th>\n",
       "      <td>1663786298</td>\n",
       "      <td>786091</td>\n",
       "      <td>Taylor Swift</td>\n",
       "      <td>Anti-Hero</td>\n",
       "    </tr>\n",
       "    <tr>\n",
       "      <th>...</th>\n",
       "      <td>...</td>\n",
       "      <td>...</td>\n",
       "      <td>...</td>\n",
       "      <td>...</td>\n",
       "    </tr>\n",
       "    <tr>\n",
       "      <th>2247</th>\n",
       "      <td>542972525</td>\n",
       "      <td>217496</td>\n",
       "      <td>Bad Bunny</td>\n",
       "      <td>Otra Noche en Miami</td>\n",
       "    </tr>\n",
       "    <tr>\n",
       "      <th>2311</th>\n",
       "      <td>532185370</td>\n",
       "      <td>394431</td>\n",
       "      <td>Bad Bunny</td>\n",
       "      <td>MONACO</td>\n",
       "    </tr>\n",
       "    <tr>\n",
       "      <th>2343</th>\n",
       "      <td>525811558</td>\n",
       "      <td>156053</td>\n",
       "      <td>Bad Bunny</td>\n",
       "      <td>Soy Peor</td>\n",
       "    </tr>\n",
       "    <tr>\n",
       "      <th>2346</th>\n",
       "      <td>525491945</td>\n",
       "      <td>183738</td>\n",
       "      <td>Bad Bunny</td>\n",
       "      <td>Un Ratito</td>\n",
       "    </tr>\n",
       "    <tr>\n",
       "      <th>2370</th>\n",
       "      <td>521313596</td>\n",
       "      <td>173123</td>\n",
       "      <td>Taylor Swift</td>\n",
       "      <td>End Game</td>\n",
       "    </tr>\n",
       "  </tbody>\n",
       "</table>\n",
       "<p>77 rows × 4 columns</p>\n",
       "</div>"
      ],
      "text/plain": [
       "         Streams    Daily        Artist                 Song\n",
       "39    2481542457  2271270  Taylor Swift         Cruel Summer\n",
       "95    2049953714   580752     Bad Bunny               DÁKITI\n",
       "128   1909046390   674338  Taylor Swift          Blank Space\n",
       "130   1904477660   713517     Bad Bunny      Me Porto Bonito\n",
       "221   1663786298   786091  Taylor Swift            Anti-Hero\n",
       "...          ...      ...           ...                  ...\n",
       "2247   542972525   217496     Bad Bunny  Otra Noche en Miami\n",
       "2311   532185370   394431     Bad Bunny               MONACO\n",
       "2343   525811558   156053     Bad Bunny             Soy Peor\n",
       "2346   525491945   183738     Bad Bunny            Un Ratito\n",
       "2370   521313596   173123  Taylor Swift             End Game\n",
       "\n",
       "[77 rows x 4 columns]"
      ]
     },
     "execution_count": 226,
     "metadata": {},
     "output_type": "execute_result"
    }
   ],
   "source": [
    "data.loc[(data[\"Artist\"] == \"Taylor Swift\") | (data[\"Artist\"] == \"Bad Bunny\")]"
   ]
  },
  {
   "cell_type": "code",
   "execution_count": 229,
   "metadata": {},
   "outputs": [
    {
     "data": {
      "text/plain": [
       "Streams                                          39051976762\n",
       "Daily                                               21861068\n",
       "Artist     Taylor SwiftTaylor SwiftTaylor SwiftTaylor Swi...\n",
       "Song       Cruel SummerBlank SpaceAnti-HeroLoverShake It ...\n",
       "dtype: object"
      ]
     },
     "execution_count": 229,
     "metadata": {},
     "output_type": "execute_result"
    }
   ],
   "source": [
    "data.loc[data[\"Artist\"] == \"Taylor Swift\"].sum()"
   ]
  },
  {
   "cell_type": "code",
   "execution_count": 232,
   "metadata": {},
   "outputs": [
    {
     "data": {
      "text/plain": [
       "Daily    533196.780488\n",
       "dtype: float64"
      ]
     },
     "execution_count": 232,
     "metadata": {},
     "output_type": "execute_result"
    }
   ],
   "source": [
    "data.loc[data[\"Artist\"] == \"Taylor Swift\", [\"Daily\"]].mean()"
   ]
  },
  {
   "cell_type": "code",
   "execution_count": 236,
   "metadata": {},
   "outputs": [
    {
     "data": {
      "text/html": [
       "<div>\n",
       "<style scoped>\n",
       "    .dataframe tbody tr th:only-of-type {\n",
       "        vertical-align: middle;\n",
       "    }\n",
       "\n",
       "    .dataframe tbody tr th {\n",
       "        vertical-align: top;\n",
       "    }\n",
       "\n",
       "    .dataframe thead th {\n",
       "        text-align: right;\n",
       "    }\n",
       "</style>\n",
       "<table border=\"1\" class=\"dataframe\">\n",
       "  <thead>\n",
       "    <tr style=\"text-align: right;\">\n",
       "      <th></th>\n",
       "      <th>Streams</th>\n",
       "      <th>Daily</th>\n",
       "      <th>Song</th>\n",
       "    </tr>\n",
       "    <tr>\n",
       "      <th>Artist</th>\n",
       "      <th></th>\n",
       "      <th></th>\n",
       "      <th></th>\n",
       "    </tr>\n",
       "  </thead>\n",
       "  <tbody>\n",
       "    <tr>\n",
       "      <th>$uicideboy$</th>\n",
       "      <td>1907960731</td>\n",
       "      <td>3.128140e+05</td>\n",
       "      <td>3</td>\n",
       "    </tr>\n",
       "    <tr>\n",
       "      <th>*NSYNC</th>\n",
       "      <td>766218771</td>\n",
       "      <td>2.538110e+06</td>\n",
       "      <td>1</td>\n",
       "    </tr>\n",
       "    <tr>\n",
       "      <th>21 Savage</th>\n",
       "      <td>5396315964</td>\n",
       "      <td>4.778884e+05</td>\n",
       "      <td>7</td>\n",
       "    </tr>\n",
       "    <tr>\n",
       "      <th>24kGoldn</th>\n",
       "      <td>1934675271</td>\n",
       "      <td>5.836910e+05</td>\n",
       "      <td>1</td>\n",
       "    </tr>\n",
       "    <tr>\n",
       "      <th>2Pac</th>\n",
       "      <td>3417713717</td>\n",
       "      <td>3.690510e+05</td>\n",
       "      <td>5</td>\n",
       "    </tr>\n",
       "    <tr>\n",
       "      <th>...</th>\n",
       "      <td>...</td>\n",
       "      <td>...</td>\n",
       "      <td>...</td>\n",
       "    </tr>\n",
       "    <tr>\n",
       "      <th>t.A.T.u.</th>\n",
       "      <td>572476768</td>\n",
       "      <td>2.885880e+05</td>\n",
       "      <td>1</td>\n",
       "    </tr>\n",
       "    <tr>\n",
       "      <th>will.i.am</th>\n",
       "      <td>802953468</td>\n",
       "      <td>3.425480e+05</td>\n",
       "      <td>1</td>\n",
       "    </tr>\n",
       "    <tr>\n",
       "      <th>zzoilo</th>\n",
       "      <td>720665392</td>\n",
       "      <td>2.896740e+05</td>\n",
       "      <td>1</td>\n",
       "    </tr>\n",
       "    <tr>\n",
       "      <th>¥$</th>\n",
       "      <td>576568114</td>\n",
       "      <td>8.024370e+05</td>\n",
       "      <td>1</td>\n",
       "    </tr>\n",
       "    <tr>\n",
       "      <th>Øneheart</th>\n",
       "      <td>744371488</td>\n",
       "      <td>8.984080e+05</td>\n",
       "      <td>1</td>\n",
       "    </tr>\n",
       "  </tbody>\n",
       "</table>\n",
       "<p>993 rows × 3 columns</p>\n",
       "</div>"
      ],
      "text/plain": [
       "                Streams         Daily  Song\n",
       "Artist                                     \n",
       "$uicideboy$  1907960731  3.128140e+05     3\n",
       "*NSYNC        766218771  2.538110e+06     1\n",
       "21 Savage    5396315964  4.778884e+05     7\n",
       "24kGoldn     1934675271  5.836910e+05     1\n",
       "2Pac         3417713717  3.690510e+05     5\n",
       "...                 ...           ...   ...\n",
       "t.A.T.u.      572476768  2.885880e+05     1\n",
       "will.i.am     802953468  3.425480e+05     1\n",
       "zzoilo        720665392  2.896740e+05     1\n",
       "¥$            576568114  8.024370e+05     1\n",
       "Øneheart      744371488  8.984080e+05     1\n",
       "\n",
       "[993 rows x 3 columns]"
      ]
     },
     "execution_count": 236,
     "metadata": {},
     "output_type": "execute_result"
    }
   ],
   "source": [
    "data.groupby(\"Artist\").agg({\"Streams\": \"sum\", \"Daily\": \"mean\", \"Song\": \"count\"})"
   ]
  },
  {
   "cell_type": "code",
   "execution_count": 238,
   "metadata": {},
   "outputs": [
    {
     "data": {
      "text/html": [
       "<div>\n",
       "<style scoped>\n",
       "    .dataframe tbody tr th:only-of-type {\n",
       "        vertical-align: middle;\n",
       "    }\n",
       "\n",
       "    .dataframe tbody tr th {\n",
       "        vertical-align: top;\n",
       "    }\n",
       "\n",
       "    .dataframe thead th {\n",
       "        text-align: right;\n",
       "    }\n",
       "</style>\n",
       "<table border=\"1\" class=\"dataframe\">\n",
       "  <thead>\n",
       "    <tr style=\"text-align: right;\">\n",
       "      <th></th>\n",
       "      <th>Streams</th>\n",
       "      <th>Daily</th>\n",
       "      <th>Song</th>\n",
       "    </tr>\n",
       "    <tr>\n",
       "      <th>Artist</th>\n",
       "      <th></th>\n",
       "      <th></th>\n",
       "      <th></th>\n",
       "    </tr>\n",
       "  </thead>\n",
       "  <tbody>\n",
       "    <tr>\n",
       "      <th>Taylor Swift</th>\n",
       "      <td>39051976762</td>\n",
       "      <td>533196.780488</td>\n",
       "      <td>41</td>\n",
       "    </tr>\n",
       "    <tr>\n",
       "      <th>The Weeknd</th>\n",
       "      <td>35832720420</td>\n",
       "      <td>841887.166667</td>\n",
       "      <td>24</td>\n",
       "    </tr>\n",
       "    <tr>\n",
       "      <th>Bad Bunny</th>\n",
       "      <td>33999724737</td>\n",
       "      <td>334937.638889</td>\n",
       "      <td>36</td>\n",
       "    </tr>\n",
       "    <tr>\n",
       "      <th>Drake</th>\n",
       "      <td>33073789969</td>\n",
       "      <td>274124.878788</td>\n",
       "      <td>33</td>\n",
       "    </tr>\n",
       "    <tr>\n",
       "      <th>Ed Sheeran</th>\n",
       "      <td>31177714719</td>\n",
       "      <td>392625.909091</td>\n",
       "      <td>22</td>\n",
       "    </tr>\n",
       "    <tr>\n",
       "      <th>...</th>\n",
       "      <td>...</td>\n",
       "      <td>...</td>\n",
       "      <td>...</td>\n",
       "    </tr>\n",
       "    <tr>\n",
       "      <th>Hillsong UNITED</th>\n",
       "      <td>506403163</td>\n",
       "      <td>251988.000000</td>\n",
       "      <td>1</td>\n",
       "    </tr>\n",
       "    <tr>\n",
       "      <th>Baby Bash</th>\n",
       "      <td>506325296</td>\n",
       "      <td>216116.000000</td>\n",
       "      <td>1</td>\n",
       "    </tr>\n",
       "    <tr>\n",
       "      <th>Jordin Sparks</th>\n",
       "      <td>506032442</td>\n",
       "      <td>226414.000000</td>\n",
       "      <td>1</td>\n",
       "    </tr>\n",
       "    <tr>\n",
       "      <th>Kim Carnes</th>\n",
       "      <td>505780791</td>\n",
       "      <td>349406.000000</td>\n",
       "      <td>1</td>\n",
       "    </tr>\n",
       "    <tr>\n",
       "      <th>Social House</th>\n",
       "      <td>505511969</td>\n",
       "      <td>118483.000000</td>\n",
       "      <td>1</td>\n",
       "    </tr>\n",
       "  </tbody>\n",
       "</table>\n",
       "<p>993 rows × 3 columns</p>\n",
       "</div>"
      ],
      "text/plain": [
       "                     Streams          Daily  Song\n",
       "Artist                                           \n",
       "Taylor Swift     39051976762  533196.780488    41\n",
       "The Weeknd       35832720420  841887.166667    24\n",
       "Bad Bunny        33999724737  334937.638889    36\n",
       "Drake            33073789969  274124.878788    33\n",
       "Ed Sheeran       31177714719  392625.909091    22\n",
       "...                      ...            ...   ...\n",
       "Hillsong UNITED    506403163  251988.000000     1\n",
       "Baby Bash          506325296  216116.000000     1\n",
       "Jordin Sparks      506032442  226414.000000     1\n",
       "Kim Carnes         505780791  349406.000000     1\n",
       "Social House       505511969  118483.000000     1\n",
       "\n",
       "[993 rows x 3 columns]"
      ]
     },
     "execution_count": 238,
     "metadata": {},
     "output_type": "execute_result"
    }
   ],
   "source": [
    "data.groupby(\"Artist\").agg({\"Streams\": \"sum\", \"Daily\": \"mean\", \"Song\": \"count\"}).sort_values(\"Streams\", ascending=False)"
   ]
  },
  {
   "cell_type": "code",
   "execution_count": 239,
   "metadata": {},
   "outputs": [],
   "source": [
    "ranked_artist = data.groupby(\"Artist\").agg({\"Streams\": \"sum\", \"Daily\": \"mean\", \"Song\": \"count\"}).sort_values(\"Streams\", ascending=False)"
   ]
  },
  {
   "cell_type": "code",
   "execution_count": 241,
   "metadata": {},
   "outputs": [],
   "source": [
    "ranked_artist.to_csv(\"./data/examples/ranked_artists.csv\")"
   ]
  },
  {
   "cell_type": "code",
   "execution_count": 244,
   "metadata": {},
   "outputs": [],
   "source": [
    "data_without_duplicates.to_csv(\"./data/examples/spotify_data_no_dup.csv\", index=False)"
   ]
  },
  {
   "cell_type": "code",
   "execution_count": 2,
   "metadata": {},
   "outputs": [],
   "source": [
    "a = [2, 5, 10, 8, 7]"
   ]
  },
  {
   "cell_type": "code",
   "execution_count": 3,
   "metadata": {},
   "outputs": [
    {
     "data": {
      "text/plain": [
       "2"
      ]
     },
     "execution_count": 3,
     "metadata": {},
     "output_type": "execute_result"
    }
   ],
   "source": [
    "min(a)"
   ]
  },
  {
   "cell_type": "code",
   "execution_count": 4,
   "metadata": {},
   "outputs": [
    {
     "data": {
      "text/plain": [
       "10"
      ]
     },
     "execution_count": 4,
     "metadata": {},
     "output_type": "execute_result"
    }
   ],
   "source": [
    "max(a)"
   ]
  },
  {
   "cell_type": "code",
   "execution_count": 5,
   "metadata": {},
   "outputs": [
    {
     "data": {
      "text/plain": [
       "32"
      ]
     },
     "execution_count": 5,
     "metadata": {},
     "output_type": "execute_result"
    }
   ],
   "source": [
    "sum(a)"
   ]
  },
  {
   "cell_type": "code",
   "execution_count": 6,
   "metadata": {},
   "outputs": [
    {
     "data": {
      "text/plain": [
       "10"
      ]
     },
     "execution_count": 6,
     "metadata": {},
     "output_type": "execute_result"
    }
   ],
   "source": [
    "abs(-10)"
   ]
  },
  {
   "cell_type": "code",
   "execution_count": 8,
   "metadata": {},
   "outputs": [
    {
     "data": {
      "text/plain": [
       "2.5"
      ]
     },
     "execution_count": 8,
     "metadata": {},
     "output_type": "execute_result"
    }
   ],
   "source": [
    "5 / 2"
   ]
  },
  {
   "cell_type": "code",
   "execution_count": 9,
   "metadata": {},
   "outputs": [
    {
     "data": {
      "text/plain": [
       "2.0"
      ]
     },
     "execution_count": 9,
     "metadata": {},
     "output_type": "execute_result"
    }
   ],
   "source": [
    "4 / 2"
   ]
  },
  {
   "cell_type": "code",
   "execution_count": 7,
   "metadata": {},
   "outputs": [
    {
     "data": {
      "text/plain": [
       "2"
      ]
     },
     "execution_count": 7,
     "metadata": {},
     "output_type": "execute_result"
    }
   ],
   "source": [
    "5 // 2"
   ]
  },
  {
   "cell_type": "code",
   "execution_count": 10,
   "metadata": {},
   "outputs": [
    {
     "data": {
      "text/plain": [
       "1"
      ]
     },
     "execution_count": 10,
     "metadata": {},
     "output_type": "execute_result"
    }
   ],
   "source": [
    "5 % 2"
   ]
  },
  {
   "cell_type": "code",
   "execution_count": 11,
   "metadata": {},
   "outputs": [],
   "source": [
    "import math"
   ]
  },
  {
   "cell_type": "code",
   "execution_count": 12,
   "metadata": {},
   "outputs": [
    {
     "data": {
      "text/plain": [
       "3.141592653589793"
      ]
     },
     "execution_count": 12,
     "metadata": {},
     "output_type": "execute_result"
    }
   ],
   "source": [
    "math.pi"
   ]
  },
  {
   "cell_type": "code",
   "execution_count": 13,
   "metadata": {},
   "outputs": [
    {
     "data": {
      "text/plain": [
       "2.718281828459045"
      ]
     },
     "execution_count": 13,
     "metadata": {},
     "output_type": "execute_result"
    }
   ],
   "source": [
    "math.e"
   ]
  },
  {
   "cell_type": "code",
   "execution_count": 14,
   "metadata": {},
   "outputs": [
    {
     "data": {
      "text/plain": [
       "inf"
      ]
     },
     "execution_count": 14,
     "metadata": {},
     "output_type": "execute_result"
    }
   ],
   "source": [
    "math.inf"
   ]
  },
  {
   "cell_type": "code",
   "execution_count": 15,
   "metadata": {},
   "outputs": [
    {
     "data": {
      "text/plain": [
       "-inf"
      ]
     },
     "execution_count": 15,
     "metadata": {},
     "output_type": "execute_result"
    }
   ],
   "source": [
    "float(\"-inf\")"
   ]
  },
  {
   "cell_type": "code",
   "execution_count": 16,
   "metadata": {},
   "outputs": [
    {
     "data": {
      "text/plain": [
       "11"
      ]
     },
     "execution_count": 16,
     "metadata": {},
     "output_type": "execute_result"
    }
   ],
   "source": [
    "round(10.8)"
   ]
  },
  {
   "cell_type": "code",
   "execution_count": 17,
   "metadata": {},
   "outputs": [
    {
     "data": {
      "text/plain": [
       "2"
      ]
     },
     "execution_count": 17,
     "metadata": {},
     "output_type": "execute_result"
    }
   ],
   "source": [
    "round(2.2)"
   ]
  },
  {
   "cell_type": "code",
   "execution_count": 18,
   "metadata": {},
   "outputs": [
    {
     "data": {
      "text/plain": [
       "1"
      ]
     },
     "execution_count": 18,
     "metadata": {},
     "output_type": "execute_result"
    }
   ],
   "source": [
    "math.floor(1.9)"
   ]
  },
  {
   "cell_type": "code",
   "execution_count": 20,
   "metadata": {},
   "outputs": [
    {
     "data": {
      "text/plain": [
       "1.0"
      ]
     },
     "execution_count": 20,
     "metadata": {},
     "output_type": "execute_result"
    }
   ],
   "source": [
    "1.9 // 1"
   ]
  },
  {
   "cell_type": "code",
   "execution_count": 19,
   "metadata": {},
   "outputs": [
    {
     "data": {
      "text/plain": [
       "3"
      ]
     },
     "execution_count": 19,
     "metadata": {},
     "output_type": "execute_result"
    }
   ],
   "source": [
    "math.ceil(2.2)"
   ]
  },
  {
   "cell_type": "code",
   "execution_count": 21,
   "metadata": {},
   "outputs": [
    {
     "data": {
      "text/plain": [
       "0.0"
      ]
     },
     "execution_count": 21,
     "metadata": {},
     "output_type": "execute_result"
    }
   ],
   "source": [
    "math.log(1)"
   ]
  },
  {
   "cell_type": "code",
   "execution_count": 22,
   "metadata": {},
   "outputs": [
    {
     "data": {
      "text/plain": [
       "1.0"
      ]
     },
     "execution_count": 22,
     "metadata": {},
     "output_type": "execute_result"
    }
   ],
   "source": [
    "math.log(math.e)"
   ]
  },
  {
   "cell_type": "code",
   "execution_count": 23,
   "metadata": {},
   "outputs": [
    {
     "data": {
      "text/plain": [
       "1.0"
      ]
     },
     "execution_count": 23,
     "metadata": {},
     "output_type": "execute_result"
    }
   ],
   "source": [
    "math.log10(10)"
   ]
  },
  {
   "cell_type": "code",
   "execution_count": 24,
   "metadata": {},
   "outputs": [
    {
     "data": {
      "text/plain": [
       "24"
      ]
     },
     "execution_count": 24,
     "metadata": {},
     "output_type": "execute_result"
    }
   ],
   "source": [
    "math.factorial(4)"
   ]
  },
  {
   "cell_type": "code",
   "execution_count": 26,
   "metadata": {},
   "outputs": [],
   "source": [
    "import numpy as np"
   ]
  },
  {
   "cell_type": "code",
   "execution_count": 28,
   "metadata": {},
   "outputs": [
    {
     "data": {
      "text/plain": [
       "array([ 2,  5, 10,  8,  7])"
      ]
     },
     "execution_count": 28,
     "metadata": {},
     "output_type": "execute_result"
    }
   ],
   "source": [
    "a = np.array([2, 5, 10, 8, 7])\n",
    "a"
   ]
  },
  {
   "cell_type": "code",
   "execution_count": 29,
   "metadata": {},
   "outputs": [
    {
     "data": {
      "text/plain": [
       "numpy.ndarray"
      ]
     },
     "execution_count": 29,
     "metadata": {},
     "output_type": "execute_result"
    }
   ],
   "source": [
    "type(a)"
   ]
  },
  {
   "cell_type": "code",
   "execution_count": 30,
   "metadata": {},
   "outputs": [
    {
     "data": {
      "text/plain": [
       "1"
      ]
     },
     "execution_count": 30,
     "metadata": {},
     "output_type": "execute_result"
    }
   ],
   "source": [
    "a.ndim"
   ]
  },
  {
   "cell_type": "code",
   "execution_count": 31,
   "metadata": {},
   "outputs": [
    {
     "data": {
      "text/plain": [
       "dtype('int64')"
      ]
     },
     "execution_count": 31,
     "metadata": {},
     "output_type": "execute_result"
    }
   ],
   "source": [
    "a.dtype"
   ]
  },
  {
   "cell_type": "code",
   "execution_count": 32,
   "metadata": {},
   "outputs": [
    {
     "data": {
      "text/plain": [
       "dtype('float64')"
      ]
     },
     "execution_count": 32,
     "metadata": {},
     "output_type": "execute_result"
    }
   ],
   "source": [
    "b = np.array([2.5, 5, 10, 8, 7])\n",
    "b.dtype"
   ]
  },
  {
   "cell_type": "code",
   "execution_count": 33,
   "metadata": {},
   "outputs": [
    {
     "data": {
      "text/plain": [
       "dtype('float64')"
      ]
     },
     "execution_count": 33,
     "metadata": {},
     "output_type": "execute_result"
    }
   ],
   "source": [
    "b = np.array([2, 5, 10, 8, 7], dtype=float)\n",
    "b.dtype"
   ]
  },
  {
   "cell_type": "code",
   "execution_count": 34,
   "metadata": {},
   "outputs": [
    {
     "data": {
      "text/plain": [
       "array([ 2.,  5., 10.,  8.,  7.])"
      ]
     },
     "execution_count": 34,
     "metadata": {},
     "output_type": "execute_result"
    }
   ],
   "source": [
    "b"
   ]
  },
  {
   "cell_type": "code",
   "execution_count": 35,
   "metadata": {},
   "outputs": [
    {
     "data": {
      "text/plain": [
       "1"
      ]
     },
     "execution_count": 35,
     "metadata": {},
     "output_type": "execute_result"
    }
   ],
   "source": [
    "a.ndim"
   ]
  },
  {
   "cell_type": "code",
   "execution_count": 45,
   "metadata": {},
   "outputs": [
    {
     "data": {
      "text/plain": [
       "array([[1, 2, 3],\n",
       "       [4, 5, 6],\n",
       "       [7, 8, 9]])"
      ]
     },
     "execution_count": 45,
     "metadata": {},
     "output_type": "execute_result"
    }
   ],
   "source": [
    "A = np.array([[1, 2, 3], [4, 5, 6], [7, 8, 9]])\n",
    "A"
   ]
  },
  {
   "cell_type": "code",
   "execution_count": 39,
   "metadata": {},
   "outputs": [
    {
     "data": {
      "text/plain": [
       "2"
      ]
     },
     "execution_count": 39,
     "metadata": {},
     "output_type": "execute_result"
    }
   ],
   "source": [
    "A.ndim"
   ]
  },
  {
   "cell_type": "code",
   "execution_count": 40,
   "metadata": {},
   "outputs": [
    {
     "data": {
      "text/plain": [
       "(3, 3)"
      ]
     },
     "execution_count": 40,
     "metadata": {},
     "output_type": "execute_result"
    }
   ],
   "source": [
    "A.shape"
   ]
  },
  {
   "cell_type": "code",
   "execution_count": 41,
   "metadata": {},
   "outputs": [
    {
     "data": {
      "text/plain": [
       "(2, 3)"
      ]
     },
     "execution_count": 41,
     "metadata": {},
     "output_type": "execute_result"
    }
   ],
   "source": [
    "B = np.array([[1, 2, 3], [4, 5, 6]])\n",
    "B.shape"
   ]
  },
  {
   "cell_type": "code",
   "execution_count": 42,
   "metadata": {},
   "outputs": [
    {
     "data": {
      "text/plain": [
       "(5,)"
      ]
     },
     "execution_count": 42,
     "metadata": {},
     "output_type": "execute_result"
    }
   ],
   "source": [
    "a.shape"
   ]
  },
  {
   "cell_type": "code",
   "execution_count": 46,
   "metadata": {},
   "outputs": [
    {
     "data": {
      "text/plain": [
       "array([[[ 1,  2,  3],\n",
       "        [ 4,  5,  6]],\n",
       "\n",
       "       [[ 7,  8,  9],\n",
       "        [10, 11, 12]]])"
      ]
     },
     "execution_count": 46,
     "metadata": {},
     "output_type": "execute_result"
    }
   ],
   "source": [
    "C = np.array([[[1, 2, 3], [4, 5, 6]], [[7, 8, 9], [10, 11, 12]]])\n",
    "C"
   ]
  },
  {
   "cell_type": "code",
   "execution_count": 48,
   "metadata": {},
   "outputs": [
    {
     "data": {
      "text/plain": [
       "np.int64(2)"
      ]
     },
     "execution_count": 48,
     "metadata": {},
     "output_type": "execute_result"
    }
   ],
   "source": [
    "a[0]"
   ]
  },
  {
   "cell_type": "code",
   "execution_count": 49,
   "metadata": {},
   "outputs": [
    {
     "data": {
      "text/plain": [
       "array([10,  8,  7])"
      ]
     },
     "execution_count": 49,
     "metadata": {},
     "output_type": "execute_result"
    }
   ],
   "source": [
    "a[2:]"
   ]
  },
  {
   "cell_type": "code",
   "execution_count": 53,
   "metadata": {},
   "outputs": [
    {
     "data": {
      "text/plain": [
       "array([[1, 2, 3],\n",
       "       [4, 5, 6],\n",
       "       [7, 8, 9]])"
      ]
     },
     "execution_count": 53,
     "metadata": {},
     "output_type": "execute_result"
    }
   ],
   "source": [
    "A"
   ]
  },
  {
   "cell_type": "code",
   "execution_count": 57,
   "metadata": {},
   "outputs": [
    {
     "data": {
      "text/plain": [
       "array([5, 6])"
      ]
     },
     "execution_count": 57,
     "metadata": {},
     "output_type": "execute_result"
    }
   ],
   "source": [
    "A[1][1:]"
   ]
  },
  {
   "cell_type": "code",
   "execution_count": 59,
   "metadata": {},
   "outputs": [
    {
     "data": {
      "text/plain": [
       "3"
      ]
     },
     "execution_count": 59,
     "metadata": {},
     "output_type": "execute_result"
    }
   ],
   "source": [
    "C.ndim"
   ]
  },
  {
   "cell_type": "code",
   "execution_count": 61,
   "metadata": {},
   "outputs": [
    {
     "data": {
      "text/plain": [
       "array([[[ 1,  2,  3],\n",
       "        [ 4,  5,  6]],\n",
       "\n",
       "       [[ 7,  8,  9],\n",
       "        [10, 11, 12]]])"
      ]
     },
     "execution_count": 61,
     "metadata": {},
     "output_type": "execute_result"
    }
   ],
   "source": [
    "C"
   ]
  },
  {
   "cell_type": "code",
   "execution_count": 63,
   "metadata": {},
   "outputs": [
    {
     "data": {
      "text/plain": [
       "np.int64(4)"
      ]
     },
     "execution_count": 63,
     "metadata": {},
     "output_type": "execute_result"
    }
   ],
   "source": [
    "C[0][1][0]"
   ]
  },
  {
   "cell_type": "code",
   "execution_count": 67,
   "metadata": {},
   "outputs": [
    {
     "data": {
      "text/plain": [
       "[0, 1, 2, 3, 4, 5, 6, 7, 8, 9]"
      ]
     },
     "execution_count": 67,
     "metadata": {},
     "output_type": "execute_result"
    }
   ],
   "source": [
    "x = list(range(0, 10))\n",
    "x"
   ]
  },
  {
   "cell_type": "code",
   "execution_count": 66,
   "metadata": {},
   "outputs": [
    {
     "data": {
      "text/plain": [
       "array([0, 1, 2, 3, 4, 5, 6, 7, 8, 9])"
      ]
     },
     "execution_count": 66,
     "metadata": {},
     "output_type": "execute_result"
    }
   ],
   "source": [
    "np.arange(0, 10)"
   ]
  },
  {
   "cell_type": "code",
   "execution_count": 68,
   "metadata": {},
   "outputs": [
    {
     "data": {
      "text/plain": [
       "array([[0., 0., 0., 0., 0.],\n",
       "       [0., 0., 0., 0., 0.],\n",
       "       [0., 0., 0., 0., 0.],\n",
       "       [0., 0., 0., 0., 0.]])"
      ]
     },
     "execution_count": 68,
     "metadata": {},
     "output_type": "execute_result"
    }
   ],
   "source": [
    "np.zeros((4, 5))"
   ]
  },
  {
   "cell_type": "code",
   "execution_count": 69,
   "metadata": {},
   "outputs": [
    {
     "data": {
      "text/plain": [
       "array([[1., 1., 1., 1., 1.],\n",
       "       [1., 1., 1., 1., 1.],\n",
       "       [1., 1., 1., 1., 1.],\n",
       "       [1., 1., 1., 1., 1.]])"
      ]
     },
     "execution_count": 69,
     "metadata": {},
     "output_type": "execute_result"
    }
   ],
   "source": [
    "np.ones((4, 5))"
   ]
  },
  {
   "cell_type": "code",
   "execution_count": 76,
   "metadata": {},
   "outputs": [
    {
     "data": {
      "text/plain": [
       "array([[1., 1., 1., 1., 1.],\n",
       "       [1., 1., 1., 1., 1.],\n",
       "       [1., 1., 1., 1., 1.],\n",
       "       [1., 1., 1., 1., 1.]])"
      ]
     },
     "execution_count": 76,
     "metadata": {},
     "output_type": "execute_result"
    }
   ],
   "source": [
    "np.empty((4, 5))"
   ]
  },
  {
   "cell_type": "code",
   "execution_count": 80,
   "metadata": {},
   "outputs": [
    {
     "data": {
      "text/plain": [
       "np.int64(1)"
      ]
     },
     "execution_count": 80,
     "metadata": {},
     "output_type": "execute_result"
    }
   ],
   "source": [
    "np.random.choice([0, 1, 2])"
   ]
  },
  {
   "cell_type": "code",
   "execution_count": 81,
   "metadata": {},
   "outputs": [
    {
     "data": {
      "text/plain": [
       "array([ 0.67997595, -0.25715078, -0.54375184,  0.44359185,  0.3404982 ,\n",
       "        0.05779281,  1.4097731 ,  1.42760484,  1.24844395,  0.01409713])"
      ]
     },
     "execution_count": 81,
     "metadata": {},
     "output_type": "execute_result"
    }
   ],
   "source": [
    "np.random.normal(0, 1, 10)"
   ]
  },
  {
   "cell_type": "code",
   "execution_count": 88,
   "metadata": {},
   "outputs": [
    {
     "data": {
      "text/plain": [
       "75"
      ]
     },
     "execution_count": 88,
     "metadata": {},
     "output_type": "execute_result"
    }
   ],
   "source": [
    "np.random.randint(1, 100)"
   ]
  },
  {
   "cell_type": "code",
   "execution_count": 94,
   "metadata": {},
   "outputs": [],
   "source": [
    "np.random.seed(42)"
   ]
  },
  {
   "cell_type": "code",
   "execution_count": 98,
   "metadata": {},
   "outputs": [
    {
     "data": {
      "text/plain": [
       "72"
      ]
     },
     "execution_count": 98,
     "metadata": {},
     "output_type": "execute_result"
    }
   ],
   "source": [
    "np.random.randint(1, 100)"
   ]
  },
  {
   "cell_type": "code",
   "execution_count": 99,
   "metadata": {},
   "outputs": [
    {
     "data": {
      "text/plain": [
       "array([[1, 2, 3],\n",
       "       [4, 5, 6],\n",
       "       [7, 8, 9]])"
      ]
     },
     "execution_count": 99,
     "metadata": {},
     "output_type": "execute_result"
    }
   ],
   "source": [
    "A "
   ]
  },
  {
   "cell_type": "code",
   "execution_count": 100,
   "metadata": {},
   "outputs": [
    {
     "data": {
      "text/plain": [
       "array([[1, 2, 3],\n",
       "       [4, 5, 6]])"
      ]
     },
     "execution_count": 100,
     "metadata": {},
     "output_type": "execute_result"
    }
   ],
   "source": [
    "B"
   ]
  },
  {
   "cell_type": "code",
   "execution_count": 101,
   "metadata": {},
   "outputs": [
    {
     "data": {
      "text/plain": [
       "array([[30, 36, 42],\n",
       "       [66, 81, 96]])"
      ]
     },
     "execution_count": 101,
     "metadata": {},
     "output_type": "execute_result"
    }
   ],
   "source": [
    "B.dot(A)"
   ]
  },
  {
   "cell_type": "code",
   "execution_count": 102,
   "metadata": {},
   "outputs": [
    {
     "data": {
      "text/plain": [
       "array([[30, 36, 42],\n",
       "       [66, 81, 96]])"
      ]
     },
     "execution_count": 102,
     "metadata": {},
     "output_type": "execute_result"
    }
   ],
   "source": [
    "B @ A"
   ]
  },
  {
   "cell_type": "code",
   "execution_count": 106,
   "metadata": {},
   "outputs": [
    {
     "data": {
      "text/plain": [
       "array([[1, 4, 7],\n",
       "       [2, 5, 8],\n",
       "       [3, 6, 9]])"
      ]
     },
     "execution_count": 106,
     "metadata": {},
     "output_type": "execute_result"
    }
   ],
   "source": [
    "A.T"
   ]
  },
  {
   "cell_type": "code",
   "execution_count": 109,
   "metadata": {},
   "outputs": [
    {
     "data": {
      "text/plain": [
       "array([[1, 2, 3, 4, 5, 6, 7, 8, 9]])"
      ]
     },
     "execution_count": 109,
     "metadata": {},
     "output_type": "execute_result"
    }
   ],
   "source": [
    "A.reshape((1, 9))"
   ]
  },
  {
   "cell_type": "code",
   "execution_count": 110,
   "metadata": {},
   "outputs": [
    {
     "data": {
      "text/plain": [
       "array([1, 2, 3, 4, 5, 6, 7, 8, 9])"
      ]
     },
     "execution_count": 110,
     "metadata": {},
     "output_type": "execute_result"
    }
   ],
   "source": [
    "A.flatten()"
   ]
  },
  {
   "cell_type": "code",
   "execution_count": 3,
   "metadata": {},
   "outputs": [],
   "source": [
    "import matplotlib.pyplot as plt\n",
    "\n",
    "%matplotlib inline"
   ]
  },
  {
   "cell_type": "code",
   "execution_count": 4,
   "metadata": {},
   "outputs": [],
   "source": [
    "x = [1, 2, 3]\n",
    "y = [4, 7, 11]"
   ]
  },
  {
   "cell_type": "code",
   "execution_count": 5,
   "metadata": {},
   "outputs": [
    {
     "data": {
      "image/png": "[encoded data removed]",
      "text/plain": [
       "<Figure size 640x480 with 1 Axes>"
      ]
     },
     "metadata": {},
     "output_type": "display_data"
    }
   ],
   "source": [
    "plt.plot(x, y)\n",
    "plt.show()"
   ]
  },
  {
   "cell_type": "code",
   "execution_count": 8,
   "metadata": {},
   "outputs": [
    {
     "data": {
      "image/png": "[encoded data removed]",
      "text/plain": [
       "<Figure size 640x480 with 1 Axes>"
      ]
     },
     "metadata": {},
     "output_type": "display_data"
    }
   ],
   "source": [
    "figure, axes = plt.subplots() # axes\n",
    "axes.plot(x, y)\n",
    "axes.set_xlabel(\"X Axis\") # axis\n",
    "axes.set_ylabel(\"Y Axis\")\n",
    "axes.set_title(\"Plot Title\")\n",
    "plt.show()"
   ]
  },
  {
   "cell_type": "code",
   "execution_count": 14,
   "metadata": {},
   "outputs": [],
   "source": [
    "from sklearn.datasets import load_iris\n",
    "import pandas as pd"
   ]
  },
  {
   "cell_type": "code",
   "execution_count": 11,
   "metadata": {},
   "outputs": [],
   "source": [
    "iris = load_iris()"
   ]
  },
  {
   "cell_type": "code",
   "execution_count": 21,
   "metadata": {},
   "outputs": [
    {
     "data": {
      "text/html": [
       "<div>\n",
       "<style scoped>\n",
       "    .dataframe tbody tr th:only-of-type {\n",
       "        vertical-align: middle;\n",
       "    }\n",
       "\n",
       "    .dataframe tbody tr th {\n",
       "        vertical-align: top;\n",
       "    }\n",
       "\n",
       "    .dataframe thead th {\n",
       "        text-align: right;\n",
       "    }\n",
       "</style>\n",
       "<table border=\"1\" class=\"dataframe\">\n",
       "  <thead>\n",
       "    <tr style=\"text-align: right;\">\n",
       "      <th></th>\n",
       "      <th>sepal length (cm)</th>\n",
       "      <th>sepal width (cm)</th>\n",
       "      <th>petal length (cm)</th>\n",
       "      <th>petal width (cm)</th>\n",
       "    </tr>\n",
       "  </thead>\n",
       "  <tbody>\n",
       "    <tr>\n",
       "      <th>0</th>\n",
       "      <td>5.1</td>\n",
       "      <td>3.5</td>\n",
       "      <td>1.4</td>\n",
       "      <td>0.2</td>\n",
       "    </tr>\n",
       "    <tr>\n",
       "      <th>1</th>\n",
       "      <td>4.9</td>\n",
       "      <td>3.0</td>\n",
       "      <td>1.4</td>\n",
       "      <td>0.2</td>\n",
       "    </tr>\n",
       "    <tr>\n",
       "      <th>2</th>\n",
       "      <td>4.7</td>\n",
       "      <td>3.2</td>\n",
       "      <td>1.3</td>\n",
       "      <td>0.2</td>\n",
       "    </tr>\n",
       "    <tr>\n",
       "      <th>3</th>\n",
       "      <td>4.6</td>\n",
       "      <td>3.1</td>\n",
       "      <td>1.5</td>\n",
       "      <td>0.2</td>\n",
       "    </tr>\n",
       "    <tr>\n",
       "      <th>4</th>\n",
       "      <td>5.0</td>\n",
       "      <td>3.6</td>\n",
       "      <td>1.4</td>\n",
       "      <td>0.2</td>\n",
       "    </tr>\n",
       "  </tbody>\n",
       "</table>\n",
       "</div>"
      ],
      "text/plain": [
       "   sepal length (cm)  sepal width (cm)  petal length (cm)  petal width (cm)\n",
       "0                5.1               3.5                1.4               0.2\n",
       "1                4.9               3.0                1.4               0.2\n",
       "2                4.7               3.2                1.3               0.2\n",
       "3                4.6               3.1                1.5               0.2\n",
       "4                5.0               3.6                1.4               0.2"
      ]
     },
     "execution_count": 21,
     "metadata": {},
     "output_type": "execute_result"
    }
   ],
   "source": [
    "data = pd.DataFrame(iris[\"data\"], columns=iris[\"feature_names\"])\n",
    "data.head()"
   ]
  },
  {
   "cell_type": "code",
   "execution_count": 25,
   "metadata": {},
   "outputs": [
    {
     "data": {
      "image/png": "[encoded data removed]",
      "text/plain": [
       "<Figure size 3600x1500 with 2 Axes>"
      ]
     },
     "metadata": {},
     "output_type": "display_data"
    }
   ],
   "source": [
    "fig, ax = plt.subplots(1, 2, figsize=(12, 5), dpi=300)\n",
    "\n",
    "ax[0].scatter(data[\"sepal length (cm)\"], data[\"sepal width (cm)\"])\n",
    "ax[0].set_xlabel(\"sepal length\")\n",
    "ax[0].set_ylabel(\"sepal width\")\n",
    "\n",
    "ax[1].scatter(data[\"petal length (cm)\"], data[\"petal width (cm)\"])\n",
    "ax[1].set_xlabel(\"petal length\")\n",
    "ax[1].set_ylabel(\"petal width\")\n",
    "\n",
    "plt.show()"
   ]
  },
  {
   "cell_type": "code",
   "execution_count": 35,
   "metadata": {},
   "outputs": [
    {
     "data": {
      "image/png": "[encoded data removed]",
      "text/plain": [
       "<Figure size 1000x300 with 3 Axes>"
      ]
     },
     "metadata": {},
     "output_type": "display_data"
    }
   ],
   "source": [
    "fig, ax = plt.subplots(1, 3, figsize=(10, 3))\n",
    "ax[0].plot(x, y)\n",
    "ax[1].plot(x, y, color=\"#ff0000\", marker=\"s\", linewidth=0.5)\n",
    "ax[2].plot(x, y, \"ro-.\")\n",
    "plt.show()"
   ]
  },
  {
   "cell_type": "code",
   "execution_count": 40,
   "metadata": {},
   "outputs": [],
   "source": [
    "import numpy as np"
   ]
  },
  {
   "cell_type": "code",
   "execution_count": 45,
   "metadata": {},
   "outputs": [
    {
     "data": {
      "image/png": "[encoded data removed]",
      "text/plain": [
       "<Figure size 640x480 with 1 Axes>"
      ]
     },
     "metadata": {},
     "output_type": "display_data"
    }
   ],
   "source": [
    "fig, ax = plt.subplots()\n",
    "\n",
    "ax.scatter(data[\"sepal length (cm)\"], data[\"sepal width (cm)\"], alpha=0.2)\n",
    "#ax.set(xlim=(0, 10), xticks=np.arange(0, 10, 0.5), ylim=(1, 5), yticks=np.arange(1, 5, 0.5))\n",
    "\n",
    "plt.show()"
   ]
  },
  {
   "cell_type": "code",
   "execution_count": 47,
   "metadata": {},
   "outputs": [
    {
     "data": {
      "text/plain": [
       "array(['setosa', 'versicolor', 'virginica'], dtype='<U10')"
      ]
     },
     "execution_count": 47,
     "metadata": {},
     "output_type": "execute_result"
    }
   ],
   "source": [
    "iris[\"target_names\"]"
   ]
  },
  {
   "cell_type": "code",
   "execution_count": 48,
   "metadata": {},
   "outputs": [
    {
     "data": {
      "text/plain": [
       "array([0, 0, 0, 0, 0, 0, 0, 0, 0, 0, 0, 0, 0, 0, 0, 0, 0, 0, 0, 0, 0, 0,\n",
       "       0, 0, 0, 0, 0, 0, 0, 0, 0, 0, 0, 0, 0, 0, 0, 0, 0, 0, 0, 0, 0, 0,\n",
       "       0, 0, 0, 0, 0, 0, 1, 1, 1, 1, 1, 1, 1, 1, 1, 1, 1, 1, 1, 1, 1, 1,\n",
       "       1, 1, 1, 1, 1, 1, 1, 1, 1, 1, 1, 1, 1, 1, 1, 1, 1, 1, 1, 1, 1, 1,\n",
       "       1, 1, 1, 1, 1, 1, 1, 1, 1, 1, 1, 1, 2, 2, 2, 2, 2, 2, 2, 2, 2, 2,\n",
       "       2, 2, 2, 2, 2, 2, 2, 2, 2, 2, 2, 2, 2, 2, 2, 2, 2, 2, 2, 2, 2, 2,\n",
       "       2, 2, 2, 2, 2, 2, 2, 2, 2, 2, 2, 2, 2, 2, 2, 2, 2, 2])"
      ]
     },
     "execution_count": 48,
     "metadata": {},
     "output_type": "execute_result"
    }
   ],
   "source": [
    "iris[\"target\"]"
   ]
  },
  {
   "cell_type": "code",
   "execution_count": 49,
   "metadata": {},
   "outputs": [
    {
     "data": {
      "text/html": [
       "<div>\n",
       "<style scoped>\n",
       "    .dataframe tbody tr th:only-of-type {\n",
       "        vertical-align: middle;\n",
       "    }\n",
       "\n",
       "    .dataframe tbody tr th {\n",
       "        vertical-align: top;\n",
       "    }\n",
       "\n",
       "    .dataframe thead th {\n",
       "        text-align: right;\n",
       "    }\n",
       "</style>\n",
       "<table border=\"1\" class=\"dataframe\">\n",
       "  <thead>\n",
       "    <tr style=\"text-align: right;\">\n",
       "      <th></th>\n",
       "      <th>sepal length (cm)</th>\n",
       "      <th>sepal width (cm)</th>\n",
       "      <th>petal length (cm)</th>\n",
       "      <th>petal width (cm)</th>\n",
       "      <th>target</th>\n",
       "    </tr>\n",
       "  </thead>\n",
       "  <tbody>\n",
       "    <tr>\n",
       "      <th>0</th>\n",
       "      <td>5.1</td>\n",
       "      <td>3.5</td>\n",
       "      <td>1.4</td>\n",
       "      <td>0.2</td>\n",
       "      <td>0</td>\n",
       "    </tr>\n",
       "    <tr>\n",
       "      <th>1</th>\n",
       "      <td>4.9</td>\n",
       "      <td>3.0</td>\n",
       "      <td>1.4</td>\n",
       "      <td>0.2</td>\n",
       "      <td>0</td>\n",
       "    </tr>\n",
       "    <tr>\n",
       "      <th>2</th>\n",
       "      <td>4.7</td>\n",
       "      <td>3.2</td>\n",
       "      <td>1.3</td>\n",
       "      <td>0.2</td>\n",
       "      <td>0</td>\n",
       "    </tr>\n",
       "    <tr>\n",
       "      <th>3</th>\n",
       "      <td>4.6</td>\n",
       "      <td>3.1</td>\n",
       "      <td>1.5</td>\n",
       "      <td>0.2</td>\n",
       "      <td>0</td>\n",
       "    </tr>\n",
       "    <tr>\n",
       "      <th>4</th>\n",
       "      <td>5.0</td>\n",
       "      <td>3.6</td>\n",
       "      <td>1.4</td>\n",
       "      <td>0.2</td>\n",
       "      <td>0</td>\n",
       "    </tr>\n",
       "  </tbody>\n",
       "</table>\n",
       "</div>"
      ],
      "text/plain": [
       "   sepal length (cm)  sepal width (cm)  petal length (cm)  petal width (cm)  \\\n",
       "0                5.1               3.5                1.4               0.2   \n",
       "1                4.9               3.0                1.4               0.2   \n",
       "2                4.7               3.2                1.3               0.2   \n",
       "3                4.6               3.1                1.5               0.2   \n",
       "4                5.0               3.6                1.4               0.2   \n",
       "\n",
       "   target  \n",
       "0       0  \n",
       "1       0  \n",
       "2       0  \n",
       "3       0  \n",
       "4       0  "
      ]
     },
     "execution_count": 49,
     "metadata": {},
     "output_type": "execute_result"
    }
   ],
   "source": [
    "data[\"target\"] = iris[\"target\"]\n",
    "data.head()"
   ]
  },
  {
   "cell_type": "code",
   "execution_count": 53,
   "metadata": {},
   "outputs": [],
   "source": [
    "avg_sepal_length = data.groupby(\"target\").agg({\"sepal length (cm)\": \"mean\"})[\"sepal length (cm)\"].values"
   ]
  },
  {
   "cell_type": "code",
   "execution_count": 59,
   "metadata": {},
   "outputs": [
    {
     "data": {
      "image/png": "[encoded data removed]",
      "text/plain": [
       "<Figure size 640x480 with 1 Axes>"
      ]
     },
     "metadata": {},
     "output_type": "display_data"
    }
   ],
   "source": [
    "fig, ax = plt.subplots()\n",
    "ax.bar(iris[\"target_names\"], height=avg_sepal_length, width=0.9)\n",
    "plt.show()"
   ]
  },
  {
   "cell_type": "code",
   "execution_count": 57,
   "metadata": {},
   "outputs": [
    {
     "data": {
      "image/png": "[encoded data removed]",
      "text/plain": [
       "<Figure size 640x480 with 1 Axes>"
      ]
     },
     "metadata": {},
     "output_type": "display_data"
    }
   ],
   "source": [
    "fig, ax = plt.subplots()\n",
    "ax.barh(iris[\"target_names\"], width=avg_sepal_length, color=[\"red\", \"green\", \"blue\"], height=0.5)\n",
    "plt.show()"
   ]
  },
  {
   "cell_type": "code",
   "execution_count": 67,
   "metadata": {},
   "outputs": [
    {
     "data": {
      "image/png": "[encoded data removed]",
      "text/plain": [
       "<Figure size 640x480 with 1 Axes>"
      ]
     },
     "metadata": {},
     "output_type": "display_data"
    }
   ],
   "source": [
    "fig, ax = plt.subplots()\n",
    "ax.hist(data[\"sepal length (cm)\"], bins=30)\n",
    "# ax.grid()\n",
    "plt.show()"
   ]
  },
  {
   "cell_type": "code",
   "execution_count": 65,
   "metadata": {},
   "outputs": [
    {
     "data": {
      "image/png": "[encoded data removed]",
      "text/plain": [
       "<Figure size 640x480 with 1 Axes>"
      ]
     },
     "metadata": {},
     "output_type": "display_data"
    }
   ],
   "source": [
    "data.boxplot(\"sepal length (cm)\", \"target\")\n",
    "plt.show()"
   ]
  },
  {
   "cell_type": "code",
   "execution_count": 70,
   "metadata": {},
   "outputs": [
    {
     "data": {
      "image/png": "[encoded data removed]",
      "text/plain": [
       "<Figure size 640x480 with 1 Axes>"
      ]
     },
     "metadata": {},
     "output_type": "display_data"
    }
   ],
   "source": [
    "plt.style.use(\"ggplot\")\n",
    "fig, ax = plt.subplots()\n",
    "ax.hist(data[\"sepal length (cm)\"], bins=30)\n",
    "# ax.grid()\n",
    "plt.show()"
   ]
  },
  {
   "cell_type": "code",
   "execution_count": null,
   "metadata": {},
   "outputs": [],
   "source": []
  }
 ],
 "metadata": {
  "kernelspec": {
   "display_name": "cisi",
   "language": "python",
   "name": "python3"
  },
  "language_info": {
   "codemirror_mode": {
    "name": "ipython",
    "version": 3
   },
   "file_extension": ".py",
   "mimetype": "text/x-python",
   "name": "python",
   "nbconvert_exporter": "python",
   "pygments_lexer": "ipython3",
   "version": "3.11.5"
  }
 },
 "nbformat": 4,
 "nbformat_minor": 2
}
